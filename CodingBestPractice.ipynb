{
 "cells": [
  {
   "cell_type": "markdown",
   "source": [
    "# Good coding to have\n",
    "\n",
    "Here 25 notes for good coding practice that I have to\n",
    " thanks to  https://www.youtube.com/watch?v=_gaAoJBMJ_Q&t=389s\n"
   ],
   "metadata": {
    "collapsed": false,
    "pycharm": {
     "name": "#%% md\n"
    }
   },
   "outputs": []
  },
  {
   "cell_type": "markdown",
   "source": [
    "\n",
    "### 1. writing to a csv with unnecessary index\n",
    "When saving files, pandas creates a new unnecessary - in most case - column the index column.\n",
    "When reading back the saved file, this new column have usually the **Unnamed:0** column head"
   ],
   "metadata": {
    "collapsed": false,
    "pycharm": {
     "name": "#%% md\n"
    }
   }
  },
  {
   "cell_type": "code",
   "execution_count": 15,
   "outputs": [
    {
     "data": {
      "text/plain": "   year    category                                           prize  \\\n0  1901   Chemistry               The Nobel Prize in Chemistry 1901   \n1  1901  Literature              The Nobel Prize in Literature 1901   \n2  1901    Medicine  The Nobel Prize in Physiology or Medicine 1901   \n\n                                          motivation prize_share  laureate_id  \\\n0  \"in recognition of the extraordinary services ...         1/1          160   \n1  \"in special recognition of his poetic composit...         1/1          569   \n2  \"for his work on serum therapy, especially its...         1/1          293   \n\n  laureate_type                     full_name  birth_date         birth_city  \\\n0    Individual  Jacobus Henricus van 't Hoff  1852-08-30          Rotterdam   \n1    Individual               Sully Prudhomme  1839-03-16              Paris   \n2    Individual        Emil Adolf von Behring  1854-03-15  Hansdorf (Lawice)   \n\n      birth_country   sex   organization_name organization_city  \\\n0       Netherlands  Male   Berlin University            Berlin   \n1            France  Male                 NaN               NaN   \n2  Prussia (Poland)  Male  Marburg University           Marburg   \n\n  organization_country  death_date death_city death_country  \n0              Germany  1911-03-01     Berlin       Germany  \n1                  NaN  1907-09-07   Châtenay        France  \n2              Germany  1917-03-31    Marburg       Germany  ",
      "text/html": "<div>\n<style scoped>\n    .dataframe tbody tr th:only-of-type {\n        vertical-align: middle;\n    }\n\n    .dataframe tbody tr th {\n        vertical-align: top;\n    }\n\n    .dataframe thead th {\n        text-align: right;\n    }\n</style>\n<table border=\"1\" class=\"dataframe\">\n  <thead>\n    <tr style=\"text-align: right;\">\n      <th></th>\n      <th>year</th>\n      <th>category</th>\n      <th>prize</th>\n      <th>motivation</th>\n      <th>prize_share</th>\n      <th>laureate_id</th>\n      <th>laureate_type</th>\n      <th>full_name</th>\n      <th>birth_date</th>\n      <th>birth_city</th>\n      <th>birth_country</th>\n      <th>sex</th>\n      <th>organization_name</th>\n      <th>organization_city</th>\n      <th>organization_country</th>\n      <th>death_date</th>\n      <th>death_city</th>\n      <th>death_country</th>\n    </tr>\n  </thead>\n  <tbody>\n    <tr>\n      <th>0</th>\n      <td>1901</td>\n      <td>Chemistry</td>\n      <td>The Nobel Prize in Chemistry 1901</td>\n      <td>\"in recognition of the extraordinary services ...</td>\n      <td>1/1</td>\n      <td>160</td>\n      <td>Individual</td>\n      <td>Jacobus Henricus van 't Hoff</td>\n      <td>1852-08-30</td>\n      <td>Rotterdam</td>\n      <td>Netherlands</td>\n      <td>Male</td>\n      <td>Berlin University</td>\n      <td>Berlin</td>\n      <td>Germany</td>\n      <td>1911-03-01</td>\n      <td>Berlin</td>\n      <td>Germany</td>\n    </tr>\n    <tr>\n      <th>1</th>\n      <td>1901</td>\n      <td>Literature</td>\n      <td>The Nobel Prize in Literature 1901</td>\n      <td>\"in special recognition of his poetic composit...</td>\n      <td>1/1</td>\n      <td>569</td>\n      <td>Individual</td>\n      <td>Sully Prudhomme</td>\n      <td>1839-03-16</td>\n      <td>Paris</td>\n      <td>France</td>\n      <td>Male</td>\n      <td>NaN</td>\n      <td>NaN</td>\n      <td>NaN</td>\n      <td>1907-09-07</td>\n      <td>Châtenay</td>\n      <td>France</td>\n    </tr>\n    <tr>\n      <th>2</th>\n      <td>1901</td>\n      <td>Medicine</td>\n      <td>The Nobel Prize in Physiology or Medicine 1901</td>\n      <td>\"for his work on serum therapy, especially its...</td>\n      <td>1/1</td>\n      <td>293</td>\n      <td>Individual</td>\n      <td>Emil Adolf von Behring</td>\n      <td>1854-03-15</td>\n      <td>Hansdorf (Lawice)</td>\n      <td>Prussia (Poland)</td>\n      <td>Male</td>\n      <td>Marburg University</td>\n      <td>Marburg</td>\n      <td>Germany</td>\n      <td>1917-03-31</td>\n      <td>Marburg</td>\n      <td>Germany</td>\n    </tr>\n  </tbody>\n</table>\n</div>"
     },
     "execution_count": 15,
     "metadata": {},
     "output_type": "execute_result"
    }
   ],
   "source": [
    "import numpy as np\n",
    "import pandas as pd\n",
    "df = pd.read_csv(\"datasets/nobel.csv\")\n",
    "df.head(3)"
   ],
   "metadata": {
    "collapsed": false,
    "pycharm": {
     "name": "#%%\n"
    }
   }
  },
  {
   "cell_type": "markdown",
   "source": [],
   "metadata": {
    "collapsed": false,
    "pycharm": {
     "name": "#%% md\n"
    }
   }
  },
  {
   "cell_type": "code",
   "execution_count": 88,
   "outputs": [
    {
     "data": {
      "text/plain": "   Unnamed: 0  year    category  \\\n0           0  1901   Chemistry   \n1           1  1901  Literature   \n2           2  1901    Medicine   \n\n                                            prize  \\\n0               The Nobel Prize in Chemistry 1901   \n1              The Nobel Prize in Literature 1901   \n2  The Nobel Prize in Physiology or Medicine 1901   \n\n                                          motivation prize_share  laureate_id  \\\n0  \"in recognition of the extraordinary services ...         1/1          160   \n1  \"in special recognition of his poetic composit...         1/1          569   \n2  \"for his work on serum therapy, especially its...         1/1          293   \n\n  laureate_type                     full_name  birth_date  ...  \\\n0    Individual  Jacobus Henricus van 't Hoff  1852-08-30  ...   \n1    Individual               Sully Prudhomme  1839-03-16  ...   \n2    Individual        Emil Adolf von Behring  1854-03-15  ...   \n\n  organization_city organization_country  death_date death_city death_country  \\\n0            Berlin              Germany  1911-03-01     Berlin       Germany   \n1               NaN                  NaN  1907-09-07   Châtenay        France   \n2           Marburg              Germany  1917-03-31    Marburg       Germany   \n\n  sub_10 sub_10_new                   prize_name               prize_name_str  \\\n0  False      False               CHEMISTRY 1901               CHEMISTRY 1901   \n1  False      False              LITERATURE 1901              LITERATURE 1901   \n2  False      False  PHYSIOLOGY OR MEDICINE 1901  PHYSIOLOGY OR MEDICINE 1901   \n\n   birth_date_dt  \n0     1852-08-30  \n1     1839-03-16  \n2     1854-03-15  \n\n[3 rows x 24 columns]",
      "text/html": "<div>\n<style scoped>\n    .dataframe tbody tr th:only-of-type {\n        vertical-align: middle;\n    }\n\n    .dataframe tbody tr th {\n        vertical-align: top;\n    }\n\n    .dataframe thead th {\n        text-align: right;\n    }\n</style>\n<table border=\"1\" class=\"dataframe\">\n  <thead>\n    <tr style=\"text-align: right;\">\n      <th></th>\n      <th>Unnamed: 0</th>\n      <th>year</th>\n      <th>category</th>\n      <th>prize</th>\n      <th>motivation</th>\n      <th>prize_share</th>\n      <th>laureate_id</th>\n      <th>laureate_type</th>\n      <th>full_name</th>\n      <th>birth_date</th>\n      <th>...</th>\n      <th>organization_city</th>\n      <th>organization_country</th>\n      <th>death_date</th>\n      <th>death_city</th>\n      <th>death_country</th>\n      <th>sub_10</th>\n      <th>sub_10_new</th>\n      <th>prize_name</th>\n      <th>prize_name_str</th>\n      <th>birth_date_dt</th>\n    </tr>\n  </thead>\n  <tbody>\n    <tr>\n      <th>0</th>\n      <td>0</td>\n      <td>1901</td>\n      <td>Chemistry</td>\n      <td>The Nobel Prize in Chemistry 1901</td>\n      <td>\"in recognition of the extraordinary services ...</td>\n      <td>1/1</td>\n      <td>160</td>\n      <td>Individual</td>\n      <td>Jacobus Henricus van 't Hoff</td>\n      <td>1852-08-30</td>\n      <td>...</td>\n      <td>Berlin</td>\n      <td>Germany</td>\n      <td>1911-03-01</td>\n      <td>Berlin</td>\n      <td>Germany</td>\n      <td>False</td>\n      <td>False</td>\n      <td>CHEMISTRY 1901</td>\n      <td>CHEMISTRY 1901</td>\n      <td>1852-08-30</td>\n    </tr>\n    <tr>\n      <th>1</th>\n      <td>1</td>\n      <td>1901</td>\n      <td>Literature</td>\n      <td>The Nobel Prize in Literature 1901</td>\n      <td>\"in special recognition of his poetic composit...</td>\n      <td>1/1</td>\n      <td>569</td>\n      <td>Individual</td>\n      <td>Sully Prudhomme</td>\n      <td>1839-03-16</td>\n      <td>...</td>\n      <td>NaN</td>\n      <td>NaN</td>\n      <td>1907-09-07</td>\n      <td>Châtenay</td>\n      <td>France</td>\n      <td>False</td>\n      <td>False</td>\n      <td>LITERATURE 1901</td>\n      <td>LITERATURE 1901</td>\n      <td>1839-03-16</td>\n    </tr>\n    <tr>\n      <th>2</th>\n      <td>2</td>\n      <td>1901</td>\n      <td>Medicine</td>\n      <td>The Nobel Prize in Physiology or Medicine 1901</td>\n      <td>\"for his work on serum therapy, especially its...</td>\n      <td>1/1</td>\n      <td>293</td>\n      <td>Individual</td>\n      <td>Emil Adolf von Behring</td>\n      <td>1854-03-15</td>\n      <td>...</td>\n      <td>Marburg</td>\n      <td>Germany</td>\n      <td>1917-03-31</td>\n      <td>Marburg</td>\n      <td>Germany</td>\n      <td>False</td>\n      <td>False</td>\n      <td>PHYSIOLOGY OR MEDICINE 1901</td>\n      <td>PHYSIOLOGY OR MEDICINE 1901</td>\n      <td>1854-03-15</td>\n    </tr>\n  </tbody>\n</table>\n<p>3 rows × 24 columns</p>\n</div>"
     },
     "execution_count": 88,
     "metadata": {},
     "output_type": "execute_result"
    }
   ],
   "source": [
    "df[:10].to_csv(\"datasets/nobel_saved.csv\")\n",
    "df1 = pd.read_csv(\"datasets/nobel_saved.csv\")\n",
    "df1.head(3)"
   ],
   "metadata": {
    "collapsed": false,
    "pycharm": {
     "name": "#%%\n"
    }
   }
  },
  {
   "cell_type": "code",
   "execution_count": 89,
   "outputs": [
    {
     "name": "stdout",
     "output_type": "stream",
     "text": [
      "Microsoft Windows [Version 10.0.22000.978]\r\n",
      "(c) Microsoft Corporation. All rights reserved.\r\n",
      "\r\n",
      "(base) C:\\Users\\bruni\\OneDrive\\Desktop\\MS\\Medallion>more  \"datasets\\nobel_saved.csv\"\n",
      ",year,category,prize,motivation,prize_share,laureate_id,laureate_type,full_name,birth_date,birth_city,birth_country,sex,organization_name,organization_city,organization_country,death_date,death_city,death_country,sub_10,sub_10_new,prize_name,prize_name_str,birth_date_dt\r\n",
      "0,1901,Chemistry,The Nobel Prize in Chemistry 1901,\"\"\"in recognition of the extraordinary services he has rendered by the discovery of the laws of chemical dynamics and osmotic pressure in solutions\"\"\",1/1,160,Individual,Jacobus Henricus van 't Hoff,1852-08-30,Rotterdam,Netherlands,Male,Berlin University,Berlin,Germany,1911-03-01,Berlin,Germany,False,False,CHEMISTRY 1901,CHEMISTRY 1901,1852-08-30\r\n",
      "1,1901,Literature,The Nobel Prize in Literature 1901,\"\"\"in special recognition of his poetic composition, which gives evidence of lofty idealism, artistic perfection and a rare combination of the qualities of both heart and intellect\"\"\",1/1,569,Individual,Sully Prudhomme,1839-03-16,Paris,France,Male,,,,1907-09-07,Châtenay,France,False,False,LITERATURE 1901,LITERATURE 1901,1839-03-16\r\n",
      "2,1901,Medicine,The Nobel Prize in Physiology or Medicine 1901,\"\"\"for his work on serum therapy, especially its application against diphtheria, by which he has opened a new road in the domain of medical science and thereby placed in the hands of the physician a victorious weapon against illness and deaths\"\"\",1/1,293,Individual,Emil Adolf von Behring,1854-03-15,Hansdorf (Lawice),Prussia (Poland),Male,Marburg University,Marburg,Germany,1917-03-31,Marburg,Germany,False,False,PHYSIOLOGY OR MEDICINE 1901,PHYSIOLOGY OR MEDICINE 1901,1854-03-15\r\n",
      "3,1901,Peace,The Nobel Peace Prize 1901,,1/2,462,Individual,Jean Henry Dunant,1828-05-08,Geneva,Switzerland,Male,,,,1910-10-30,Heiden,Switzerland,False,False,ZE 1901,ZE 1901,1828-05-08\r\n",
      "4,1901,Peace,The Nobel Peace Prize 1901,,1/2,463,Individual,Frédéric Passy,1822-05-20,Paris,France,Male,,,,1912-06-12,Paris,France,False,False,ZE 1901,ZE 1901,1822-05-20\r\n",
      "5,1901,Physics,The Nobel Prize in Physics 1901,\"\"\"in recognition of the extraordinary services he has rendered by the discovery of the remarkable rays subsequently named after him\"\"\",1/1,1,Individual,Wilhelm Conrad Röntgen,1845-03-27,Lennep (Remscheid),Prussia (Germany),Male,Munich University,Munich,Germany,1923-02-10,Munich,Germany,False,False,PHYSICS 1901,PHYSICS 1901,1845-03-27\r\n",
      "6,1902,Chemistry,The Nobel Prize in Chemistry 1902,\"\"\"in recognition of the extraordinary services he has rendered by his work on sugar and purine syntheses\"\"\",1/1,161,Individual,Hermann Emil Fischer,1852-10-09,Euskirchen,Prussia (Germany),Male,Berlin University,Berlin,Germany,1919-07-15,Berlin,Germany,False,False,CHEMISTRY 1902,CHEMISTRY 1902,1852-10-09\r\n",
      "7,1902,Literature,The Nobel Prize in Literature 1902,\"\"\"the greatest living master of the art of historical writing, with special reference to his monumental work, <I>A history of Rome</I>\"\"\",1/1,571,Individual,Christian Matthias Theodor Mommsen,1817-11-30,Garding,Schleswig (Germany),Male,,,,1903-11-01,Charlottenburg,Germany,False,False,LITERATURE 1902,LITERATURE 1902,1817-11-30\r\n",
      "8,1902,Medicine,The Nobel Prize in Physiology or Medicine 1902,\"\"\"for his work on malaria, by which he has shown how it enters the organism and thereby has laid the foundation for successful research on this disease and methods of combating it\"\"\",1/1,294,Individual,Ronald Ross,1857-05-13,Almora,India,Male,University College,Liverpool,United Kingdom,1932-09-16,Putney Heath,United Kingdom,False,False,PHYSIOLOGY OR MEDICINE 1902,PHYSIOLOGY OR MEDICINE 1902,1857-05-13\r\n",
      "9,1902,Peace,The Nobel Peace Prize 1902,,1/2,464,Individual,Élie Ducommun,1833-02-19,Geneva,Switzerland,Male,,,,1906-12-07,Bern,Switzerland,False,False,ZE 1902,ZE 1902,1833-02-19\r\n",
      "\r\n",
      "(base) C:\\Users\\bruni\\OneDrive\\Desktop\\MS\\Medallion>"
     ]
    }
   ],
   "source": [
    "%%cmd\n",
    "more  \"datasets\\nobel_saved.csv\""
   ],
   "metadata": {
    "collapsed": false,
    "pycharm": {
     "name": "#%%\n"
    }
   }
  },
  {
   "cell_type": "markdown",
   "source": [
    "**solution 1** - to avoid this mistake set **index=False** when saving csv"
   ],
   "metadata": {
    "collapsed": false,
    "pycharm": {
     "name": "#%% md\n"
    }
   }
  },
  {
   "cell_type": "code",
   "execution_count": 90,
   "outputs": [],
   "source": [
    "df[:10].to_csv(\"datasets/nobel_saved_noindex.txt\", index=False)"
   ],
   "metadata": {
    "collapsed": false,
    "pycharm": {
     "name": "#%%\n"
    }
   }
  },
  {
   "cell_type": "code",
   "execution_count": 91,
   "outputs": [
    {
     "name": "stdout",
     "output_type": "stream",
     "text": [
      "year,category,prize,motivation,prize_share,laureate_id,laureate_type,full_name,birth_date,birth_city,birth_country,sex,organization_name,organization_city,organization_country,death_date,death_city,death_country,sub_10,sub_10_new,prize_name,prize_name_str,birth_date_dt\n",
      "1901,Chemistry,The Nobel Prize in Chemistry 1901,\"\"\"in recognition of the extraordinary services he has rendered by the discovery of the laws of chemical dynamics and osmotic pressure in solutions\"\"\",1/1,160,Individual,Jacobus Henricus van 't Hoff,1852-08-30,Rotterdam,Netherlands,Male,Berlin University,Berlin,Germany,1911-03-01,Berlin,Germany,False,False,CHEMISTRY 1901,CHEMISTRY 1901,1852-08-30\n",
      "1901,Literature,The Nobel Prize in Literature 1901,\"\"\"in special recognition of his poetic composition, which gives evidence of lofty idealism, artistic perfection and a rare combination of the qualities of both heart and intellect\"\"\",1/1,569,Individual,Sully Prudhomme,1839-03-16,Paris,France,Male,,,,1907-09-07,ChÃ¢tenay,France,False,False,LITERATURE 1901,LITERATURE 1901,1839-03-16\n",
      "1901,Medicine,The Nobel Prize in Physiology or Medicine 1901,\"\"\"for his work on serum therapy, especially its application against diphtheria, by which he has opened a new road in the domain of medical science and thereby placed in the hands of the physician a victorious weapon against illness and deaths\"\"\",1/1,293,Individual,Emil Adolf von Behring,1854-03-15,Hansdorf (Lawice),Prussia (Poland),Male,Marburg University,Marburg,Germany,1917-03-31,Marburg,Germany,False,False,PHYSIOLOGY OR MEDICINE 1901,PHYSIOLOGY OR MEDICINE 1901,1854-03-15\n",
      "1901,Peace,The Nobel Peace Prize 1901,,1/2,462,Individual,Jean Henry Dunant,1828-05-08,Geneva,Switzerland,Male,,,,1910-10-30,Heiden,Switzerland,False,False,ZE 1901,ZE 1901,1828-05-08\n",
      "1901,Peace,The Nobel Peace Prize 1901,,1/2,463,Individual,FrÃ©dÃ©ric Passy,1822-05-20,Paris,France,Male,,,,1912-06-12,Paris,France,False,False,ZE 1901,ZE 1901,1822-05-20\n",
      "1901,Physics,The Nobel Prize in Physics 1901,\"\"\"in recognition of the extraordinary services he has rendered by the discovery of the remarkable rays subsequently named after him\"\"\",1/1,1,Individual,Wilhelm Conrad RÃ¶ntgen,1845-03-27,Lennep (Remscheid),Prussia (Germany),Male,Munich University,Munich,Germany,1923-02-10,Munich,Germany,False,False,PHYSICS 1901,PHYSICS 1901,1845-03-27\n",
      "1902,Chemistry,The Nobel Prize in Chemistry 1902,\"\"\"in recognition of the extraordinary services he has rendered by his work on sugar and purine syntheses\"\"\",1/1,161,Individual,Hermann Emil Fischer,1852-10-09,Euskirchen,Prussia (Germany),Male,Berlin University,Berlin,Germany,1919-07-15,Berlin,Germany,False,False,CHEMISTRY 1902,CHEMISTRY 1902,1852-10-09\n",
      "1902,Literature,The Nobel Prize in Literature 1902,\"\"\"the greatest living master of the art of historical writing, with special reference to his monumental work, <I>A history of Rome</I>\"\"\",1/1,571,Individual,Christian Matthias Theodor Mommsen,1817-11-30,Garding,Schleswig (Germany),Male,,,,1903-11-01,Charlottenburg,Germany,False,False,LITERATURE 1902,LITERATURE 1902,1817-11-30\n",
      "1902,Medicine,The Nobel Prize in Physiology or Medicine 1902,\"\"\"for his work on malaria, by which he has shown how it enters the organism and thereby has laid the foundation for successful research on this disease and methods of combating it\"\"\",1/1,294,Individual,Ronald Ross,1857-05-13,Almora,India,Male,University College,Liverpool,United Kingdom,1932-09-16,Putney Heath,United Kingdom,False,False,PHYSIOLOGY OR MEDICINE 1902,PHYSIOLOGY OR MEDICINE 1902,1857-05-13\n",
      "1902,Peace,The Nobel Peace Prize 1902,,1/2,464,Individual,Ã‰lie Ducommun,1833-02-19,Geneva,Switzerland,Male,,,,1906-12-07,Bern,Switzerland,False,False,ZE 1902,ZE 1902,1833-02-19\n"
     ]
    }
   ],
   "source": [
    "!more \"datasets\\nobel_saved_noindex.txt\""
   ],
   "metadata": {
    "collapsed": false,
    "pycharm": {
     "name": "#%%\n"
    }
   }
  },
  {
   "cell_type": "markdown",
   "source": [
    "or alternatively **solution 2** - read the file tha have  the index saved indicating the **index_col** parameter"
   ],
   "metadata": {
    "collapsed": false,
    "pycharm": {
     "name": "#%% md\n"
    }
   }
  },
  {
   "cell_type": "code",
   "execution_count": 92,
   "outputs": [
    {
     "data": {
      "text/plain": "   year    category                                           prize  \\\n0  1901   Chemistry               The Nobel Prize in Chemistry 1901   \n1  1901  Literature              The Nobel Prize in Literature 1901   \n2  1901    Medicine  The Nobel Prize in Physiology or Medicine 1901   \n\n                                          motivation prize_share  laureate_id  \\\n0  \"in recognition of the extraordinary services ...         1/1          160   \n1  \"in special recognition of his poetic composit...         1/1          569   \n2  \"for his work on serum therapy, especially its...         1/1          293   \n\n  laureate_type                     full_name  birth_date         birth_city  \\\n0    Individual  Jacobus Henricus van 't Hoff  1852-08-30          Rotterdam   \n1    Individual               Sully Prudhomme  1839-03-16              Paris   \n2    Individual        Emil Adolf von Behring  1854-03-15  Hansdorf (Lawice)   \n\n   ... organization_city organization_country  death_date death_city  \\\n0  ...            Berlin              Germany  1911-03-01     Berlin   \n1  ...               NaN                  NaN  1907-09-07   Châtenay   \n2  ...           Marburg              Germany  1917-03-31    Marburg   \n\n  death_country sub_10 sub_10_new                   prize_name  \\\n0       Germany  False      False               CHEMISTRY 1901   \n1        France  False      False              LITERATURE 1901   \n2       Germany  False      False  PHYSIOLOGY OR MEDICINE 1901   \n\n                prize_name_str  birth_date_dt  \n0               CHEMISTRY 1901     1852-08-30  \n1              LITERATURE 1901     1839-03-16  \n2  PHYSIOLOGY OR MEDICINE 1901     1854-03-15  \n\n[3 rows x 23 columns]",
      "text/html": "<div>\n<style scoped>\n    .dataframe tbody tr th:only-of-type {\n        vertical-align: middle;\n    }\n\n    .dataframe tbody tr th {\n        vertical-align: top;\n    }\n\n    .dataframe thead th {\n        text-align: right;\n    }\n</style>\n<table border=\"1\" class=\"dataframe\">\n  <thead>\n    <tr style=\"text-align: right;\">\n      <th></th>\n      <th>year</th>\n      <th>category</th>\n      <th>prize</th>\n      <th>motivation</th>\n      <th>prize_share</th>\n      <th>laureate_id</th>\n      <th>laureate_type</th>\n      <th>full_name</th>\n      <th>birth_date</th>\n      <th>birth_city</th>\n      <th>...</th>\n      <th>organization_city</th>\n      <th>organization_country</th>\n      <th>death_date</th>\n      <th>death_city</th>\n      <th>death_country</th>\n      <th>sub_10</th>\n      <th>sub_10_new</th>\n      <th>prize_name</th>\n      <th>prize_name_str</th>\n      <th>birth_date_dt</th>\n    </tr>\n  </thead>\n  <tbody>\n    <tr>\n      <th>0</th>\n      <td>1901</td>\n      <td>Chemistry</td>\n      <td>The Nobel Prize in Chemistry 1901</td>\n      <td>\"in recognition of the extraordinary services ...</td>\n      <td>1/1</td>\n      <td>160</td>\n      <td>Individual</td>\n      <td>Jacobus Henricus van 't Hoff</td>\n      <td>1852-08-30</td>\n      <td>Rotterdam</td>\n      <td>...</td>\n      <td>Berlin</td>\n      <td>Germany</td>\n      <td>1911-03-01</td>\n      <td>Berlin</td>\n      <td>Germany</td>\n      <td>False</td>\n      <td>False</td>\n      <td>CHEMISTRY 1901</td>\n      <td>CHEMISTRY 1901</td>\n      <td>1852-08-30</td>\n    </tr>\n    <tr>\n      <th>1</th>\n      <td>1901</td>\n      <td>Literature</td>\n      <td>The Nobel Prize in Literature 1901</td>\n      <td>\"in special recognition of his poetic composit...</td>\n      <td>1/1</td>\n      <td>569</td>\n      <td>Individual</td>\n      <td>Sully Prudhomme</td>\n      <td>1839-03-16</td>\n      <td>Paris</td>\n      <td>...</td>\n      <td>NaN</td>\n      <td>NaN</td>\n      <td>1907-09-07</td>\n      <td>Châtenay</td>\n      <td>France</td>\n      <td>False</td>\n      <td>False</td>\n      <td>LITERATURE 1901</td>\n      <td>LITERATURE 1901</td>\n      <td>1839-03-16</td>\n    </tr>\n    <tr>\n      <th>2</th>\n      <td>1901</td>\n      <td>Medicine</td>\n      <td>The Nobel Prize in Physiology or Medicine 1901</td>\n      <td>\"for his work on serum therapy, especially its...</td>\n      <td>1/1</td>\n      <td>293</td>\n      <td>Individual</td>\n      <td>Emil Adolf von Behring</td>\n      <td>1854-03-15</td>\n      <td>Hansdorf (Lawice)</td>\n      <td>...</td>\n      <td>Marburg</td>\n      <td>Germany</td>\n      <td>1917-03-31</td>\n      <td>Marburg</td>\n      <td>Germany</td>\n      <td>False</td>\n      <td>False</td>\n      <td>PHYSIOLOGY OR MEDICINE 1901</td>\n      <td>PHYSIOLOGY OR MEDICINE 1901</td>\n      <td>1854-03-15</td>\n    </tr>\n  </tbody>\n</table>\n<p>3 rows × 23 columns</p>\n</div>"
     },
     "execution_count": 92,
     "metadata": {},
     "output_type": "execute_result"
    }
   ],
   "source": [
    "df = pd.read_csv(\"datasets/nobel_saved.csv\", index_col=[0])\n",
    "df.head(3)"
   ],
   "metadata": {
    "collapsed": false,
    "pycharm": {
     "name": "#%%\n"
    }
   }
  },
  {
   "cell_type": "markdown",
   "source": [
    "### 2. Avoid column name that include spaces\n",
    "Avoding using spaces in column name unable to dot syntax when column referencing.\n",
    "\n",
    "Is preferable using _ instead of spaces\n",
    "\n",
    "df['Fisrt initial']     can access column with space only in this way\n",
    "df.'Fisrt initial'      and cannot access column with spaces in this way\n",
    "\n",
    "So for example these columns with spaces **cannot be used in the simplified pandas query syntax** (see point below)"
   ],
   "metadata": {
    "collapsed": false,
    "pycharm": {
     "name": "#%% md\n"
    }
   }
  },
  {
   "cell_type": "code",
   "execution_count": 16,
   "outputs": [
    {
     "data": {
      "text/plain": "Index(['Unnamed: 0', 'year', 'category', 'prize', 'motivation', 'prize_share',\n       'laureate_id', 'laureate_type', 'full_name', 'birth_date', 'birth_city',\n       'birth_country', 'sex', 'organization_name', 'organization_city',\n       'organization_country', 'death_date', 'death_city', 'death_country',\n       'First Initial'],\n      dtype='object')"
     },
     "execution_count": 16,
     "metadata": {},
     "output_type": "execute_result"
    }
   ],
   "source": [
    "df = pd.read_csv(\"datasets/nobel_saved.csv\")\n",
    "df['First Initial'] = df['Unnamed: 0']    # can access column with space only in this way\n",
    "df.columns"
   ],
   "metadata": {
    "collapsed": false,
    "pycharm": {
     "name": "#%%\n"
    }
   }
  },
  {
   "cell_type": "code",
   "execution_count": 17,
   "outputs": [
    {
     "ename": "SyntaxError",
     "evalue": "invalid syntax (3442008619.py, line 1)",
     "output_type": "error",
     "traceback": [
      "\u001B[1;36m  Input \u001B[1;32mIn [17]\u001B[1;36m\u001B[0m\n\u001B[1;33m    df.'First Initial'                         # and cannot access column with spaces in this way\u001B[0m\n\u001B[1;37m       ^\u001B[0m\n\u001B[1;31mSyntaxError\u001B[0m\u001B[1;31m:\u001B[0m invalid syntax\n"
     ]
    }
   ],
   "source": [
    "df.'First Initial'                         # and cannot access column with spaces in this way"
   ],
   "metadata": {
    "collapsed": false,
    "pycharm": {
     "name": "#%%\n"
    }
   }
  },
  {
   "cell_type": "markdown",
   "source": [],
   "metadata": {
    "collapsed": false,
    "pycharm": {
     "name": "#%% md\n"
    }
   }
  },
  {
   "cell_type": "code",
   "execution_count": 18,
   "outputs": [
    {
     "data": {
      "text/plain": "Index(['Unnamed: 0', 'year', 'category', 'prize', 'motivation', 'prize_share',\n       'laureate_id', 'laureate_type', 'full_name', 'birth_date', 'birth_city',\n       'birth_country', 'sex', 'organization_name', 'organization_city',\n       'organization_country', 'death_date', 'death_city', 'death_country',\n       'First_Initial'],\n      dtype='object')"
     },
     "execution_count": 18,
     "metadata": {},
     "output_type": "execute_result"
    }
   ],
   "source": [
    "df.rename(columns={\"First Initial\": \"First_Initial\"}, inplace=True)\n",
    "df.columns"
   ],
   "metadata": {
    "collapsed": false,
    "pycharm": {
     "name": "#%%\n"
    }
   }
  },
  {
   "cell_type": "code",
   "execution_count": 21,
   "outputs": [
    {
     "data": {
      "text/plain": "0    0\n1    1\n2    2\n3    3\n4    4\nName: First_Initial, dtype: int64"
     },
     "execution_count": 21,
     "metadata": {},
     "output_type": "execute_result"
    }
   ],
   "source": [
    "df.First_Initial[:5]"
   ],
   "metadata": {
    "collapsed": false,
    "pycharm": {
     "name": "#%%\n"
    }
   }
  },
  {
   "cell_type": "code",
   "execution_count": 23,
   "outputs": [
    {
     "data": {
      "text/plain": "     Unnamed: 0  year    category                               prize  \\\n101         101  1920     Physics     The Nobel Prize in Physics 1920   \n102         102  1921   Chemistry   The Nobel Prize in Chemistry 1921   \n103         103  1921  Literature  The Nobel Prize in Literature 1921   \n104         104  1921       Peace          The Nobel Peace Prize 1921   \n105         105  1921       Peace          The Nobel Peace Prize 1921   \n\n                                            motivation prize_share  \\\n101  \"in recognition of the service he has rendered...         1/1   \n102  \"for his contributions to our knowledge of the...         1/1   \n103  \"in recognition of his brilliant literary achi...         1/1   \n104                                                NaN         1/2   \n105                                                NaN         1/2   \n\n     laureate_id laureate_type                  full_name  birth_date  \\\n101           25    Individual  Charles Edouard Guillaume  1861-02-15   \n102          179    Individual            Frederick Soddy  1877-09-02   \n103          590    Individual             Anatole France  1844-04-16   \n104          485    Individual      Karl Hjalmar Branting  1860-11-23   \n105          486    Individual       Christian Lous Lange  1869-09-17   \n\n     birth_city   birth_country   sex  \\\n101    Fleurier     Switzerland  Male   \n102  Eastbourne  United Kingdom  Male   \n103       Paris          France  Male   \n104   Stockholm          Sweden  Male   \n105   Stavanger          Norway  Male   \n\n                                     organization_name organization_city  \\\n101  Bureau International des Poids et Mesures (Int...            Sèvres   \n102                               University of Oxford            Oxford   \n103                                                NaN               NaN   \n104                                                NaN               NaN   \n105                                                NaN               NaN   \n\n    organization_country  death_date           death_city   death_country  \\\n101               France  1938-06-13               Sèvres          France   \n102       United Kingdom  1956-09-22             Brighton  United Kingdom   \n103                  NaN  1924-10-12  Saint-Cyr-sur-Loire          France   \n104                  NaN  1925-02-24            Stockholm          Sweden   \n105                  NaN  1938-12-11                 Oslo          Norway   \n\n     First_Initial  \n101            101  \n102            102  \n103            103  \n104            104  \n105            105  ",
      "text/html": "<div>\n<style scoped>\n    .dataframe tbody tr th:only-of-type {\n        vertical-align: middle;\n    }\n\n    .dataframe tbody tr th {\n        vertical-align: top;\n    }\n\n    .dataframe thead th {\n        text-align: right;\n    }\n</style>\n<table border=\"1\" class=\"dataframe\">\n  <thead>\n    <tr style=\"text-align: right;\">\n      <th></th>\n      <th>Unnamed: 0</th>\n      <th>year</th>\n      <th>category</th>\n      <th>prize</th>\n      <th>motivation</th>\n      <th>prize_share</th>\n      <th>laureate_id</th>\n      <th>laureate_type</th>\n      <th>full_name</th>\n      <th>birth_date</th>\n      <th>birth_city</th>\n      <th>birth_country</th>\n      <th>sex</th>\n      <th>organization_name</th>\n      <th>organization_city</th>\n      <th>organization_country</th>\n      <th>death_date</th>\n      <th>death_city</th>\n      <th>death_country</th>\n      <th>First_Initial</th>\n    </tr>\n  </thead>\n  <tbody>\n    <tr>\n      <th>101</th>\n      <td>101</td>\n      <td>1920</td>\n      <td>Physics</td>\n      <td>The Nobel Prize in Physics 1920</td>\n      <td>\"in recognition of the service he has rendered...</td>\n      <td>1/1</td>\n      <td>25</td>\n      <td>Individual</td>\n      <td>Charles Edouard Guillaume</td>\n      <td>1861-02-15</td>\n      <td>Fleurier</td>\n      <td>Switzerland</td>\n      <td>Male</td>\n      <td>Bureau International des Poids et Mesures (Int...</td>\n      <td>Sèvres</td>\n      <td>France</td>\n      <td>1938-06-13</td>\n      <td>Sèvres</td>\n      <td>France</td>\n      <td>101</td>\n    </tr>\n    <tr>\n      <th>102</th>\n      <td>102</td>\n      <td>1921</td>\n      <td>Chemistry</td>\n      <td>The Nobel Prize in Chemistry 1921</td>\n      <td>\"for his contributions to our knowledge of the...</td>\n      <td>1/1</td>\n      <td>179</td>\n      <td>Individual</td>\n      <td>Frederick Soddy</td>\n      <td>1877-09-02</td>\n      <td>Eastbourne</td>\n      <td>United Kingdom</td>\n      <td>Male</td>\n      <td>University of Oxford</td>\n      <td>Oxford</td>\n      <td>United Kingdom</td>\n      <td>1956-09-22</td>\n      <td>Brighton</td>\n      <td>United Kingdom</td>\n      <td>102</td>\n    </tr>\n    <tr>\n      <th>103</th>\n      <td>103</td>\n      <td>1921</td>\n      <td>Literature</td>\n      <td>The Nobel Prize in Literature 1921</td>\n      <td>\"in recognition of his brilliant literary achi...</td>\n      <td>1/1</td>\n      <td>590</td>\n      <td>Individual</td>\n      <td>Anatole France</td>\n      <td>1844-04-16</td>\n      <td>Paris</td>\n      <td>France</td>\n      <td>Male</td>\n      <td>NaN</td>\n      <td>NaN</td>\n      <td>NaN</td>\n      <td>1924-10-12</td>\n      <td>Saint-Cyr-sur-Loire</td>\n      <td>France</td>\n      <td>103</td>\n    </tr>\n    <tr>\n      <th>104</th>\n      <td>104</td>\n      <td>1921</td>\n      <td>Peace</td>\n      <td>The Nobel Peace Prize 1921</td>\n      <td>NaN</td>\n      <td>1/2</td>\n      <td>485</td>\n      <td>Individual</td>\n      <td>Karl Hjalmar Branting</td>\n      <td>1860-11-23</td>\n      <td>Stockholm</td>\n      <td>Sweden</td>\n      <td>Male</td>\n      <td>NaN</td>\n      <td>NaN</td>\n      <td>NaN</td>\n      <td>1925-02-24</td>\n      <td>Stockholm</td>\n      <td>Sweden</td>\n      <td>104</td>\n    </tr>\n    <tr>\n      <th>105</th>\n      <td>105</td>\n      <td>1921</td>\n      <td>Peace</td>\n      <td>The Nobel Peace Prize 1921</td>\n      <td>NaN</td>\n      <td>1/2</td>\n      <td>486</td>\n      <td>Individual</td>\n      <td>Christian Lous Lange</td>\n      <td>1869-09-17</td>\n      <td>Stavanger</td>\n      <td>Norway</td>\n      <td>Male</td>\n      <td>NaN</td>\n      <td>NaN</td>\n      <td>NaN</td>\n      <td>1938-12-11</td>\n      <td>Oslo</td>\n      <td>Norway</td>\n      <td>105</td>\n    </tr>\n  </tbody>\n</table>\n</div>"
     },
     "execution_count": 23,
     "metadata": {},
     "output_type": "execute_result"
    }
   ],
   "source": [
    "#now the column che be used in query syntax\n",
    "df.query('First_Initial > 100 & First_Initial < 110')[:5]"
   ],
   "metadata": {
    "collapsed": false,
    "pycharm": {
     "name": "#%%\n"
    }
   }
  },
  {
   "cell_type": "markdown",
   "source": [
    "### 3. Leveraging the query method\n",
    "\n",
    "Often when you want to filter a dataframe to a subset there is nothing wrong with the syntax chosen below"
   ],
   "metadata": {
    "collapsed": false,
    "pycharm": {
     "name": "#%% md\n"
    }
   }
  },
  {
   "cell_type": "code",
   "execution_count": 24,
   "outputs": [
    {
     "data": {
      "text/plain": "     Unnamed: 0  year    category                               prize  \\\n725         725  2001  Literature  The Nobel Prize in Literature 2001   \n739         739  2002  Literature  The Nobel Prize in Literature 2002   \n751         751  2003  Literature  The Nobel Prize in Literature 2003   \n763         763  2004  Literature  The Nobel Prize in Literature 2004   \n775         775  2005  Literature  The Nobel Prize in Literature 2005   \n785         785  2006  Literature  The Nobel Prize in Literature 2006   \n796         796  2007  Literature  The Nobel Prize in Literature 2007   \n808         808  2008  Literature  The Nobel Prize in Literature 2008   \n821         821  2009  Literature  The Nobel Prize in Literature 2009   \n835         835  2010  Literature  The Nobel Prize in Literature 2010   \n843         843  2011  Literature  The Nobel Prize in Literature 2011   \n857         857  2012  Literature  The Nobel Prize in Literature 2012   \n869         869  2013  Literature  The Nobel Prize in Literature 2013   \n880         880  2014  Literature  The Nobel Prize in Literature 2014   \n893         893  2015  Literature  The Nobel Prize in Literature 2015   \n905         905  2016  Literature  The Nobel Prize in Literature 2016   \n\n                                            motivation prize_share  \\\n725  \"for having united perceptive narrative and in...         1/1   \n739  \"for writing that upholds the fragile experien...         1/1   \n751  \"who in innumerable guises portrays the surpri...         1/1   \n763  \"for her musical flow of voices and counter-vo...         1/1   \n775  \"who in his plays uncovers the precipice under...         1/1   \n785  \"who in the quest for the melancholic soul of ...         1/1   \n796  \"that epicist of the female experience, who wi...         1/1   \n808  \"author of new departures, poetic adventure an...         1/1   \n821  \"who, with the concentration of poetry and the...         1/1   \n835  \"for his cartography of structures of power an...         1/1   \n843  \"because, through his condensed, translucent i...         1/1   \n857  \"who with hallucinatory realism merges folk ta...         1/1   \n869           \"master of the contemporary short story\"         1/1   \n880  \"for the art of memory with which he has evoke...         1/1   \n893  \"for her polyphonic writings, a monument to su...         1/1   \n905  \"for having created new poetic expressions wit...         1/1   \n\n     laureate_id laureate_type                          full_name  birth_date  \\\n725          747    Individual  Sir Vidiadhar Surajprasad Naipaul  1932-08-17   \n739          761    Individual                       Imre Kertész  1929-11-09   \n751          763    Individual                    John M. Coetzee  1940-02-09   \n763          782    Individual                   Elfriede Jelinek  1946-10-20   \n775          801    Individual                      Harold Pinter  1930-10-10   \n785          808    Individual                        Orhan Pamuk  1952-06-07   \n796          817    Individual                      Doris Lessing  1919-10-22   \n808          832    Individual       Jean-Marie Gustave Le Clézio  1940-04-13   \n821          844    Individual                       Herta Müller  1953-08-17   \n835          854    Individual                 Mario Vargas Llosa  1936-03-28   \n843          868    Individual                  Tomas Tranströmer  1931-04-15   \n857          880    Individual                             Mo Yan  1955-02-02   \n869          892    Individual                        Alice Munro  1931-07-10   \n880          912    Individual                    Patrick Modiano  1945-07-30   \n893          924    Individual                Svetlana Alexievich  1948-05-31   \n905          937    Individual                          Bob Dylan  1941-05-24   \n\n            birth_city             birth_country     sex organization_name  \\\n725                NaN                  Trinidad    Male               NaN   \n739           Budapest                   Hungary    Male               NaN   \n751          Cape Town              South Africa    Male               NaN   \n763       Mürzzuschlag                   Austria  Female               NaN   \n775             London            United Kingdom    Male               NaN   \n785           Istanbul                    Turkey    Male               NaN   \n796         Kermanshah             Persia (Iran)  Female               NaN   \n808               Nice                    France    Male               NaN   \n821  Nitzkydorf, Banat                   Romania  Female               NaN   \n835           Arequipa                      Peru    Male               NaN   \n843          Stockholm                    Sweden    Male               NaN   \n857              Gaomi                     China    Male               NaN   \n869            Wingham                    Canada  Female               NaN   \n880              Paris                    France    Male               NaN   \n893    Ivano-Frankivsk                   Ukraine  Female               NaN   \n905         Duluth, MN  United States of America    Male               NaN   \n\n    organization_city organization_country  death_date death_city  \\\n725               NaN                  NaN         NaN        NaN   \n739               NaN                  NaN  2016-03-31   Budapest   \n751               NaN                  NaN         NaN        NaN   \n763               NaN                  NaN         NaN        NaN   \n775               NaN                  NaN  2008-12-24     London   \n785               NaN                  NaN         NaN        NaN   \n796               NaN                  NaN  2013-11-17     London   \n808               NaN                  NaN         NaN        NaN   \n821               NaN                  NaN         NaN        NaN   \n835               NaN                  NaN         NaN        NaN   \n843               NaN                  NaN  2015-03-26  Stockholm   \n857               NaN                  NaN         NaN        NaN   \n869               NaN                  NaN         NaN        NaN   \n880               NaN                  NaN         NaN        NaN   \n893               NaN                  NaN         NaN        NaN   \n905               NaN                  NaN         NaN        NaN   \n\n      death_country  First_Initial  \n725             NaN            725  \n739         Hungary            739  \n751             NaN            751  \n763             NaN            763  \n775  United Kingdom            775  \n785             NaN            785  \n796  United Kingdom            796  \n808             NaN            808  \n821             NaN            821  \n835             NaN            835  \n843          Sweden            843  \n857             NaN            857  \n869             NaN            869  \n880             NaN            880  \n893             NaN            893  \n905             NaN            905  ",
      "text/html": "<div>\n<style scoped>\n    .dataframe tbody tr th:only-of-type {\n        vertical-align: middle;\n    }\n\n    .dataframe tbody tr th {\n        vertical-align: top;\n    }\n\n    .dataframe thead th {\n        text-align: right;\n    }\n</style>\n<table border=\"1\" class=\"dataframe\">\n  <thead>\n    <tr style=\"text-align: right;\">\n      <th></th>\n      <th>Unnamed: 0</th>\n      <th>year</th>\n      <th>category</th>\n      <th>prize</th>\n      <th>motivation</th>\n      <th>prize_share</th>\n      <th>laureate_id</th>\n      <th>laureate_type</th>\n      <th>full_name</th>\n      <th>birth_date</th>\n      <th>birth_city</th>\n      <th>birth_country</th>\n      <th>sex</th>\n      <th>organization_name</th>\n      <th>organization_city</th>\n      <th>organization_country</th>\n      <th>death_date</th>\n      <th>death_city</th>\n      <th>death_country</th>\n      <th>First_Initial</th>\n    </tr>\n  </thead>\n  <tbody>\n    <tr>\n      <th>725</th>\n      <td>725</td>\n      <td>2001</td>\n      <td>Literature</td>\n      <td>The Nobel Prize in Literature 2001</td>\n      <td>\"for having united perceptive narrative and in...</td>\n      <td>1/1</td>\n      <td>747</td>\n      <td>Individual</td>\n      <td>Sir Vidiadhar Surajprasad Naipaul</td>\n      <td>1932-08-17</td>\n      <td>NaN</td>\n      <td>Trinidad</td>\n      <td>Male</td>\n      <td>NaN</td>\n      <td>NaN</td>\n      <td>NaN</td>\n      <td>NaN</td>\n      <td>NaN</td>\n      <td>NaN</td>\n      <td>725</td>\n    </tr>\n    <tr>\n      <th>739</th>\n      <td>739</td>\n      <td>2002</td>\n      <td>Literature</td>\n      <td>The Nobel Prize in Literature 2002</td>\n      <td>\"for writing that upholds the fragile experien...</td>\n      <td>1/1</td>\n      <td>761</td>\n      <td>Individual</td>\n      <td>Imre Kertész</td>\n      <td>1929-11-09</td>\n      <td>Budapest</td>\n      <td>Hungary</td>\n      <td>Male</td>\n      <td>NaN</td>\n      <td>NaN</td>\n      <td>NaN</td>\n      <td>2016-03-31</td>\n      <td>Budapest</td>\n      <td>Hungary</td>\n      <td>739</td>\n    </tr>\n    <tr>\n      <th>751</th>\n      <td>751</td>\n      <td>2003</td>\n      <td>Literature</td>\n      <td>The Nobel Prize in Literature 2003</td>\n      <td>\"who in innumerable guises portrays the surpri...</td>\n      <td>1/1</td>\n      <td>763</td>\n      <td>Individual</td>\n      <td>John M. Coetzee</td>\n      <td>1940-02-09</td>\n      <td>Cape Town</td>\n      <td>South Africa</td>\n      <td>Male</td>\n      <td>NaN</td>\n      <td>NaN</td>\n      <td>NaN</td>\n      <td>NaN</td>\n      <td>NaN</td>\n      <td>NaN</td>\n      <td>751</td>\n    </tr>\n    <tr>\n      <th>763</th>\n      <td>763</td>\n      <td>2004</td>\n      <td>Literature</td>\n      <td>The Nobel Prize in Literature 2004</td>\n      <td>\"for her musical flow of voices and counter-vo...</td>\n      <td>1/1</td>\n      <td>782</td>\n      <td>Individual</td>\n      <td>Elfriede Jelinek</td>\n      <td>1946-10-20</td>\n      <td>Mürzzuschlag</td>\n      <td>Austria</td>\n      <td>Female</td>\n      <td>NaN</td>\n      <td>NaN</td>\n      <td>NaN</td>\n      <td>NaN</td>\n      <td>NaN</td>\n      <td>NaN</td>\n      <td>763</td>\n    </tr>\n    <tr>\n      <th>775</th>\n      <td>775</td>\n      <td>2005</td>\n      <td>Literature</td>\n      <td>The Nobel Prize in Literature 2005</td>\n      <td>\"who in his plays uncovers the precipice under...</td>\n      <td>1/1</td>\n      <td>801</td>\n      <td>Individual</td>\n      <td>Harold Pinter</td>\n      <td>1930-10-10</td>\n      <td>London</td>\n      <td>United Kingdom</td>\n      <td>Male</td>\n      <td>NaN</td>\n      <td>NaN</td>\n      <td>NaN</td>\n      <td>2008-12-24</td>\n      <td>London</td>\n      <td>United Kingdom</td>\n      <td>775</td>\n    </tr>\n    <tr>\n      <th>785</th>\n      <td>785</td>\n      <td>2006</td>\n      <td>Literature</td>\n      <td>The Nobel Prize in Literature 2006</td>\n      <td>\"who in the quest for the melancholic soul of ...</td>\n      <td>1/1</td>\n      <td>808</td>\n      <td>Individual</td>\n      <td>Orhan Pamuk</td>\n      <td>1952-06-07</td>\n      <td>Istanbul</td>\n      <td>Turkey</td>\n      <td>Male</td>\n      <td>NaN</td>\n      <td>NaN</td>\n      <td>NaN</td>\n      <td>NaN</td>\n      <td>NaN</td>\n      <td>NaN</td>\n      <td>785</td>\n    </tr>\n    <tr>\n      <th>796</th>\n      <td>796</td>\n      <td>2007</td>\n      <td>Literature</td>\n      <td>The Nobel Prize in Literature 2007</td>\n      <td>\"that epicist of the female experience, who wi...</td>\n      <td>1/1</td>\n      <td>817</td>\n      <td>Individual</td>\n      <td>Doris Lessing</td>\n      <td>1919-10-22</td>\n      <td>Kermanshah</td>\n      <td>Persia (Iran)</td>\n      <td>Female</td>\n      <td>NaN</td>\n      <td>NaN</td>\n      <td>NaN</td>\n      <td>2013-11-17</td>\n      <td>London</td>\n      <td>United Kingdom</td>\n      <td>796</td>\n    </tr>\n    <tr>\n      <th>808</th>\n      <td>808</td>\n      <td>2008</td>\n      <td>Literature</td>\n      <td>The Nobel Prize in Literature 2008</td>\n      <td>\"author of new departures, poetic adventure an...</td>\n      <td>1/1</td>\n      <td>832</td>\n      <td>Individual</td>\n      <td>Jean-Marie Gustave Le Clézio</td>\n      <td>1940-04-13</td>\n      <td>Nice</td>\n      <td>France</td>\n      <td>Male</td>\n      <td>NaN</td>\n      <td>NaN</td>\n      <td>NaN</td>\n      <td>NaN</td>\n      <td>NaN</td>\n      <td>NaN</td>\n      <td>808</td>\n    </tr>\n    <tr>\n      <th>821</th>\n      <td>821</td>\n      <td>2009</td>\n      <td>Literature</td>\n      <td>The Nobel Prize in Literature 2009</td>\n      <td>\"who, with the concentration of poetry and the...</td>\n      <td>1/1</td>\n      <td>844</td>\n      <td>Individual</td>\n      <td>Herta Müller</td>\n      <td>1953-08-17</td>\n      <td>Nitzkydorf, Banat</td>\n      <td>Romania</td>\n      <td>Female</td>\n      <td>NaN</td>\n      <td>NaN</td>\n      <td>NaN</td>\n      <td>NaN</td>\n      <td>NaN</td>\n      <td>NaN</td>\n      <td>821</td>\n    </tr>\n    <tr>\n      <th>835</th>\n      <td>835</td>\n      <td>2010</td>\n      <td>Literature</td>\n      <td>The Nobel Prize in Literature 2010</td>\n      <td>\"for his cartography of structures of power an...</td>\n      <td>1/1</td>\n      <td>854</td>\n      <td>Individual</td>\n      <td>Mario Vargas Llosa</td>\n      <td>1936-03-28</td>\n      <td>Arequipa</td>\n      <td>Peru</td>\n      <td>Male</td>\n      <td>NaN</td>\n      <td>NaN</td>\n      <td>NaN</td>\n      <td>NaN</td>\n      <td>NaN</td>\n      <td>NaN</td>\n      <td>835</td>\n    </tr>\n    <tr>\n      <th>843</th>\n      <td>843</td>\n      <td>2011</td>\n      <td>Literature</td>\n      <td>The Nobel Prize in Literature 2011</td>\n      <td>\"because, through his condensed, translucent i...</td>\n      <td>1/1</td>\n      <td>868</td>\n      <td>Individual</td>\n      <td>Tomas Tranströmer</td>\n      <td>1931-04-15</td>\n      <td>Stockholm</td>\n      <td>Sweden</td>\n      <td>Male</td>\n      <td>NaN</td>\n      <td>NaN</td>\n      <td>NaN</td>\n      <td>2015-03-26</td>\n      <td>Stockholm</td>\n      <td>Sweden</td>\n      <td>843</td>\n    </tr>\n    <tr>\n      <th>857</th>\n      <td>857</td>\n      <td>2012</td>\n      <td>Literature</td>\n      <td>The Nobel Prize in Literature 2012</td>\n      <td>\"who with hallucinatory realism merges folk ta...</td>\n      <td>1/1</td>\n      <td>880</td>\n      <td>Individual</td>\n      <td>Mo Yan</td>\n      <td>1955-02-02</td>\n      <td>Gaomi</td>\n      <td>China</td>\n      <td>Male</td>\n      <td>NaN</td>\n      <td>NaN</td>\n      <td>NaN</td>\n      <td>NaN</td>\n      <td>NaN</td>\n      <td>NaN</td>\n      <td>857</td>\n    </tr>\n    <tr>\n      <th>869</th>\n      <td>869</td>\n      <td>2013</td>\n      <td>Literature</td>\n      <td>The Nobel Prize in Literature 2013</td>\n      <td>\"master of the contemporary short story\"</td>\n      <td>1/1</td>\n      <td>892</td>\n      <td>Individual</td>\n      <td>Alice Munro</td>\n      <td>1931-07-10</td>\n      <td>Wingham</td>\n      <td>Canada</td>\n      <td>Female</td>\n      <td>NaN</td>\n      <td>NaN</td>\n      <td>NaN</td>\n      <td>NaN</td>\n      <td>NaN</td>\n      <td>NaN</td>\n      <td>869</td>\n    </tr>\n    <tr>\n      <th>880</th>\n      <td>880</td>\n      <td>2014</td>\n      <td>Literature</td>\n      <td>The Nobel Prize in Literature 2014</td>\n      <td>\"for the art of memory with which he has evoke...</td>\n      <td>1/1</td>\n      <td>912</td>\n      <td>Individual</td>\n      <td>Patrick Modiano</td>\n      <td>1945-07-30</td>\n      <td>Paris</td>\n      <td>France</td>\n      <td>Male</td>\n      <td>NaN</td>\n      <td>NaN</td>\n      <td>NaN</td>\n      <td>NaN</td>\n      <td>NaN</td>\n      <td>NaN</td>\n      <td>880</td>\n    </tr>\n    <tr>\n      <th>893</th>\n      <td>893</td>\n      <td>2015</td>\n      <td>Literature</td>\n      <td>The Nobel Prize in Literature 2015</td>\n      <td>\"for her polyphonic writings, a monument to su...</td>\n      <td>1/1</td>\n      <td>924</td>\n      <td>Individual</td>\n      <td>Svetlana Alexievich</td>\n      <td>1948-05-31</td>\n      <td>Ivano-Frankivsk</td>\n      <td>Ukraine</td>\n      <td>Female</td>\n      <td>NaN</td>\n      <td>NaN</td>\n      <td>NaN</td>\n      <td>NaN</td>\n      <td>NaN</td>\n      <td>NaN</td>\n      <td>893</td>\n    </tr>\n    <tr>\n      <th>905</th>\n      <td>905</td>\n      <td>2016</td>\n      <td>Literature</td>\n      <td>The Nobel Prize in Literature 2016</td>\n      <td>\"for having created new poetic expressions wit...</td>\n      <td>1/1</td>\n      <td>937</td>\n      <td>Individual</td>\n      <td>Bob Dylan</td>\n      <td>1941-05-24</td>\n      <td>Duluth, MN</td>\n      <td>United States of America</td>\n      <td>Male</td>\n      <td>NaN</td>\n      <td>NaN</td>\n      <td>NaN</td>\n      <td>NaN</td>\n      <td>NaN</td>\n      <td>NaN</td>\n      <td>905</td>\n    </tr>\n  </tbody>\n</table>\n</div>"
     },
     "execution_count": 24,
     "metadata": {},
     "output_type": "execute_result"
    }
   ],
   "source": [
    "df.loc[ (df['year'] >2000) &  (df['category'] == \"Literature\") ]"
   ],
   "metadata": {
    "collapsed": false,
    "pycharm": {
     "name": "#%%\n"
    }
   }
  },
  {
   "cell_type": "markdown",
   "source": [
    "However it is possible **writing powerful queries using the .query method**\n",
    "This become more flexible the more the criteria of the query become complex\n"
   ],
   "metadata": {
    "collapsed": false,
    "pycharm": {
     "name": "#%% md\n"
    }
   }
  },
  {
   "cell_type": "code",
   "execution_count": 25,
   "outputs": [
    {
     "data": {
      "text/plain": "     Unnamed: 0  year    category                               prize  \\\n725         725  2001  Literature  The Nobel Prize in Literature 2001   \n739         739  2002  Literature  The Nobel Prize in Literature 2002   \n751         751  2003  Literature  The Nobel Prize in Literature 2003   \n763         763  2004  Literature  The Nobel Prize in Literature 2004   \n775         775  2005  Literature  The Nobel Prize in Literature 2005   \n785         785  2006  Literature  The Nobel Prize in Literature 2006   \n796         796  2007  Literature  The Nobel Prize in Literature 2007   \n808         808  2008  Literature  The Nobel Prize in Literature 2008   \n821         821  2009  Literature  The Nobel Prize in Literature 2009   \n835         835  2010  Literature  The Nobel Prize in Literature 2010   \n843         843  2011  Literature  The Nobel Prize in Literature 2011   \n857         857  2012  Literature  The Nobel Prize in Literature 2012   \n869         869  2013  Literature  The Nobel Prize in Literature 2013   \n880         880  2014  Literature  The Nobel Prize in Literature 2014   \n893         893  2015  Literature  The Nobel Prize in Literature 2015   \n905         905  2016  Literature  The Nobel Prize in Literature 2016   \n\n                                            motivation prize_share  \\\n725  \"for having united perceptive narrative and in...         1/1   \n739  \"for writing that upholds the fragile experien...         1/1   \n751  \"who in innumerable guises portrays the surpri...         1/1   \n763  \"for her musical flow of voices and counter-vo...         1/1   \n775  \"who in his plays uncovers the precipice under...         1/1   \n785  \"who in the quest for the melancholic soul of ...         1/1   \n796  \"that epicist of the female experience, who wi...         1/1   \n808  \"author of new departures, poetic adventure an...         1/1   \n821  \"who, with the concentration of poetry and the...         1/1   \n835  \"for his cartography of structures of power an...         1/1   \n843  \"because, through his condensed, translucent i...         1/1   \n857  \"who with hallucinatory realism merges folk ta...         1/1   \n869           \"master of the contemporary short story\"         1/1   \n880  \"for the art of memory with which he has evoke...         1/1   \n893  \"for her polyphonic writings, a monument to su...         1/1   \n905  \"for having created new poetic expressions wit...         1/1   \n\n     laureate_id laureate_type                          full_name  birth_date  \\\n725          747    Individual  Sir Vidiadhar Surajprasad Naipaul  1932-08-17   \n739          761    Individual                       Imre Kertész  1929-11-09   \n751          763    Individual                    John M. Coetzee  1940-02-09   \n763          782    Individual                   Elfriede Jelinek  1946-10-20   \n775          801    Individual                      Harold Pinter  1930-10-10   \n785          808    Individual                        Orhan Pamuk  1952-06-07   \n796          817    Individual                      Doris Lessing  1919-10-22   \n808          832    Individual       Jean-Marie Gustave Le Clézio  1940-04-13   \n821          844    Individual                       Herta Müller  1953-08-17   \n835          854    Individual                 Mario Vargas Llosa  1936-03-28   \n843          868    Individual                  Tomas Tranströmer  1931-04-15   \n857          880    Individual                             Mo Yan  1955-02-02   \n869          892    Individual                        Alice Munro  1931-07-10   \n880          912    Individual                    Patrick Modiano  1945-07-30   \n893          924    Individual                Svetlana Alexievich  1948-05-31   \n905          937    Individual                          Bob Dylan  1941-05-24   \n\n            birth_city             birth_country     sex organization_name  \\\n725                NaN                  Trinidad    Male               NaN   \n739           Budapest                   Hungary    Male               NaN   \n751          Cape Town              South Africa    Male               NaN   \n763       Mürzzuschlag                   Austria  Female               NaN   \n775             London            United Kingdom    Male               NaN   \n785           Istanbul                    Turkey    Male               NaN   \n796         Kermanshah             Persia (Iran)  Female               NaN   \n808               Nice                    France    Male               NaN   \n821  Nitzkydorf, Banat                   Romania  Female               NaN   \n835           Arequipa                      Peru    Male               NaN   \n843          Stockholm                    Sweden    Male               NaN   \n857              Gaomi                     China    Male               NaN   \n869            Wingham                    Canada  Female               NaN   \n880              Paris                    France    Male               NaN   \n893    Ivano-Frankivsk                   Ukraine  Female               NaN   \n905         Duluth, MN  United States of America    Male               NaN   \n\n    organization_city organization_country  death_date death_city  \\\n725               NaN                  NaN         NaN        NaN   \n739               NaN                  NaN  2016-03-31   Budapest   \n751               NaN                  NaN         NaN        NaN   \n763               NaN                  NaN         NaN        NaN   \n775               NaN                  NaN  2008-12-24     London   \n785               NaN                  NaN         NaN        NaN   \n796               NaN                  NaN  2013-11-17     London   \n808               NaN                  NaN         NaN        NaN   \n821               NaN                  NaN         NaN        NaN   \n835               NaN                  NaN         NaN        NaN   \n843               NaN                  NaN  2015-03-26  Stockholm   \n857               NaN                  NaN         NaN        NaN   \n869               NaN                  NaN         NaN        NaN   \n880               NaN                  NaN         NaN        NaN   \n893               NaN                  NaN         NaN        NaN   \n905               NaN                  NaN         NaN        NaN   \n\n      death_country  First_Initial  \n725             NaN            725  \n739         Hungary            739  \n751             NaN            751  \n763             NaN            763  \n775  United Kingdom            775  \n785             NaN            785  \n796  United Kingdom            796  \n808             NaN            808  \n821             NaN            821  \n835             NaN            835  \n843          Sweden            843  \n857             NaN            857  \n869             NaN            869  \n880             NaN            880  \n893             NaN            893  \n905             NaN            905  ",
      "text/html": "<div>\n<style scoped>\n    .dataframe tbody tr th:only-of-type {\n        vertical-align: middle;\n    }\n\n    .dataframe tbody tr th {\n        vertical-align: top;\n    }\n\n    .dataframe thead th {\n        text-align: right;\n    }\n</style>\n<table border=\"1\" class=\"dataframe\">\n  <thead>\n    <tr style=\"text-align: right;\">\n      <th></th>\n      <th>Unnamed: 0</th>\n      <th>year</th>\n      <th>category</th>\n      <th>prize</th>\n      <th>motivation</th>\n      <th>prize_share</th>\n      <th>laureate_id</th>\n      <th>laureate_type</th>\n      <th>full_name</th>\n      <th>birth_date</th>\n      <th>birth_city</th>\n      <th>birth_country</th>\n      <th>sex</th>\n      <th>organization_name</th>\n      <th>organization_city</th>\n      <th>organization_country</th>\n      <th>death_date</th>\n      <th>death_city</th>\n      <th>death_country</th>\n      <th>First_Initial</th>\n    </tr>\n  </thead>\n  <tbody>\n    <tr>\n      <th>725</th>\n      <td>725</td>\n      <td>2001</td>\n      <td>Literature</td>\n      <td>The Nobel Prize in Literature 2001</td>\n      <td>\"for having united perceptive narrative and in...</td>\n      <td>1/1</td>\n      <td>747</td>\n      <td>Individual</td>\n      <td>Sir Vidiadhar Surajprasad Naipaul</td>\n      <td>1932-08-17</td>\n      <td>NaN</td>\n      <td>Trinidad</td>\n      <td>Male</td>\n      <td>NaN</td>\n      <td>NaN</td>\n      <td>NaN</td>\n      <td>NaN</td>\n      <td>NaN</td>\n      <td>NaN</td>\n      <td>725</td>\n    </tr>\n    <tr>\n      <th>739</th>\n      <td>739</td>\n      <td>2002</td>\n      <td>Literature</td>\n      <td>The Nobel Prize in Literature 2002</td>\n      <td>\"for writing that upholds the fragile experien...</td>\n      <td>1/1</td>\n      <td>761</td>\n      <td>Individual</td>\n      <td>Imre Kertész</td>\n      <td>1929-11-09</td>\n      <td>Budapest</td>\n      <td>Hungary</td>\n      <td>Male</td>\n      <td>NaN</td>\n      <td>NaN</td>\n      <td>NaN</td>\n      <td>2016-03-31</td>\n      <td>Budapest</td>\n      <td>Hungary</td>\n      <td>739</td>\n    </tr>\n    <tr>\n      <th>751</th>\n      <td>751</td>\n      <td>2003</td>\n      <td>Literature</td>\n      <td>The Nobel Prize in Literature 2003</td>\n      <td>\"who in innumerable guises portrays the surpri...</td>\n      <td>1/1</td>\n      <td>763</td>\n      <td>Individual</td>\n      <td>John M. Coetzee</td>\n      <td>1940-02-09</td>\n      <td>Cape Town</td>\n      <td>South Africa</td>\n      <td>Male</td>\n      <td>NaN</td>\n      <td>NaN</td>\n      <td>NaN</td>\n      <td>NaN</td>\n      <td>NaN</td>\n      <td>NaN</td>\n      <td>751</td>\n    </tr>\n    <tr>\n      <th>763</th>\n      <td>763</td>\n      <td>2004</td>\n      <td>Literature</td>\n      <td>The Nobel Prize in Literature 2004</td>\n      <td>\"for her musical flow of voices and counter-vo...</td>\n      <td>1/1</td>\n      <td>782</td>\n      <td>Individual</td>\n      <td>Elfriede Jelinek</td>\n      <td>1946-10-20</td>\n      <td>Mürzzuschlag</td>\n      <td>Austria</td>\n      <td>Female</td>\n      <td>NaN</td>\n      <td>NaN</td>\n      <td>NaN</td>\n      <td>NaN</td>\n      <td>NaN</td>\n      <td>NaN</td>\n      <td>763</td>\n    </tr>\n    <tr>\n      <th>775</th>\n      <td>775</td>\n      <td>2005</td>\n      <td>Literature</td>\n      <td>The Nobel Prize in Literature 2005</td>\n      <td>\"who in his plays uncovers the precipice under...</td>\n      <td>1/1</td>\n      <td>801</td>\n      <td>Individual</td>\n      <td>Harold Pinter</td>\n      <td>1930-10-10</td>\n      <td>London</td>\n      <td>United Kingdom</td>\n      <td>Male</td>\n      <td>NaN</td>\n      <td>NaN</td>\n      <td>NaN</td>\n      <td>2008-12-24</td>\n      <td>London</td>\n      <td>United Kingdom</td>\n      <td>775</td>\n    </tr>\n    <tr>\n      <th>785</th>\n      <td>785</td>\n      <td>2006</td>\n      <td>Literature</td>\n      <td>The Nobel Prize in Literature 2006</td>\n      <td>\"who in the quest for the melancholic soul of ...</td>\n      <td>1/1</td>\n      <td>808</td>\n      <td>Individual</td>\n      <td>Orhan Pamuk</td>\n      <td>1952-06-07</td>\n      <td>Istanbul</td>\n      <td>Turkey</td>\n      <td>Male</td>\n      <td>NaN</td>\n      <td>NaN</td>\n      <td>NaN</td>\n      <td>NaN</td>\n      <td>NaN</td>\n      <td>NaN</td>\n      <td>785</td>\n    </tr>\n    <tr>\n      <th>796</th>\n      <td>796</td>\n      <td>2007</td>\n      <td>Literature</td>\n      <td>The Nobel Prize in Literature 2007</td>\n      <td>\"that epicist of the female experience, who wi...</td>\n      <td>1/1</td>\n      <td>817</td>\n      <td>Individual</td>\n      <td>Doris Lessing</td>\n      <td>1919-10-22</td>\n      <td>Kermanshah</td>\n      <td>Persia (Iran)</td>\n      <td>Female</td>\n      <td>NaN</td>\n      <td>NaN</td>\n      <td>NaN</td>\n      <td>2013-11-17</td>\n      <td>London</td>\n      <td>United Kingdom</td>\n      <td>796</td>\n    </tr>\n    <tr>\n      <th>808</th>\n      <td>808</td>\n      <td>2008</td>\n      <td>Literature</td>\n      <td>The Nobel Prize in Literature 2008</td>\n      <td>\"author of new departures, poetic adventure an...</td>\n      <td>1/1</td>\n      <td>832</td>\n      <td>Individual</td>\n      <td>Jean-Marie Gustave Le Clézio</td>\n      <td>1940-04-13</td>\n      <td>Nice</td>\n      <td>France</td>\n      <td>Male</td>\n      <td>NaN</td>\n      <td>NaN</td>\n      <td>NaN</td>\n      <td>NaN</td>\n      <td>NaN</td>\n      <td>NaN</td>\n      <td>808</td>\n    </tr>\n    <tr>\n      <th>821</th>\n      <td>821</td>\n      <td>2009</td>\n      <td>Literature</td>\n      <td>The Nobel Prize in Literature 2009</td>\n      <td>\"who, with the concentration of poetry and the...</td>\n      <td>1/1</td>\n      <td>844</td>\n      <td>Individual</td>\n      <td>Herta Müller</td>\n      <td>1953-08-17</td>\n      <td>Nitzkydorf, Banat</td>\n      <td>Romania</td>\n      <td>Female</td>\n      <td>NaN</td>\n      <td>NaN</td>\n      <td>NaN</td>\n      <td>NaN</td>\n      <td>NaN</td>\n      <td>NaN</td>\n      <td>821</td>\n    </tr>\n    <tr>\n      <th>835</th>\n      <td>835</td>\n      <td>2010</td>\n      <td>Literature</td>\n      <td>The Nobel Prize in Literature 2010</td>\n      <td>\"for his cartography of structures of power an...</td>\n      <td>1/1</td>\n      <td>854</td>\n      <td>Individual</td>\n      <td>Mario Vargas Llosa</td>\n      <td>1936-03-28</td>\n      <td>Arequipa</td>\n      <td>Peru</td>\n      <td>Male</td>\n      <td>NaN</td>\n      <td>NaN</td>\n      <td>NaN</td>\n      <td>NaN</td>\n      <td>NaN</td>\n      <td>NaN</td>\n      <td>835</td>\n    </tr>\n    <tr>\n      <th>843</th>\n      <td>843</td>\n      <td>2011</td>\n      <td>Literature</td>\n      <td>The Nobel Prize in Literature 2011</td>\n      <td>\"because, through his condensed, translucent i...</td>\n      <td>1/1</td>\n      <td>868</td>\n      <td>Individual</td>\n      <td>Tomas Tranströmer</td>\n      <td>1931-04-15</td>\n      <td>Stockholm</td>\n      <td>Sweden</td>\n      <td>Male</td>\n      <td>NaN</td>\n      <td>NaN</td>\n      <td>NaN</td>\n      <td>2015-03-26</td>\n      <td>Stockholm</td>\n      <td>Sweden</td>\n      <td>843</td>\n    </tr>\n    <tr>\n      <th>857</th>\n      <td>857</td>\n      <td>2012</td>\n      <td>Literature</td>\n      <td>The Nobel Prize in Literature 2012</td>\n      <td>\"who with hallucinatory realism merges folk ta...</td>\n      <td>1/1</td>\n      <td>880</td>\n      <td>Individual</td>\n      <td>Mo Yan</td>\n      <td>1955-02-02</td>\n      <td>Gaomi</td>\n      <td>China</td>\n      <td>Male</td>\n      <td>NaN</td>\n      <td>NaN</td>\n      <td>NaN</td>\n      <td>NaN</td>\n      <td>NaN</td>\n      <td>NaN</td>\n      <td>857</td>\n    </tr>\n    <tr>\n      <th>869</th>\n      <td>869</td>\n      <td>2013</td>\n      <td>Literature</td>\n      <td>The Nobel Prize in Literature 2013</td>\n      <td>\"master of the contemporary short story\"</td>\n      <td>1/1</td>\n      <td>892</td>\n      <td>Individual</td>\n      <td>Alice Munro</td>\n      <td>1931-07-10</td>\n      <td>Wingham</td>\n      <td>Canada</td>\n      <td>Female</td>\n      <td>NaN</td>\n      <td>NaN</td>\n      <td>NaN</td>\n      <td>NaN</td>\n      <td>NaN</td>\n      <td>NaN</td>\n      <td>869</td>\n    </tr>\n    <tr>\n      <th>880</th>\n      <td>880</td>\n      <td>2014</td>\n      <td>Literature</td>\n      <td>The Nobel Prize in Literature 2014</td>\n      <td>\"for the art of memory with which he has evoke...</td>\n      <td>1/1</td>\n      <td>912</td>\n      <td>Individual</td>\n      <td>Patrick Modiano</td>\n      <td>1945-07-30</td>\n      <td>Paris</td>\n      <td>France</td>\n      <td>Male</td>\n      <td>NaN</td>\n      <td>NaN</td>\n      <td>NaN</td>\n      <td>NaN</td>\n      <td>NaN</td>\n      <td>NaN</td>\n      <td>880</td>\n    </tr>\n    <tr>\n      <th>893</th>\n      <td>893</td>\n      <td>2015</td>\n      <td>Literature</td>\n      <td>The Nobel Prize in Literature 2015</td>\n      <td>\"for her polyphonic writings, a monument to su...</td>\n      <td>1/1</td>\n      <td>924</td>\n      <td>Individual</td>\n      <td>Svetlana Alexievich</td>\n      <td>1948-05-31</td>\n      <td>Ivano-Frankivsk</td>\n      <td>Ukraine</td>\n      <td>Female</td>\n      <td>NaN</td>\n      <td>NaN</td>\n      <td>NaN</td>\n      <td>NaN</td>\n      <td>NaN</td>\n      <td>NaN</td>\n      <td>893</td>\n    </tr>\n    <tr>\n      <th>905</th>\n      <td>905</td>\n      <td>2016</td>\n      <td>Literature</td>\n      <td>The Nobel Prize in Literature 2016</td>\n      <td>\"for having created new poetic expressions wit...</td>\n      <td>1/1</td>\n      <td>937</td>\n      <td>Individual</td>\n      <td>Bob Dylan</td>\n      <td>1941-05-24</td>\n      <td>Duluth, MN</td>\n      <td>United States of America</td>\n      <td>Male</td>\n      <td>NaN</td>\n      <td>NaN</td>\n      <td>NaN</td>\n      <td>NaN</td>\n      <td>NaN</td>\n      <td>NaN</td>\n      <td>905</td>\n    </tr>\n  </tbody>\n</table>\n</div>"
     },
     "execution_count": 25,
     "metadata": {},
     "output_type": "execute_result"
    }
   ],
   "source": [
    "df.query(\"year > 2000 & category == 'Literature' \")"
   ],
   "metadata": {
    "collapsed": false,
    "pycharm": {
     "name": "#%%\n"
    }
   }
  },
  {
   "cell_type": "markdown",
   "source": [
    "### 4. Using variables instead of the string method to formulate the query strings\n",
    "In general when there is the need to access to variables in the queries\n",
    "is common to access to those variable with the query string"
   ],
   "metadata": {
    "collapsed": false,
    "pycharm": {
     "name": "#%% md\n"
    }
   }
  },
  {
   "cell_type": "code",
   "execution_count": 26,
   "outputs": [
    {
     "data": {
      "text/plain": "     Unnamed: 0  year    category                               prize  \\\n725         725  2001  Literature  The Nobel Prize in Literature 2001   \n739         739  2002  Literature  The Nobel Prize in Literature 2002   \n751         751  2003  Literature  The Nobel Prize in Literature 2003   \n763         763  2004  Literature  The Nobel Prize in Literature 2004   \n775         775  2005  Literature  The Nobel Prize in Literature 2005   \n785         785  2006  Literature  The Nobel Prize in Literature 2006   \n796         796  2007  Literature  The Nobel Prize in Literature 2007   \n808         808  2008  Literature  The Nobel Prize in Literature 2008   \n821         821  2009  Literature  The Nobel Prize in Literature 2009   \n835         835  2010  Literature  The Nobel Prize in Literature 2010   \n843         843  2011  Literature  The Nobel Prize in Literature 2011   \n857         857  2012  Literature  The Nobel Prize in Literature 2012   \n869         869  2013  Literature  The Nobel Prize in Literature 2013   \n880         880  2014  Literature  The Nobel Prize in Literature 2014   \n893         893  2015  Literature  The Nobel Prize in Literature 2015   \n905         905  2016  Literature  The Nobel Prize in Literature 2016   \n\n                                            motivation prize_share  \\\n725  \"for having united perceptive narrative and in...         1/1   \n739  \"for writing that upholds the fragile experien...         1/1   \n751  \"who in innumerable guises portrays the surpri...         1/1   \n763  \"for her musical flow of voices and counter-vo...         1/1   \n775  \"who in his plays uncovers the precipice under...         1/1   \n785  \"who in the quest for the melancholic soul of ...         1/1   \n796  \"that epicist of the female experience, who wi...         1/1   \n808  \"author of new departures, poetic adventure an...         1/1   \n821  \"who, with the concentration of poetry and the...         1/1   \n835  \"for his cartography of structures of power an...         1/1   \n843  \"because, through his condensed, translucent i...         1/1   \n857  \"who with hallucinatory realism merges folk ta...         1/1   \n869           \"master of the contemporary short story\"         1/1   \n880  \"for the art of memory with which he has evoke...         1/1   \n893  \"for her polyphonic writings, a monument to su...         1/1   \n905  \"for having created new poetic expressions wit...         1/1   \n\n     laureate_id laureate_type                          full_name  birth_date  \\\n725          747    Individual  Sir Vidiadhar Surajprasad Naipaul  1932-08-17   \n739          761    Individual                       Imre Kertész  1929-11-09   \n751          763    Individual                    John M. Coetzee  1940-02-09   \n763          782    Individual                   Elfriede Jelinek  1946-10-20   \n775          801    Individual                      Harold Pinter  1930-10-10   \n785          808    Individual                        Orhan Pamuk  1952-06-07   \n796          817    Individual                      Doris Lessing  1919-10-22   \n808          832    Individual       Jean-Marie Gustave Le Clézio  1940-04-13   \n821          844    Individual                       Herta Müller  1953-08-17   \n835          854    Individual                 Mario Vargas Llosa  1936-03-28   \n843          868    Individual                  Tomas Tranströmer  1931-04-15   \n857          880    Individual                             Mo Yan  1955-02-02   \n869          892    Individual                        Alice Munro  1931-07-10   \n880          912    Individual                    Patrick Modiano  1945-07-30   \n893          924    Individual                Svetlana Alexievich  1948-05-31   \n905          937    Individual                          Bob Dylan  1941-05-24   \n\n            birth_city             birth_country     sex organization_name  \\\n725                NaN                  Trinidad    Male               NaN   \n739           Budapest                   Hungary    Male               NaN   \n751          Cape Town              South Africa    Male               NaN   \n763       Mürzzuschlag                   Austria  Female               NaN   \n775             London            United Kingdom    Male               NaN   \n785           Istanbul                    Turkey    Male               NaN   \n796         Kermanshah             Persia (Iran)  Female               NaN   \n808               Nice                    France    Male               NaN   \n821  Nitzkydorf, Banat                   Romania  Female               NaN   \n835           Arequipa                      Peru    Male               NaN   \n843          Stockholm                    Sweden    Male               NaN   \n857              Gaomi                     China    Male               NaN   \n869            Wingham                    Canada  Female               NaN   \n880              Paris                    France    Male               NaN   \n893    Ivano-Frankivsk                   Ukraine  Female               NaN   \n905         Duluth, MN  United States of America    Male               NaN   \n\n    organization_city organization_country  death_date death_city  \\\n725               NaN                  NaN         NaN        NaN   \n739               NaN                  NaN  2016-03-31   Budapest   \n751               NaN                  NaN         NaN        NaN   \n763               NaN                  NaN         NaN        NaN   \n775               NaN                  NaN  2008-12-24     London   \n785               NaN                  NaN         NaN        NaN   \n796               NaN                  NaN  2013-11-17     London   \n808               NaN                  NaN         NaN        NaN   \n821               NaN                  NaN         NaN        NaN   \n835               NaN                  NaN         NaN        NaN   \n843               NaN                  NaN  2015-03-26  Stockholm   \n857               NaN                  NaN         NaN        NaN   \n869               NaN                  NaN         NaN        NaN   \n880               NaN                  NaN         NaN        NaN   \n893               NaN                  NaN         NaN        NaN   \n905               NaN                  NaN         NaN        NaN   \n\n      death_country  First_Initial  \n725             NaN            725  \n739         Hungary            739  \n751             NaN            751  \n763             NaN            763  \n775  United Kingdom            775  \n785             NaN            785  \n796  United Kingdom            796  \n808             NaN            808  \n821             NaN            821  \n835             NaN            835  \n843          Sweden            843  \n857             NaN            857  \n869             NaN            869  \n880             NaN            880  \n893             NaN            893  \n905             NaN            905  ",
      "text/html": "<div>\n<style scoped>\n    .dataframe tbody tr th:only-of-type {\n        vertical-align: middle;\n    }\n\n    .dataframe tbody tr th {\n        vertical-align: top;\n    }\n\n    .dataframe thead th {\n        text-align: right;\n    }\n</style>\n<table border=\"1\" class=\"dataframe\">\n  <thead>\n    <tr style=\"text-align: right;\">\n      <th></th>\n      <th>Unnamed: 0</th>\n      <th>year</th>\n      <th>category</th>\n      <th>prize</th>\n      <th>motivation</th>\n      <th>prize_share</th>\n      <th>laureate_id</th>\n      <th>laureate_type</th>\n      <th>full_name</th>\n      <th>birth_date</th>\n      <th>birth_city</th>\n      <th>birth_country</th>\n      <th>sex</th>\n      <th>organization_name</th>\n      <th>organization_city</th>\n      <th>organization_country</th>\n      <th>death_date</th>\n      <th>death_city</th>\n      <th>death_country</th>\n      <th>First_Initial</th>\n    </tr>\n  </thead>\n  <tbody>\n    <tr>\n      <th>725</th>\n      <td>725</td>\n      <td>2001</td>\n      <td>Literature</td>\n      <td>The Nobel Prize in Literature 2001</td>\n      <td>\"for having united perceptive narrative and in...</td>\n      <td>1/1</td>\n      <td>747</td>\n      <td>Individual</td>\n      <td>Sir Vidiadhar Surajprasad Naipaul</td>\n      <td>1932-08-17</td>\n      <td>NaN</td>\n      <td>Trinidad</td>\n      <td>Male</td>\n      <td>NaN</td>\n      <td>NaN</td>\n      <td>NaN</td>\n      <td>NaN</td>\n      <td>NaN</td>\n      <td>NaN</td>\n      <td>725</td>\n    </tr>\n    <tr>\n      <th>739</th>\n      <td>739</td>\n      <td>2002</td>\n      <td>Literature</td>\n      <td>The Nobel Prize in Literature 2002</td>\n      <td>\"for writing that upholds the fragile experien...</td>\n      <td>1/1</td>\n      <td>761</td>\n      <td>Individual</td>\n      <td>Imre Kertész</td>\n      <td>1929-11-09</td>\n      <td>Budapest</td>\n      <td>Hungary</td>\n      <td>Male</td>\n      <td>NaN</td>\n      <td>NaN</td>\n      <td>NaN</td>\n      <td>2016-03-31</td>\n      <td>Budapest</td>\n      <td>Hungary</td>\n      <td>739</td>\n    </tr>\n    <tr>\n      <th>751</th>\n      <td>751</td>\n      <td>2003</td>\n      <td>Literature</td>\n      <td>The Nobel Prize in Literature 2003</td>\n      <td>\"who in innumerable guises portrays the surpri...</td>\n      <td>1/1</td>\n      <td>763</td>\n      <td>Individual</td>\n      <td>John M. Coetzee</td>\n      <td>1940-02-09</td>\n      <td>Cape Town</td>\n      <td>South Africa</td>\n      <td>Male</td>\n      <td>NaN</td>\n      <td>NaN</td>\n      <td>NaN</td>\n      <td>NaN</td>\n      <td>NaN</td>\n      <td>NaN</td>\n      <td>751</td>\n    </tr>\n    <tr>\n      <th>763</th>\n      <td>763</td>\n      <td>2004</td>\n      <td>Literature</td>\n      <td>The Nobel Prize in Literature 2004</td>\n      <td>\"for her musical flow of voices and counter-vo...</td>\n      <td>1/1</td>\n      <td>782</td>\n      <td>Individual</td>\n      <td>Elfriede Jelinek</td>\n      <td>1946-10-20</td>\n      <td>Mürzzuschlag</td>\n      <td>Austria</td>\n      <td>Female</td>\n      <td>NaN</td>\n      <td>NaN</td>\n      <td>NaN</td>\n      <td>NaN</td>\n      <td>NaN</td>\n      <td>NaN</td>\n      <td>763</td>\n    </tr>\n    <tr>\n      <th>775</th>\n      <td>775</td>\n      <td>2005</td>\n      <td>Literature</td>\n      <td>The Nobel Prize in Literature 2005</td>\n      <td>\"who in his plays uncovers the precipice under...</td>\n      <td>1/1</td>\n      <td>801</td>\n      <td>Individual</td>\n      <td>Harold Pinter</td>\n      <td>1930-10-10</td>\n      <td>London</td>\n      <td>United Kingdom</td>\n      <td>Male</td>\n      <td>NaN</td>\n      <td>NaN</td>\n      <td>NaN</td>\n      <td>2008-12-24</td>\n      <td>London</td>\n      <td>United Kingdom</td>\n      <td>775</td>\n    </tr>\n    <tr>\n      <th>785</th>\n      <td>785</td>\n      <td>2006</td>\n      <td>Literature</td>\n      <td>The Nobel Prize in Literature 2006</td>\n      <td>\"who in the quest for the melancholic soul of ...</td>\n      <td>1/1</td>\n      <td>808</td>\n      <td>Individual</td>\n      <td>Orhan Pamuk</td>\n      <td>1952-06-07</td>\n      <td>Istanbul</td>\n      <td>Turkey</td>\n      <td>Male</td>\n      <td>NaN</td>\n      <td>NaN</td>\n      <td>NaN</td>\n      <td>NaN</td>\n      <td>NaN</td>\n      <td>NaN</td>\n      <td>785</td>\n    </tr>\n    <tr>\n      <th>796</th>\n      <td>796</td>\n      <td>2007</td>\n      <td>Literature</td>\n      <td>The Nobel Prize in Literature 2007</td>\n      <td>\"that epicist of the female experience, who wi...</td>\n      <td>1/1</td>\n      <td>817</td>\n      <td>Individual</td>\n      <td>Doris Lessing</td>\n      <td>1919-10-22</td>\n      <td>Kermanshah</td>\n      <td>Persia (Iran)</td>\n      <td>Female</td>\n      <td>NaN</td>\n      <td>NaN</td>\n      <td>NaN</td>\n      <td>2013-11-17</td>\n      <td>London</td>\n      <td>United Kingdom</td>\n      <td>796</td>\n    </tr>\n    <tr>\n      <th>808</th>\n      <td>808</td>\n      <td>2008</td>\n      <td>Literature</td>\n      <td>The Nobel Prize in Literature 2008</td>\n      <td>\"author of new departures, poetic adventure an...</td>\n      <td>1/1</td>\n      <td>832</td>\n      <td>Individual</td>\n      <td>Jean-Marie Gustave Le Clézio</td>\n      <td>1940-04-13</td>\n      <td>Nice</td>\n      <td>France</td>\n      <td>Male</td>\n      <td>NaN</td>\n      <td>NaN</td>\n      <td>NaN</td>\n      <td>NaN</td>\n      <td>NaN</td>\n      <td>NaN</td>\n      <td>808</td>\n    </tr>\n    <tr>\n      <th>821</th>\n      <td>821</td>\n      <td>2009</td>\n      <td>Literature</td>\n      <td>The Nobel Prize in Literature 2009</td>\n      <td>\"who, with the concentration of poetry and the...</td>\n      <td>1/1</td>\n      <td>844</td>\n      <td>Individual</td>\n      <td>Herta Müller</td>\n      <td>1953-08-17</td>\n      <td>Nitzkydorf, Banat</td>\n      <td>Romania</td>\n      <td>Female</td>\n      <td>NaN</td>\n      <td>NaN</td>\n      <td>NaN</td>\n      <td>NaN</td>\n      <td>NaN</td>\n      <td>NaN</td>\n      <td>821</td>\n    </tr>\n    <tr>\n      <th>835</th>\n      <td>835</td>\n      <td>2010</td>\n      <td>Literature</td>\n      <td>The Nobel Prize in Literature 2010</td>\n      <td>\"for his cartography of structures of power an...</td>\n      <td>1/1</td>\n      <td>854</td>\n      <td>Individual</td>\n      <td>Mario Vargas Llosa</td>\n      <td>1936-03-28</td>\n      <td>Arequipa</td>\n      <td>Peru</td>\n      <td>Male</td>\n      <td>NaN</td>\n      <td>NaN</td>\n      <td>NaN</td>\n      <td>NaN</td>\n      <td>NaN</td>\n      <td>NaN</td>\n      <td>835</td>\n    </tr>\n    <tr>\n      <th>843</th>\n      <td>843</td>\n      <td>2011</td>\n      <td>Literature</td>\n      <td>The Nobel Prize in Literature 2011</td>\n      <td>\"because, through his condensed, translucent i...</td>\n      <td>1/1</td>\n      <td>868</td>\n      <td>Individual</td>\n      <td>Tomas Tranströmer</td>\n      <td>1931-04-15</td>\n      <td>Stockholm</td>\n      <td>Sweden</td>\n      <td>Male</td>\n      <td>NaN</td>\n      <td>NaN</td>\n      <td>NaN</td>\n      <td>2015-03-26</td>\n      <td>Stockholm</td>\n      <td>Sweden</td>\n      <td>843</td>\n    </tr>\n    <tr>\n      <th>857</th>\n      <td>857</td>\n      <td>2012</td>\n      <td>Literature</td>\n      <td>The Nobel Prize in Literature 2012</td>\n      <td>\"who with hallucinatory realism merges folk ta...</td>\n      <td>1/1</td>\n      <td>880</td>\n      <td>Individual</td>\n      <td>Mo Yan</td>\n      <td>1955-02-02</td>\n      <td>Gaomi</td>\n      <td>China</td>\n      <td>Male</td>\n      <td>NaN</td>\n      <td>NaN</td>\n      <td>NaN</td>\n      <td>NaN</td>\n      <td>NaN</td>\n      <td>NaN</td>\n      <td>857</td>\n    </tr>\n    <tr>\n      <th>869</th>\n      <td>869</td>\n      <td>2013</td>\n      <td>Literature</td>\n      <td>The Nobel Prize in Literature 2013</td>\n      <td>\"master of the contemporary short story\"</td>\n      <td>1/1</td>\n      <td>892</td>\n      <td>Individual</td>\n      <td>Alice Munro</td>\n      <td>1931-07-10</td>\n      <td>Wingham</td>\n      <td>Canada</td>\n      <td>Female</td>\n      <td>NaN</td>\n      <td>NaN</td>\n      <td>NaN</td>\n      <td>NaN</td>\n      <td>NaN</td>\n      <td>NaN</td>\n      <td>869</td>\n    </tr>\n    <tr>\n      <th>880</th>\n      <td>880</td>\n      <td>2014</td>\n      <td>Literature</td>\n      <td>The Nobel Prize in Literature 2014</td>\n      <td>\"for the art of memory with which he has evoke...</td>\n      <td>1/1</td>\n      <td>912</td>\n      <td>Individual</td>\n      <td>Patrick Modiano</td>\n      <td>1945-07-30</td>\n      <td>Paris</td>\n      <td>France</td>\n      <td>Male</td>\n      <td>NaN</td>\n      <td>NaN</td>\n      <td>NaN</td>\n      <td>NaN</td>\n      <td>NaN</td>\n      <td>NaN</td>\n      <td>880</td>\n    </tr>\n    <tr>\n      <th>893</th>\n      <td>893</td>\n      <td>2015</td>\n      <td>Literature</td>\n      <td>The Nobel Prize in Literature 2015</td>\n      <td>\"for her polyphonic writings, a monument to su...</td>\n      <td>1/1</td>\n      <td>924</td>\n      <td>Individual</td>\n      <td>Svetlana Alexievich</td>\n      <td>1948-05-31</td>\n      <td>Ivano-Frankivsk</td>\n      <td>Ukraine</td>\n      <td>Female</td>\n      <td>NaN</td>\n      <td>NaN</td>\n      <td>NaN</td>\n      <td>NaN</td>\n      <td>NaN</td>\n      <td>NaN</td>\n      <td>893</td>\n    </tr>\n    <tr>\n      <th>905</th>\n      <td>905</td>\n      <td>2016</td>\n      <td>Literature</td>\n      <td>The Nobel Prize in Literature 2016</td>\n      <td>\"for having created new poetic expressions wit...</td>\n      <td>1/1</td>\n      <td>937</td>\n      <td>Individual</td>\n      <td>Bob Dylan</td>\n      <td>1941-05-24</td>\n      <td>Duluth, MN</td>\n      <td>United States of America</td>\n      <td>Male</td>\n      <td>NaN</td>\n      <td>NaN</td>\n      <td>NaN</td>\n      <td>NaN</td>\n      <td>NaN</td>\n      <td>NaN</td>\n      <td>905</td>\n    </tr>\n  </tbody>\n</table>\n</div>"
     },
     "execution_count": 26,
     "metadata": {},
     "output_type": "execute_result"
    }
   ],
   "source": [
    "min_year =2000\n",
    "category_filter = \"Literature\"\n",
    "df.query('year > ' + str(min_year) + ' &  category == \"' + str(category_filter) + '\"' )  #very complex to write and redundant"
   ],
   "metadata": {
    "collapsed": false,
    "pycharm": {
     "name": "#%%\n"
    }
   }
  },
  {
   "cell_type": "code",
   "execution_count": 27,
   "outputs": [
    {
     "data": {
      "text/plain": "     Unnamed: 0  year    category                               prize  \\\n725         725  2001  Literature  The Nobel Prize in Literature 2001   \n739         739  2002  Literature  The Nobel Prize in Literature 2002   \n751         751  2003  Literature  The Nobel Prize in Literature 2003   \n763         763  2004  Literature  The Nobel Prize in Literature 2004   \n775         775  2005  Literature  The Nobel Prize in Literature 2005   \n785         785  2006  Literature  The Nobel Prize in Literature 2006   \n796         796  2007  Literature  The Nobel Prize in Literature 2007   \n808         808  2008  Literature  The Nobel Prize in Literature 2008   \n821         821  2009  Literature  The Nobel Prize in Literature 2009   \n835         835  2010  Literature  The Nobel Prize in Literature 2010   \n843         843  2011  Literature  The Nobel Prize in Literature 2011   \n857         857  2012  Literature  The Nobel Prize in Literature 2012   \n869         869  2013  Literature  The Nobel Prize in Literature 2013   \n880         880  2014  Literature  The Nobel Prize in Literature 2014   \n893         893  2015  Literature  The Nobel Prize in Literature 2015   \n905         905  2016  Literature  The Nobel Prize in Literature 2016   \n\n                                            motivation prize_share  \\\n725  \"for having united perceptive narrative and in...         1/1   \n739  \"for writing that upholds the fragile experien...         1/1   \n751  \"who in innumerable guises portrays the surpri...         1/1   \n763  \"for her musical flow of voices and counter-vo...         1/1   \n775  \"who in his plays uncovers the precipice under...         1/1   \n785  \"who in the quest for the melancholic soul of ...         1/1   \n796  \"that epicist of the female experience, who wi...         1/1   \n808  \"author of new departures, poetic adventure an...         1/1   \n821  \"who, with the concentration of poetry and the...         1/1   \n835  \"for his cartography of structures of power an...         1/1   \n843  \"because, through his condensed, translucent i...         1/1   \n857  \"who with hallucinatory realism merges folk ta...         1/1   \n869           \"master of the contemporary short story\"         1/1   \n880  \"for the art of memory with which he has evoke...         1/1   \n893  \"for her polyphonic writings, a monument to su...         1/1   \n905  \"for having created new poetic expressions wit...         1/1   \n\n     laureate_id laureate_type                          full_name  birth_date  \\\n725          747    Individual  Sir Vidiadhar Surajprasad Naipaul  1932-08-17   \n739          761    Individual                       Imre Kertész  1929-11-09   \n751          763    Individual                    John M. Coetzee  1940-02-09   \n763          782    Individual                   Elfriede Jelinek  1946-10-20   \n775          801    Individual                      Harold Pinter  1930-10-10   \n785          808    Individual                        Orhan Pamuk  1952-06-07   \n796          817    Individual                      Doris Lessing  1919-10-22   \n808          832    Individual       Jean-Marie Gustave Le Clézio  1940-04-13   \n821          844    Individual                       Herta Müller  1953-08-17   \n835          854    Individual                 Mario Vargas Llosa  1936-03-28   \n843          868    Individual                  Tomas Tranströmer  1931-04-15   \n857          880    Individual                             Mo Yan  1955-02-02   \n869          892    Individual                        Alice Munro  1931-07-10   \n880          912    Individual                    Patrick Modiano  1945-07-30   \n893          924    Individual                Svetlana Alexievich  1948-05-31   \n905          937    Individual                          Bob Dylan  1941-05-24   \n\n            birth_city             birth_country     sex organization_name  \\\n725                NaN                  Trinidad    Male               NaN   \n739           Budapest                   Hungary    Male               NaN   \n751          Cape Town              South Africa    Male               NaN   \n763       Mürzzuschlag                   Austria  Female               NaN   \n775             London            United Kingdom    Male               NaN   \n785           Istanbul                    Turkey    Male               NaN   \n796         Kermanshah             Persia (Iran)  Female               NaN   \n808               Nice                    France    Male               NaN   \n821  Nitzkydorf, Banat                   Romania  Female               NaN   \n835           Arequipa                      Peru    Male               NaN   \n843          Stockholm                    Sweden    Male               NaN   \n857              Gaomi                     China    Male               NaN   \n869            Wingham                    Canada  Female               NaN   \n880              Paris                    France    Male               NaN   \n893    Ivano-Frankivsk                   Ukraine  Female               NaN   \n905         Duluth, MN  United States of America    Male               NaN   \n\n    organization_city organization_country  death_date death_city  \\\n725               NaN                  NaN         NaN        NaN   \n739               NaN                  NaN  2016-03-31   Budapest   \n751               NaN                  NaN         NaN        NaN   \n763               NaN                  NaN         NaN        NaN   \n775               NaN                  NaN  2008-12-24     London   \n785               NaN                  NaN         NaN        NaN   \n796               NaN                  NaN  2013-11-17     London   \n808               NaN                  NaN         NaN        NaN   \n821               NaN                  NaN         NaN        NaN   \n835               NaN                  NaN         NaN        NaN   \n843               NaN                  NaN  2015-03-26  Stockholm   \n857               NaN                  NaN         NaN        NaN   \n869               NaN                  NaN         NaN        NaN   \n880               NaN                  NaN         NaN        NaN   \n893               NaN                  NaN         NaN        NaN   \n905               NaN                  NaN         NaN        NaN   \n\n      death_country  First_Initial  \n725             NaN            725  \n739         Hungary            739  \n751             NaN            751  \n763             NaN            763  \n775  United Kingdom            775  \n785             NaN            785  \n796  United Kingdom            796  \n808             NaN            808  \n821             NaN            821  \n835             NaN            835  \n843          Sweden            843  \n857             NaN            857  \n869             NaN            869  \n880             NaN            880  \n893             NaN            893  \n905             NaN            905  ",
      "text/html": "<div>\n<style scoped>\n    .dataframe tbody tr th:only-of-type {\n        vertical-align: middle;\n    }\n\n    .dataframe tbody tr th {\n        vertical-align: top;\n    }\n\n    .dataframe thead th {\n        text-align: right;\n    }\n</style>\n<table border=\"1\" class=\"dataframe\">\n  <thead>\n    <tr style=\"text-align: right;\">\n      <th></th>\n      <th>Unnamed: 0</th>\n      <th>year</th>\n      <th>category</th>\n      <th>prize</th>\n      <th>motivation</th>\n      <th>prize_share</th>\n      <th>laureate_id</th>\n      <th>laureate_type</th>\n      <th>full_name</th>\n      <th>birth_date</th>\n      <th>birth_city</th>\n      <th>birth_country</th>\n      <th>sex</th>\n      <th>organization_name</th>\n      <th>organization_city</th>\n      <th>organization_country</th>\n      <th>death_date</th>\n      <th>death_city</th>\n      <th>death_country</th>\n      <th>First_Initial</th>\n    </tr>\n  </thead>\n  <tbody>\n    <tr>\n      <th>725</th>\n      <td>725</td>\n      <td>2001</td>\n      <td>Literature</td>\n      <td>The Nobel Prize in Literature 2001</td>\n      <td>\"for having united perceptive narrative and in...</td>\n      <td>1/1</td>\n      <td>747</td>\n      <td>Individual</td>\n      <td>Sir Vidiadhar Surajprasad Naipaul</td>\n      <td>1932-08-17</td>\n      <td>NaN</td>\n      <td>Trinidad</td>\n      <td>Male</td>\n      <td>NaN</td>\n      <td>NaN</td>\n      <td>NaN</td>\n      <td>NaN</td>\n      <td>NaN</td>\n      <td>NaN</td>\n      <td>725</td>\n    </tr>\n    <tr>\n      <th>739</th>\n      <td>739</td>\n      <td>2002</td>\n      <td>Literature</td>\n      <td>The Nobel Prize in Literature 2002</td>\n      <td>\"for writing that upholds the fragile experien...</td>\n      <td>1/1</td>\n      <td>761</td>\n      <td>Individual</td>\n      <td>Imre Kertész</td>\n      <td>1929-11-09</td>\n      <td>Budapest</td>\n      <td>Hungary</td>\n      <td>Male</td>\n      <td>NaN</td>\n      <td>NaN</td>\n      <td>NaN</td>\n      <td>2016-03-31</td>\n      <td>Budapest</td>\n      <td>Hungary</td>\n      <td>739</td>\n    </tr>\n    <tr>\n      <th>751</th>\n      <td>751</td>\n      <td>2003</td>\n      <td>Literature</td>\n      <td>The Nobel Prize in Literature 2003</td>\n      <td>\"who in innumerable guises portrays the surpri...</td>\n      <td>1/1</td>\n      <td>763</td>\n      <td>Individual</td>\n      <td>John M. Coetzee</td>\n      <td>1940-02-09</td>\n      <td>Cape Town</td>\n      <td>South Africa</td>\n      <td>Male</td>\n      <td>NaN</td>\n      <td>NaN</td>\n      <td>NaN</td>\n      <td>NaN</td>\n      <td>NaN</td>\n      <td>NaN</td>\n      <td>751</td>\n    </tr>\n    <tr>\n      <th>763</th>\n      <td>763</td>\n      <td>2004</td>\n      <td>Literature</td>\n      <td>The Nobel Prize in Literature 2004</td>\n      <td>\"for her musical flow of voices and counter-vo...</td>\n      <td>1/1</td>\n      <td>782</td>\n      <td>Individual</td>\n      <td>Elfriede Jelinek</td>\n      <td>1946-10-20</td>\n      <td>Mürzzuschlag</td>\n      <td>Austria</td>\n      <td>Female</td>\n      <td>NaN</td>\n      <td>NaN</td>\n      <td>NaN</td>\n      <td>NaN</td>\n      <td>NaN</td>\n      <td>NaN</td>\n      <td>763</td>\n    </tr>\n    <tr>\n      <th>775</th>\n      <td>775</td>\n      <td>2005</td>\n      <td>Literature</td>\n      <td>The Nobel Prize in Literature 2005</td>\n      <td>\"who in his plays uncovers the precipice under...</td>\n      <td>1/1</td>\n      <td>801</td>\n      <td>Individual</td>\n      <td>Harold Pinter</td>\n      <td>1930-10-10</td>\n      <td>London</td>\n      <td>United Kingdom</td>\n      <td>Male</td>\n      <td>NaN</td>\n      <td>NaN</td>\n      <td>NaN</td>\n      <td>2008-12-24</td>\n      <td>London</td>\n      <td>United Kingdom</td>\n      <td>775</td>\n    </tr>\n    <tr>\n      <th>785</th>\n      <td>785</td>\n      <td>2006</td>\n      <td>Literature</td>\n      <td>The Nobel Prize in Literature 2006</td>\n      <td>\"who in the quest for the melancholic soul of ...</td>\n      <td>1/1</td>\n      <td>808</td>\n      <td>Individual</td>\n      <td>Orhan Pamuk</td>\n      <td>1952-06-07</td>\n      <td>Istanbul</td>\n      <td>Turkey</td>\n      <td>Male</td>\n      <td>NaN</td>\n      <td>NaN</td>\n      <td>NaN</td>\n      <td>NaN</td>\n      <td>NaN</td>\n      <td>NaN</td>\n      <td>785</td>\n    </tr>\n    <tr>\n      <th>796</th>\n      <td>796</td>\n      <td>2007</td>\n      <td>Literature</td>\n      <td>The Nobel Prize in Literature 2007</td>\n      <td>\"that epicist of the female experience, who wi...</td>\n      <td>1/1</td>\n      <td>817</td>\n      <td>Individual</td>\n      <td>Doris Lessing</td>\n      <td>1919-10-22</td>\n      <td>Kermanshah</td>\n      <td>Persia (Iran)</td>\n      <td>Female</td>\n      <td>NaN</td>\n      <td>NaN</td>\n      <td>NaN</td>\n      <td>2013-11-17</td>\n      <td>London</td>\n      <td>United Kingdom</td>\n      <td>796</td>\n    </tr>\n    <tr>\n      <th>808</th>\n      <td>808</td>\n      <td>2008</td>\n      <td>Literature</td>\n      <td>The Nobel Prize in Literature 2008</td>\n      <td>\"author of new departures, poetic adventure an...</td>\n      <td>1/1</td>\n      <td>832</td>\n      <td>Individual</td>\n      <td>Jean-Marie Gustave Le Clézio</td>\n      <td>1940-04-13</td>\n      <td>Nice</td>\n      <td>France</td>\n      <td>Male</td>\n      <td>NaN</td>\n      <td>NaN</td>\n      <td>NaN</td>\n      <td>NaN</td>\n      <td>NaN</td>\n      <td>NaN</td>\n      <td>808</td>\n    </tr>\n    <tr>\n      <th>821</th>\n      <td>821</td>\n      <td>2009</td>\n      <td>Literature</td>\n      <td>The Nobel Prize in Literature 2009</td>\n      <td>\"who, with the concentration of poetry and the...</td>\n      <td>1/1</td>\n      <td>844</td>\n      <td>Individual</td>\n      <td>Herta Müller</td>\n      <td>1953-08-17</td>\n      <td>Nitzkydorf, Banat</td>\n      <td>Romania</td>\n      <td>Female</td>\n      <td>NaN</td>\n      <td>NaN</td>\n      <td>NaN</td>\n      <td>NaN</td>\n      <td>NaN</td>\n      <td>NaN</td>\n      <td>821</td>\n    </tr>\n    <tr>\n      <th>835</th>\n      <td>835</td>\n      <td>2010</td>\n      <td>Literature</td>\n      <td>The Nobel Prize in Literature 2010</td>\n      <td>\"for his cartography of structures of power an...</td>\n      <td>1/1</td>\n      <td>854</td>\n      <td>Individual</td>\n      <td>Mario Vargas Llosa</td>\n      <td>1936-03-28</td>\n      <td>Arequipa</td>\n      <td>Peru</td>\n      <td>Male</td>\n      <td>NaN</td>\n      <td>NaN</td>\n      <td>NaN</td>\n      <td>NaN</td>\n      <td>NaN</td>\n      <td>NaN</td>\n      <td>835</td>\n    </tr>\n    <tr>\n      <th>843</th>\n      <td>843</td>\n      <td>2011</td>\n      <td>Literature</td>\n      <td>The Nobel Prize in Literature 2011</td>\n      <td>\"because, through his condensed, translucent i...</td>\n      <td>1/1</td>\n      <td>868</td>\n      <td>Individual</td>\n      <td>Tomas Tranströmer</td>\n      <td>1931-04-15</td>\n      <td>Stockholm</td>\n      <td>Sweden</td>\n      <td>Male</td>\n      <td>NaN</td>\n      <td>NaN</td>\n      <td>NaN</td>\n      <td>2015-03-26</td>\n      <td>Stockholm</td>\n      <td>Sweden</td>\n      <td>843</td>\n    </tr>\n    <tr>\n      <th>857</th>\n      <td>857</td>\n      <td>2012</td>\n      <td>Literature</td>\n      <td>The Nobel Prize in Literature 2012</td>\n      <td>\"who with hallucinatory realism merges folk ta...</td>\n      <td>1/1</td>\n      <td>880</td>\n      <td>Individual</td>\n      <td>Mo Yan</td>\n      <td>1955-02-02</td>\n      <td>Gaomi</td>\n      <td>China</td>\n      <td>Male</td>\n      <td>NaN</td>\n      <td>NaN</td>\n      <td>NaN</td>\n      <td>NaN</td>\n      <td>NaN</td>\n      <td>NaN</td>\n      <td>857</td>\n    </tr>\n    <tr>\n      <th>869</th>\n      <td>869</td>\n      <td>2013</td>\n      <td>Literature</td>\n      <td>The Nobel Prize in Literature 2013</td>\n      <td>\"master of the contemporary short story\"</td>\n      <td>1/1</td>\n      <td>892</td>\n      <td>Individual</td>\n      <td>Alice Munro</td>\n      <td>1931-07-10</td>\n      <td>Wingham</td>\n      <td>Canada</td>\n      <td>Female</td>\n      <td>NaN</td>\n      <td>NaN</td>\n      <td>NaN</td>\n      <td>NaN</td>\n      <td>NaN</td>\n      <td>NaN</td>\n      <td>869</td>\n    </tr>\n    <tr>\n      <th>880</th>\n      <td>880</td>\n      <td>2014</td>\n      <td>Literature</td>\n      <td>The Nobel Prize in Literature 2014</td>\n      <td>\"for the art of memory with which he has evoke...</td>\n      <td>1/1</td>\n      <td>912</td>\n      <td>Individual</td>\n      <td>Patrick Modiano</td>\n      <td>1945-07-30</td>\n      <td>Paris</td>\n      <td>France</td>\n      <td>Male</td>\n      <td>NaN</td>\n      <td>NaN</td>\n      <td>NaN</td>\n      <td>NaN</td>\n      <td>NaN</td>\n      <td>NaN</td>\n      <td>880</td>\n    </tr>\n    <tr>\n      <th>893</th>\n      <td>893</td>\n      <td>2015</td>\n      <td>Literature</td>\n      <td>The Nobel Prize in Literature 2015</td>\n      <td>\"for her polyphonic writings, a monument to su...</td>\n      <td>1/1</td>\n      <td>924</td>\n      <td>Individual</td>\n      <td>Svetlana Alexievich</td>\n      <td>1948-05-31</td>\n      <td>Ivano-Frankivsk</td>\n      <td>Ukraine</td>\n      <td>Female</td>\n      <td>NaN</td>\n      <td>NaN</td>\n      <td>NaN</td>\n      <td>NaN</td>\n      <td>NaN</td>\n      <td>NaN</td>\n      <td>893</td>\n    </tr>\n    <tr>\n      <th>905</th>\n      <td>905</td>\n      <td>2016</td>\n      <td>Literature</td>\n      <td>The Nobel Prize in Literature 2016</td>\n      <td>\"for having created new poetic expressions wit...</td>\n      <td>1/1</td>\n      <td>937</td>\n      <td>Individual</td>\n      <td>Bob Dylan</td>\n      <td>1941-05-24</td>\n      <td>Duluth, MN</td>\n      <td>United States of America</td>\n      <td>Male</td>\n      <td>NaN</td>\n      <td>NaN</td>\n      <td>NaN</td>\n      <td>NaN</td>\n      <td>NaN</td>\n      <td>NaN</td>\n      <td>905</td>\n    </tr>\n  </tbody>\n</table>\n</div>"
     },
     "execution_count": 27,
     "metadata": {},
     "output_type": "execute_result"
    }
   ],
   "source": [
    "df.query( f'year > {min_year}  &  category == \"{category_filter}\" ' )  #redundant"
   ],
   "metadata": {
    "collapsed": false,
    "pycharm": {
     "name": "#%%\n"
    }
   }
  },
  {
   "cell_type": "markdown",
   "source": [
    "But this is unnecessary because query in pandas can ecces extra variable by simply adding the  **@ keyword**\n",
    "**NOTE : here the \" \" are not necessary for the string variable!!** ... carino!\n"
   ],
   "metadata": {
    "collapsed": false,
    "pycharm": {
     "name": "#%% md\n"
    }
   }
  },
  {
   "cell_type": "code",
   "execution_count": 28,
   "outputs": [
    {
     "data": {
      "text/plain": "     Unnamed: 0  year    category                               prize  \\\n725         725  2001  Literature  The Nobel Prize in Literature 2001   \n739         739  2002  Literature  The Nobel Prize in Literature 2002   \n751         751  2003  Literature  The Nobel Prize in Literature 2003   \n763         763  2004  Literature  The Nobel Prize in Literature 2004   \n775         775  2005  Literature  The Nobel Prize in Literature 2005   \n785         785  2006  Literature  The Nobel Prize in Literature 2006   \n796         796  2007  Literature  The Nobel Prize in Literature 2007   \n808         808  2008  Literature  The Nobel Prize in Literature 2008   \n821         821  2009  Literature  The Nobel Prize in Literature 2009   \n835         835  2010  Literature  The Nobel Prize in Literature 2010   \n843         843  2011  Literature  The Nobel Prize in Literature 2011   \n857         857  2012  Literature  The Nobel Prize in Literature 2012   \n869         869  2013  Literature  The Nobel Prize in Literature 2013   \n880         880  2014  Literature  The Nobel Prize in Literature 2014   \n893         893  2015  Literature  The Nobel Prize in Literature 2015   \n905         905  2016  Literature  The Nobel Prize in Literature 2016   \n\n                                            motivation prize_share  \\\n725  \"for having united perceptive narrative and in...         1/1   \n739  \"for writing that upholds the fragile experien...         1/1   \n751  \"who in innumerable guises portrays the surpri...         1/1   \n763  \"for her musical flow of voices and counter-vo...         1/1   \n775  \"who in his plays uncovers the precipice under...         1/1   \n785  \"who in the quest for the melancholic soul of ...         1/1   \n796  \"that epicist of the female experience, who wi...         1/1   \n808  \"author of new departures, poetic adventure an...         1/1   \n821  \"who, with the concentration of poetry and the...         1/1   \n835  \"for his cartography of structures of power an...         1/1   \n843  \"because, through his condensed, translucent i...         1/1   \n857  \"who with hallucinatory realism merges folk ta...         1/1   \n869           \"master of the contemporary short story\"         1/1   \n880  \"for the art of memory with which he has evoke...         1/1   \n893  \"for her polyphonic writings, a monument to su...         1/1   \n905  \"for having created new poetic expressions wit...         1/1   \n\n     laureate_id laureate_type                          full_name  birth_date  \\\n725          747    Individual  Sir Vidiadhar Surajprasad Naipaul  1932-08-17   \n739          761    Individual                       Imre Kertész  1929-11-09   \n751          763    Individual                    John M. Coetzee  1940-02-09   \n763          782    Individual                   Elfriede Jelinek  1946-10-20   \n775          801    Individual                      Harold Pinter  1930-10-10   \n785          808    Individual                        Orhan Pamuk  1952-06-07   \n796          817    Individual                      Doris Lessing  1919-10-22   \n808          832    Individual       Jean-Marie Gustave Le Clézio  1940-04-13   \n821          844    Individual                       Herta Müller  1953-08-17   \n835          854    Individual                 Mario Vargas Llosa  1936-03-28   \n843          868    Individual                  Tomas Tranströmer  1931-04-15   \n857          880    Individual                             Mo Yan  1955-02-02   \n869          892    Individual                        Alice Munro  1931-07-10   \n880          912    Individual                    Patrick Modiano  1945-07-30   \n893          924    Individual                Svetlana Alexievich  1948-05-31   \n905          937    Individual                          Bob Dylan  1941-05-24   \n\n            birth_city             birth_country     sex organization_name  \\\n725                NaN                  Trinidad    Male               NaN   \n739           Budapest                   Hungary    Male               NaN   \n751          Cape Town              South Africa    Male               NaN   \n763       Mürzzuschlag                   Austria  Female               NaN   \n775             London            United Kingdom    Male               NaN   \n785           Istanbul                    Turkey    Male               NaN   \n796         Kermanshah             Persia (Iran)  Female               NaN   \n808               Nice                    France    Male               NaN   \n821  Nitzkydorf, Banat                   Romania  Female               NaN   \n835           Arequipa                      Peru    Male               NaN   \n843          Stockholm                    Sweden    Male               NaN   \n857              Gaomi                     China    Male               NaN   \n869            Wingham                    Canada  Female               NaN   \n880              Paris                    France    Male               NaN   \n893    Ivano-Frankivsk                   Ukraine  Female               NaN   \n905         Duluth, MN  United States of America    Male               NaN   \n\n    organization_city organization_country  death_date death_city  \\\n725               NaN                  NaN         NaN        NaN   \n739               NaN                  NaN  2016-03-31   Budapest   \n751               NaN                  NaN         NaN        NaN   \n763               NaN                  NaN         NaN        NaN   \n775               NaN                  NaN  2008-12-24     London   \n785               NaN                  NaN         NaN        NaN   \n796               NaN                  NaN  2013-11-17     London   \n808               NaN                  NaN         NaN        NaN   \n821               NaN                  NaN         NaN        NaN   \n835               NaN                  NaN         NaN        NaN   \n843               NaN                  NaN  2015-03-26  Stockholm   \n857               NaN                  NaN         NaN        NaN   \n869               NaN                  NaN         NaN        NaN   \n880               NaN                  NaN         NaN        NaN   \n893               NaN                  NaN         NaN        NaN   \n905               NaN                  NaN         NaN        NaN   \n\n      death_country  First_Initial  \n725             NaN            725  \n739         Hungary            739  \n751             NaN            751  \n763             NaN            763  \n775  United Kingdom            775  \n785             NaN            785  \n796  United Kingdom            796  \n808             NaN            808  \n821             NaN            821  \n835             NaN            835  \n843          Sweden            843  \n857             NaN            857  \n869             NaN            869  \n880             NaN            880  \n893             NaN            893  \n905             NaN            905  ",
      "text/html": "<div>\n<style scoped>\n    .dataframe tbody tr th:only-of-type {\n        vertical-align: middle;\n    }\n\n    .dataframe tbody tr th {\n        vertical-align: top;\n    }\n\n    .dataframe thead th {\n        text-align: right;\n    }\n</style>\n<table border=\"1\" class=\"dataframe\">\n  <thead>\n    <tr style=\"text-align: right;\">\n      <th></th>\n      <th>Unnamed: 0</th>\n      <th>year</th>\n      <th>category</th>\n      <th>prize</th>\n      <th>motivation</th>\n      <th>prize_share</th>\n      <th>laureate_id</th>\n      <th>laureate_type</th>\n      <th>full_name</th>\n      <th>birth_date</th>\n      <th>birth_city</th>\n      <th>birth_country</th>\n      <th>sex</th>\n      <th>organization_name</th>\n      <th>organization_city</th>\n      <th>organization_country</th>\n      <th>death_date</th>\n      <th>death_city</th>\n      <th>death_country</th>\n      <th>First_Initial</th>\n    </tr>\n  </thead>\n  <tbody>\n    <tr>\n      <th>725</th>\n      <td>725</td>\n      <td>2001</td>\n      <td>Literature</td>\n      <td>The Nobel Prize in Literature 2001</td>\n      <td>\"for having united perceptive narrative and in...</td>\n      <td>1/1</td>\n      <td>747</td>\n      <td>Individual</td>\n      <td>Sir Vidiadhar Surajprasad Naipaul</td>\n      <td>1932-08-17</td>\n      <td>NaN</td>\n      <td>Trinidad</td>\n      <td>Male</td>\n      <td>NaN</td>\n      <td>NaN</td>\n      <td>NaN</td>\n      <td>NaN</td>\n      <td>NaN</td>\n      <td>NaN</td>\n      <td>725</td>\n    </tr>\n    <tr>\n      <th>739</th>\n      <td>739</td>\n      <td>2002</td>\n      <td>Literature</td>\n      <td>The Nobel Prize in Literature 2002</td>\n      <td>\"for writing that upholds the fragile experien...</td>\n      <td>1/1</td>\n      <td>761</td>\n      <td>Individual</td>\n      <td>Imre Kertész</td>\n      <td>1929-11-09</td>\n      <td>Budapest</td>\n      <td>Hungary</td>\n      <td>Male</td>\n      <td>NaN</td>\n      <td>NaN</td>\n      <td>NaN</td>\n      <td>2016-03-31</td>\n      <td>Budapest</td>\n      <td>Hungary</td>\n      <td>739</td>\n    </tr>\n    <tr>\n      <th>751</th>\n      <td>751</td>\n      <td>2003</td>\n      <td>Literature</td>\n      <td>The Nobel Prize in Literature 2003</td>\n      <td>\"who in innumerable guises portrays the surpri...</td>\n      <td>1/1</td>\n      <td>763</td>\n      <td>Individual</td>\n      <td>John M. Coetzee</td>\n      <td>1940-02-09</td>\n      <td>Cape Town</td>\n      <td>South Africa</td>\n      <td>Male</td>\n      <td>NaN</td>\n      <td>NaN</td>\n      <td>NaN</td>\n      <td>NaN</td>\n      <td>NaN</td>\n      <td>NaN</td>\n      <td>751</td>\n    </tr>\n    <tr>\n      <th>763</th>\n      <td>763</td>\n      <td>2004</td>\n      <td>Literature</td>\n      <td>The Nobel Prize in Literature 2004</td>\n      <td>\"for her musical flow of voices and counter-vo...</td>\n      <td>1/1</td>\n      <td>782</td>\n      <td>Individual</td>\n      <td>Elfriede Jelinek</td>\n      <td>1946-10-20</td>\n      <td>Mürzzuschlag</td>\n      <td>Austria</td>\n      <td>Female</td>\n      <td>NaN</td>\n      <td>NaN</td>\n      <td>NaN</td>\n      <td>NaN</td>\n      <td>NaN</td>\n      <td>NaN</td>\n      <td>763</td>\n    </tr>\n    <tr>\n      <th>775</th>\n      <td>775</td>\n      <td>2005</td>\n      <td>Literature</td>\n      <td>The Nobel Prize in Literature 2005</td>\n      <td>\"who in his plays uncovers the precipice under...</td>\n      <td>1/1</td>\n      <td>801</td>\n      <td>Individual</td>\n      <td>Harold Pinter</td>\n      <td>1930-10-10</td>\n      <td>London</td>\n      <td>United Kingdom</td>\n      <td>Male</td>\n      <td>NaN</td>\n      <td>NaN</td>\n      <td>NaN</td>\n      <td>2008-12-24</td>\n      <td>London</td>\n      <td>United Kingdom</td>\n      <td>775</td>\n    </tr>\n    <tr>\n      <th>785</th>\n      <td>785</td>\n      <td>2006</td>\n      <td>Literature</td>\n      <td>The Nobel Prize in Literature 2006</td>\n      <td>\"who in the quest for the melancholic soul of ...</td>\n      <td>1/1</td>\n      <td>808</td>\n      <td>Individual</td>\n      <td>Orhan Pamuk</td>\n      <td>1952-06-07</td>\n      <td>Istanbul</td>\n      <td>Turkey</td>\n      <td>Male</td>\n      <td>NaN</td>\n      <td>NaN</td>\n      <td>NaN</td>\n      <td>NaN</td>\n      <td>NaN</td>\n      <td>NaN</td>\n      <td>785</td>\n    </tr>\n    <tr>\n      <th>796</th>\n      <td>796</td>\n      <td>2007</td>\n      <td>Literature</td>\n      <td>The Nobel Prize in Literature 2007</td>\n      <td>\"that epicist of the female experience, who wi...</td>\n      <td>1/1</td>\n      <td>817</td>\n      <td>Individual</td>\n      <td>Doris Lessing</td>\n      <td>1919-10-22</td>\n      <td>Kermanshah</td>\n      <td>Persia (Iran)</td>\n      <td>Female</td>\n      <td>NaN</td>\n      <td>NaN</td>\n      <td>NaN</td>\n      <td>2013-11-17</td>\n      <td>London</td>\n      <td>United Kingdom</td>\n      <td>796</td>\n    </tr>\n    <tr>\n      <th>808</th>\n      <td>808</td>\n      <td>2008</td>\n      <td>Literature</td>\n      <td>The Nobel Prize in Literature 2008</td>\n      <td>\"author of new departures, poetic adventure an...</td>\n      <td>1/1</td>\n      <td>832</td>\n      <td>Individual</td>\n      <td>Jean-Marie Gustave Le Clézio</td>\n      <td>1940-04-13</td>\n      <td>Nice</td>\n      <td>France</td>\n      <td>Male</td>\n      <td>NaN</td>\n      <td>NaN</td>\n      <td>NaN</td>\n      <td>NaN</td>\n      <td>NaN</td>\n      <td>NaN</td>\n      <td>808</td>\n    </tr>\n    <tr>\n      <th>821</th>\n      <td>821</td>\n      <td>2009</td>\n      <td>Literature</td>\n      <td>The Nobel Prize in Literature 2009</td>\n      <td>\"who, with the concentration of poetry and the...</td>\n      <td>1/1</td>\n      <td>844</td>\n      <td>Individual</td>\n      <td>Herta Müller</td>\n      <td>1953-08-17</td>\n      <td>Nitzkydorf, Banat</td>\n      <td>Romania</td>\n      <td>Female</td>\n      <td>NaN</td>\n      <td>NaN</td>\n      <td>NaN</td>\n      <td>NaN</td>\n      <td>NaN</td>\n      <td>NaN</td>\n      <td>821</td>\n    </tr>\n    <tr>\n      <th>835</th>\n      <td>835</td>\n      <td>2010</td>\n      <td>Literature</td>\n      <td>The Nobel Prize in Literature 2010</td>\n      <td>\"for his cartography of structures of power an...</td>\n      <td>1/1</td>\n      <td>854</td>\n      <td>Individual</td>\n      <td>Mario Vargas Llosa</td>\n      <td>1936-03-28</td>\n      <td>Arequipa</td>\n      <td>Peru</td>\n      <td>Male</td>\n      <td>NaN</td>\n      <td>NaN</td>\n      <td>NaN</td>\n      <td>NaN</td>\n      <td>NaN</td>\n      <td>NaN</td>\n      <td>835</td>\n    </tr>\n    <tr>\n      <th>843</th>\n      <td>843</td>\n      <td>2011</td>\n      <td>Literature</td>\n      <td>The Nobel Prize in Literature 2011</td>\n      <td>\"because, through his condensed, translucent i...</td>\n      <td>1/1</td>\n      <td>868</td>\n      <td>Individual</td>\n      <td>Tomas Tranströmer</td>\n      <td>1931-04-15</td>\n      <td>Stockholm</td>\n      <td>Sweden</td>\n      <td>Male</td>\n      <td>NaN</td>\n      <td>NaN</td>\n      <td>NaN</td>\n      <td>2015-03-26</td>\n      <td>Stockholm</td>\n      <td>Sweden</td>\n      <td>843</td>\n    </tr>\n    <tr>\n      <th>857</th>\n      <td>857</td>\n      <td>2012</td>\n      <td>Literature</td>\n      <td>The Nobel Prize in Literature 2012</td>\n      <td>\"who with hallucinatory realism merges folk ta...</td>\n      <td>1/1</td>\n      <td>880</td>\n      <td>Individual</td>\n      <td>Mo Yan</td>\n      <td>1955-02-02</td>\n      <td>Gaomi</td>\n      <td>China</td>\n      <td>Male</td>\n      <td>NaN</td>\n      <td>NaN</td>\n      <td>NaN</td>\n      <td>NaN</td>\n      <td>NaN</td>\n      <td>NaN</td>\n      <td>857</td>\n    </tr>\n    <tr>\n      <th>869</th>\n      <td>869</td>\n      <td>2013</td>\n      <td>Literature</td>\n      <td>The Nobel Prize in Literature 2013</td>\n      <td>\"master of the contemporary short story\"</td>\n      <td>1/1</td>\n      <td>892</td>\n      <td>Individual</td>\n      <td>Alice Munro</td>\n      <td>1931-07-10</td>\n      <td>Wingham</td>\n      <td>Canada</td>\n      <td>Female</td>\n      <td>NaN</td>\n      <td>NaN</td>\n      <td>NaN</td>\n      <td>NaN</td>\n      <td>NaN</td>\n      <td>NaN</td>\n      <td>869</td>\n    </tr>\n    <tr>\n      <th>880</th>\n      <td>880</td>\n      <td>2014</td>\n      <td>Literature</td>\n      <td>The Nobel Prize in Literature 2014</td>\n      <td>\"for the art of memory with which he has evoke...</td>\n      <td>1/1</td>\n      <td>912</td>\n      <td>Individual</td>\n      <td>Patrick Modiano</td>\n      <td>1945-07-30</td>\n      <td>Paris</td>\n      <td>France</td>\n      <td>Male</td>\n      <td>NaN</td>\n      <td>NaN</td>\n      <td>NaN</td>\n      <td>NaN</td>\n      <td>NaN</td>\n      <td>NaN</td>\n      <td>880</td>\n    </tr>\n    <tr>\n      <th>893</th>\n      <td>893</td>\n      <td>2015</td>\n      <td>Literature</td>\n      <td>The Nobel Prize in Literature 2015</td>\n      <td>\"for her polyphonic writings, a monument to su...</td>\n      <td>1/1</td>\n      <td>924</td>\n      <td>Individual</td>\n      <td>Svetlana Alexievich</td>\n      <td>1948-05-31</td>\n      <td>Ivano-Frankivsk</td>\n      <td>Ukraine</td>\n      <td>Female</td>\n      <td>NaN</td>\n      <td>NaN</td>\n      <td>NaN</td>\n      <td>NaN</td>\n      <td>NaN</td>\n      <td>NaN</td>\n      <td>893</td>\n    </tr>\n    <tr>\n      <th>905</th>\n      <td>905</td>\n      <td>2016</td>\n      <td>Literature</td>\n      <td>The Nobel Prize in Literature 2016</td>\n      <td>\"for having created new poetic expressions wit...</td>\n      <td>1/1</td>\n      <td>937</td>\n      <td>Individual</td>\n      <td>Bob Dylan</td>\n      <td>1941-05-24</td>\n      <td>Duluth, MN</td>\n      <td>United States of America</td>\n      <td>Male</td>\n      <td>NaN</td>\n      <td>NaN</td>\n      <td>NaN</td>\n      <td>NaN</td>\n      <td>NaN</td>\n      <td>NaN</td>\n      <td>905</td>\n    </tr>\n  </tbody>\n</table>\n</div>"
     },
     "execution_count": 28,
     "metadata": {},
     "output_type": "execute_result"
    }
   ],
   "source": [
    "df.query('( year > @min_year) & (category == @category_filter) ')   # NOTE : here without the \" \" for the string variable!!"
   ],
   "metadata": {
    "collapsed": false,
    "pycharm": {
     "name": "#%%\n"
    }
   }
  },
  {
   "cell_type": "markdown",
   "source": [
    "### 5. Using override when possible instead of inplace = True\n",
    "There are few methods that have the inplace=True options\n",
    "Setting this option to True will override the dataframe itself. However, using the inplace method\n",
    "can be sometime dangerous and even core developers plan to deprecate it.\n",
    "Is **better explicit override** (means use = sign)  with modification."
   ],
   "metadata": {
    "collapsed": false,
    "pycharm": {
     "name": "#%% md\n"
    }
   }
  },
  {
   "cell_type": "code",
   "execution_count": 30,
   "outputs": [
    {
     "data": {
      "text/plain": "   Unnamed: 0  year    category  \\\n0           0  1901   Chemistry   \n1           1  1901  Literature   \n2           2  1901    Medicine   \n\n                                            prize  \\\n0               The Nobel Prize in Chemistry 1901   \n1              The Nobel Prize in Literature 1901   \n2  The Nobel Prize in Physiology or Medicine 1901   \n\n                                          motivation prize_share  laureate_id  \\\n0  \"in recognition of the extraordinary services ...         1/1          160   \n1  \"in special recognition of his poetic composit...         1/1          569   \n2  \"for his work on serum therapy, especially its...         1/1          293   \n\n  laureate_type                     full_name  birth_date         birth_city  \\\n0    Individual  Jacobus Henricus van 't Hoff  1852-08-30          Rotterdam   \n1    Individual               Sully Prudhomme  1839-03-16              Paris   \n2    Individual        Emil Adolf von Behring  1854-03-15  Hansdorf (Lawice)   \n\n      birth_country   sex   organization_name organization_city  \\\n0       Netherlands  Male   Berlin University            Berlin   \n1            France  Male                 NaN               NaN   \n2  Prussia (Poland)  Male  Marburg University           Marburg   \n\n  organization_country  death_date death_city death_country  Initial  \n0              Germany  1911-03-01     Berlin       Germany        0  \n1                  NaN  1907-09-07   Châtenay        France        1  \n2              Germany  1917-03-31    Marburg       Germany        2  ",
      "text/html": "<div>\n<style scoped>\n    .dataframe tbody tr th:only-of-type {\n        vertical-align: middle;\n    }\n\n    .dataframe tbody tr th {\n        vertical-align: top;\n    }\n\n    .dataframe thead th {\n        text-align: right;\n    }\n</style>\n<table border=\"1\" class=\"dataframe\">\n  <thead>\n    <tr style=\"text-align: right;\">\n      <th></th>\n      <th>Unnamed: 0</th>\n      <th>year</th>\n      <th>category</th>\n      <th>prize</th>\n      <th>motivation</th>\n      <th>prize_share</th>\n      <th>laureate_id</th>\n      <th>laureate_type</th>\n      <th>full_name</th>\n      <th>birth_date</th>\n      <th>birth_city</th>\n      <th>birth_country</th>\n      <th>sex</th>\n      <th>organization_name</th>\n      <th>organization_city</th>\n      <th>organization_country</th>\n      <th>death_date</th>\n      <th>death_city</th>\n      <th>death_country</th>\n      <th>Initial</th>\n    </tr>\n  </thead>\n  <tbody>\n    <tr>\n      <th>0</th>\n      <td>0</td>\n      <td>1901</td>\n      <td>Chemistry</td>\n      <td>The Nobel Prize in Chemistry 1901</td>\n      <td>\"in recognition of the extraordinary services ...</td>\n      <td>1/1</td>\n      <td>160</td>\n      <td>Individual</td>\n      <td>Jacobus Henricus van 't Hoff</td>\n      <td>1852-08-30</td>\n      <td>Rotterdam</td>\n      <td>Netherlands</td>\n      <td>Male</td>\n      <td>Berlin University</td>\n      <td>Berlin</td>\n      <td>Germany</td>\n      <td>1911-03-01</td>\n      <td>Berlin</td>\n      <td>Germany</td>\n      <td>0</td>\n    </tr>\n    <tr>\n      <th>1</th>\n      <td>1</td>\n      <td>1901</td>\n      <td>Literature</td>\n      <td>The Nobel Prize in Literature 1901</td>\n      <td>\"in special recognition of his poetic composit...</td>\n      <td>1/1</td>\n      <td>569</td>\n      <td>Individual</td>\n      <td>Sully Prudhomme</td>\n      <td>1839-03-16</td>\n      <td>Paris</td>\n      <td>France</td>\n      <td>Male</td>\n      <td>NaN</td>\n      <td>NaN</td>\n      <td>NaN</td>\n      <td>1907-09-07</td>\n      <td>Châtenay</td>\n      <td>France</td>\n      <td>1</td>\n    </tr>\n    <tr>\n      <th>2</th>\n      <td>2</td>\n      <td>1901</td>\n      <td>Medicine</td>\n      <td>The Nobel Prize in Physiology or Medicine 1901</td>\n      <td>\"for his work on serum therapy, especially its...</td>\n      <td>1/1</td>\n      <td>293</td>\n      <td>Individual</td>\n      <td>Emil Adolf von Behring</td>\n      <td>1854-03-15</td>\n      <td>Hansdorf (Lawice)</td>\n      <td>Prussia (Poland)</td>\n      <td>Male</td>\n      <td>Marburg University</td>\n      <td>Marburg</td>\n      <td>Germany</td>\n      <td>1917-03-31</td>\n      <td>Marburg</td>\n      <td>Germany</td>\n      <td>2</td>\n    </tr>\n  </tbody>\n</table>\n</div>"
     },
     "execution_count": 30,
     "metadata": {},
     "output_type": "execute_result"
    }
   ],
   "source": [
    "df.rename(columns= {\"First_Initial\" : \"Initial\" }, inplace=True)\n",
    "df.head(3)"
   ],
   "metadata": {
    "collapsed": false,
    "pycharm": {
     "name": "#%%\n"
    }
   }
  },
  {
   "cell_type": "code",
   "execution_count": 31,
   "outputs": [
    {
     "data": {
      "text/plain": "   Unnamed: 0  year    category  \\\n0           0  1901   Chemistry   \n1           1  1901  Literature   \n2           2  1901    Medicine   \n\n                                            prize  \\\n0               The Nobel Prize in Chemistry 1901   \n1              The Nobel Prize in Literature 1901   \n2  The Nobel Prize in Physiology or Medicine 1901   \n\n                                          motivation prize_share  laureate_id  \\\n0  \"in recognition of the extraordinary services ...         1/1          160   \n1  \"in special recognition of his poetic composit...         1/1          569   \n2  \"for his work on serum therapy, especially its...         1/1          293   \n\n  laureate_type                     full_name  birth_date         birth_city  \\\n0    Individual  Jacobus Henricus van 't Hoff  1852-08-30          Rotterdam   \n1    Individual               Sully Prudhomme  1839-03-16              Paris   \n2    Individual        Emil Adolf von Behring  1854-03-15  Hansdorf (Lawice)   \n\n      birth_country   sex   organization_name organization_city  \\\n0       Netherlands  Male   Berlin University            Berlin   \n1            France  Male                 NaN               NaN   \n2  Prussia (Poland)  Male  Marburg University           Marburg   \n\n  organization_country  death_date death_city death_country  First  \n0              Germany  1911-03-01     Berlin       Germany      0  \n1                  NaN  1907-09-07   Châtenay        France      1  \n2              Germany  1917-03-31    Marburg       Germany      2  ",
      "text/html": "<div>\n<style scoped>\n    .dataframe tbody tr th:only-of-type {\n        vertical-align: middle;\n    }\n\n    .dataframe tbody tr th {\n        vertical-align: top;\n    }\n\n    .dataframe thead th {\n        text-align: right;\n    }\n</style>\n<table border=\"1\" class=\"dataframe\">\n  <thead>\n    <tr style=\"text-align: right;\">\n      <th></th>\n      <th>Unnamed: 0</th>\n      <th>year</th>\n      <th>category</th>\n      <th>prize</th>\n      <th>motivation</th>\n      <th>prize_share</th>\n      <th>laureate_id</th>\n      <th>laureate_type</th>\n      <th>full_name</th>\n      <th>birth_date</th>\n      <th>birth_city</th>\n      <th>birth_country</th>\n      <th>sex</th>\n      <th>organization_name</th>\n      <th>organization_city</th>\n      <th>organization_country</th>\n      <th>death_date</th>\n      <th>death_city</th>\n      <th>death_country</th>\n      <th>First</th>\n    </tr>\n  </thead>\n  <tbody>\n    <tr>\n      <th>0</th>\n      <td>0</td>\n      <td>1901</td>\n      <td>Chemistry</td>\n      <td>The Nobel Prize in Chemistry 1901</td>\n      <td>\"in recognition of the extraordinary services ...</td>\n      <td>1/1</td>\n      <td>160</td>\n      <td>Individual</td>\n      <td>Jacobus Henricus van 't Hoff</td>\n      <td>1852-08-30</td>\n      <td>Rotterdam</td>\n      <td>Netherlands</td>\n      <td>Male</td>\n      <td>Berlin University</td>\n      <td>Berlin</td>\n      <td>Germany</td>\n      <td>1911-03-01</td>\n      <td>Berlin</td>\n      <td>Germany</td>\n      <td>0</td>\n    </tr>\n    <tr>\n      <th>1</th>\n      <td>1</td>\n      <td>1901</td>\n      <td>Literature</td>\n      <td>The Nobel Prize in Literature 1901</td>\n      <td>\"in special recognition of his poetic composit...</td>\n      <td>1/1</td>\n      <td>569</td>\n      <td>Individual</td>\n      <td>Sully Prudhomme</td>\n      <td>1839-03-16</td>\n      <td>Paris</td>\n      <td>France</td>\n      <td>Male</td>\n      <td>NaN</td>\n      <td>NaN</td>\n      <td>NaN</td>\n      <td>1907-09-07</td>\n      <td>Châtenay</td>\n      <td>France</td>\n      <td>1</td>\n    </tr>\n    <tr>\n      <th>2</th>\n      <td>2</td>\n      <td>1901</td>\n      <td>Medicine</td>\n      <td>The Nobel Prize in Physiology or Medicine 1901</td>\n      <td>\"for his work on serum therapy, especially its...</td>\n      <td>1/1</td>\n      <td>293</td>\n      <td>Individual</td>\n      <td>Emil Adolf von Behring</td>\n      <td>1854-03-15</td>\n      <td>Hansdorf (Lawice)</td>\n      <td>Prussia (Poland)</td>\n      <td>Male</td>\n      <td>Marburg University</td>\n      <td>Marburg</td>\n      <td>Germany</td>\n      <td>1917-03-31</td>\n      <td>Marburg</td>\n      <td>Germany</td>\n      <td>2</td>\n    </tr>\n  </tbody>\n</table>\n</div>"
     },
     "execution_count": 31,
     "metadata": {},
     "output_type": "execute_result"
    }
   ],
   "source": [
    "df2= df.rename(columns={\"Initial\":\"First\"})\n",
    "df2.head(3)"
   ],
   "metadata": {
    "collapsed": false,
    "pycharm": {
     "name": "#%%\n"
    }
   }
  },
  {
   "cell_type": "code",
   "execution_count": 32,
   "outputs": [
    {
     "data": {
      "text/plain": "   Unnamed: 0  year    category  \\\n0           0  1901   Chemistry   \n1           1  1901  Literature   \n2           2  1901    Medicine   \n\n                                            prize  \\\n0               The Nobel Prize in Chemistry 1901   \n1              The Nobel Prize in Literature 1901   \n2  The Nobel Prize in Physiology or Medicine 1901   \n\n                                          motivation prize_share  laureate_id  \\\n0  \"in recognition of the extraordinary services ...         1/1          160   \n1  \"in special recognition of his poetic composit...         1/1          569   \n2  \"for his work on serum therapy, especially its...         1/1          293   \n\n  laureate_type                     full_name  birth_date         birth_city  \\\n0    Individual  Jacobus Henricus van 't Hoff  1852-08-30          Rotterdam   \n1    Individual               Sully Prudhomme  1839-03-16              Paris   \n2    Individual        Emil Adolf von Behring  1854-03-15  Hansdorf (Lawice)   \n\n      birth_country   sex   organization_name organization_city  \\\n0       Netherlands  Male   Berlin University            Berlin   \n1            France  Male                                         \n2  Prussia (Poland)  Male  Marburg University           Marburg   \n\n  organization_country  death_date death_city death_country  Initial  \n0              Germany  1911-03-01     Berlin       Germany        0  \n1                       1907-09-07   Châtenay        France        1  \n2              Germany  1917-03-31    Marburg       Germany        2  ",
      "text/html": "<div>\n<style scoped>\n    .dataframe tbody tr th:only-of-type {\n        vertical-align: middle;\n    }\n\n    .dataframe tbody tr th {\n        vertical-align: top;\n    }\n\n    .dataframe thead th {\n        text-align: right;\n    }\n</style>\n<table border=\"1\" class=\"dataframe\">\n  <thead>\n    <tr style=\"text-align: right;\">\n      <th></th>\n      <th>Unnamed: 0</th>\n      <th>year</th>\n      <th>category</th>\n      <th>prize</th>\n      <th>motivation</th>\n      <th>prize_share</th>\n      <th>laureate_id</th>\n      <th>laureate_type</th>\n      <th>full_name</th>\n      <th>birth_date</th>\n      <th>birth_city</th>\n      <th>birth_country</th>\n      <th>sex</th>\n      <th>organization_name</th>\n      <th>organization_city</th>\n      <th>organization_country</th>\n      <th>death_date</th>\n      <th>death_city</th>\n      <th>death_country</th>\n      <th>Initial</th>\n    </tr>\n  </thead>\n  <tbody>\n    <tr>\n      <th>0</th>\n      <td>0</td>\n      <td>1901</td>\n      <td>Chemistry</td>\n      <td>The Nobel Prize in Chemistry 1901</td>\n      <td>\"in recognition of the extraordinary services ...</td>\n      <td>1/1</td>\n      <td>160</td>\n      <td>Individual</td>\n      <td>Jacobus Henricus van 't Hoff</td>\n      <td>1852-08-30</td>\n      <td>Rotterdam</td>\n      <td>Netherlands</td>\n      <td>Male</td>\n      <td>Berlin University</td>\n      <td>Berlin</td>\n      <td>Germany</td>\n      <td>1911-03-01</td>\n      <td>Berlin</td>\n      <td>Germany</td>\n      <td>0</td>\n    </tr>\n    <tr>\n      <th>1</th>\n      <td>1</td>\n      <td>1901</td>\n      <td>Literature</td>\n      <td>The Nobel Prize in Literature 1901</td>\n      <td>\"in special recognition of his poetic composit...</td>\n      <td>1/1</td>\n      <td>569</td>\n      <td>Individual</td>\n      <td>Sully Prudhomme</td>\n      <td>1839-03-16</td>\n      <td>Paris</td>\n      <td>France</td>\n      <td>Male</td>\n      <td></td>\n      <td></td>\n      <td></td>\n      <td>1907-09-07</td>\n      <td>Châtenay</td>\n      <td>France</td>\n      <td>1</td>\n    </tr>\n    <tr>\n      <th>2</th>\n      <td>2</td>\n      <td>1901</td>\n      <td>Medicine</td>\n      <td>The Nobel Prize in Physiology or Medicine 1901</td>\n      <td>\"for his work on serum therapy, especially its...</td>\n      <td>1/1</td>\n      <td>293</td>\n      <td>Individual</td>\n      <td>Emil Adolf von Behring</td>\n      <td>1854-03-15</td>\n      <td>Hansdorf (Lawice)</td>\n      <td>Prussia (Poland)</td>\n      <td>Male</td>\n      <td>Marburg University</td>\n      <td>Marburg</td>\n      <td>Germany</td>\n      <td>1917-03-31</td>\n      <td>Marburg</td>\n      <td>Germany</td>\n      <td>2</td>\n    </tr>\n  </tbody>\n</table>\n</div>"
     },
     "execution_count": 32,
     "metadata": {},
     "output_type": "execute_result"
    }
   ],
   "source": [
    "#more examples\n",
    "df.fillna(\"\", inplace=True)\n",
    "df.head(3)"
   ],
   "metadata": {
    "collapsed": false,
    "pycharm": {
     "name": "#%%\n"
    }
   }
  },
  {
   "cell_type": "code",
   "execution_count": 33,
   "outputs": [
    {
     "data": {
      "text/plain": "   Unnamed: 0  year    category  \\\n0           0  1901   Chemistry   \n1           1  1901  Literature   \n2           2  1901    Medicine   \n\n                                            prize  \\\n0               The Nobel Prize in Chemistry 1901   \n1              The Nobel Prize in Literature 1901   \n2  The Nobel Prize in Physiology or Medicine 1901   \n\n                                          motivation prize_share  laureate_id  \\\n0  \"in recognition of the extraordinary services ...         1/1          160   \n1  \"in special recognition of his poetic composit...         1/1          569   \n2  \"for his work on serum therapy, especially its...         1/1          293   \n\n  laureate_type                     full_name  birth_date         birth_city  \\\n0    Individual  Jacobus Henricus van 't Hoff  1852-08-30          Rotterdam   \n1    Individual               Sully Prudhomme  1839-03-16              Paris   \n2    Individual        Emil Adolf von Behring  1854-03-15  Hansdorf (Lawice)   \n\n      birth_country   sex   organization_name organization_city  \\\n0       Netherlands  Male   Berlin University            Berlin   \n1            France  Male                   -                 -   \n2  Prussia (Poland)  Male  Marburg University           Marburg   \n\n  organization_country  death_date death_city death_country  First  \n0              Germany  1911-03-01     Berlin       Germany      0  \n1                    -  1907-09-07   Châtenay        France      1  \n2              Germany  1917-03-31    Marburg       Germany      2  ",
      "text/html": "<div>\n<style scoped>\n    .dataframe tbody tr th:only-of-type {\n        vertical-align: middle;\n    }\n\n    .dataframe tbody tr th {\n        vertical-align: top;\n    }\n\n    .dataframe thead th {\n        text-align: right;\n    }\n</style>\n<table border=\"1\" class=\"dataframe\">\n  <thead>\n    <tr style=\"text-align: right;\">\n      <th></th>\n      <th>Unnamed: 0</th>\n      <th>year</th>\n      <th>category</th>\n      <th>prize</th>\n      <th>motivation</th>\n      <th>prize_share</th>\n      <th>laureate_id</th>\n      <th>laureate_type</th>\n      <th>full_name</th>\n      <th>birth_date</th>\n      <th>birth_city</th>\n      <th>birth_country</th>\n      <th>sex</th>\n      <th>organization_name</th>\n      <th>organization_city</th>\n      <th>organization_country</th>\n      <th>death_date</th>\n      <th>death_city</th>\n      <th>death_country</th>\n      <th>First</th>\n    </tr>\n  </thead>\n  <tbody>\n    <tr>\n      <th>0</th>\n      <td>0</td>\n      <td>1901</td>\n      <td>Chemistry</td>\n      <td>The Nobel Prize in Chemistry 1901</td>\n      <td>\"in recognition of the extraordinary services ...</td>\n      <td>1/1</td>\n      <td>160</td>\n      <td>Individual</td>\n      <td>Jacobus Henricus van 't Hoff</td>\n      <td>1852-08-30</td>\n      <td>Rotterdam</td>\n      <td>Netherlands</td>\n      <td>Male</td>\n      <td>Berlin University</td>\n      <td>Berlin</td>\n      <td>Germany</td>\n      <td>1911-03-01</td>\n      <td>Berlin</td>\n      <td>Germany</td>\n      <td>0</td>\n    </tr>\n    <tr>\n      <th>1</th>\n      <td>1</td>\n      <td>1901</td>\n      <td>Literature</td>\n      <td>The Nobel Prize in Literature 1901</td>\n      <td>\"in special recognition of his poetic composit...</td>\n      <td>1/1</td>\n      <td>569</td>\n      <td>Individual</td>\n      <td>Sully Prudhomme</td>\n      <td>1839-03-16</td>\n      <td>Paris</td>\n      <td>France</td>\n      <td>Male</td>\n      <td>-</td>\n      <td>-</td>\n      <td>-</td>\n      <td>1907-09-07</td>\n      <td>Châtenay</td>\n      <td>France</td>\n      <td>1</td>\n    </tr>\n    <tr>\n      <th>2</th>\n      <td>2</td>\n      <td>1901</td>\n      <td>Medicine</td>\n      <td>The Nobel Prize in Physiology or Medicine 1901</td>\n      <td>\"for his work on serum therapy, especially its...</td>\n      <td>1/1</td>\n      <td>293</td>\n      <td>Individual</td>\n      <td>Emil Adolf von Behring</td>\n      <td>1854-03-15</td>\n      <td>Hansdorf (Lawice)</td>\n      <td>Prussia (Poland)</td>\n      <td>Male</td>\n      <td>Marburg University</td>\n      <td>Marburg</td>\n      <td>Germany</td>\n      <td>1917-03-31</td>\n      <td>Marburg</td>\n      <td>Germany</td>\n      <td>2</td>\n    </tr>\n  </tbody>\n</table>\n</div>"
     },
     "metadata": {},
     "output_type": "display_data"
    },
    {
     "data": {
      "text/plain": "   Unnamed: 0  year    category  \\\n0           0  1901   Chemistry   \n1           1  1901  Literature   \n2           2  1901    Medicine   \n\n                                            prize  \\\n0               The Nobel Prize in Chemistry 1901   \n1              The Nobel Prize in Literature 1901   \n2  The Nobel Prize in Physiology or Medicine 1901   \n\n                                          motivation prize_share  laureate_id  \\\n0  \"in recognition of the extraordinary services ...         1/1          160   \n1  \"in special recognition of his poetic composit...         1/1          569   \n2  \"for his work on serum therapy, especially its...         1/1          293   \n\n  laureate_type                     full_name  birth_date         birth_city  \\\n0    Individual  Jacobus Henricus van 't Hoff  1852-08-30          Rotterdam   \n1    Individual               Sully Prudhomme  1839-03-16              Paris   \n2    Individual        Emil Adolf von Behring  1854-03-15  Hansdorf (Lawice)   \n\n      birth_country   sex   organization_name organization_city  \\\n0       Netherlands  Male   Berlin University            Berlin   \n1            France  Male                 NaN               NaN   \n2  Prussia (Poland)  Male  Marburg University           Marburg   \n\n  organization_country  death_date death_city death_country  First  \n0              Germany  1911-03-01     Berlin       Germany      0  \n1                  NaN  1907-09-07   Châtenay        France      1  \n2              Germany  1917-03-31    Marburg       Germany      2  ",
      "text/html": "<div>\n<style scoped>\n    .dataframe tbody tr th:only-of-type {\n        vertical-align: middle;\n    }\n\n    .dataframe tbody tr th {\n        vertical-align: top;\n    }\n\n    .dataframe thead th {\n        text-align: right;\n    }\n</style>\n<table border=\"1\" class=\"dataframe\">\n  <thead>\n    <tr style=\"text-align: right;\">\n      <th></th>\n      <th>Unnamed: 0</th>\n      <th>year</th>\n      <th>category</th>\n      <th>prize</th>\n      <th>motivation</th>\n      <th>prize_share</th>\n      <th>laureate_id</th>\n      <th>laureate_type</th>\n      <th>full_name</th>\n      <th>birth_date</th>\n      <th>birth_city</th>\n      <th>birth_country</th>\n      <th>sex</th>\n      <th>organization_name</th>\n      <th>organization_city</th>\n      <th>organization_country</th>\n      <th>death_date</th>\n      <th>death_city</th>\n      <th>death_country</th>\n      <th>First</th>\n    </tr>\n  </thead>\n  <tbody>\n    <tr>\n      <th>0</th>\n      <td>0</td>\n      <td>1901</td>\n      <td>Chemistry</td>\n      <td>The Nobel Prize in Chemistry 1901</td>\n      <td>\"in recognition of the extraordinary services ...</td>\n      <td>1/1</td>\n      <td>160</td>\n      <td>Individual</td>\n      <td>Jacobus Henricus van 't Hoff</td>\n      <td>1852-08-30</td>\n      <td>Rotterdam</td>\n      <td>Netherlands</td>\n      <td>Male</td>\n      <td>Berlin University</td>\n      <td>Berlin</td>\n      <td>Germany</td>\n      <td>1911-03-01</td>\n      <td>Berlin</td>\n      <td>Germany</td>\n      <td>0</td>\n    </tr>\n    <tr>\n      <th>1</th>\n      <td>1</td>\n      <td>1901</td>\n      <td>Literature</td>\n      <td>The Nobel Prize in Literature 1901</td>\n      <td>\"in special recognition of his poetic composit...</td>\n      <td>1/1</td>\n      <td>569</td>\n      <td>Individual</td>\n      <td>Sully Prudhomme</td>\n      <td>1839-03-16</td>\n      <td>Paris</td>\n      <td>France</td>\n      <td>Male</td>\n      <td>NaN</td>\n      <td>NaN</td>\n      <td>NaN</td>\n      <td>1907-09-07</td>\n      <td>Châtenay</td>\n      <td>France</td>\n      <td>1</td>\n    </tr>\n    <tr>\n      <th>2</th>\n      <td>2</td>\n      <td>1901</td>\n      <td>Medicine</td>\n      <td>The Nobel Prize in Physiology or Medicine 1901</td>\n      <td>\"for his work on serum therapy, especially its...</td>\n      <td>1/1</td>\n      <td>293</td>\n      <td>Individual</td>\n      <td>Emil Adolf von Behring</td>\n      <td>1854-03-15</td>\n      <td>Hansdorf (Lawice)</td>\n      <td>Prussia (Poland)</td>\n      <td>Male</td>\n      <td>Marburg University</td>\n      <td>Marburg</td>\n      <td>Germany</td>\n      <td>1917-03-31</td>\n      <td>Marburg</td>\n      <td>Germany</td>\n      <td>2</td>\n    </tr>\n  </tbody>\n</table>\n</div>"
     },
     "metadata": {},
     "output_type": "display_data"
    }
   ],
   "source": [
    "df3 = df2.fillna(\"-\")\n",
    "display(df3.head(3))\n",
    "display(df2.head(3))"
   ],
   "metadata": {
    "collapsed": false,
    "pycharm": {
     "name": "#%%\n"
    }
   }
  },
  {
   "cell_type": "markdown",
   "source": [
    "### 6. Use vectorization instead of iterating over rows in a dataframe\n",
    "Iter row  is an option"
   ],
   "metadata": {
    "collapsed": false,
    "pycharm": {
     "name": "#%% md\n"
    }
   }
  },
  {
   "cell_type": "code",
   "execution_count": 36,
   "outputs": [
    {
     "data": {
      "text/plain": "   Unnamed: 0  year    category  \\\n0           0  1901   Chemistry   \n1           1  1901  Literature   \n2           2  1901    Medicine   \n\n                                            prize  \\\n0               The Nobel Prize in Chemistry 1901   \n1              The Nobel Prize in Literature 1901   \n2  The Nobel Prize in Physiology or Medicine 1901   \n\n                                          motivation prize_share  laureate_id  \\\n0  \"in recognition of the extraordinary services ...         1/1          160   \n1  \"in special recognition of his poetic composit...         1/1          569   \n2  \"for his work on serum therapy, especially its...         1/1          293   \n\n  laureate_type                     full_name  birth_date  ...   sex  \\\n0    Individual  Jacobus Henricus van 't Hoff  1852-08-30  ...  Male   \n1    Individual               Sully Prudhomme  1839-03-16  ...  Male   \n2    Individual        Emil Adolf von Behring  1854-03-15  ...  Male   \n\n    organization_name organization_city organization_country  death_date  \\\n0   Berlin University            Berlin              Germany  1911-03-01   \n1                                                             1907-09-07   \n2  Marburg University           Marburg              Germany  1917-03-31   \n\n  death_city death_country Initial is_recent  result  \n0     Berlin       Germany       0     False   False  \n1   Châtenay        France       1     False   False  \n2    Marburg       Germany       2     False   False  \n\n[3 rows x 22 columns]",
      "text/html": "<div>\n<style scoped>\n    .dataframe tbody tr th:only-of-type {\n        vertical-align: middle;\n    }\n\n    .dataframe tbody tr th {\n        vertical-align: top;\n    }\n\n    .dataframe thead th {\n        text-align: right;\n    }\n</style>\n<table border=\"1\" class=\"dataframe\">\n  <thead>\n    <tr style=\"text-align: right;\">\n      <th></th>\n      <th>Unnamed: 0</th>\n      <th>year</th>\n      <th>category</th>\n      <th>prize</th>\n      <th>motivation</th>\n      <th>prize_share</th>\n      <th>laureate_id</th>\n      <th>laureate_type</th>\n      <th>full_name</th>\n      <th>birth_date</th>\n      <th>...</th>\n      <th>sex</th>\n      <th>organization_name</th>\n      <th>organization_city</th>\n      <th>organization_country</th>\n      <th>death_date</th>\n      <th>death_city</th>\n      <th>death_country</th>\n      <th>Initial</th>\n      <th>is_recent</th>\n      <th>result</th>\n    </tr>\n  </thead>\n  <tbody>\n    <tr>\n      <th>0</th>\n      <td>0</td>\n      <td>1901</td>\n      <td>Chemistry</td>\n      <td>The Nobel Prize in Chemistry 1901</td>\n      <td>\"in recognition of the extraordinary services ...</td>\n      <td>1/1</td>\n      <td>160</td>\n      <td>Individual</td>\n      <td>Jacobus Henricus van 't Hoff</td>\n      <td>1852-08-30</td>\n      <td>...</td>\n      <td>Male</td>\n      <td>Berlin University</td>\n      <td>Berlin</td>\n      <td>Germany</td>\n      <td>1911-03-01</td>\n      <td>Berlin</td>\n      <td>Germany</td>\n      <td>0</td>\n      <td>False</td>\n      <td>False</td>\n    </tr>\n    <tr>\n      <th>1</th>\n      <td>1</td>\n      <td>1901</td>\n      <td>Literature</td>\n      <td>The Nobel Prize in Literature 1901</td>\n      <td>\"in special recognition of his poetic composit...</td>\n      <td>1/1</td>\n      <td>569</td>\n      <td>Individual</td>\n      <td>Sully Prudhomme</td>\n      <td>1839-03-16</td>\n      <td>...</td>\n      <td>Male</td>\n      <td></td>\n      <td></td>\n      <td></td>\n      <td>1907-09-07</td>\n      <td>Châtenay</td>\n      <td>France</td>\n      <td>1</td>\n      <td>False</td>\n      <td>False</td>\n    </tr>\n    <tr>\n      <th>2</th>\n      <td>2</td>\n      <td>1901</td>\n      <td>Medicine</td>\n      <td>The Nobel Prize in Physiology or Medicine 1901</td>\n      <td>\"for his work on serum therapy, especially its...</td>\n      <td>1/1</td>\n      <td>293</td>\n      <td>Individual</td>\n      <td>Emil Adolf von Behring</td>\n      <td>1854-03-15</td>\n      <td>...</td>\n      <td>Male</td>\n      <td>Marburg University</td>\n      <td>Marburg</td>\n      <td>Germany</td>\n      <td>1917-03-31</td>\n      <td>Marburg</td>\n      <td>Germany</td>\n      <td>2</td>\n      <td>False</td>\n      <td>False</td>\n    </tr>\n  </tbody>\n</table>\n<p>3 rows × 22 columns</p>\n</div>"
     },
     "execution_count": 36,
     "metadata": {},
     "output_type": "execute_result"
    }
   ],
   "source": [
    "for i, row in df.iterrows():\n",
    "    if row['year'] > 2004:\n",
    "        df.loc[i,'is_recent'] = True\n",
    "    else:\n",
    "        df.loc[i, 'is_recent'] = False\n",
    "\n",
    "df.head(3)"
   ],
   "metadata": {
    "collapsed": false,
    "pycharm": {
     "name": "#%%\n"
    }
   }
  },
  {
   "cell_type": "markdown",
   "source": [
    "However, is preferable to use vectorization to apply to the entire Series\n",
    "This is a cool topic, vectorization at this stage of my experience is still very difficult to write, but i often see that\n",
    "is very powerful, time reducing and elegant."
   ],
   "metadata": {
    "collapsed": false,
    "pycharm": {
     "name": "#%% md\n"
    }
   }
  },
  {
   "cell_type": "code",
   "execution_count": 35,
   "outputs": [
    {
     "data": {
      "text/plain": "   Unnamed: 0  year    category  \\\n0           0  1901   Chemistry   \n1           1  1901  Literature   \n2           2  1901    Medicine   \n\n                                            prize  \\\n0               The Nobel Prize in Chemistry 1901   \n1              The Nobel Prize in Literature 1901   \n2  The Nobel Prize in Physiology or Medicine 1901   \n\n                                          motivation prize_share  laureate_id  \\\n0  \"in recognition of the extraordinary services ...         1/1          160   \n1  \"in special recognition of his poetic composit...         1/1          569   \n2  \"for his work on serum therapy, especially its...         1/1          293   \n\n  laureate_type                     full_name  birth_date  ...   sex  \\\n0    Individual  Jacobus Henricus van 't Hoff  1852-08-30  ...  Male   \n1    Individual               Sully Prudhomme  1839-03-16  ...  Male   \n2    Individual        Emil Adolf von Behring  1854-03-15  ...  Male   \n\n    organization_name organization_city organization_country  death_date  \\\n0   Berlin University            Berlin              Germany  1911-03-01   \n1                                                             1907-09-07   \n2  Marburg University           Marburg              Germany  1917-03-31   \n\n  death_city death_country Initial is_recent  result  \n0     Berlin       Germany       0     False   False  \n1   Châtenay        France       1     False   False  \n2    Marburg       Germany       2     False   False  \n\n[3 rows x 22 columns]",
      "text/html": "<div>\n<style scoped>\n    .dataframe tbody tr th:only-of-type {\n        vertical-align: middle;\n    }\n\n    .dataframe tbody tr th {\n        vertical-align: top;\n    }\n\n    .dataframe thead th {\n        text-align: right;\n    }\n</style>\n<table border=\"1\" class=\"dataframe\">\n  <thead>\n    <tr style=\"text-align: right;\">\n      <th></th>\n      <th>Unnamed: 0</th>\n      <th>year</th>\n      <th>category</th>\n      <th>prize</th>\n      <th>motivation</th>\n      <th>prize_share</th>\n      <th>laureate_id</th>\n      <th>laureate_type</th>\n      <th>full_name</th>\n      <th>birth_date</th>\n      <th>...</th>\n      <th>sex</th>\n      <th>organization_name</th>\n      <th>organization_city</th>\n      <th>organization_country</th>\n      <th>death_date</th>\n      <th>death_city</th>\n      <th>death_country</th>\n      <th>Initial</th>\n      <th>is_recent</th>\n      <th>result</th>\n    </tr>\n  </thead>\n  <tbody>\n    <tr>\n      <th>0</th>\n      <td>0</td>\n      <td>1901</td>\n      <td>Chemistry</td>\n      <td>The Nobel Prize in Chemistry 1901</td>\n      <td>\"in recognition of the extraordinary services ...</td>\n      <td>1/1</td>\n      <td>160</td>\n      <td>Individual</td>\n      <td>Jacobus Henricus van 't Hoff</td>\n      <td>1852-08-30</td>\n      <td>...</td>\n      <td>Male</td>\n      <td>Berlin University</td>\n      <td>Berlin</td>\n      <td>Germany</td>\n      <td>1911-03-01</td>\n      <td>Berlin</td>\n      <td>Germany</td>\n      <td>0</td>\n      <td>False</td>\n      <td>False</td>\n    </tr>\n    <tr>\n      <th>1</th>\n      <td>1</td>\n      <td>1901</td>\n      <td>Literature</td>\n      <td>The Nobel Prize in Literature 1901</td>\n      <td>\"in special recognition of his poetic composit...</td>\n      <td>1/1</td>\n      <td>569</td>\n      <td>Individual</td>\n      <td>Sully Prudhomme</td>\n      <td>1839-03-16</td>\n      <td>...</td>\n      <td>Male</td>\n      <td></td>\n      <td></td>\n      <td></td>\n      <td>1907-09-07</td>\n      <td>Châtenay</td>\n      <td>France</td>\n      <td>1</td>\n      <td>False</td>\n      <td>False</td>\n    </tr>\n    <tr>\n      <th>2</th>\n      <td>2</td>\n      <td>1901</td>\n      <td>Medicine</td>\n      <td>The Nobel Prize in Physiology or Medicine 1901</td>\n      <td>\"for his work on serum therapy, especially its...</td>\n      <td>1/1</td>\n      <td>293</td>\n      <td>Individual</td>\n      <td>Emil Adolf von Behring</td>\n      <td>1854-03-15</td>\n      <td>...</td>\n      <td>Male</td>\n      <td>Marburg University</td>\n      <td>Marburg</td>\n      <td>Germany</td>\n      <td>1917-03-31</td>\n      <td>Marburg</td>\n      <td>Germany</td>\n      <td>2</td>\n      <td>False</td>\n      <td>False</td>\n    </tr>\n  </tbody>\n</table>\n<p>3 rows × 22 columns</p>\n</div>"
     },
     "execution_count": 35,
     "metadata": {},
     "output_type": "execute_result"
    }
   ],
   "source": [
    "df['result'] = df['year'] > 2004\n",
    "df.head(3)"
   ],
   "metadata": {
    "collapsed": false,
    "pycharm": {
     "name": "#%%\n"
    }
   }
  },
  {
   "cell_type": "markdown",
   "source": [
    "### 7. Using vectorization as an option instead using apply method (when possible)\n",
    "Apply method allow to apply any transformation across chosen axis"
   ],
   "metadata": {
    "collapsed": false,
    "pycharm": {
     "name": "#%% md\n"
    }
   }
  },
  {
   "cell_type": "code",
   "execution_count": null,
   "outputs": [],
   "source": [
    "import math\n",
    "\n",
    "df['decade'] = df.apply( lambda row : math.floor((row['year']-1900)/10) , axis = 1)\n",
    "df.head()"
   ],
   "metadata": {
    "collapsed": false,
    "pycharm": {
     "name": "#%%\n"
    }
   }
  },
  {
   "cell_type": "markdown",
   "source": [
    "Is **preferable** to use vectorized function, when possible, like this"
   ],
   "metadata": {
    "collapsed": false,
    "pycharm": {
     "name": "#%% md\n"
    }
   }
  },
  {
   "cell_type": "code",
   "execution_count": null,
   "outputs": [],
   "source": [
    "import numpy as np\n",
    "\n",
    "df['decade_new'] = np.floor((df['year']-1900)/10).astype(int)\n",
    "df.head()"
   ],
   "metadata": {
    "collapsed": false,
    "pycharm": {
     "name": "#%%\n"
    }
   }
  },
  {
   "cell_type": "markdown",
   "source": [
    "### 8. Avoid considering a slice of a dataframe as it were a new dataframe\n",
    "In these case we see a SettingWithCopyWarning\n"
   ],
   "metadata": {
    "collapsed": false,
    "pycharm": {
     "name": "#%% md\n"
    }
   }
  },
  {
   "cell_type": "code",
   "execution_count": 37,
   "outputs": [
    {
     "name": "stderr",
     "output_type": "stream",
     "text": [
      "C:\\Users\\bruni\\AppData\\Local\\Temp\\ipykernel_23188\\2248335102.py:2: SettingWithCopyWarning: \n",
      "A value is trying to be set on a copy of a slice from a DataFrame.\n",
      "Try using .loc[row_indexer,col_indexer] = value instead\n",
      "\n",
      "See the caveats in the documentation: https://pandas.pydata.org/pandas-docs/stable/user_guide/indexing.html#returning-a-view-versus-a-copy\n",
      "  df_last['First_name'] =  df_last['full_name'].str[-5:]\n"
     ]
    }
   ],
   "source": [
    "df_last = df.query('year > 2000')\n",
    "df_last['First_name'] =  df_last['full_name'].str[-5:]"
   ],
   "metadata": {
    "collapsed": false,
    "pycharm": {
     "name": "#%%\n"
    }
   }
  },
  {
   "cell_type": "markdown",
   "source": [
    "This warning rises because our new modifications are actually been applied to a slice of our original dataframe  df.query('year > 2015')\n",
    "So when we want to create a dataframe based on a subset of initial dataframe is **best to use the .copy()**\n",
    "This by default create a deep copy and any edits to the new dataframe will not impact the initial dataframe\n"
   ],
   "metadata": {
    "collapsed": false,
    "pycharm": {
     "name": "#%% md\n"
    }
   }
  },
  {
   "cell_type": "code",
   "execution_count": 39,
   "outputs": [
    {
     "data": {
      "text/plain": "     Unnamed: 0  year   category  \\\n719         719  2001  Chemistry   \n720         720  2001  Chemistry   \n721         721  2001  Chemistry   \n722         722  2001  Economics   \n723         723  2001  Economics   \n\n                                                 prize  \\\n719                  The Nobel Prize in Chemistry 2001   \n720                  The Nobel Prize in Chemistry 2001   \n721                  The Nobel Prize in Chemistry 2001   \n722  The Sveriges Riksbank Prize in Economic Scienc...   \n723  The Sveriges Riksbank Prize in Economic Scienc...   \n\n                                            motivation prize_share  \\\n719  \"for their work on chirally catalysed hydrogen...         1/4   \n720  \"for their work on chirally catalysed hydrogen...         1/4   \n721  \"for his work on chirally catalysed oxidation ...         1/2   \n722  \"for their analyses of markets with asymmetric...         1/3   \n723  \"for their analyses of markets with asymmetric...         1/3   \n\n     laureate_id laureate_type           full_name  birth_date  ...  \\\n719          741    Individual  William S. Knowles  1917-06-01  ...   \n720          742    Individual        Ryoji Noyori  1938-09-03  ...   \n721          743    Individual  K. Barry Sharpless  1941-04-28  ...   \n722          744    Individual   George A. Akerlof  1940-06-17  ...   \n723          745    Individual   A. Michael Spence  1943-01-01  ...   \n\n                  organization_name organization_city  \\\n719                                     St. Louis, MO   \n720               Nagoya University            Nagoya   \n721  The Scripps Research Institute      La Jolla, CA   \n722        University of California      Berkeley, CA   \n723             Stanford University      Stanford, CA   \n\n         organization_country  death_date        death_city  \\\n719  United States of America  2012-06-13  Chesterfield, MO   \n720                     Japan                                 \n721  United States of America                                 \n722  United States of America                                 \n723  United States of America                                 \n\n                death_country Initial is_recent result  First_name  \n719  United States of America     719     False  False       owles  \n720                               720     False  False       oyori  \n721                               721     False  False       pless  \n722                               722     False  False       erlof  \n723                               723     False  False       pence  \n\n[5 rows x 23 columns]",
      "text/html": "<div>\n<style scoped>\n    .dataframe tbody tr th:only-of-type {\n        vertical-align: middle;\n    }\n\n    .dataframe tbody tr th {\n        vertical-align: top;\n    }\n\n    .dataframe thead th {\n        text-align: right;\n    }\n</style>\n<table border=\"1\" class=\"dataframe\">\n  <thead>\n    <tr style=\"text-align: right;\">\n      <th></th>\n      <th>Unnamed: 0</th>\n      <th>year</th>\n      <th>category</th>\n      <th>prize</th>\n      <th>motivation</th>\n      <th>prize_share</th>\n      <th>laureate_id</th>\n      <th>laureate_type</th>\n      <th>full_name</th>\n      <th>birth_date</th>\n      <th>...</th>\n      <th>organization_name</th>\n      <th>organization_city</th>\n      <th>organization_country</th>\n      <th>death_date</th>\n      <th>death_city</th>\n      <th>death_country</th>\n      <th>Initial</th>\n      <th>is_recent</th>\n      <th>result</th>\n      <th>First_name</th>\n    </tr>\n  </thead>\n  <tbody>\n    <tr>\n      <th>719</th>\n      <td>719</td>\n      <td>2001</td>\n      <td>Chemistry</td>\n      <td>The Nobel Prize in Chemistry 2001</td>\n      <td>\"for their work on chirally catalysed hydrogen...</td>\n      <td>1/4</td>\n      <td>741</td>\n      <td>Individual</td>\n      <td>William S. Knowles</td>\n      <td>1917-06-01</td>\n      <td>...</td>\n      <td></td>\n      <td>St. Louis, MO</td>\n      <td>United States of America</td>\n      <td>2012-06-13</td>\n      <td>Chesterfield, MO</td>\n      <td>United States of America</td>\n      <td>719</td>\n      <td>False</td>\n      <td>False</td>\n      <td>owles</td>\n    </tr>\n    <tr>\n      <th>720</th>\n      <td>720</td>\n      <td>2001</td>\n      <td>Chemistry</td>\n      <td>The Nobel Prize in Chemistry 2001</td>\n      <td>\"for their work on chirally catalysed hydrogen...</td>\n      <td>1/4</td>\n      <td>742</td>\n      <td>Individual</td>\n      <td>Ryoji Noyori</td>\n      <td>1938-09-03</td>\n      <td>...</td>\n      <td>Nagoya University</td>\n      <td>Nagoya</td>\n      <td>Japan</td>\n      <td></td>\n      <td></td>\n      <td></td>\n      <td>720</td>\n      <td>False</td>\n      <td>False</td>\n      <td>oyori</td>\n    </tr>\n    <tr>\n      <th>721</th>\n      <td>721</td>\n      <td>2001</td>\n      <td>Chemistry</td>\n      <td>The Nobel Prize in Chemistry 2001</td>\n      <td>\"for his work on chirally catalysed oxidation ...</td>\n      <td>1/2</td>\n      <td>743</td>\n      <td>Individual</td>\n      <td>K. Barry Sharpless</td>\n      <td>1941-04-28</td>\n      <td>...</td>\n      <td>The Scripps Research Institute</td>\n      <td>La Jolla, CA</td>\n      <td>United States of America</td>\n      <td></td>\n      <td></td>\n      <td></td>\n      <td>721</td>\n      <td>False</td>\n      <td>False</td>\n      <td>pless</td>\n    </tr>\n    <tr>\n      <th>722</th>\n      <td>722</td>\n      <td>2001</td>\n      <td>Economics</td>\n      <td>The Sveriges Riksbank Prize in Economic Scienc...</td>\n      <td>\"for their analyses of markets with asymmetric...</td>\n      <td>1/3</td>\n      <td>744</td>\n      <td>Individual</td>\n      <td>George A. Akerlof</td>\n      <td>1940-06-17</td>\n      <td>...</td>\n      <td>University of California</td>\n      <td>Berkeley, CA</td>\n      <td>United States of America</td>\n      <td></td>\n      <td></td>\n      <td></td>\n      <td>722</td>\n      <td>False</td>\n      <td>False</td>\n      <td>erlof</td>\n    </tr>\n    <tr>\n      <th>723</th>\n      <td>723</td>\n      <td>2001</td>\n      <td>Economics</td>\n      <td>The Sveriges Riksbank Prize in Economic Scienc...</td>\n      <td>\"for their analyses of markets with asymmetric...</td>\n      <td>1/3</td>\n      <td>745</td>\n      <td>Individual</td>\n      <td>A. Michael Spence</td>\n      <td>1943-01-01</td>\n      <td>...</td>\n      <td>Stanford University</td>\n      <td>Stanford, CA</td>\n      <td>United States of America</td>\n      <td></td>\n      <td></td>\n      <td></td>\n      <td>723</td>\n      <td>False</td>\n      <td>False</td>\n      <td>pence</td>\n    </tr>\n  </tbody>\n</table>\n<p>5 rows × 23 columns</p>\n</div>"
     },
     "execution_count": 39,
     "metadata": {},
     "output_type": "execute_result"
    }
   ],
   "source": [
    "df_last = df.query('year > 2000').copy()\n",
    "df_last['First_name'] =  df_last['full_name'].str[-5:]\n",
    "df_last[:5]"
   ],
   "metadata": {
    "collapsed": false,
    "pycharm": {
     "name": "#%%\n"
    }
   }
  },
  {
   "cell_type": "markdown",
   "source": [
    "### 9. Use chaining commands and avoid creating multiple intermediate dataframes when making transformations\n",
    "Code like this where each step of the process is saved in a new df variable"
   ],
   "metadata": {
    "collapsed": false,
    "pycharm": {
     "name": "#%% md\n"
    }
   }
  },
  {
   "cell_type": "code",
   "execution_count": 40,
   "outputs": [
    {
     "data": {
      "text/plain": "                                                     birth_date\nsex    birth_country                                           \nFemale Yemen                                                  1\nMale   West Germany (Germany)                                 1\n       United States of America                              68\nFemale United States of America                               3\nMale   United Kingdom                                        19\n       Union of Soviet Socialist Republics (Russia)           1\nFemale Ukraine                                                1\nMale   Turkey                                                 2\n       Trinidad                                               1\n       Switzerland                                            1\n       Sweden                                                 2\n       South Africa                                           3\n       Russia                                                 4\nFemale Romania                                                1\nMale   Romania                                                1\n       Peru                                                   1\nFemale Persia (Iran)                                          1\n       Pakistan                                               1\nMale   Norway                                                 2\nFemale Norway                                                 1\nMale   Netherlands                                            1\n       Morocco                                                1\n       Luxembourg                                             1\nFemale Liberia                                                2\n       Kenya                                                  1\nMale   Japan                                                 15\n       Italy                                                  2\n       Ireland                                                1\nFemale Iran                                                   1\nMale   India                                                  2\n       Hungary                                                2\n       Gold Coast (Ghana)                                     1\n       Germany                                                5\nFemale France                                                 1\nMale   France                                                 6\n       Finland                                                2\n       Egypt                                                  1\n       Czechoslovakia (Czech Republic)                        1\n       Cyprus                                                 1\n       Colombia                                               1\n       China                                                  4\nFemale China                                                  1\nMale   Canada                                                 3\nFemale Canada                                                 1\nMale   British Protectorate of Palestine (Israel)             1\n       British Mandate of Palestine (Israel)                  3\nFemale British Mandate of Palestine (Israel)                  1\nMale   British India (Bangladesh)                             1\n       Belgium                                                2\n       Austria                                                1\nFemale Austria                                                1\n       Australia                                              1\nMale   Australia                                              2\n                                                              7",
      "text/html": "<div>\n<style scoped>\n    .dataframe tbody tr th:only-of-type {\n        vertical-align: middle;\n    }\n\n    .dataframe tbody tr th {\n        vertical-align: top;\n    }\n\n    .dataframe thead th {\n        text-align: right;\n    }\n</style>\n<table border=\"1\" class=\"dataframe\">\n  <thead>\n    <tr style=\"text-align: right;\">\n      <th></th>\n      <th></th>\n      <th>birth_date</th>\n    </tr>\n    <tr>\n      <th>sex</th>\n      <th>birth_country</th>\n      <th></th>\n    </tr>\n  </thead>\n  <tbody>\n    <tr>\n      <th>Female</th>\n      <th>Yemen</th>\n      <td>1</td>\n    </tr>\n    <tr>\n      <th rowspan=\"2\" valign=\"top\">Male</th>\n      <th>West Germany (Germany)</th>\n      <td>1</td>\n    </tr>\n    <tr>\n      <th>United States of America</th>\n      <td>68</td>\n    </tr>\n    <tr>\n      <th>Female</th>\n      <th>United States of America</th>\n      <td>3</td>\n    </tr>\n    <tr>\n      <th rowspan=\"2\" valign=\"top\">Male</th>\n      <th>United Kingdom</th>\n      <td>19</td>\n    </tr>\n    <tr>\n      <th>Union of Soviet Socialist Republics (Russia)</th>\n      <td>1</td>\n    </tr>\n    <tr>\n      <th>Female</th>\n      <th>Ukraine</th>\n      <td>1</td>\n    </tr>\n    <tr>\n      <th rowspan=\"6\" valign=\"top\">Male</th>\n      <th>Turkey</th>\n      <td>2</td>\n    </tr>\n    <tr>\n      <th>Trinidad</th>\n      <td>1</td>\n    </tr>\n    <tr>\n      <th>Switzerland</th>\n      <td>1</td>\n    </tr>\n    <tr>\n      <th>Sweden</th>\n      <td>2</td>\n    </tr>\n    <tr>\n      <th>South Africa</th>\n      <td>3</td>\n    </tr>\n    <tr>\n      <th>Russia</th>\n      <td>4</td>\n    </tr>\n    <tr>\n      <th>Female</th>\n      <th>Romania</th>\n      <td>1</td>\n    </tr>\n    <tr>\n      <th rowspan=\"2\" valign=\"top\">Male</th>\n      <th>Romania</th>\n      <td>1</td>\n    </tr>\n    <tr>\n      <th>Peru</th>\n      <td>1</td>\n    </tr>\n    <tr>\n      <th rowspan=\"2\" valign=\"top\">Female</th>\n      <th>Persia (Iran)</th>\n      <td>1</td>\n    </tr>\n    <tr>\n      <th>Pakistan</th>\n      <td>1</td>\n    </tr>\n    <tr>\n      <th>Male</th>\n      <th>Norway</th>\n      <td>2</td>\n    </tr>\n    <tr>\n      <th>Female</th>\n      <th>Norway</th>\n      <td>1</td>\n    </tr>\n    <tr>\n      <th rowspan=\"3\" valign=\"top\">Male</th>\n      <th>Netherlands</th>\n      <td>1</td>\n    </tr>\n    <tr>\n      <th>Morocco</th>\n      <td>1</td>\n    </tr>\n    <tr>\n      <th>Luxembourg</th>\n      <td>1</td>\n    </tr>\n    <tr>\n      <th rowspan=\"2\" valign=\"top\">Female</th>\n      <th>Liberia</th>\n      <td>2</td>\n    </tr>\n    <tr>\n      <th>Kenya</th>\n      <td>1</td>\n    </tr>\n    <tr>\n      <th rowspan=\"3\" valign=\"top\">Male</th>\n      <th>Japan</th>\n      <td>15</td>\n    </tr>\n    <tr>\n      <th>Italy</th>\n      <td>2</td>\n    </tr>\n    <tr>\n      <th>Ireland</th>\n      <td>1</td>\n    </tr>\n    <tr>\n      <th>Female</th>\n      <th>Iran</th>\n      <td>1</td>\n    </tr>\n    <tr>\n      <th rowspan=\"4\" valign=\"top\">Male</th>\n      <th>India</th>\n      <td>2</td>\n    </tr>\n    <tr>\n      <th>Hungary</th>\n      <td>2</td>\n    </tr>\n    <tr>\n      <th>Gold Coast (Ghana)</th>\n      <td>1</td>\n    </tr>\n    <tr>\n      <th>Germany</th>\n      <td>5</td>\n    </tr>\n    <tr>\n      <th>Female</th>\n      <th>France</th>\n      <td>1</td>\n    </tr>\n    <tr>\n      <th rowspan=\"7\" valign=\"top\">Male</th>\n      <th>France</th>\n      <td>6</td>\n    </tr>\n    <tr>\n      <th>Finland</th>\n      <td>2</td>\n    </tr>\n    <tr>\n      <th>Egypt</th>\n      <td>1</td>\n    </tr>\n    <tr>\n      <th>Czechoslovakia (Czech Republic)</th>\n      <td>1</td>\n    </tr>\n    <tr>\n      <th>Cyprus</th>\n      <td>1</td>\n    </tr>\n    <tr>\n      <th>Colombia</th>\n      <td>1</td>\n    </tr>\n    <tr>\n      <th>China</th>\n      <td>4</td>\n    </tr>\n    <tr>\n      <th>Female</th>\n      <th>China</th>\n      <td>1</td>\n    </tr>\n    <tr>\n      <th>Male</th>\n      <th>Canada</th>\n      <td>3</td>\n    </tr>\n    <tr>\n      <th>Female</th>\n      <th>Canada</th>\n      <td>1</td>\n    </tr>\n    <tr>\n      <th rowspan=\"2\" valign=\"top\">Male</th>\n      <th>British Protectorate of Palestine (Israel)</th>\n      <td>1</td>\n    </tr>\n    <tr>\n      <th>British Mandate of Palestine (Israel)</th>\n      <td>3</td>\n    </tr>\n    <tr>\n      <th>Female</th>\n      <th>British Mandate of Palestine (Israel)</th>\n      <td>1</td>\n    </tr>\n    <tr>\n      <th rowspan=\"3\" valign=\"top\">Male</th>\n      <th>British India (Bangladesh)</th>\n      <td>1</td>\n    </tr>\n    <tr>\n      <th>Belgium</th>\n      <td>2</td>\n    </tr>\n    <tr>\n      <th>Austria</th>\n      <td>1</td>\n    </tr>\n    <tr>\n      <th rowspan=\"2\" valign=\"top\">Female</th>\n      <th>Austria</th>\n      <td>1</td>\n    </tr>\n    <tr>\n      <th>Australia</th>\n      <td>1</td>\n    </tr>\n    <tr>\n      <th>Male</th>\n      <th>Australia</th>\n      <td>2</td>\n    </tr>\n    <tr>\n      <th></th>\n      <th></th>\n      <td>7</td>\n    </tr>\n  </tbody>\n</table>\n</div>"
     },
     "execution_count": 40,
     "metadata": {},
     "output_type": "execute_result"
    }
   ],
   "source": [
    "df_a = df.query('year > 2000')\n",
    "df_b = df_a.groupby(['sex', 'birth_country'])[['birth_date']].count()\n",
    "df_c = df_b.sort_values('birth_country', ascending=False)\n",
    "df_c[:10]"
   ],
   "metadata": {
    "collapsed": false,
    "pycharm": {
     "name": "#%%\n"
    }
   }
  },
  {
   "cell_type": "markdown",
   "source": [
    "Is instead encouraged to **use chaining commands** where all the transformations are applied once"
   ],
   "metadata": {
    "collapsed": false,
    "pycharm": {
     "name": "#%% md\n"
    }
   }
  },
  {
   "cell_type": "code",
   "execution_count": 97,
   "outputs": [
    {
     "data": {
      "text/plain": "                                                     birth_date\nsex    birth_country                                           \nMale   Yemen                                                  0\nFemale Yemen                                                  1\n       West Germany (Germany)                                 0\nMale   West Germany (Germany)                                 1\nFemale United States of America                               3\nMale   United States of America                              67\nFemale United Kingdom                                         0\nMale   United Kingdom                                        19\n       Union of Soviet Socialist Republics (Russia)           1\nFemale Union of Soviet Socialist Republics (Russia)           0",
      "text/html": "<div>\n<style scoped>\n    .dataframe tbody tr th:only-of-type {\n        vertical-align: middle;\n    }\n\n    .dataframe tbody tr th {\n        vertical-align: top;\n    }\n\n    .dataframe thead th {\n        text-align: right;\n    }\n</style>\n<table border=\"1\" class=\"dataframe\">\n  <thead>\n    <tr style=\"text-align: right;\">\n      <th></th>\n      <th></th>\n      <th>birth_date</th>\n    </tr>\n    <tr>\n      <th>sex</th>\n      <th>birth_country</th>\n      <th></th>\n    </tr>\n  </thead>\n  <tbody>\n    <tr>\n      <th>Male</th>\n      <th>Yemen</th>\n      <td>0</td>\n    </tr>\n    <tr>\n      <th rowspan=\"2\" valign=\"top\">Female</th>\n      <th>Yemen</th>\n      <td>1</td>\n    </tr>\n    <tr>\n      <th>West Germany (Germany)</th>\n      <td>0</td>\n    </tr>\n    <tr>\n      <th>Male</th>\n      <th>West Germany (Germany)</th>\n      <td>1</td>\n    </tr>\n    <tr>\n      <th>Female</th>\n      <th>United States of America</th>\n      <td>3</td>\n    </tr>\n    <tr>\n      <th>Male</th>\n      <th>United States of America</th>\n      <td>67</td>\n    </tr>\n    <tr>\n      <th>Female</th>\n      <th>United Kingdom</th>\n      <td>0</td>\n    </tr>\n    <tr>\n      <th rowspan=\"2\" valign=\"top\">Male</th>\n      <th>United Kingdom</th>\n      <td>19</td>\n    </tr>\n    <tr>\n      <th>Union of Soviet Socialist Republics (Russia)</th>\n      <td>1</td>\n    </tr>\n    <tr>\n      <th>Female</th>\n      <th>Union of Soviet Socialist Republics (Russia)</th>\n      <td>0</td>\n    </tr>\n  </tbody>\n</table>\n</div>"
     },
     "execution_count": 97,
     "metadata": {},
     "output_type": "execute_result"
    }
   ],
   "source": [
    "df_a =  (df.query('year > 2000')\n",
    "        .groupby(['sex', 'birth_country'])[['birth_date']].count()\n",
    "        .sort_values('birth_country', ascending=False))\n",
    "df_a[:10]"
   ],
   "metadata": {
    "collapsed": false,
    "pycharm": {
     "name": "#%%\n"
    }
   }
  },
  {
   "cell_type": "markdown",
   "source": [
    "### 10. Properly set columns dtypes\n",
    "Each colum in a dataframe has specific data type and when reading data pandas will try at best to parse these types.\n",
    "However, usually date columns are represented as object\n",
    "Is possible to set correctly this column date type format by using parse_dates within read csv\n",
    "alternatively manually setting"
   ],
   "metadata": {
    "collapsed": false,
    "pycharm": {
     "name": "#%% md\n"
    }
   }
  },
  {
   "cell_type": "code",
   "execution_count": 98,
   "outputs": [
    {
     "name": "stdout",
     "output_type": "stream",
     "text": [
      "<class 'pandas.core.frame.DataFrame'>\n",
      "RangeIndex: 911 entries, 0 to 910\n",
      "Data columns (total 18 columns):\n",
      " #   Column                Non-Null Count  Dtype         \n",
      "---  ------                --------------  -----         \n",
      " 0   year                  911 non-null    int64         \n",
      " 1   category              911 non-null    category      \n",
      " 2   prize                 911 non-null    object        \n",
      " 3   motivation            823 non-null    object        \n",
      " 4   prize_share           911 non-null    object        \n",
      " 5   laureate_id           911 non-null    int64         \n",
      " 6   laureate_type         911 non-null    object        \n",
      " 7   full_name             911 non-null    object        \n",
      " 8   birth_date            883 non-null    datetime64[ns]\n",
      " 9   birth_city            883 non-null    object        \n",
      " 10  birth_country         885 non-null    object        \n",
      " 11  sex                   885 non-null    category      \n",
      " 12  organization_name     665 non-null    object        \n",
      " 13  organization_city     667 non-null    object        \n",
      " 14  organization_country  667 non-null    object        \n",
      " 15  death_date            593 non-null    datetime64[ns]\n",
      " 16  death_city            576 non-null    object        \n",
      " 17  death_country         582 non-null    object        \n",
      "dtypes: category(2), datetime64[ns](2), int64(2), object(12)\n",
      "memory usage: 116.1+ KB\n"
     ]
    }
   ],
   "source": [
    "df.info()"
   ],
   "metadata": {
    "collapsed": false,
    "pycharm": {
     "name": "#%%\n"
    }
   }
  },
  {
   "cell_type": "code",
   "execution_count": 95,
   "outputs": [
    {
     "name": "stdout",
     "output_type": "stream",
     "text": [
      "<class 'pandas.core.frame.DataFrame'>\n",
      "RangeIndex: 911 entries, 0 to 910\n",
      "Data columns (total 18 columns):\n",
      " #   Column                Non-Null Count  Dtype         \n",
      "---  ------                --------------  -----         \n",
      " 0   year                  911 non-null    int64         \n",
      " 1   category              911 non-null    category      \n",
      " 2   prize                 911 non-null    object        \n",
      " 3   motivation            823 non-null    object        \n",
      " 4   prize_share           911 non-null    object        \n",
      " 5   laureate_id           911 non-null    int64         \n",
      " 6   laureate_type         911 non-null    object        \n",
      " 7   full_name             911 non-null    object        \n",
      " 8   birth_date            883 non-null    datetime64[ns]\n",
      " 9   birth_city            883 non-null    object        \n",
      " 10  birth_country         885 non-null    object        \n",
      " 11  sex                   885 non-null    category      \n",
      " 12  organization_name     665 non-null    object        \n",
      " 13  organization_city     667 non-null    object        \n",
      " 14  organization_country  667 non-null    object        \n",
      " 15  death_date            593 non-null    datetime64[ns]\n",
      " 16  death_city            576 non-null    object        \n",
      " 17  death_country         582 non-null    object        \n",
      "dtypes: category(2), datetime64[ns](2), int64(2), object(12)\n",
      "memory usage: 116.1+ KB\n"
     ]
    }
   ],
   "source": [
    "df = pd.read_csv(\"datasets/nobel.csv\", parse_dates=['birth_date','death_date'], dtype={'category':'category', 'sex':'category'})\n",
    "df.info()"
   ],
   "metadata": {
    "collapsed": false,
    "pycharm": {
     "name": "#%%\n"
    }
   }
  },
  {
   "cell_type": "code",
   "execution_count": 94,
   "outputs": [
    {
     "name": "stdout",
     "output_type": "stream",
     "text": [
      "<class 'pandas.core.frame.DataFrame'>\n",
      "RangeIndex: 911 entries, 0 to 910\n",
      "Data columns (total 18 columns):\n",
      " #   Column                Non-Null Count  Dtype         \n",
      "---  ------                --------------  -----         \n",
      " 0   year                  911 non-null    int64         \n",
      " 1   category              911 non-null    object        \n",
      " 2   prize                 911 non-null    object        \n",
      " 3   motivation            823 non-null    object        \n",
      " 4   prize_share           911 non-null    object        \n",
      " 5   laureate_id           911 non-null    int64         \n",
      " 6   laureate_type         911 non-null    object        \n",
      " 7   full_name             911 non-null    object        \n",
      " 8   birth_date            883 non-null    datetime64[ns]\n",
      " 9   birth_city            883 non-null    object        \n",
      " 10  birth_country         885 non-null    object        \n",
      " 11  sex                   885 non-null    category      \n",
      " 12  organization_name     665 non-null    object        \n",
      " 13  organization_city     667 non-null    object        \n",
      " 14  organization_country  667 non-null    object        \n",
      " 15  death_date            593 non-null    object        \n",
      " 16  death_city            576 non-null    object        \n",
      " 17  death_country         582 non-null    object        \n",
      "dtypes: category(1), datetime64[ns](1), int64(2), object(14)\n",
      "memory usage: 122.1+ KB\n"
     ]
    }
   ],
   "source": [
    "# this is an other way\n",
    "df = pd.read_csv(\"datasets/nobel.csv\")\n",
    "df['birth_date'] = pd.to_datetime(df['birth_date'])\n",
    "df['sex'] = df['sex'].astype('category')\n",
    "df.info()"
   ],
   "metadata": {
    "collapsed": false,
    "pycharm": {
     "name": "#%%\n"
    }
   }
  },
  {
   "cell_type": "markdown",
   "source": [
    "### 11. Using boolean value instead of string\n",
    "In this case a new colum called sub_10 is created"
   ],
   "metadata": {
    "collapsed": false,
    "pycharm": {
     "name": "#%% md\n"
    }
   }
  },
  {
   "cell_type": "code",
   "execution_count": 52,
   "outputs": [],
   "source": [
    "df['sub_10'] ='YES'\n",
    "df.loc[ df['year'] <2000, 'sub_10'] = 'NO'"
   ],
   "metadata": {
    "collapsed": false,
    "pycharm": {
     "name": "#%%\n"
    }
   }
  },
  {
   "cell_type": "markdown",
   "source": [
    "Instead of using text for something that can be true or false, is better to cast this to a boolean value\n",
    "This can be done when the colum is created"
   ],
   "metadata": {
    "collapsed": false,
    "pycharm": {
     "name": "#%% md\n"
    }
   }
  },
  {
   "cell_type": "code",
   "execution_count": 55,
   "outputs": [
    {
     "data": {
      "text/plain": "   year    category                                           prize  \\\n0  1901   Chemistry               The Nobel Prize in Chemistry 1901   \n1  1901  Literature              The Nobel Prize in Literature 1901   \n2  1901    Medicine  The Nobel Prize in Physiology or Medicine 1901   \n3  1901       Peace                      The Nobel Peace Prize 1901   \n4  1901       Peace                      The Nobel Peace Prize 1901   \n\n                                          motivation prize_share  laureate_id  \\\n0  \"in recognition of the extraordinary services ...         1/1          160   \n1  \"in special recognition of his poetic composit...         1/1          569   \n2  \"for his work on serum therapy, especially its...         1/1          293   \n3                                                NaN         1/2          462   \n4                                                NaN         1/2          463   \n\n  laureate_type                     full_name birth_date         birth_city  \\\n0    Individual  Jacobus Henricus van 't Hoff 1852-08-30          Rotterdam   \n1    Individual               Sully Prudhomme 1839-03-16              Paris   \n2    Individual        Emil Adolf von Behring 1854-03-15  Hansdorf (Lawice)   \n3    Individual             Jean Henry Dunant 1828-05-08             Geneva   \n4    Individual                Frédéric Passy 1822-05-20              Paris   \n\n      birth_country   sex   organization_name organization_city  \\\n0       Netherlands  Male   Berlin University            Berlin   \n1            France  Male                 NaN               NaN   \n2  Prussia (Poland)  Male  Marburg University           Marburg   \n3       Switzerland  Male                 NaN               NaN   \n4            France  Male                 NaN               NaN   \n\n  organization_country death_date death_city death_country sub_10  sub_10_new  \n0              Germany 1911-03-01     Berlin       Germany     NO       False  \n1                  NaN 1907-09-07   Châtenay        France     NO       False  \n2              Germany 1917-03-31    Marburg       Germany     NO       False  \n3                  NaN 1910-10-30     Heiden   Switzerland     NO       False  \n4                  NaN 1912-06-12      Paris        France     NO       False  ",
      "text/html": "<div>\n<style scoped>\n    .dataframe tbody tr th:only-of-type {\n        vertical-align: middle;\n    }\n\n    .dataframe tbody tr th {\n        vertical-align: top;\n    }\n\n    .dataframe thead th {\n        text-align: right;\n    }\n</style>\n<table border=\"1\" class=\"dataframe\">\n  <thead>\n    <tr style=\"text-align: right;\">\n      <th></th>\n      <th>year</th>\n      <th>category</th>\n      <th>prize</th>\n      <th>motivation</th>\n      <th>prize_share</th>\n      <th>laureate_id</th>\n      <th>laureate_type</th>\n      <th>full_name</th>\n      <th>birth_date</th>\n      <th>birth_city</th>\n      <th>birth_country</th>\n      <th>sex</th>\n      <th>organization_name</th>\n      <th>organization_city</th>\n      <th>organization_country</th>\n      <th>death_date</th>\n      <th>death_city</th>\n      <th>death_country</th>\n      <th>sub_10</th>\n      <th>sub_10_new</th>\n    </tr>\n  </thead>\n  <tbody>\n    <tr>\n      <th>0</th>\n      <td>1901</td>\n      <td>Chemistry</td>\n      <td>The Nobel Prize in Chemistry 1901</td>\n      <td>\"in recognition of the extraordinary services ...</td>\n      <td>1/1</td>\n      <td>160</td>\n      <td>Individual</td>\n      <td>Jacobus Henricus van 't Hoff</td>\n      <td>1852-08-30</td>\n      <td>Rotterdam</td>\n      <td>Netherlands</td>\n      <td>Male</td>\n      <td>Berlin University</td>\n      <td>Berlin</td>\n      <td>Germany</td>\n      <td>1911-03-01</td>\n      <td>Berlin</td>\n      <td>Germany</td>\n      <td>NO</td>\n      <td>False</td>\n    </tr>\n    <tr>\n      <th>1</th>\n      <td>1901</td>\n      <td>Literature</td>\n      <td>The Nobel Prize in Literature 1901</td>\n      <td>\"in special recognition of his poetic composit...</td>\n      <td>1/1</td>\n      <td>569</td>\n      <td>Individual</td>\n      <td>Sully Prudhomme</td>\n      <td>1839-03-16</td>\n      <td>Paris</td>\n      <td>France</td>\n      <td>Male</td>\n      <td>NaN</td>\n      <td>NaN</td>\n      <td>NaN</td>\n      <td>1907-09-07</td>\n      <td>Châtenay</td>\n      <td>France</td>\n      <td>NO</td>\n      <td>False</td>\n    </tr>\n    <tr>\n      <th>2</th>\n      <td>1901</td>\n      <td>Medicine</td>\n      <td>The Nobel Prize in Physiology or Medicine 1901</td>\n      <td>\"for his work on serum therapy, especially its...</td>\n      <td>1/1</td>\n      <td>293</td>\n      <td>Individual</td>\n      <td>Emil Adolf von Behring</td>\n      <td>1854-03-15</td>\n      <td>Hansdorf (Lawice)</td>\n      <td>Prussia (Poland)</td>\n      <td>Male</td>\n      <td>Marburg University</td>\n      <td>Marburg</td>\n      <td>Germany</td>\n      <td>1917-03-31</td>\n      <td>Marburg</td>\n      <td>Germany</td>\n      <td>NO</td>\n      <td>False</td>\n    </tr>\n    <tr>\n      <th>3</th>\n      <td>1901</td>\n      <td>Peace</td>\n      <td>The Nobel Peace Prize 1901</td>\n      <td>NaN</td>\n      <td>1/2</td>\n      <td>462</td>\n      <td>Individual</td>\n      <td>Jean Henry Dunant</td>\n      <td>1828-05-08</td>\n      <td>Geneva</td>\n      <td>Switzerland</td>\n      <td>Male</td>\n      <td>NaN</td>\n      <td>NaN</td>\n      <td>NaN</td>\n      <td>1910-10-30</td>\n      <td>Heiden</td>\n      <td>Switzerland</td>\n      <td>NO</td>\n      <td>False</td>\n    </tr>\n    <tr>\n      <th>4</th>\n      <td>1901</td>\n      <td>Peace</td>\n      <td>The Nobel Peace Prize 1901</td>\n      <td>NaN</td>\n      <td>1/2</td>\n      <td>463</td>\n      <td>Individual</td>\n      <td>Frédéric Passy</td>\n      <td>1822-05-20</td>\n      <td>Paris</td>\n      <td>France</td>\n      <td>Male</td>\n      <td>NaN</td>\n      <td>NaN</td>\n      <td>NaN</td>\n      <td>1912-06-12</td>\n      <td>Paris</td>\n      <td>France</td>\n      <td>NO</td>\n      <td>False</td>\n    </tr>\n  </tbody>\n</table>\n</div>"
     },
     "execution_count": 55,
     "metadata": {},
     "output_type": "execute_result"
    }
   ],
   "source": [
    "df['sub_10_new'] = df['year'] > 2000\n",
    "df[:5]"
   ],
   "metadata": {
    "collapsed": false,
    "pycharm": {
     "name": "#%%\n"
    }
   }
  },
  {
   "cell_type": "markdown",
   "source": [
    "or if the dataset olready has these values is possble to map them to true or false\n"
   ],
   "metadata": {
    "collapsed": false,
    "pycharm": {
     "name": "#%% md\n"
    }
   }
  },
  {
   "cell_type": "code",
   "execution_count": 56,
   "outputs": [
    {
     "data": {
      "text/plain": "   year    category                                           prize  \\\n0  1901   Chemistry               The Nobel Prize in Chemistry 1901   \n1  1901  Literature              The Nobel Prize in Literature 1901   \n2  1901    Medicine  The Nobel Prize in Physiology or Medicine 1901   \n3  1901       Peace                      The Nobel Peace Prize 1901   \n4  1901       Peace                      The Nobel Peace Prize 1901   \n\n                                          motivation prize_share  laureate_id  \\\n0  \"in recognition of the extraordinary services ...         1/1          160   \n1  \"in special recognition of his poetic composit...         1/1          569   \n2  \"for his work on serum therapy, especially its...         1/1          293   \n3                                                NaN         1/2          462   \n4                                                NaN         1/2          463   \n\n  laureate_type                     full_name birth_date         birth_city  \\\n0    Individual  Jacobus Henricus van 't Hoff 1852-08-30          Rotterdam   \n1    Individual               Sully Prudhomme 1839-03-16              Paris   \n2    Individual        Emil Adolf von Behring 1854-03-15  Hansdorf (Lawice)   \n3    Individual             Jean Henry Dunant 1828-05-08             Geneva   \n4    Individual                Frédéric Passy 1822-05-20              Paris   \n\n      birth_country   sex   organization_name organization_city  \\\n0       Netherlands  Male   Berlin University            Berlin   \n1            France  Male                 NaN               NaN   \n2  Prussia (Poland)  Male  Marburg University           Marburg   \n3       Switzerland  Male                 NaN               NaN   \n4            France  Male                 NaN               NaN   \n\n  organization_country death_date death_city death_country  sub_10  sub_10_new  \n0              Germany 1911-03-01     Berlin       Germany   False       False  \n1                  NaN 1907-09-07   Châtenay        France   False       False  \n2              Germany 1917-03-31    Marburg       Germany   False       False  \n3                  NaN 1910-10-30     Heiden   Switzerland   False       False  \n4                  NaN 1912-06-12      Paris        France   False       False  ",
      "text/html": "<div>\n<style scoped>\n    .dataframe tbody tr th:only-of-type {\n        vertical-align: middle;\n    }\n\n    .dataframe tbody tr th {\n        vertical-align: top;\n    }\n\n    .dataframe thead th {\n        text-align: right;\n    }\n</style>\n<table border=\"1\" class=\"dataframe\">\n  <thead>\n    <tr style=\"text-align: right;\">\n      <th></th>\n      <th>year</th>\n      <th>category</th>\n      <th>prize</th>\n      <th>motivation</th>\n      <th>prize_share</th>\n      <th>laureate_id</th>\n      <th>laureate_type</th>\n      <th>full_name</th>\n      <th>birth_date</th>\n      <th>birth_city</th>\n      <th>birth_country</th>\n      <th>sex</th>\n      <th>organization_name</th>\n      <th>organization_city</th>\n      <th>organization_country</th>\n      <th>death_date</th>\n      <th>death_city</th>\n      <th>death_country</th>\n      <th>sub_10</th>\n      <th>sub_10_new</th>\n    </tr>\n  </thead>\n  <tbody>\n    <tr>\n      <th>0</th>\n      <td>1901</td>\n      <td>Chemistry</td>\n      <td>The Nobel Prize in Chemistry 1901</td>\n      <td>\"in recognition of the extraordinary services ...</td>\n      <td>1/1</td>\n      <td>160</td>\n      <td>Individual</td>\n      <td>Jacobus Henricus van 't Hoff</td>\n      <td>1852-08-30</td>\n      <td>Rotterdam</td>\n      <td>Netherlands</td>\n      <td>Male</td>\n      <td>Berlin University</td>\n      <td>Berlin</td>\n      <td>Germany</td>\n      <td>1911-03-01</td>\n      <td>Berlin</td>\n      <td>Germany</td>\n      <td>False</td>\n      <td>False</td>\n    </tr>\n    <tr>\n      <th>1</th>\n      <td>1901</td>\n      <td>Literature</td>\n      <td>The Nobel Prize in Literature 1901</td>\n      <td>\"in special recognition of his poetic composit...</td>\n      <td>1/1</td>\n      <td>569</td>\n      <td>Individual</td>\n      <td>Sully Prudhomme</td>\n      <td>1839-03-16</td>\n      <td>Paris</td>\n      <td>France</td>\n      <td>Male</td>\n      <td>NaN</td>\n      <td>NaN</td>\n      <td>NaN</td>\n      <td>1907-09-07</td>\n      <td>Châtenay</td>\n      <td>France</td>\n      <td>False</td>\n      <td>False</td>\n    </tr>\n    <tr>\n      <th>2</th>\n      <td>1901</td>\n      <td>Medicine</td>\n      <td>The Nobel Prize in Physiology or Medicine 1901</td>\n      <td>\"for his work on serum therapy, especially its...</td>\n      <td>1/1</td>\n      <td>293</td>\n      <td>Individual</td>\n      <td>Emil Adolf von Behring</td>\n      <td>1854-03-15</td>\n      <td>Hansdorf (Lawice)</td>\n      <td>Prussia (Poland)</td>\n      <td>Male</td>\n      <td>Marburg University</td>\n      <td>Marburg</td>\n      <td>Germany</td>\n      <td>1917-03-31</td>\n      <td>Marburg</td>\n      <td>Germany</td>\n      <td>False</td>\n      <td>False</td>\n    </tr>\n    <tr>\n      <th>3</th>\n      <td>1901</td>\n      <td>Peace</td>\n      <td>The Nobel Peace Prize 1901</td>\n      <td>NaN</td>\n      <td>1/2</td>\n      <td>462</td>\n      <td>Individual</td>\n      <td>Jean Henry Dunant</td>\n      <td>1828-05-08</td>\n      <td>Geneva</td>\n      <td>Switzerland</td>\n      <td>Male</td>\n      <td>NaN</td>\n      <td>NaN</td>\n      <td>NaN</td>\n      <td>1910-10-30</td>\n      <td>Heiden</td>\n      <td>Switzerland</td>\n      <td>False</td>\n      <td>False</td>\n    </tr>\n    <tr>\n      <th>4</th>\n      <td>1901</td>\n      <td>Peace</td>\n      <td>The Nobel Peace Prize 1901</td>\n      <td>NaN</td>\n      <td>1/2</td>\n      <td>463</td>\n      <td>Individual</td>\n      <td>Frédéric Passy</td>\n      <td>1822-05-20</td>\n      <td>Paris</td>\n      <td>France</td>\n      <td>Male</td>\n      <td>NaN</td>\n      <td>NaN</td>\n      <td>NaN</td>\n      <td>1912-06-12</td>\n      <td>Paris</td>\n      <td>France</td>\n      <td>False</td>\n      <td>False</td>\n    </tr>\n  </tbody>\n</table>\n</div>"
     },
     "execution_count": 56,
     "metadata": {},
     "output_type": "execute_result"
    }
   ],
   "source": [
    "df['sub_10'] = df['sub_10'].map({\"YES\" : True , \"NO\" : False})\n",
    "df[:5]"
   ],
   "metadata": {
    "collapsed": false,
    "pycharm": {
     "name": "#%%\n"
    }
   }
  },
  {
   "cell_type": "markdown",
   "source": [
    "### 12. Leveraging pandas built in plotting methods\n",
    "Often there are situation when you want to do a quick plot of the data  in the dataframe\n",
    "This can be done by creating a matplotlib sublpot and plotting the data manually"
   ],
   "metadata": {
    "collapsed": false,
    "pycharm": {
     "name": "#%% md\n"
    }
   }
  },
  {
   "cell_type": "code",
   "execution_count": 57,
   "outputs": [
    {
     "data": {
      "text/plain": "<Figure size 432x288 with 1 Axes>",
      "image/png": "[encoded data removed]"
     },
     "metadata": {},
     "output_type": "display_data"
    }
   ],
   "source": [
    "import matplotlib.pyplot as plt\n",
    "\n",
    "years = df['year']\n",
    "category = df['category']\n",
    "\n",
    "\n",
    "fig, ax = plt.subplots()\n",
    "plt.scatter(x=years,y=category)\n",
    "ax.set_title('year vs category')\n",
    "plt.show()"
   ],
   "metadata": {
    "collapsed": false,
    "pycharm": {
     "name": "#%%\n"
    }
   }
  },
  {
   "cell_type": "markdown",
   "source": [
    "Or using pandas functionality"
   ],
   "metadata": {
    "collapsed": false,
    "pycharm": {
     "name": "#%% md\n"
    }
   }
  },
  {
   "cell_type": "code",
   "execution_count": null,
   "outputs": [],
   "source": [
    "ax = df.plot(kind='scatter',\n",
    "             x='year',\n",
    "             y='category',\n",
    "             title='year vs category')"
   ],
   "metadata": {
    "collapsed": false,
    "pycharm": {
     "name": "#%%\n"
    }
   }
  },
  {
   "cell_type": "code",
   "execution_count": 58,
   "outputs": [
    {
     "data": {
      "text/plain": "<AxesSubplot:xlabel='year'>"
     },
     "execution_count": 58,
     "metadata": {},
     "output_type": "execute_result"
    },
    {
     "data": {
      "text/plain": "<Figure size 1440x144 with 1 Axes>",
      "image/png": "[encoded data removed]"
     },
     "metadata": {},
     "output_type": "display_data"
    }
   ],
   "source": [
    "dc = df.groupby(['year'])['full_name'].count()\n",
    "dc.plot(kind='bar', figsize =(20,2))"
   ],
   "metadata": {
    "collapsed": false,
    "pycharm": {
     "name": "#%%\n"
    }
   }
  },
  {
   "cell_type": "markdown",
   "source": [
    "### 13. Avoid manually applying string methods\n",
    "If there is a column with string values and is necessary to apply a string method,\n",
    "in this case instead of using apply method"
   ],
   "metadata": {
    "collapsed": false,
    "pycharm": {
     "name": "#%% md\n"
    }
   }
  },
  {
   "cell_type": "code",
   "execution_count": 59,
   "outputs": [
    {
     "data": {
      "text/plain": "   year    category                                           prize  \\\n0  1901   Chemistry               The Nobel Prize in Chemistry 1901   \n1  1901  Literature              The Nobel Prize in Literature 1901   \n2  1901    Medicine  The Nobel Prize in Physiology or Medicine 1901   \n3  1901       Peace                      The Nobel Peace Prize 1901   \n4  1901       Peace                      The Nobel Peace Prize 1901   \n\n                                          motivation prize_share  laureate_id  \\\n0  \"in recognition of the extraordinary services ...         1/1          160   \n1  \"in special recognition of his poetic composit...         1/1          569   \n2  \"for his work on serum therapy, especially its...         1/1          293   \n3                                                NaN         1/2          462   \n4                                                NaN         1/2          463   \n\n  laureate_type                     full_name birth_date         birth_city  \\\n0    Individual  Jacobus Henricus van 't Hoff 1852-08-30          Rotterdam   \n1    Individual               Sully Prudhomme 1839-03-16              Paris   \n2    Individual        Emil Adolf von Behring 1854-03-15  Hansdorf (Lawice)   \n3    Individual             Jean Henry Dunant 1828-05-08             Geneva   \n4    Individual                Frédéric Passy 1822-05-20              Paris   \n\n   ...   sex   organization_name organization_city organization_country  \\\n0  ...  Male   Berlin University            Berlin              Germany   \n1  ...  Male                 NaN               NaN                  NaN   \n2  ...  Male  Marburg University           Marburg              Germany   \n3  ...  Male                 NaN               NaN                  NaN   \n4  ...  Male                 NaN               NaN                  NaN   \n\n  death_date death_city death_country sub_10  sub_10_new  \\\n0 1911-03-01     Berlin       Germany  False       False   \n1 1907-09-07   Châtenay        France  False       False   \n2 1917-03-31    Marburg       Germany  False       False   \n3 1910-10-30     Heiden   Switzerland  False       False   \n4 1912-06-12      Paris        France  False       False   \n\n                    prize_name  \n0               CHEMISTRY 1901  \n1              LITERATURE 1901  \n2  PHYSIOLOGY OR MEDICINE 1901  \n3                      ZE 1901  \n4                      ZE 1901  \n\n[5 rows x 21 columns]",
      "text/html": "<div>\n<style scoped>\n    .dataframe tbody tr th:only-of-type {\n        vertical-align: middle;\n    }\n\n    .dataframe tbody tr th {\n        vertical-align: top;\n    }\n\n    .dataframe thead th {\n        text-align: right;\n    }\n</style>\n<table border=\"1\" class=\"dataframe\">\n  <thead>\n    <tr style=\"text-align: right;\">\n      <th></th>\n      <th>year</th>\n      <th>category</th>\n      <th>prize</th>\n      <th>motivation</th>\n      <th>prize_share</th>\n      <th>laureate_id</th>\n      <th>laureate_type</th>\n      <th>full_name</th>\n      <th>birth_date</th>\n      <th>birth_city</th>\n      <th>...</th>\n      <th>sex</th>\n      <th>organization_name</th>\n      <th>organization_city</th>\n      <th>organization_country</th>\n      <th>death_date</th>\n      <th>death_city</th>\n      <th>death_country</th>\n      <th>sub_10</th>\n      <th>sub_10_new</th>\n      <th>prize_name</th>\n    </tr>\n  </thead>\n  <tbody>\n    <tr>\n      <th>0</th>\n      <td>1901</td>\n      <td>Chemistry</td>\n      <td>The Nobel Prize in Chemistry 1901</td>\n      <td>\"in recognition of the extraordinary services ...</td>\n      <td>1/1</td>\n      <td>160</td>\n      <td>Individual</td>\n      <td>Jacobus Henricus van 't Hoff</td>\n      <td>1852-08-30</td>\n      <td>Rotterdam</td>\n      <td>...</td>\n      <td>Male</td>\n      <td>Berlin University</td>\n      <td>Berlin</td>\n      <td>Germany</td>\n      <td>1911-03-01</td>\n      <td>Berlin</td>\n      <td>Germany</td>\n      <td>False</td>\n      <td>False</td>\n      <td>CHEMISTRY 1901</td>\n    </tr>\n    <tr>\n      <th>1</th>\n      <td>1901</td>\n      <td>Literature</td>\n      <td>The Nobel Prize in Literature 1901</td>\n      <td>\"in special recognition of his poetic composit...</td>\n      <td>1/1</td>\n      <td>569</td>\n      <td>Individual</td>\n      <td>Sully Prudhomme</td>\n      <td>1839-03-16</td>\n      <td>Paris</td>\n      <td>...</td>\n      <td>Male</td>\n      <td>NaN</td>\n      <td>NaN</td>\n      <td>NaN</td>\n      <td>1907-09-07</td>\n      <td>Châtenay</td>\n      <td>France</td>\n      <td>False</td>\n      <td>False</td>\n      <td>LITERATURE 1901</td>\n    </tr>\n    <tr>\n      <th>2</th>\n      <td>1901</td>\n      <td>Medicine</td>\n      <td>The Nobel Prize in Physiology or Medicine 1901</td>\n      <td>\"for his work on serum therapy, especially its...</td>\n      <td>1/1</td>\n      <td>293</td>\n      <td>Individual</td>\n      <td>Emil Adolf von Behring</td>\n      <td>1854-03-15</td>\n      <td>Hansdorf (Lawice)</td>\n      <td>...</td>\n      <td>Male</td>\n      <td>Marburg University</td>\n      <td>Marburg</td>\n      <td>Germany</td>\n      <td>1917-03-31</td>\n      <td>Marburg</td>\n      <td>Germany</td>\n      <td>False</td>\n      <td>False</td>\n      <td>PHYSIOLOGY OR MEDICINE 1901</td>\n    </tr>\n    <tr>\n      <th>3</th>\n      <td>1901</td>\n      <td>Peace</td>\n      <td>The Nobel Peace Prize 1901</td>\n      <td>NaN</td>\n      <td>1/2</td>\n      <td>462</td>\n      <td>Individual</td>\n      <td>Jean Henry Dunant</td>\n      <td>1828-05-08</td>\n      <td>Geneva</td>\n      <td>...</td>\n      <td>Male</td>\n      <td>NaN</td>\n      <td>NaN</td>\n      <td>NaN</td>\n      <td>1910-10-30</td>\n      <td>Heiden</td>\n      <td>Switzerland</td>\n      <td>False</td>\n      <td>False</td>\n      <td>ZE 1901</td>\n    </tr>\n    <tr>\n      <th>4</th>\n      <td>1901</td>\n      <td>Peace</td>\n      <td>The Nobel Peace Prize 1901</td>\n      <td>NaN</td>\n      <td>1/2</td>\n      <td>463</td>\n      <td>Individual</td>\n      <td>Frédéric Passy</td>\n      <td>1822-05-20</td>\n      <td>Paris</td>\n      <td>...</td>\n      <td>Male</td>\n      <td>NaN</td>\n      <td>NaN</td>\n      <td>NaN</td>\n      <td>1912-06-12</td>\n      <td>Paris</td>\n      <td>France</td>\n      <td>False</td>\n      <td>False</td>\n      <td>ZE 1901</td>\n    </tr>\n  </tbody>\n</table>\n<p>5 rows × 21 columns</p>\n</div>"
     },
     "execution_count": 59,
     "metadata": {},
     "output_type": "execute_result"
    }
   ],
   "source": [
    "df['prize_name'] = df['prize'].apply(lambda x: str(x)[19:].upper())\n",
    "df[:5]"
   ],
   "metadata": {
    "collapsed": false,
    "pycharm": {
     "name": "#%%\n"
    }
   }
  },
  {
   "cell_type": "markdown",
   "source": [
    "pandas has **string method** and is possible to apply a string method to the entire column"
   ],
   "metadata": {
    "collapsed": false,
    "pycharm": {
     "name": "#%% md\n"
    }
   }
  },
  {
   "cell_type": "code",
   "execution_count": 60,
   "outputs": [
    {
     "data": {
      "text/plain": "     year    category                                           prize  \\\n0    1901   Chemistry               The Nobel Prize in Chemistry 1901   \n1    1901  Literature              The Nobel Prize in Literature 1901   \n2    1901    Medicine  The Nobel Prize in Physiology or Medicine 1901   \n3    1901       Peace                      The Nobel Peace Prize 1901   \n4    1901       Peace                      The Nobel Peace Prize 1901   \n..    ...         ...                                             ...   \n906  2016    Medicine  The Nobel Prize in Physiology or Medicine 2016   \n907  2016       Peace                      The Nobel Peace Prize 2016   \n908  2016     Physics                 The Nobel Prize in Physics 2016   \n909  2016     Physics                 The Nobel Prize in Physics 2016   \n910  2016     Physics                 The Nobel Prize in Physics 2016   \n\n                                            motivation prize_share  \\\n0    \"in recognition of the extraordinary services ...         1/1   \n1    \"in special recognition of his poetic composit...         1/1   \n2    \"for his work on serum therapy, especially its...         1/1   \n3                                                  NaN         1/2   \n4                                                  NaN         1/2   \n..                                                 ...         ...   \n906  \"for his discoveries of mechanisms for autophagy\"         1/1   \n907  \"for his resolute efforts to bring the country...         1/1   \n908  \"for theoretical discoveries of topological ph...         1/2   \n909  \"for theoretical discoveries of topological ph...         1/4   \n910  \"for theoretical discoveries of topological ph...         1/4   \n\n     laureate_id laureate_type                     full_name birth_date  \\\n0            160    Individual  Jacobus Henricus van 't Hoff 1852-08-30   \n1            569    Individual               Sully Prudhomme 1839-03-16   \n2            293    Individual        Emil Adolf von Behring 1854-03-15   \n3            462    Individual             Jean Henry Dunant 1828-05-08   \n4            463    Individual                Frédéric Passy 1822-05-20   \n..           ...           ...                           ...        ...   \n906          927    Individual              Yoshinori Ohsumi 1945-02-09   \n907          934    Individual            Juan Manuel Santos 1951-08-10   \n908          928    Individual             David J. Thouless 1934-09-21   \n909          929    Individual          F. Duncan M. Haldane 1951-09-14   \n910          930    Individual         J. Michael Kosterlitz 1943-06-22   \n\n            birth_city  ...              organization_name organization_city  \\\n0            Rotterdam  ...              Berlin University            Berlin   \n1                Paris  ...                            NaN               NaN   \n2    Hansdorf (Lawice)  ...             Marburg University           Marburg   \n3               Geneva  ...                            NaN               NaN   \n4                Paris  ...                            NaN               NaN   \n..                 ...  ...                            ...               ...   \n906            Fukuoka  ...  Tokyo Institute of Technology             Tokyo   \n907             Bogotá  ...                            NaN               NaN   \n908           Bearsden  ...       University of Washington       Seattle, WA   \n909             London  ...           Princeton University     Princeton, NJ   \n910           Aberdeen  ...               Brown University    Providence, RI   \n\n         organization_country death_date death_city death_country sub_10  \\\n0                     Germany 1911-03-01     Berlin       Germany  False   \n1                         NaN 1907-09-07   Châtenay        France  False   \n2                     Germany 1917-03-31    Marburg       Germany  False   \n3                         NaN 1910-10-30     Heiden   Switzerland  False   \n4                         NaN 1912-06-12      Paris        France  False   \n..                        ...        ...        ...           ...    ...   \n906                     Japan        NaT        NaN           NaN   True   \n907                       NaN        NaT        NaN           NaN   True   \n908  United States of America        NaT        NaN           NaN   True   \n909  United States of America        NaT        NaN           NaN   True   \n910  United States of America        NaT        NaN           NaN   True   \n\n    sub_10_new                   prize_name               prize_name_str  \n0        False               CHEMISTRY 1901               CHEMISTRY 1901  \n1        False              LITERATURE 1901              LITERATURE 1901  \n2        False  PHYSIOLOGY OR MEDICINE 1901  PHYSIOLOGY OR MEDICINE 1901  \n3        False                      ZE 1901                      ZE 1901  \n4        False                      ZE 1901                      ZE 1901  \n..         ...                          ...                          ...  \n906       True  PHYSIOLOGY OR MEDICINE 2016  PHYSIOLOGY OR MEDICINE 2016  \n907       True                      ZE 2016                      ZE 2016  \n908       True                 PHYSICS 2016                 PHYSICS 2016  \n909       True                 PHYSICS 2016                 PHYSICS 2016  \n910       True                 PHYSICS 2016                 PHYSICS 2016  \n\n[911 rows x 22 columns]",
      "text/html": "<div>\n<style scoped>\n    .dataframe tbody tr th:only-of-type {\n        vertical-align: middle;\n    }\n\n    .dataframe tbody tr th {\n        vertical-align: top;\n    }\n\n    .dataframe thead th {\n        text-align: right;\n    }\n</style>\n<table border=\"1\" class=\"dataframe\">\n  <thead>\n    <tr style=\"text-align: right;\">\n      <th></th>\n      <th>year</th>\n      <th>category</th>\n      <th>prize</th>\n      <th>motivation</th>\n      <th>prize_share</th>\n      <th>laureate_id</th>\n      <th>laureate_type</th>\n      <th>full_name</th>\n      <th>birth_date</th>\n      <th>birth_city</th>\n      <th>...</th>\n      <th>organization_name</th>\n      <th>organization_city</th>\n      <th>organization_country</th>\n      <th>death_date</th>\n      <th>death_city</th>\n      <th>death_country</th>\n      <th>sub_10</th>\n      <th>sub_10_new</th>\n      <th>prize_name</th>\n      <th>prize_name_str</th>\n    </tr>\n  </thead>\n  <tbody>\n    <tr>\n      <th>0</th>\n      <td>1901</td>\n      <td>Chemistry</td>\n      <td>The Nobel Prize in Chemistry 1901</td>\n      <td>\"in recognition of the extraordinary services ...</td>\n      <td>1/1</td>\n      <td>160</td>\n      <td>Individual</td>\n      <td>Jacobus Henricus van 't Hoff</td>\n      <td>1852-08-30</td>\n      <td>Rotterdam</td>\n      <td>...</td>\n      <td>Berlin University</td>\n      <td>Berlin</td>\n      <td>Germany</td>\n      <td>1911-03-01</td>\n      <td>Berlin</td>\n      <td>Germany</td>\n      <td>False</td>\n      <td>False</td>\n      <td>CHEMISTRY 1901</td>\n      <td>CHEMISTRY 1901</td>\n    </tr>\n    <tr>\n      <th>1</th>\n      <td>1901</td>\n      <td>Literature</td>\n      <td>The Nobel Prize in Literature 1901</td>\n      <td>\"in special recognition of his poetic composit...</td>\n      <td>1/1</td>\n      <td>569</td>\n      <td>Individual</td>\n      <td>Sully Prudhomme</td>\n      <td>1839-03-16</td>\n      <td>Paris</td>\n      <td>...</td>\n      <td>NaN</td>\n      <td>NaN</td>\n      <td>NaN</td>\n      <td>1907-09-07</td>\n      <td>Châtenay</td>\n      <td>France</td>\n      <td>False</td>\n      <td>False</td>\n      <td>LITERATURE 1901</td>\n      <td>LITERATURE 1901</td>\n    </tr>\n    <tr>\n      <th>2</th>\n      <td>1901</td>\n      <td>Medicine</td>\n      <td>The Nobel Prize in Physiology or Medicine 1901</td>\n      <td>\"for his work on serum therapy, especially its...</td>\n      <td>1/1</td>\n      <td>293</td>\n      <td>Individual</td>\n      <td>Emil Adolf von Behring</td>\n      <td>1854-03-15</td>\n      <td>Hansdorf (Lawice)</td>\n      <td>...</td>\n      <td>Marburg University</td>\n      <td>Marburg</td>\n      <td>Germany</td>\n      <td>1917-03-31</td>\n      <td>Marburg</td>\n      <td>Germany</td>\n      <td>False</td>\n      <td>False</td>\n      <td>PHYSIOLOGY OR MEDICINE 1901</td>\n      <td>PHYSIOLOGY OR MEDICINE 1901</td>\n    </tr>\n    <tr>\n      <th>3</th>\n      <td>1901</td>\n      <td>Peace</td>\n      <td>The Nobel Peace Prize 1901</td>\n      <td>NaN</td>\n      <td>1/2</td>\n      <td>462</td>\n      <td>Individual</td>\n      <td>Jean Henry Dunant</td>\n      <td>1828-05-08</td>\n      <td>Geneva</td>\n      <td>...</td>\n      <td>NaN</td>\n      <td>NaN</td>\n      <td>NaN</td>\n      <td>1910-10-30</td>\n      <td>Heiden</td>\n      <td>Switzerland</td>\n      <td>False</td>\n      <td>False</td>\n      <td>ZE 1901</td>\n      <td>ZE 1901</td>\n    </tr>\n    <tr>\n      <th>4</th>\n      <td>1901</td>\n      <td>Peace</td>\n      <td>The Nobel Peace Prize 1901</td>\n      <td>NaN</td>\n      <td>1/2</td>\n      <td>463</td>\n      <td>Individual</td>\n      <td>Frédéric Passy</td>\n      <td>1822-05-20</td>\n      <td>Paris</td>\n      <td>...</td>\n      <td>NaN</td>\n      <td>NaN</td>\n      <td>NaN</td>\n      <td>1912-06-12</td>\n      <td>Paris</td>\n      <td>France</td>\n      <td>False</td>\n      <td>False</td>\n      <td>ZE 1901</td>\n      <td>ZE 1901</td>\n    </tr>\n    <tr>\n      <th>...</th>\n      <td>...</td>\n      <td>...</td>\n      <td>...</td>\n      <td>...</td>\n      <td>...</td>\n      <td>...</td>\n      <td>...</td>\n      <td>...</td>\n      <td>...</td>\n      <td>...</td>\n      <td>...</td>\n      <td>...</td>\n      <td>...</td>\n      <td>...</td>\n      <td>...</td>\n      <td>...</td>\n      <td>...</td>\n      <td>...</td>\n      <td>...</td>\n      <td>...</td>\n      <td>...</td>\n    </tr>\n    <tr>\n      <th>906</th>\n      <td>2016</td>\n      <td>Medicine</td>\n      <td>The Nobel Prize in Physiology or Medicine 2016</td>\n      <td>\"for his discoveries of mechanisms for autophagy\"</td>\n      <td>1/1</td>\n      <td>927</td>\n      <td>Individual</td>\n      <td>Yoshinori Ohsumi</td>\n      <td>1945-02-09</td>\n      <td>Fukuoka</td>\n      <td>...</td>\n      <td>Tokyo Institute of Technology</td>\n      <td>Tokyo</td>\n      <td>Japan</td>\n      <td>NaT</td>\n      <td>NaN</td>\n      <td>NaN</td>\n      <td>True</td>\n      <td>True</td>\n      <td>PHYSIOLOGY OR MEDICINE 2016</td>\n      <td>PHYSIOLOGY OR MEDICINE 2016</td>\n    </tr>\n    <tr>\n      <th>907</th>\n      <td>2016</td>\n      <td>Peace</td>\n      <td>The Nobel Peace Prize 2016</td>\n      <td>\"for his resolute efforts to bring the country...</td>\n      <td>1/1</td>\n      <td>934</td>\n      <td>Individual</td>\n      <td>Juan Manuel Santos</td>\n      <td>1951-08-10</td>\n      <td>Bogotá</td>\n      <td>...</td>\n      <td>NaN</td>\n      <td>NaN</td>\n      <td>NaN</td>\n      <td>NaT</td>\n      <td>NaN</td>\n      <td>NaN</td>\n      <td>True</td>\n      <td>True</td>\n      <td>ZE 2016</td>\n      <td>ZE 2016</td>\n    </tr>\n    <tr>\n      <th>908</th>\n      <td>2016</td>\n      <td>Physics</td>\n      <td>The Nobel Prize in Physics 2016</td>\n      <td>\"for theoretical discoveries of topological ph...</td>\n      <td>1/2</td>\n      <td>928</td>\n      <td>Individual</td>\n      <td>David J. Thouless</td>\n      <td>1934-09-21</td>\n      <td>Bearsden</td>\n      <td>...</td>\n      <td>University of Washington</td>\n      <td>Seattle, WA</td>\n      <td>United States of America</td>\n      <td>NaT</td>\n      <td>NaN</td>\n      <td>NaN</td>\n      <td>True</td>\n      <td>True</td>\n      <td>PHYSICS 2016</td>\n      <td>PHYSICS 2016</td>\n    </tr>\n    <tr>\n      <th>909</th>\n      <td>2016</td>\n      <td>Physics</td>\n      <td>The Nobel Prize in Physics 2016</td>\n      <td>\"for theoretical discoveries of topological ph...</td>\n      <td>1/4</td>\n      <td>929</td>\n      <td>Individual</td>\n      <td>F. Duncan M. Haldane</td>\n      <td>1951-09-14</td>\n      <td>London</td>\n      <td>...</td>\n      <td>Princeton University</td>\n      <td>Princeton, NJ</td>\n      <td>United States of America</td>\n      <td>NaT</td>\n      <td>NaN</td>\n      <td>NaN</td>\n      <td>True</td>\n      <td>True</td>\n      <td>PHYSICS 2016</td>\n      <td>PHYSICS 2016</td>\n    </tr>\n    <tr>\n      <th>910</th>\n      <td>2016</td>\n      <td>Physics</td>\n      <td>The Nobel Prize in Physics 2016</td>\n      <td>\"for theoretical discoveries of topological ph...</td>\n      <td>1/4</td>\n      <td>930</td>\n      <td>Individual</td>\n      <td>J. Michael Kosterlitz</td>\n      <td>1943-06-22</td>\n      <td>Aberdeen</td>\n      <td>...</td>\n      <td>Brown University</td>\n      <td>Providence, RI</td>\n      <td>United States of America</td>\n      <td>NaT</td>\n      <td>NaN</td>\n      <td>NaN</td>\n      <td>True</td>\n      <td>True</td>\n      <td>PHYSICS 2016</td>\n      <td>PHYSICS 2016</td>\n    </tr>\n  </tbody>\n</table>\n<p>911 rows × 22 columns</p>\n</div>"
     },
     "execution_count": 60,
     "metadata": {},
     "output_type": "execute_result"
    }
   ],
   "source": [
    "df['prize_name_str'] = df['prize'].str[19:].str.upper()\n",
    "df"
   ],
   "metadata": {
    "collapsed": false,
    "pycharm": {
     "name": "#%%\n"
    }
   }
  },
  {
   "cell_type": "markdown",
   "source": [
    "### 14. Avoid repeating commonly used data transformation\n",
    "Is generally best practice to not repeat code ,unless needed, and create functions, this make code easy to read and\n",
    "ensures that the same processing is done identically on all the dataframes"
   ],
   "metadata": {
    "collapsed": false,
    "pycharm": {
     "name": "#%% md\n"
    }
   }
  },
  {
   "cell_type": "markdown",
   "source": [
    "### 15. Use dictionary for renaming columns\n",
    "Is possible to rename colums giving a list o new name\n",
    "but is preferred and much cleaner way is to use the rename method and provide\n",
    "a dictionary with the old and new names"
   ],
   "metadata": {
    "collapsed": false,
    "pycharm": {
     "name": "#%% md\n"
    }
   }
  },
  {
   "cell_type": "code",
   "execution_count": 62,
   "outputs": [
    {
     "name": "stdout",
     "output_type": "stream",
     "text": [
      "['year', 'category', 'prize', 'motivation', 'prize_share', 'laureate_id', 'laureate_type', 'full_name', 'birth_date', 'birth_city', 'birth_country', 'sex']\n"
     ]
    }
   ],
   "source": [
    "df_subset = df[['year', 'category', 'prize', 'motivation', 'prize_share',\n",
    "         'laureate_id', 'laureate_type', 'full_name', 'birth_date', 'birth_city',\n",
    "         'birth_country', 'sex']]\n",
    "print(df_subset.columns.to_list())"
   ],
   "metadata": {
    "collapsed": false,
    "pycharm": {
     "name": "#%%\n"
    }
   }
  },
  {
   "cell_type": "code",
   "execution_count": 64,
   "outputs": [
    {
     "name": "stdout",
     "output_type": "stream",
     "text": [
      "['year_new', 'category_new', 'prize_new', 'motivation_new', 'prize_share_new', 'laureate_id_new', 'laureate_type_new', 'full_name_new', 'birth_date_new', 'birth_city_new', 'birth_country_new', 'sex_new']\n"
     ]
    },
    {
     "data": {
      "text/plain": "   year_new category_new                                       prize_new  \\\n0      1901    Chemistry               The Nobel Prize in Chemistry 1901   \n1      1901   Literature              The Nobel Prize in Literature 1901   \n2      1901     Medicine  The Nobel Prize in Physiology or Medicine 1901   \n\n                                      motivation_new prize_share_new  \\\n0  \"in recognition of the extraordinary services ...             1/1   \n1  \"in special recognition of his poetic composit...             1/1   \n2  \"for his work on serum therapy, especially its...             1/1   \n\n   laureate_id_new laureate_type_new                 full_name_new  \\\n0              160        Individual  Jacobus Henricus van 't Hoff   \n1              569        Individual               Sully Prudhomme   \n2              293        Individual        Emil Adolf von Behring   \n\n  birth_date_new     birth_city_new birth_country_new sex_new  \n0     1852-08-30          Rotterdam       Netherlands    Male  \n1     1839-03-16              Paris            France    Male  \n2     1854-03-15  Hansdorf (Lawice)  Prussia (Poland)    Male  ",
      "text/html": "<div>\n<style scoped>\n    .dataframe tbody tr th:only-of-type {\n        vertical-align: middle;\n    }\n\n    .dataframe tbody tr th {\n        vertical-align: top;\n    }\n\n    .dataframe thead th {\n        text-align: right;\n    }\n</style>\n<table border=\"1\" class=\"dataframe\">\n  <thead>\n    <tr style=\"text-align: right;\">\n      <th></th>\n      <th>year_new</th>\n      <th>category_new</th>\n      <th>prize_new</th>\n      <th>motivation_new</th>\n      <th>prize_share_new</th>\n      <th>laureate_id_new</th>\n      <th>laureate_type_new</th>\n      <th>full_name_new</th>\n      <th>birth_date_new</th>\n      <th>birth_city_new</th>\n      <th>birth_country_new</th>\n      <th>sex_new</th>\n    </tr>\n  </thead>\n  <tbody>\n    <tr>\n      <th>0</th>\n      <td>1901</td>\n      <td>Chemistry</td>\n      <td>The Nobel Prize in Chemistry 1901</td>\n      <td>\"in recognition of the extraordinary services ...</td>\n      <td>1/1</td>\n      <td>160</td>\n      <td>Individual</td>\n      <td>Jacobus Henricus van 't Hoff</td>\n      <td>1852-08-30</td>\n      <td>Rotterdam</td>\n      <td>Netherlands</td>\n      <td>Male</td>\n    </tr>\n    <tr>\n      <th>1</th>\n      <td>1901</td>\n      <td>Literature</td>\n      <td>The Nobel Prize in Literature 1901</td>\n      <td>\"in special recognition of his poetic composit...</td>\n      <td>1/1</td>\n      <td>569</td>\n      <td>Individual</td>\n      <td>Sully Prudhomme</td>\n      <td>1839-03-16</td>\n      <td>Paris</td>\n      <td>France</td>\n      <td>Male</td>\n    </tr>\n    <tr>\n      <th>2</th>\n      <td>1901</td>\n      <td>Medicine</td>\n      <td>The Nobel Prize in Physiology or Medicine 1901</td>\n      <td>\"for his work on serum therapy, especially its...</td>\n      <td>1/1</td>\n      <td>293</td>\n      <td>Individual</td>\n      <td>Emil Adolf von Behring</td>\n      <td>1854-03-15</td>\n      <td>Hansdorf (Lawice)</td>\n      <td>Prussia (Poland)</td>\n      <td>Male</td>\n    </tr>\n  </tbody>\n</table>\n</div>"
     },
     "execution_count": 64,
     "metadata": {},
     "output_type": "execute_result"
    }
   ],
   "source": [
    "#instead of this\n",
    "new_col = [ col +\"_new\" for col in df_subset.columns.to_list()]\n",
    "print(new_col)\n",
    "df_subset.columns = new_col\n",
    "df_subset.head(3)"
   ],
   "metadata": {
    "collapsed": false,
    "pycharm": {
     "name": "#%%\n"
    }
   }
  },
  {
   "cell_type": "code",
   "execution_count": 65,
   "outputs": [
    {
     "data": {
      "text/plain": "   year_nobel    category                                           prize  \\\n0        1901   Chemistry               The Nobel Prize in Chemistry 1901   \n1        1901  Literature              The Nobel Prize in Literature 1901   \n2        1901    Medicine  The Nobel Prize in Physiology or Medicine 1901   \n\n                                          motivation prize_share  laureate_id  \\\n0  \"in recognition of the extraordinary services ...         1/1          160   \n1  \"in special recognition of his poetic composit...         1/1          569   \n2  \"for his work on serum therapy, especially its...         1/1          293   \n\n  laureate_type                     full_name birth_date         birth_city  \\\n0    Individual  Jacobus Henricus van 't Hoff 1852-08-30          Rotterdam   \n1    Individual               Sully Prudhomme 1839-03-16              Paris   \n2    Individual        Emil Adolf von Behring 1854-03-15  Hansdorf (Lawice)   \n\n      birth_country   sex  \n0       Netherlands  Male  \n1            France  Male  \n2  Prussia (Poland)  Male  ",
      "text/html": "<div>\n<style scoped>\n    .dataframe tbody tr th:only-of-type {\n        vertical-align: middle;\n    }\n\n    .dataframe tbody tr th {\n        vertical-align: top;\n    }\n\n    .dataframe thead th {\n        text-align: right;\n    }\n</style>\n<table border=\"1\" class=\"dataframe\">\n  <thead>\n    <tr style=\"text-align: right;\">\n      <th></th>\n      <th>year_nobel</th>\n      <th>category</th>\n      <th>prize</th>\n      <th>motivation</th>\n      <th>prize_share</th>\n      <th>laureate_id</th>\n      <th>laureate_type</th>\n      <th>full_name</th>\n      <th>birth_date</th>\n      <th>birth_city</th>\n      <th>birth_country</th>\n      <th>sex</th>\n    </tr>\n  </thead>\n  <tbody>\n    <tr>\n      <th>0</th>\n      <td>1901</td>\n      <td>Chemistry</td>\n      <td>The Nobel Prize in Chemistry 1901</td>\n      <td>\"in recognition of the extraordinary services ...</td>\n      <td>1/1</td>\n      <td>160</td>\n      <td>Individual</td>\n      <td>Jacobus Henricus van 't Hoff</td>\n      <td>1852-08-30</td>\n      <td>Rotterdam</td>\n      <td>Netherlands</td>\n      <td>Male</td>\n    </tr>\n    <tr>\n      <th>1</th>\n      <td>1901</td>\n      <td>Literature</td>\n      <td>The Nobel Prize in Literature 1901</td>\n      <td>\"in special recognition of his poetic composit...</td>\n      <td>1/1</td>\n      <td>569</td>\n      <td>Individual</td>\n      <td>Sully Prudhomme</td>\n      <td>1839-03-16</td>\n      <td>Paris</td>\n      <td>France</td>\n      <td>Male</td>\n    </tr>\n    <tr>\n      <th>2</th>\n      <td>1901</td>\n      <td>Medicine</td>\n      <td>The Nobel Prize in Physiology or Medicine 1901</td>\n      <td>\"for his work on serum therapy, especially its...</td>\n      <td>1/1</td>\n      <td>293</td>\n      <td>Individual</td>\n      <td>Emil Adolf von Behring</td>\n      <td>1854-03-15</td>\n      <td>Hansdorf (Lawice)</td>\n      <td>Prussia (Poland)</td>\n      <td>Male</td>\n    </tr>\n  </tbody>\n</table>\n</div>"
     },
     "execution_count": 65,
     "metadata": {},
     "output_type": "execute_result"
    }
   ],
   "source": [
    "# prefer this\n",
    "df_subset = df[['year', 'category', 'prize', 'motivation', 'prize_share',\n",
    "                'laureate_id', 'laureate_type', 'full_name', 'birth_date', 'birth_city',\n",
    "                'birth_country', 'sex']]\n",
    "df_subset = df_subset.rename(columns={\"year\":\"year_nobel\"})\n",
    "df_subset.head(3)"
   ],
   "metadata": {
    "collapsed": false,
    "pycharm": {
     "name": "#%%\n"
    }
   }
  },
  {
   "cell_type": "markdown",
   "source": [
    "### 16. Aggregating by groups not manually but with group by\n",
    "Group by allows you to select a colum or columns to group the data on and then\n",
    "to perform **any aggregation function** to those group indipendently"
   ],
   "metadata": {
    "collapsed": false,
    "pycharm": {
     "name": "#%% md\n"
    }
   }
  },
  {
   "cell_type": "code",
   "execution_count": 66,
   "outputs": [
    {
     "name": "stdout",
     "output_type": "stream",
     "text": [
      "male 1974-08-23 00:00:00  female 1997-07-12 00:00:00\n"
     ]
    }
   ],
   "source": [
    "man_records = df.loc[df['sex'] == 'Male']['birth_date'].max()\n",
    "female_records = df.loc[df['sex'] == 'Female']['birth_date'].max()\n",
    "print(f\"male {man_records}  female {female_records}\")"
   ],
   "metadata": {
    "collapsed": false,
    "pycharm": {
     "name": "#%%\n"
    }
   }
  },
  {
   "cell_type": "code",
   "execution_count": 67,
   "outputs": [
    {
     "data": {
      "text/plain": "sex\nFemale   1997-07-12\nMale     1974-08-23\nName: birth_date, dtype: datetime64[ns]"
     },
     "metadata": {},
     "output_type": "display_data"
    }
   ],
   "source": [
    "records = df.groupby('sex')['birth_date'].max()\n",
    "display(records)"
   ],
   "metadata": {
    "collapsed": false,
    "pycharm": {
     "name": "#%%\n"
    }
   }
  },
  {
   "cell_type": "markdown",
   "source": [
    "### 17. Looping over the rows to create aggregates\n",
    "Instead of iterating over each rows in the dataframe storing the result after each iteration ...\n"
   ],
   "metadata": {
    "collapsed": false,
    "pycharm": {
     "name": "#%% md\n"
    }
   }
  },
  {
   "cell_type": "code",
   "execution_count": 68,
   "outputs": [
    {
     "data": {
      "text/plain": "1908.8345323741007"
     },
     "metadata": {},
     "output_type": "display_data"
    },
    {
     "data": {
      "text/plain": "1915.0"
     },
     "metadata": {},
     "output_type": "display_data"
    },
    {
     "data": {
      "text/plain": "ModeResult(mode=array([1918.]), count=array([22]))"
     },
     "metadata": {},
     "output_type": "display_data"
    },
    {
     "data": {
      "text/plain": "1918.0"
     },
     "metadata": {},
     "output_type": "display_data"
    },
    {
     "data": {
      "text/plain": "array([[<AxesSubplot:title={'center':'birth_date'}>]], dtype=object)"
     },
     "execution_count": 68,
     "metadata": {},
     "output_type": "execute_result"
    },
    {
     "data": {
      "text/plain": "<Figure size 432x288 with 1 Axes>",
      "image/png": "[encoded data removed]"
     },
     "metadata": {},
     "output_type": "display_data"
    }
   ],
   "source": [
    "from scipy import stats as st\n",
    "\n",
    "df['birth_date_dt'] = df['birth_date'].dt.date #convert from timestamp to date\n",
    "\n",
    "mans_date = []\n",
    "female_date = []\n",
    "#gets average\n",
    "for i, row in df.iterrows():\n",
    "    group = row.sex\n",
    "    if group == 'Male':\n",
    "        mans_date.append( row.birth_date.year )\n",
    "    else:\n",
    "        female_date.append(row.birth_date_dt.year)\n",
    "\n",
    "#man\n",
    "mans_array = np.array(mans_date)\n",
    "mans_array_data = mans_array[ ~np.isnan(mans_array) ] #remove nan\n",
    "display(np.mean(mans_array_data))\n",
    "display(np.median(mans_array_data))\n",
    "display(st.mode(mans_array_data))\n",
    "val, counts = np.unique(mans_array_data, return_counts=True)\n",
    "display(val[np.argmax(counts)])\n",
    "df.query('sex == \"Male\"').hist(\n",
    "    column='birth_date'\n",
    ")\n"
   ],
   "metadata": {
    "collapsed": false,
    "pycharm": {
     "name": "#%%\n"
    }
   }
  },
  {
   "cell_type": "code",
   "execution_count": 69,
   "outputs": [
    {
     "data": {
      "text/plain": "1921.5510204081634"
     },
     "metadata": {},
     "output_type": "display_data"
    },
    {
     "data": {
      "text/plain": "1930.0"
     },
     "metadata": {},
     "output_type": "display_data"
    },
    {
     "data": {
      "text/plain": "ModeResult(mode=array([1867.]), count=array([3]))"
     },
     "metadata": {},
     "output_type": "display_data"
    },
    {
     "data": {
      "text/plain": "1867.0"
     },
     "metadata": {},
     "output_type": "display_data"
    },
    {
     "data": {
      "text/plain": "array([[<AxesSubplot:title={'center':'birth_date'}>]], dtype=object)"
     },
     "execution_count": 69,
     "metadata": {},
     "output_type": "execute_result"
    },
    {
     "data": {
      "text/plain": "<Figure size 432x288 with 1 Axes>",
      "image/png": "[encoded data removed]"
     },
     "metadata": {},
     "output_type": "display_data"
    }
   ],
   "source": [
    "#man\n",
    "fem_array = np.array(female_date)\n",
    "fem_array_data = fem_array[ ~np.isnan(fem_array) ] #remove nan\n",
    "display(np.mean(fem_array_data))\n",
    "display(np.median(fem_array_data))\n",
    "display(st.mode(fem_array_data))\n",
    "val, counts = np.unique(fem_array_data, return_counts=True)\n",
    "display(val[np.argmax(counts)])\n",
    "df.query('sex == \"Female\"').hist(\n",
    "    column='birth_date'\n",
    ")"
   ],
   "metadata": {
    "collapsed": false,
    "pycharm": {
     "name": "#%%\n"
    }
   }
  },
  {
   "cell_type": "markdown",
   "source": [
    "The same result can be calculated by simple groupby aggregation\n",
    "Grouping in this way also allow to provide multiple way to aggregate data"
   ],
   "metadata": {
    "collapsed": false,
    "pycharm": {
     "name": "#%% md\n"
    }
   }
  },
  {
   "cell_type": "code",
   "execution_count": 70,
   "outputs": [
    {
     "data": {
      "text/plain": "                                mean              median\nsex                                                     \nFemale 1922-01-17 00:00:00.000000000 1930-12-30 00:00:00\nMale   1909-05-07 11:53:05.611510784 1914-12-10 12:00:00",
      "text/html": "<div>\n<style scoped>\n    .dataframe tbody tr th:only-of-type {\n        vertical-align: middle;\n    }\n\n    .dataframe tbody tr th {\n        vertical-align: top;\n    }\n\n    .dataframe thead th {\n        text-align: right;\n    }\n</style>\n<table border=\"1\" class=\"dataframe\">\n  <thead>\n    <tr style=\"text-align: right;\">\n      <th></th>\n      <th>mean</th>\n      <th>median</th>\n    </tr>\n    <tr>\n      <th>sex</th>\n      <th></th>\n      <th></th>\n    </tr>\n  </thead>\n  <tbody>\n    <tr>\n      <th>Female</th>\n      <td>1922-01-17 00:00:00.000000000</td>\n      <td>1930-12-30 00:00:00</td>\n    </tr>\n    <tr>\n      <th>Male</th>\n      <td>1909-05-07 11:53:05.611510784</td>\n      <td>1914-12-10 12:00:00</td>\n    </tr>\n  </tbody>\n</table>\n</div>"
     },
     "metadata": {},
     "output_type": "display_data"
    },
    {
     "data": {
      "text/plain": "                                mean              median  \\\nsex                                                        \nFemale 1922-01-17 00:00:00.000000000 1930-12-30 00:00:00   \nMale   1909-05-07 11:53:05.611510784 1914-12-10 12:00:00   \n\n                                    <lambda_0>  \nsex                                             \nFemale  ([1867-11-07T00:00:00.000000000], [2])  \nMale    ([1843-05-21T00:00:00.000000000], [2])  ",
      "text/html": "<div>\n<style scoped>\n    .dataframe tbody tr th:only-of-type {\n        vertical-align: middle;\n    }\n\n    .dataframe tbody tr th {\n        vertical-align: top;\n    }\n\n    .dataframe thead th {\n        text-align: right;\n    }\n</style>\n<table border=\"1\" class=\"dataframe\">\n  <thead>\n    <tr style=\"text-align: right;\">\n      <th></th>\n      <th>mean</th>\n      <th>median</th>\n      <th>&lt;lambda_0&gt;</th>\n    </tr>\n    <tr>\n      <th>sex</th>\n      <th></th>\n      <th></th>\n      <th></th>\n    </tr>\n  </thead>\n  <tbody>\n    <tr>\n      <th>Female</th>\n      <td>1922-01-17 00:00:00.000000000</td>\n      <td>1930-12-30 00:00:00</td>\n      <td>([1867-11-07T00:00:00.000000000], [2])</td>\n    </tr>\n    <tr>\n      <th>Male</th>\n      <td>1909-05-07 11:53:05.611510784</td>\n      <td>1914-12-10 12:00:00</td>\n      <td>([1843-05-21T00:00:00.000000000], [2])</td>\n    </tr>\n  </tbody>\n</table>\n</div>"
     },
     "metadata": {},
     "output_type": "display_data"
    },
    {
     "data": {
      "text/plain": "                                mean              median  \\\nsex                                                        \nFemale 1922-01-17 00:00:00.000000000 1930-12-30 00:00:00   \nMale   1909-05-07 11:53:05.611510784 1914-12-10 12:00:00   \n\n                                               <lambda_0>  \nsex                                                        \nFemale                                1867-11-07 00:00:00  \nMale    [1843-05-21 00:00:00, 1865-05-25 00:00:00, 188...  ",
      "text/html": "<div>\n<style scoped>\n    .dataframe tbody tr th:only-of-type {\n        vertical-align: middle;\n    }\n\n    .dataframe tbody tr th {\n        vertical-align: top;\n    }\n\n    .dataframe thead th {\n        text-align: right;\n    }\n</style>\n<table border=\"1\" class=\"dataframe\">\n  <thead>\n    <tr style=\"text-align: right;\">\n      <th></th>\n      <th>mean</th>\n      <th>median</th>\n      <th>&lt;lambda_0&gt;</th>\n    </tr>\n    <tr>\n      <th>sex</th>\n      <th></th>\n      <th></th>\n      <th></th>\n    </tr>\n  </thead>\n  <tbody>\n    <tr>\n      <th>Female</th>\n      <td>1922-01-17 00:00:00.000000000</td>\n      <td>1930-12-30 00:00:00</td>\n      <td>1867-11-07 00:00:00</td>\n    </tr>\n    <tr>\n      <th>Male</th>\n      <td>1909-05-07 11:53:05.611510784</td>\n      <td>1914-12-10 12:00:00</td>\n      <td>[1843-05-21 00:00:00, 1865-05-25 00:00:00, 188...</td>\n    </tr>\n  </tbody>\n</table>\n</div>"
     },
     "metadata": {},
     "output_type": "display_data"
    },
    {
     "data": {
      "text/plain": "                                mean              median <lambda_0>\nsex                                                                \nFemale 1922-01-17 00:00:00.000000000 1930-12-30 00:00:00 1867-11-07\nMale   1909-05-07 11:53:05.611510784 1914-12-10 12:00:00 1901-02-28",
      "text/html": "<div>\n<style scoped>\n    .dataframe tbody tr th:only-of-type {\n        vertical-align: middle;\n    }\n\n    .dataframe tbody tr th {\n        vertical-align: top;\n    }\n\n    .dataframe thead th {\n        text-align: right;\n    }\n</style>\n<table border=\"1\" class=\"dataframe\">\n  <thead>\n    <tr style=\"text-align: right;\">\n      <th></th>\n      <th>mean</th>\n      <th>median</th>\n      <th>&lt;lambda_0&gt;</th>\n    </tr>\n    <tr>\n      <th>sex</th>\n      <th></th>\n      <th></th>\n      <th></th>\n    </tr>\n  </thead>\n  <tbody>\n    <tr>\n      <th>Female</th>\n      <td>1922-01-17 00:00:00.000000000</td>\n      <td>1930-12-30 00:00:00</td>\n      <td>1867-11-07</td>\n    </tr>\n    <tr>\n      <th>Male</th>\n      <td>1909-05-07 11:53:05.611510784</td>\n      <td>1914-12-10 12:00:00</td>\n      <td>1901-02-28</td>\n    </tr>\n  </tbody>\n</table>\n</div>"
     },
     "metadata": {},
     "output_type": "display_data"
    }
   ],
   "source": [
    "display(df.groupby('sex')['birth_date'].aggregate(['mean','median']))\n",
    "display(df.groupby('sex', as_index=False )['birth_date'].agg(['mean','median', lambda  x: st.mode(x)]))\n",
    "display(df.groupby('sex', as_index=False )['birth_date'].agg(['mean','median', lambda  x: x.mode()]))\n",
    "display(df.groupby('sex', as_index=False )['birth_date'].agg(['mean','median', lambda  x: x.value_counts().index[0]]))\n",
    "#here a have not the same results coming on the mode ,  can be interesting to see why"
   ],
   "metadata": {
    "collapsed": false,
    "pycharm": {
     "name": "#%%\n"
    }
   }
  },
  {
   "cell_type": "markdown",
   "source": [
    "### 18. Avoid if possible using a loop to calculate how values changes\n",
    "In This example we are calculating the percent change ad the difference between the age column in each row of the data\n",
    "\n"
   ],
   "metadata": {
    "collapsed": false,
    "pycharm": {
     "name": "#%% md\n"
    }
   }
  },
  {
   "cell_type": "code",
   "execution_count": 71,
   "outputs": [
    {
     "data": {
      "text/plain": "birth_date     28\ndeath_date    318\ndtype: int64"
     },
     "metadata": {},
     "output_type": "display_data"
    },
    {
     "data": {
      "text/plain": "birth_date    0\ndeath_date    0\ndtype: int64"
     },
     "metadata": {},
     "output_type": "display_data"
    },
    {
     "data": {
      "text/plain": "   index  year category                       prize motivation prize_share  \\\n1      4  1901    Peace  The Nobel Peace Prize 1901        NaN         1/2   \n2     16  1903    Peace  The Nobel Peace Prize 1903        NaN         1/1   \n3      3  1901    Peace  The Nobel Peace Prize 1901        NaN         1/2   \n4     53  1909    Peace  The Nobel Peace Prize 1909        NaN         1/2   \n\n   laureate_id laureate_type                         full_name birth_date  \\\n1          463    Individual                    Frédéric Passy 1822-05-20   \n2          466    Individual             William Randal Cremer 1828-03-18   \n3          462    Individual                 Jean Henry Dunant 1828-05-08   \n4          475    Individual  Auguste Marie François Beernaert 1829-07-26   \n\n  birth_city   birth_country   sex organization_name organization_city  \\\n1      Paris          France  Male               NaN               NaN   \n2    Fareham  United Kingdom  Male               NaN               NaN   \n3     Geneva     Switzerland  Male               NaN               NaN   \n4     Ostend         Belgium  Male               NaN               NaN   \n\n  organization_country death_date death_city   death_country  age  \n1                  NaN 1912-06-12      Paris          France   90  \n2                  NaN 1908-07-22     London  United Kingdom   80  \n3                  NaN 1910-10-30     Heiden     Switzerland   82  \n4                  NaN 1912-10-06    Lucerne     Switzerland   83  ",
      "text/html": "<div>\n<style scoped>\n    .dataframe tbody tr th:only-of-type {\n        vertical-align: middle;\n    }\n\n    .dataframe tbody tr th {\n        vertical-align: top;\n    }\n\n    .dataframe thead th {\n        text-align: right;\n    }\n</style>\n<table border=\"1\" class=\"dataframe\">\n  <thead>\n    <tr style=\"text-align: right;\">\n      <th></th>\n      <th>index</th>\n      <th>year</th>\n      <th>category</th>\n      <th>prize</th>\n      <th>motivation</th>\n      <th>prize_share</th>\n      <th>laureate_id</th>\n      <th>laureate_type</th>\n      <th>full_name</th>\n      <th>birth_date</th>\n      <th>birth_city</th>\n      <th>birth_country</th>\n      <th>sex</th>\n      <th>organization_name</th>\n      <th>organization_city</th>\n      <th>organization_country</th>\n      <th>death_date</th>\n      <th>death_city</th>\n      <th>death_country</th>\n      <th>age</th>\n    </tr>\n  </thead>\n  <tbody>\n    <tr>\n      <th>1</th>\n      <td>4</td>\n      <td>1901</td>\n      <td>Peace</td>\n      <td>The Nobel Peace Prize 1901</td>\n      <td>NaN</td>\n      <td>1/2</td>\n      <td>463</td>\n      <td>Individual</td>\n      <td>Frédéric Passy</td>\n      <td>1822-05-20</td>\n      <td>Paris</td>\n      <td>France</td>\n      <td>Male</td>\n      <td>NaN</td>\n      <td>NaN</td>\n      <td>NaN</td>\n      <td>1912-06-12</td>\n      <td>Paris</td>\n      <td>France</td>\n      <td>90</td>\n    </tr>\n    <tr>\n      <th>2</th>\n      <td>16</td>\n      <td>1903</td>\n      <td>Peace</td>\n      <td>The Nobel Peace Prize 1903</td>\n      <td>NaN</td>\n      <td>1/1</td>\n      <td>466</td>\n      <td>Individual</td>\n      <td>William Randal Cremer</td>\n      <td>1828-03-18</td>\n      <td>Fareham</td>\n      <td>United Kingdom</td>\n      <td>Male</td>\n      <td>NaN</td>\n      <td>NaN</td>\n      <td>NaN</td>\n      <td>1908-07-22</td>\n      <td>London</td>\n      <td>United Kingdom</td>\n      <td>80</td>\n    </tr>\n    <tr>\n      <th>3</th>\n      <td>3</td>\n      <td>1901</td>\n      <td>Peace</td>\n      <td>The Nobel Peace Prize 1901</td>\n      <td>NaN</td>\n      <td>1/2</td>\n      <td>462</td>\n      <td>Individual</td>\n      <td>Jean Henry Dunant</td>\n      <td>1828-05-08</td>\n      <td>Geneva</td>\n      <td>Switzerland</td>\n      <td>Male</td>\n      <td>NaN</td>\n      <td>NaN</td>\n      <td>NaN</td>\n      <td>1910-10-30</td>\n      <td>Heiden</td>\n      <td>Switzerland</td>\n      <td>82</td>\n    </tr>\n    <tr>\n      <th>4</th>\n      <td>53</td>\n      <td>1909</td>\n      <td>Peace</td>\n      <td>The Nobel Peace Prize 1909</td>\n      <td>NaN</td>\n      <td>1/2</td>\n      <td>475</td>\n      <td>Individual</td>\n      <td>Auguste Marie François Beernaert</td>\n      <td>1829-07-26</td>\n      <td>Ostend</td>\n      <td>Belgium</td>\n      <td>Male</td>\n      <td>NaN</td>\n      <td>NaN</td>\n      <td>NaN</td>\n      <td>1912-10-06</td>\n      <td>Lucerne</td>\n      <td>Switzerland</td>\n      <td>83</td>\n    </tr>\n  </tbody>\n</table>\n</div>"
     },
     "execution_count": 71,
     "metadata": {},
     "output_type": "execute_result"
    }
   ],
   "source": [
    "from datetime import datetime\n",
    "\n",
    "nobel_ages = pd.read_csv('datasets/nobel.csv', parse_dates=['birth_date','death_date']).sort_values('birth_date').reset_index()\n",
    "display(nobel_ages[['birth_date', 'death_date']].isna().sum()) # find if there are some birth date  that are missing\n",
    "\n",
    "# for age  calculation is necessary to fill null death values and remove null birth dates\n",
    "nobel_ages['death_date'].fillna(datetime.now(), inplace=True)\n",
    "nobel_ages = nobel_ages.query('birth_date.isnull() == False')\n",
    "display(nobel_ages[['birth_date', 'death_date']].isna().sum()) #\n",
    "nobel_ages['age'] = nobel_ages[['birth_date', 'death_date']].apply(lambda x: (x[1].year-x[0].year)  ,axis=1 )\n",
    "nobel_ages[1:5]\n"
   ],
   "metadata": {
    "collapsed": false,
    "pycharm": {
     "name": "#%%\n"
    }
   }
  },
  {
   "cell_type": "code",
   "execution_count": 72,
   "outputs": [
    {
     "data": {
      "text/plain": "   index  year    category                               prize  \\\n0      7  1902  Literature  The Nobel Prize in Literature 1902   \n1      4  1901       Peace          The Nobel Peace Prize 1901   \n2     16  1903       Peace          The Nobel Peace Prize 1903   \n\n                                          motivation prize_share  laureate_id  \\\n0  \"the greatest living master of the art of hist...         1/1          571   \n1                                                NaN         1/2          463   \n2                                                NaN         1/1          466   \n\n  laureate_type                           full_name birth_date  ...   sex  \\\n0    Individual  Christian Matthias Theodor Mommsen 1817-11-30  ...  Male   \n1    Individual                      Frédéric Passy 1822-05-20  ...  Male   \n2    Individual               William Randal Cremer 1828-03-18  ...  Male   \n\n  organization_name organization_city organization_country death_date  \\\n0               NaN               NaN                  NaN 1903-11-01   \n1               NaN               NaN                  NaN 1912-06-12   \n2               NaN               NaN                  NaN 1908-07-22   \n\n       death_city   death_country age   percent  delta  \n0  Charlottenburg         Germany  86       NaN    NaN  \n1           Paris          France  90  0.044444    4.0  \n2          London  United Kingdom  80 -0.125000  -10.0  \n\n[3 rows x 22 columns]",
      "text/html": "<div>\n<style scoped>\n    .dataframe tbody tr th:only-of-type {\n        vertical-align: middle;\n    }\n\n    .dataframe tbody tr th {\n        vertical-align: top;\n    }\n\n    .dataframe thead th {\n        text-align: right;\n    }\n</style>\n<table border=\"1\" class=\"dataframe\">\n  <thead>\n    <tr style=\"text-align: right;\">\n      <th></th>\n      <th>index</th>\n      <th>year</th>\n      <th>category</th>\n      <th>prize</th>\n      <th>motivation</th>\n      <th>prize_share</th>\n      <th>laureate_id</th>\n      <th>laureate_type</th>\n      <th>full_name</th>\n      <th>birth_date</th>\n      <th>...</th>\n      <th>sex</th>\n      <th>organization_name</th>\n      <th>organization_city</th>\n      <th>organization_country</th>\n      <th>death_date</th>\n      <th>death_city</th>\n      <th>death_country</th>\n      <th>age</th>\n      <th>percent</th>\n      <th>delta</th>\n    </tr>\n  </thead>\n  <tbody>\n    <tr>\n      <th>0</th>\n      <td>7</td>\n      <td>1902</td>\n      <td>Literature</td>\n      <td>The Nobel Prize in Literature 1902</td>\n      <td>\"the greatest living master of the art of hist...</td>\n      <td>1/1</td>\n      <td>571</td>\n      <td>Individual</td>\n      <td>Christian Matthias Theodor Mommsen</td>\n      <td>1817-11-30</td>\n      <td>...</td>\n      <td>Male</td>\n      <td>NaN</td>\n      <td>NaN</td>\n      <td>NaN</td>\n      <td>1903-11-01</td>\n      <td>Charlottenburg</td>\n      <td>Germany</td>\n      <td>86</td>\n      <td>NaN</td>\n      <td>NaN</td>\n    </tr>\n    <tr>\n      <th>1</th>\n      <td>4</td>\n      <td>1901</td>\n      <td>Peace</td>\n      <td>The Nobel Peace Prize 1901</td>\n      <td>NaN</td>\n      <td>1/2</td>\n      <td>463</td>\n      <td>Individual</td>\n      <td>Frédéric Passy</td>\n      <td>1822-05-20</td>\n      <td>...</td>\n      <td>Male</td>\n      <td>NaN</td>\n      <td>NaN</td>\n      <td>NaN</td>\n      <td>1912-06-12</td>\n      <td>Paris</td>\n      <td>France</td>\n      <td>90</td>\n      <td>0.044444</td>\n      <td>4.0</td>\n    </tr>\n    <tr>\n      <th>2</th>\n      <td>16</td>\n      <td>1903</td>\n      <td>Peace</td>\n      <td>The Nobel Peace Prize 1903</td>\n      <td>NaN</td>\n      <td>1/1</td>\n      <td>466</td>\n      <td>Individual</td>\n      <td>William Randal Cremer</td>\n      <td>1828-03-18</td>\n      <td>...</td>\n      <td>Male</td>\n      <td>NaN</td>\n      <td>NaN</td>\n      <td>NaN</td>\n      <td>1908-07-22</td>\n      <td>London</td>\n      <td>United Kingdom</td>\n      <td>80</td>\n      <td>-0.125000</td>\n      <td>-10.0</td>\n    </tr>\n  </tbody>\n</table>\n<p>3 rows × 22 columns</p>\n</div>"
     },
     "execution_count": 72,
     "metadata": {},
     "output_type": "execute_result"
    }
   ],
   "source": [
    "#ok in this case is a non sense calculate the percent, but here is just for demonstration\n",
    "\n",
    "for i in range(1, len(nobel_ages)):\n",
    "    nobel_ages.loc[i,'percent'] = \\\n",
    "        (nobel_ages.loc[i].age - nobel_ages.loc[i-1].age) / nobel_ages.loc[i].age\n",
    "    nobel_ages.loc[i,'delta'] = (nobel_ages.loc[i].age - nobel_ages.loc[i-1].age)\n",
    "\n",
    "nobel_ages.head(3)"
   ],
   "metadata": {
    "collapsed": false,
    "pycharm": {
     "name": "#%%\n"
    }
   }
  },
  {
   "cell_type": "markdown",
   "source": [
    "We might be catching on a trend now but there is actually a built in function for doing things like this\n",
    "It can be used the **pct_change()** , or the **diff()** method to calculate the change in the pandas serie"
   ],
   "metadata": {
    "collapsed": false,
    "pycharm": {
     "name": "#%% md\n"
    }
   }
  },
  {
   "cell_type": "markdown",
   "source": [],
   "metadata": {
    "collapsed": false,
    "pycharm": {
     "name": "#%% md\n"
    }
   }
  },
  {
   "cell_type": "code",
   "execution_count": 73,
   "outputs": [
    {
     "data": {
      "text/plain": "   index  year    category                               prize  \\\n0      7  1902  Literature  The Nobel Prize in Literature 1902   \n1      4  1901       Peace          The Nobel Peace Prize 1901   \n2     16  1903       Peace          The Nobel Peace Prize 1903   \n3      3  1901       Peace          The Nobel Peace Prize 1901   \n4     53  1909       Peace          The Nobel Peace Prize 1909   \n\n                                          motivation prize_share  laureate_id  \\\n0  \"the greatest living master of the art of hist...         1/1          571   \n1                                                NaN         1/2          463   \n2                                                NaN         1/1          466   \n3                                                NaN         1/2          462   \n4                                                NaN         1/2          475   \n\n  laureate_type                           full_name birth_date  ...  \\\n0    Individual  Christian Matthias Theodor Mommsen 1817-11-30  ...   \n1    Individual                      Frédéric Passy 1822-05-20  ...   \n2    Individual               William Randal Cremer 1828-03-18  ...   \n3    Individual                   Jean Henry Dunant 1828-05-08  ...   \n4    Individual    Auguste Marie François Beernaert 1829-07-26  ...   \n\n  organization_city organization_country death_date      death_city  \\\n0               NaN                  NaN 1903-11-01  Charlottenburg   \n1               NaN                  NaN 1912-06-12           Paris   \n2               NaN                  NaN 1908-07-22          London   \n3               NaN                  NaN 1910-10-30          Heiden   \n4               NaN                  NaN 1912-10-06         Lucerne   \n\n    death_country age   percent delta   age_ptc  age_diff  \n0         Germany  86       NaN   NaN       NaN       NaN  \n1          France  90  0.044444   4.0  0.046512       4.0  \n2  United Kingdom  80 -0.125000 -10.0 -0.111111     -10.0  \n3     Switzerland  82  0.024390   2.0  0.025000       2.0  \n4     Switzerland  83  0.012048   1.0  0.012195       1.0  \n\n[5 rows x 24 columns]",
      "text/html": "<div>\n<style scoped>\n    .dataframe tbody tr th:only-of-type {\n        vertical-align: middle;\n    }\n\n    .dataframe tbody tr th {\n        vertical-align: top;\n    }\n\n    .dataframe thead th {\n        text-align: right;\n    }\n</style>\n<table border=\"1\" class=\"dataframe\">\n  <thead>\n    <tr style=\"text-align: right;\">\n      <th></th>\n      <th>index</th>\n      <th>year</th>\n      <th>category</th>\n      <th>prize</th>\n      <th>motivation</th>\n      <th>prize_share</th>\n      <th>laureate_id</th>\n      <th>laureate_type</th>\n      <th>full_name</th>\n      <th>birth_date</th>\n      <th>...</th>\n      <th>organization_city</th>\n      <th>organization_country</th>\n      <th>death_date</th>\n      <th>death_city</th>\n      <th>death_country</th>\n      <th>age</th>\n      <th>percent</th>\n      <th>delta</th>\n      <th>age_ptc</th>\n      <th>age_diff</th>\n    </tr>\n  </thead>\n  <tbody>\n    <tr>\n      <th>0</th>\n      <td>7</td>\n      <td>1902</td>\n      <td>Literature</td>\n      <td>The Nobel Prize in Literature 1902</td>\n      <td>\"the greatest living master of the art of hist...</td>\n      <td>1/1</td>\n      <td>571</td>\n      <td>Individual</td>\n      <td>Christian Matthias Theodor Mommsen</td>\n      <td>1817-11-30</td>\n      <td>...</td>\n      <td>NaN</td>\n      <td>NaN</td>\n      <td>1903-11-01</td>\n      <td>Charlottenburg</td>\n      <td>Germany</td>\n      <td>86</td>\n      <td>NaN</td>\n      <td>NaN</td>\n      <td>NaN</td>\n      <td>NaN</td>\n    </tr>\n    <tr>\n      <th>1</th>\n      <td>4</td>\n      <td>1901</td>\n      <td>Peace</td>\n      <td>The Nobel Peace Prize 1901</td>\n      <td>NaN</td>\n      <td>1/2</td>\n      <td>463</td>\n      <td>Individual</td>\n      <td>Frédéric Passy</td>\n      <td>1822-05-20</td>\n      <td>...</td>\n      <td>NaN</td>\n      <td>NaN</td>\n      <td>1912-06-12</td>\n      <td>Paris</td>\n      <td>France</td>\n      <td>90</td>\n      <td>0.044444</td>\n      <td>4.0</td>\n      <td>0.046512</td>\n      <td>4.0</td>\n    </tr>\n    <tr>\n      <th>2</th>\n      <td>16</td>\n      <td>1903</td>\n      <td>Peace</td>\n      <td>The Nobel Peace Prize 1903</td>\n      <td>NaN</td>\n      <td>1/1</td>\n      <td>466</td>\n      <td>Individual</td>\n      <td>William Randal Cremer</td>\n      <td>1828-03-18</td>\n      <td>...</td>\n      <td>NaN</td>\n      <td>NaN</td>\n      <td>1908-07-22</td>\n      <td>London</td>\n      <td>United Kingdom</td>\n      <td>80</td>\n      <td>-0.125000</td>\n      <td>-10.0</td>\n      <td>-0.111111</td>\n      <td>-10.0</td>\n    </tr>\n    <tr>\n      <th>3</th>\n      <td>3</td>\n      <td>1901</td>\n      <td>Peace</td>\n      <td>The Nobel Peace Prize 1901</td>\n      <td>NaN</td>\n      <td>1/2</td>\n      <td>462</td>\n      <td>Individual</td>\n      <td>Jean Henry Dunant</td>\n      <td>1828-05-08</td>\n      <td>...</td>\n      <td>NaN</td>\n      <td>NaN</td>\n      <td>1910-10-30</td>\n      <td>Heiden</td>\n      <td>Switzerland</td>\n      <td>82</td>\n      <td>0.024390</td>\n      <td>2.0</td>\n      <td>0.025000</td>\n      <td>2.0</td>\n    </tr>\n    <tr>\n      <th>4</th>\n      <td>53</td>\n      <td>1909</td>\n      <td>Peace</td>\n      <td>The Nobel Peace Prize 1909</td>\n      <td>NaN</td>\n      <td>1/2</td>\n      <td>475</td>\n      <td>Individual</td>\n      <td>Auguste Marie François Beernaert</td>\n      <td>1829-07-26</td>\n      <td>...</td>\n      <td>NaN</td>\n      <td>NaN</td>\n      <td>1912-10-06</td>\n      <td>Lucerne</td>\n      <td>Switzerland</td>\n      <td>83</td>\n      <td>0.012048</td>\n      <td>1.0</td>\n      <td>0.012195</td>\n      <td>1.0</td>\n    </tr>\n  </tbody>\n</table>\n<p>5 rows × 24 columns</p>\n</div>"
     },
     "execution_count": 73,
     "metadata": {},
     "output_type": "execute_result"
    }
   ],
   "source": [
    "nobel_ages['age_ptc'] = nobel_ages['age'].pct_change()\n",
    "nobel_ages['age_diff'] = nobel_ages['age'].diff()\n",
    "nobel_ages.head()"
   ],
   "metadata": {
    "collapsed": false,
    "pycharm": {
     "name": "#%%\n"
    }
   }
  },
  {
   "cell_type": "markdown",
   "source": [
    "### 19. Saving large datasets as csv\n",
    "When working with pandas eventually you get to the point that you have to save to disk the dataframe\n",
    "csv is the most common format data to save csv data, but especially with very large datasets\n",
    "this can be very slow and take up a lot lof space on the hard drive\n",
    "Pandas have alot of built in methods to save to many different file like parquet, feather and pickle\n",
    "These file formats retain the data types of your data which saves you from having to set them menaually\n",
    "when reloading the files\n",
    "\n",
    "Note- For these formats you must pip or conda install new packages (package pyarrow take a lot of time)\n",
    "\n"
   ],
   "metadata": {
    "collapsed": false,
    "pycharm": {
     "name": "#%% md\n"
    }
   }
  },
  {
   "cell_type": "code",
   "execution_count": null,
   "outputs": [],
   "source": [
    "!pip install fastparquet"
   ],
   "metadata": {
    "collapsed": false,
    "pycharm": {
     "name": "#%%\n"
    }
   }
  },
  {
   "cell_type": "code",
   "execution_count": null,
   "outputs": [],
   "source": [
    "\n",
    "nobel_ages.to_csv(\"datasets/nobel_ages.csv\", index=False)\n",
    "nobel_ages.to_parquet(\"datasets/nobel_ages.parquet\")\n",
    "nobel_ages.to_pickle(\"datasets/nobel_ages.pickle\")\n",
    "nobel_ages.to_feather(\"datasets/nobel_ages.feather\")"
   ],
   "metadata": {
    "collapsed": false,
    "pycharm": {
     "name": "#%%\n"
    }
   }
  },
  {
   "cell_type": "markdown",
   "source": [
    "### 20. Apply style to dataframe like in excel\n",
    "This type of style can be extremely  powerful and covers almost everything you want to do in Excel\n",
    "reference here https://www.analyticsvidhya.com/blog/2021/06/style-your-pandas-dataframe-and-make-it-stunning/"
   ],
   "metadata": {
    "collapsed": false,
    "pycharm": {
     "name": "#%% md\n"
    }
   }
  },
  {
   "cell_type": "code",
   "execution_count": 74,
   "outputs": [],
   "source": [
    "ddf= nobel_ages.sort_values('age')[['category','age']].reset_index(drop=True).\\\n",
    "    head(10)\n",
    "ddf = ddf.style.set_properties(**{'border': '1.3px solid green', 'color':'blue' })\n",
    "ddf.to_excel('datasets/excel.xlsx')\n",
    "\n",
    "dfexcel = pd.DataFrame(np.random.randn(10,4), columns=['A','B','C','D'])\n",
    "dfexcel = dfexcel.style.format('{:.3f}', na_rep=\"\").\\\n",
    "    bar(align=0, vmin=2.5, vmax=2.5, cmap=\"bwr\", height=50,width=60, props=\"width: 120px; border-right: 1px sold black;\").\\\n",
    "    text_gradient(cmap=\"bwr\", vmin=-2.5, vmax=2.5)\n",
    "\n",
    "dfexcel.to_excel('datasets/excel_complex.xlsx')\n",
    "dfexcel"
   ],
   "metadata": {
    "collapsed": false,
    "pycharm": {
     "name": "#%%\n"
    }
   }
  },
  {
   "cell_type": "markdown",
   "source": [
    "### 21. Setting proper suffixes when merging 2 dataframes\n",
    "When merging 2 dataframes, any columns that appear on both dataframe but non being used to merge\n",
    "will be given the default _x and _y suffixes\n"
   ],
   "metadata": {
    "collapsed": false,
    "pycharm": {
     "name": "#%% md\n"
    }
   }
  },
  {
   "cell_type": "code",
   "execution_count": 78,
   "outputs": [
    {
     "data": {
      "text/plain": "   year  category sex_x                                         prize_x  \\\n0  1903   Physics  Male                 The Nobel Prize in Physics 1903   \n1  1903   Physics  Male                 The Nobel Prize in Physics 1903   \n2  1931     Peace  Male                      The Nobel Peace Prize 1931   \n3  1946     Peace  Male                      The Nobel Peace Prize 1946   \n4  1947  Medicine  Male  The Nobel Prize in Physiology or Medicine 1947   \n\n                full_name_x   sex_y  \\\n0   Antoine Henri Becquerel  Female   \n1              Pierre Curie  Female   \n2    Nicholas Murray Butler  Female   \n3         John Raleigh Mott  Female   \n4  Bernardo Alberto Houssay  Female   \n\n                                          prize_y  \\\n0                 The Nobel Prize in Physics 1903   \n1                 The Nobel Prize in Physics 1903   \n2                      The Nobel Peace Prize 1931   \n3                      The Nobel Peace Prize 1946   \n4  The Nobel Prize in Physiology or Medicine 1947   \n\n                       full_name_y  \n0      Marie Curie, née Sklodowska  \n1      Marie Curie, née Sklodowska  \n2                      Jane Addams  \n3               Emily Greene Balch  \n4  Gerty Theresa Cori, née Radnitz  ",
      "text/html": "<div>\n<style scoped>\n    .dataframe tbody tr th:only-of-type {\n        vertical-align: middle;\n    }\n\n    .dataframe tbody tr th {\n        vertical-align: top;\n    }\n\n    .dataframe thead th {\n        text-align: right;\n    }\n</style>\n<table border=\"1\" class=\"dataframe\">\n  <thead>\n    <tr style=\"text-align: right;\">\n      <th></th>\n      <th>year</th>\n      <th>category</th>\n      <th>sex_x</th>\n      <th>prize_x</th>\n      <th>full_name_x</th>\n      <th>sex_y</th>\n      <th>prize_y</th>\n      <th>full_name_y</th>\n    </tr>\n  </thead>\n  <tbody>\n    <tr>\n      <th>0</th>\n      <td>1903</td>\n      <td>Physics</td>\n      <td>Male</td>\n      <td>The Nobel Prize in Physics 1903</td>\n      <td>Antoine Henri Becquerel</td>\n      <td>Female</td>\n      <td>The Nobel Prize in Physics 1903</td>\n      <td>Marie Curie, née Sklodowska</td>\n    </tr>\n    <tr>\n      <th>1</th>\n      <td>1903</td>\n      <td>Physics</td>\n      <td>Male</td>\n      <td>The Nobel Prize in Physics 1903</td>\n      <td>Pierre Curie</td>\n      <td>Female</td>\n      <td>The Nobel Prize in Physics 1903</td>\n      <td>Marie Curie, née Sklodowska</td>\n    </tr>\n    <tr>\n      <th>2</th>\n      <td>1931</td>\n      <td>Peace</td>\n      <td>Male</td>\n      <td>The Nobel Peace Prize 1931</td>\n      <td>Nicholas Murray Butler</td>\n      <td>Female</td>\n      <td>The Nobel Peace Prize 1931</td>\n      <td>Jane Addams</td>\n    </tr>\n    <tr>\n      <th>3</th>\n      <td>1946</td>\n      <td>Peace</td>\n      <td>Male</td>\n      <td>The Nobel Peace Prize 1946</td>\n      <td>John Raleigh Mott</td>\n      <td>Female</td>\n      <td>The Nobel Peace Prize 1946</td>\n      <td>Emily Greene Balch</td>\n    </tr>\n    <tr>\n      <th>4</th>\n      <td>1947</td>\n      <td>Medicine</td>\n      <td>Male</td>\n      <td>The Nobel Prize in Physiology or Medicine 1947</td>\n      <td>Bernardo Alberto Houssay</td>\n      <td>Female</td>\n      <td>The Nobel Prize in Physiology or Medicine 1947</td>\n      <td>Gerty Theresa Cori, née Radnitz</td>\n    </tr>\n  </tbody>\n</table>\n</div>"
     },
     "execution_count": 78,
     "metadata": {},
     "output_type": "execute_result"
    }
   ],
   "source": [
    "male= nobel_ages.query('sex ==\"Male\" ')[['year','category', 'sex', 'prize', 'full_name']].copy()\n",
    "female= nobel_ages.query('sex ==\"Female\" ')[['year', 'category', 'sex', 'prize', 'full_name']].copy()\n",
    "merge = male.merge(female, on=['year', 'category'])\n",
    "merge[:5]"
   ],
   "metadata": {
    "collapsed": false,
    "pycharm": {
     "name": "#%%\n"
    }
   }
  },
  {
   "cell_type": "markdown",
   "source": [
    "By explicitly stating the suffixes in your merge you can more easily track what these columns are"
   ],
   "metadata": {
    "collapsed": false,
    "pycharm": {
     "name": "#%% md\n"
    }
   }
  },
  {
   "cell_type": "code",
   "execution_count": 77,
   "outputs": [
    {
     "data": {
      "text/plain": "   year  category sex_male                                      prize_male  \\\n0  1903   Physics     Male                 The Nobel Prize in Physics 1903   \n1  1903   Physics     Male                 The Nobel Prize in Physics 1903   \n2  1931     Peace     Male                      The Nobel Peace Prize 1931   \n3  1946     Peace     Male                      The Nobel Peace Prize 1946   \n4  1947  Medicine     Male  The Nobel Prize in Physiology or Medicine 1947   \n\n             full_name_male sex_female  \\\n0   Antoine Henri Becquerel     Female   \n1              Pierre Curie     Female   \n2    Nicholas Murray Butler     Female   \n3         John Raleigh Mott     Female   \n4  Bernardo Alberto Houssay     Female   \n\n                                     prize_female  \\\n0                 The Nobel Prize in Physics 1903   \n1                 The Nobel Prize in Physics 1903   \n2                      The Nobel Peace Prize 1931   \n3                      The Nobel Peace Prize 1946   \n4  The Nobel Prize in Physiology or Medicine 1947   \n\n                  full_name_female  \n0      Marie Curie, née Sklodowska  \n1      Marie Curie, née Sklodowska  \n2                      Jane Addams  \n3               Emily Greene Balch  \n4  Gerty Theresa Cori, née Radnitz  ",
      "text/html": "<div>\n<style scoped>\n    .dataframe tbody tr th:only-of-type {\n        vertical-align: middle;\n    }\n\n    .dataframe tbody tr th {\n        vertical-align: top;\n    }\n\n    .dataframe thead th {\n        text-align: right;\n    }\n</style>\n<table border=\"1\" class=\"dataframe\">\n  <thead>\n    <tr style=\"text-align: right;\">\n      <th></th>\n      <th>year</th>\n      <th>category</th>\n      <th>sex_male</th>\n      <th>prize_male</th>\n      <th>full_name_male</th>\n      <th>sex_female</th>\n      <th>prize_female</th>\n      <th>full_name_female</th>\n    </tr>\n  </thead>\n  <tbody>\n    <tr>\n      <th>0</th>\n      <td>1903</td>\n      <td>Physics</td>\n      <td>Male</td>\n      <td>The Nobel Prize in Physics 1903</td>\n      <td>Antoine Henri Becquerel</td>\n      <td>Female</td>\n      <td>The Nobel Prize in Physics 1903</td>\n      <td>Marie Curie, née Sklodowska</td>\n    </tr>\n    <tr>\n      <th>1</th>\n      <td>1903</td>\n      <td>Physics</td>\n      <td>Male</td>\n      <td>The Nobel Prize in Physics 1903</td>\n      <td>Pierre Curie</td>\n      <td>Female</td>\n      <td>The Nobel Prize in Physics 1903</td>\n      <td>Marie Curie, née Sklodowska</td>\n    </tr>\n    <tr>\n      <th>2</th>\n      <td>1931</td>\n      <td>Peace</td>\n      <td>Male</td>\n      <td>The Nobel Peace Prize 1931</td>\n      <td>Nicholas Murray Butler</td>\n      <td>Female</td>\n      <td>The Nobel Peace Prize 1931</td>\n      <td>Jane Addams</td>\n    </tr>\n    <tr>\n      <th>3</th>\n      <td>1946</td>\n      <td>Peace</td>\n      <td>Male</td>\n      <td>The Nobel Peace Prize 1946</td>\n      <td>John Raleigh Mott</td>\n      <td>Female</td>\n      <td>The Nobel Peace Prize 1946</td>\n      <td>Emily Greene Balch</td>\n    </tr>\n    <tr>\n      <th>4</th>\n      <td>1947</td>\n      <td>Medicine</td>\n      <td>Male</td>\n      <td>The Nobel Prize in Physiology or Medicine 1947</td>\n      <td>Bernardo Alberto Houssay</td>\n      <td>Female</td>\n      <td>The Nobel Prize in Physiology or Medicine 1947</td>\n      <td>Gerty Theresa Cori, née Radnitz</td>\n    </tr>\n  </tbody>\n</table>\n</div>"
     },
     "execution_count": 77,
     "metadata": {},
     "output_type": "execute_result"
    }
   ],
   "source": [
    "merge = male.merge(female, on=['year', 'category'], suffixes=(\"_male\",\"_female\"))\n",
    "merge[:5]"
   ],
   "metadata": {
    "collapsed": false,
    "pycharm": {
     "name": "#%%\n"
    }
   }
  },
  {
   "cell_type": "markdown",
   "source": [
    "### 22. Checking consistency after merging 2 dataframes\n",
    "There mey be cases that when you're merging 2 dataframe and want to confirm that the merge is one to one match\n",
    "It can be checked for this by comparing the length of the merged dataframe with the initial dataframe\n",
    "Pandas marge has a validate parameter which will automatically check for different merge types.\n",
    "This will trow an error message if validation fails\n",
    "\n",
    "validate\n",
    "If specified, checks if merge is of specified type.\n",
    "* “one_to_one” or “1:1”: check if merge keys are unique in both left and right datasets.\n",
    "* “one_to_many” or “1:m”: check if merge keys are unique in left dataset.\n",
    "* “many_to_one” or “m:1”: check if merge keys are unique in right dataset.\n",
    "*   “many_to_many” or “m:m”: allowed, but does not result in checks."
   ],
   "metadata": {
    "collapsed": false,
    "pycharm": {
     "name": "#%% md\n"
    }
   }
  },
  {
   "cell_type": "code",
   "execution_count": 79,
   "outputs": [],
   "source": [
    "merge = male.merge(female,\n",
    "                   on=['year', 'category'],\n",
    "                   suffixes=(\"_male\",\"_female\"),\n",
    "                   validate='m:m')"
   ],
   "metadata": {
    "collapsed": false,
    "pycharm": {
     "name": "#%%\n"
    }
   }
  },
  {
   "cell_type": "code",
   "execution_count": 80,
   "outputs": [
    {
     "ename": "MergeError",
     "evalue": "Merge keys are not unique in either left or right dataset; not a one-to-one merge",
     "output_type": "error",
     "traceback": [
      "\u001B[1;31m---------------------------------------------------------------------------\u001B[0m",
      "\u001B[1;31mMergeError\u001B[0m                                Traceback (most recent call last)",
      "Input \u001B[1;32mIn [80]\u001B[0m, in \u001B[0;36m<cell line: 1>\u001B[1;34m()\u001B[0m\n\u001B[1;32m----> 1\u001B[0m merge \u001B[38;5;241m=\u001B[39m \u001B[43mmale\u001B[49m\u001B[38;5;241;43m.\u001B[39;49m\u001B[43mmerge\u001B[49m\u001B[43m(\u001B[49m\u001B[43mfemale\u001B[49m\u001B[43m,\u001B[49m\n\u001B[0;32m      2\u001B[0m \u001B[43m                   \u001B[49m\u001B[43mon\u001B[49m\u001B[38;5;241;43m=\u001B[39;49m\u001B[43m[\u001B[49m\u001B[38;5;124;43m'\u001B[39;49m\u001B[38;5;124;43myear\u001B[39;49m\u001B[38;5;124;43m'\u001B[39;49m\u001B[43m,\u001B[49m\u001B[43m \u001B[49m\u001B[38;5;124;43m'\u001B[39;49m\u001B[38;5;124;43mcategory\u001B[39;49m\u001B[38;5;124;43m'\u001B[39;49m\u001B[43m]\u001B[49m\u001B[43m,\u001B[49m\n\u001B[0;32m      3\u001B[0m \u001B[43m                   \u001B[49m\u001B[43msuffixes\u001B[49m\u001B[38;5;241;43m=\u001B[39;49m\u001B[43m(\u001B[49m\u001B[38;5;124;43m\"\u001B[39;49m\u001B[38;5;124;43m_male\u001B[39;49m\u001B[38;5;124;43m\"\u001B[39;49m\u001B[43m,\u001B[49m\u001B[38;5;124;43m\"\u001B[39;49m\u001B[38;5;124;43m_female\u001B[39;49m\u001B[38;5;124;43m\"\u001B[39;49m\u001B[43m)\u001B[49m\u001B[43m,\u001B[49m\n\u001B[0;32m      4\u001B[0m \u001B[43m                   \u001B[49m\u001B[43mvalidate\u001B[49m\u001B[38;5;241;43m=\u001B[39;49m\u001B[38;5;124;43m'\u001B[39;49m\u001B[38;5;124;43m1:1\u001B[39;49m\u001B[38;5;124;43m'\u001B[39;49m\u001B[43m)\u001B[49m\n",
      "File \u001B[1;32m~\\anaconda3\\lib\\site-packages\\pandas\\core\\frame.py:9345\u001B[0m, in \u001B[0;36mDataFrame.merge\u001B[1;34m(self, right, how, on, left_on, right_on, left_index, right_index, sort, suffixes, copy, indicator, validate)\u001B[0m\n\u001B[0;32m   9326\u001B[0m \u001B[38;5;129m@Substitution\u001B[39m(\u001B[38;5;124m\"\u001B[39m\u001B[38;5;124m\"\u001B[39m)\n\u001B[0;32m   9327\u001B[0m \u001B[38;5;129m@Appender\u001B[39m(_merge_doc, indents\u001B[38;5;241m=\u001B[39m\u001B[38;5;241m2\u001B[39m)\n\u001B[0;32m   9328\u001B[0m \u001B[38;5;28;01mdef\u001B[39;00m \u001B[38;5;21mmerge\u001B[39m(\n\u001B[1;32m   (...)\u001B[0m\n\u001B[0;32m   9341\u001B[0m     validate: \u001B[38;5;28mstr\u001B[39m \u001B[38;5;241m|\u001B[39m \u001B[38;5;28;01mNone\u001B[39;00m \u001B[38;5;241m=\u001B[39m \u001B[38;5;28;01mNone\u001B[39;00m,\n\u001B[0;32m   9342\u001B[0m ) \u001B[38;5;241m-\u001B[39m\u001B[38;5;241m>\u001B[39m DataFrame:\n\u001B[0;32m   9343\u001B[0m     \u001B[38;5;28;01mfrom\u001B[39;00m \u001B[38;5;21;01mpandas\u001B[39;00m\u001B[38;5;21;01m.\u001B[39;00m\u001B[38;5;21;01mcore\u001B[39;00m\u001B[38;5;21;01m.\u001B[39;00m\u001B[38;5;21;01mreshape\u001B[39;00m\u001B[38;5;21;01m.\u001B[39;00m\u001B[38;5;21;01mmerge\u001B[39;00m \u001B[38;5;28;01mimport\u001B[39;00m merge\n\u001B[1;32m-> 9345\u001B[0m     \u001B[38;5;28;01mreturn\u001B[39;00m \u001B[43mmerge\u001B[49m\u001B[43m(\u001B[49m\n\u001B[0;32m   9346\u001B[0m \u001B[43m        \u001B[49m\u001B[38;5;28;43mself\u001B[39;49m\u001B[43m,\u001B[49m\n\u001B[0;32m   9347\u001B[0m \u001B[43m        \u001B[49m\u001B[43mright\u001B[49m\u001B[43m,\u001B[49m\n\u001B[0;32m   9348\u001B[0m \u001B[43m        \u001B[49m\u001B[43mhow\u001B[49m\u001B[38;5;241;43m=\u001B[39;49m\u001B[43mhow\u001B[49m\u001B[43m,\u001B[49m\n\u001B[0;32m   9349\u001B[0m \u001B[43m        \u001B[49m\u001B[43mon\u001B[49m\u001B[38;5;241;43m=\u001B[39;49m\u001B[43mon\u001B[49m\u001B[43m,\u001B[49m\n\u001B[0;32m   9350\u001B[0m \u001B[43m        \u001B[49m\u001B[43mleft_on\u001B[49m\u001B[38;5;241;43m=\u001B[39;49m\u001B[43mleft_on\u001B[49m\u001B[43m,\u001B[49m\n\u001B[0;32m   9351\u001B[0m \u001B[43m        \u001B[49m\u001B[43mright_on\u001B[49m\u001B[38;5;241;43m=\u001B[39;49m\u001B[43mright_on\u001B[49m\u001B[43m,\u001B[49m\n\u001B[0;32m   9352\u001B[0m \u001B[43m        \u001B[49m\u001B[43mleft_index\u001B[49m\u001B[38;5;241;43m=\u001B[39;49m\u001B[43mleft_index\u001B[49m\u001B[43m,\u001B[49m\n\u001B[0;32m   9353\u001B[0m \u001B[43m        \u001B[49m\u001B[43mright_index\u001B[49m\u001B[38;5;241;43m=\u001B[39;49m\u001B[43mright_index\u001B[49m\u001B[43m,\u001B[49m\n\u001B[0;32m   9354\u001B[0m \u001B[43m        \u001B[49m\u001B[43msort\u001B[49m\u001B[38;5;241;43m=\u001B[39;49m\u001B[43msort\u001B[49m\u001B[43m,\u001B[49m\n\u001B[0;32m   9355\u001B[0m \u001B[43m        \u001B[49m\u001B[43msuffixes\u001B[49m\u001B[38;5;241;43m=\u001B[39;49m\u001B[43msuffixes\u001B[49m\u001B[43m,\u001B[49m\n\u001B[0;32m   9356\u001B[0m \u001B[43m        \u001B[49m\u001B[43mcopy\u001B[49m\u001B[38;5;241;43m=\u001B[39;49m\u001B[43mcopy\u001B[49m\u001B[43m,\u001B[49m\n\u001B[0;32m   9357\u001B[0m \u001B[43m        \u001B[49m\u001B[43mindicator\u001B[49m\u001B[38;5;241;43m=\u001B[39;49m\u001B[43mindicator\u001B[49m\u001B[43m,\u001B[49m\n\u001B[0;32m   9358\u001B[0m \u001B[43m        \u001B[49m\u001B[43mvalidate\u001B[49m\u001B[38;5;241;43m=\u001B[39;49m\u001B[43mvalidate\u001B[49m\u001B[43m,\u001B[49m\n\u001B[0;32m   9359\u001B[0m \u001B[43m    \u001B[49m\u001B[43m)\u001B[49m\n",
      "File \u001B[1;32m~\\anaconda3\\lib\\site-packages\\pandas\\core\\reshape\\merge.py:107\u001B[0m, in \u001B[0;36mmerge\u001B[1;34m(left, right, how, on, left_on, right_on, left_index, right_index, sort, suffixes, copy, indicator, validate)\u001B[0m\n\u001B[0;32m     90\u001B[0m \u001B[38;5;129m@Substitution\u001B[39m(\u001B[38;5;124m\"\u001B[39m\u001B[38;5;130;01m\\n\u001B[39;00m\u001B[38;5;124mleft : DataFrame or named Series\u001B[39m\u001B[38;5;124m\"\u001B[39m)\n\u001B[0;32m     91\u001B[0m \u001B[38;5;129m@Appender\u001B[39m(_merge_doc, indents\u001B[38;5;241m=\u001B[39m\u001B[38;5;241m0\u001B[39m)\n\u001B[0;32m     92\u001B[0m \u001B[38;5;28;01mdef\u001B[39;00m \u001B[38;5;21mmerge\u001B[39m(\n\u001B[1;32m   (...)\u001B[0m\n\u001B[0;32m    105\u001B[0m     validate: \u001B[38;5;28mstr\u001B[39m \u001B[38;5;241m|\u001B[39m \u001B[38;5;28;01mNone\u001B[39;00m \u001B[38;5;241m=\u001B[39m \u001B[38;5;28;01mNone\u001B[39;00m,\n\u001B[0;32m    106\u001B[0m ) \u001B[38;5;241m-\u001B[39m\u001B[38;5;241m>\u001B[39m DataFrame:\n\u001B[1;32m--> 107\u001B[0m     op \u001B[38;5;241m=\u001B[39m \u001B[43m_MergeOperation\u001B[49m\u001B[43m(\u001B[49m\n\u001B[0;32m    108\u001B[0m \u001B[43m        \u001B[49m\u001B[43mleft\u001B[49m\u001B[43m,\u001B[49m\n\u001B[0;32m    109\u001B[0m \u001B[43m        \u001B[49m\u001B[43mright\u001B[49m\u001B[43m,\u001B[49m\n\u001B[0;32m    110\u001B[0m \u001B[43m        \u001B[49m\u001B[43mhow\u001B[49m\u001B[38;5;241;43m=\u001B[39;49m\u001B[43mhow\u001B[49m\u001B[43m,\u001B[49m\n\u001B[0;32m    111\u001B[0m \u001B[43m        \u001B[49m\u001B[43mon\u001B[49m\u001B[38;5;241;43m=\u001B[39;49m\u001B[43mon\u001B[49m\u001B[43m,\u001B[49m\n\u001B[0;32m    112\u001B[0m \u001B[43m        \u001B[49m\u001B[43mleft_on\u001B[49m\u001B[38;5;241;43m=\u001B[39;49m\u001B[43mleft_on\u001B[49m\u001B[43m,\u001B[49m\n\u001B[0;32m    113\u001B[0m \u001B[43m        \u001B[49m\u001B[43mright_on\u001B[49m\u001B[38;5;241;43m=\u001B[39;49m\u001B[43mright_on\u001B[49m\u001B[43m,\u001B[49m\n\u001B[0;32m    114\u001B[0m \u001B[43m        \u001B[49m\u001B[43mleft_index\u001B[49m\u001B[38;5;241;43m=\u001B[39;49m\u001B[43mleft_index\u001B[49m\u001B[43m,\u001B[49m\n\u001B[0;32m    115\u001B[0m \u001B[43m        \u001B[49m\u001B[43mright_index\u001B[49m\u001B[38;5;241;43m=\u001B[39;49m\u001B[43mright_index\u001B[49m\u001B[43m,\u001B[49m\n\u001B[0;32m    116\u001B[0m \u001B[43m        \u001B[49m\u001B[43msort\u001B[49m\u001B[38;5;241;43m=\u001B[39;49m\u001B[43msort\u001B[49m\u001B[43m,\u001B[49m\n\u001B[0;32m    117\u001B[0m \u001B[43m        \u001B[49m\u001B[43msuffixes\u001B[49m\u001B[38;5;241;43m=\u001B[39;49m\u001B[43msuffixes\u001B[49m\u001B[43m,\u001B[49m\n\u001B[0;32m    118\u001B[0m \u001B[43m        \u001B[49m\u001B[43mcopy\u001B[49m\u001B[38;5;241;43m=\u001B[39;49m\u001B[43mcopy\u001B[49m\u001B[43m,\u001B[49m\n\u001B[0;32m    119\u001B[0m \u001B[43m        \u001B[49m\u001B[43mindicator\u001B[49m\u001B[38;5;241;43m=\u001B[39;49m\u001B[43mindicator\u001B[49m\u001B[43m,\u001B[49m\n\u001B[0;32m    120\u001B[0m \u001B[43m        \u001B[49m\u001B[43mvalidate\u001B[49m\u001B[38;5;241;43m=\u001B[39;49m\u001B[43mvalidate\u001B[49m\u001B[43m,\u001B[49m\n\u001B[0;32m    121\u001B[0m \u001B[43m    \u001B[49m\u001B[43m)\u001B[49m\n\u001B[0;32m    122\u001B[0m     \u001B[38;5;28;01mreturn\u001B[39;00m op\u001B[38;5;241m.\u001B[39mget_result()\n",
      "File \u001B[1;32m~\\anaconda3\\lib\\site-packages\\pandas\\core\\reshape\\merge.py:710\u001B[0m, in \u001B[0;36m_MergeOperation.__init__\u001B[1;34m(self, left, right, how, on, left_on, right_on, axis, left_index, right_index, sort, suffixes, copy, indicator, validate)\u001B[0m\n\u001B[0;32m    706\u001B[0m \u001B[38;5;66;03m# If argument passed to validate,\u001B[39;00m\n\u001B[0;32m    707\u001B[0m \u001B[38;5;66;03m# check if columns specified as unique\u001B[39;00m\n\u001B[0;32m    708\u001B[0m \u001B[38;5;66;03m# are in fact unique.\u001B[39;00m\n\u001B[0;32m    709\u001B[0m \u001B[38;5;28;01mif\u001B[39;00m validate \u001B[38;5;129;01mis\u001B[39;00m \u001B[38;5;129;01mnot\u001B[39;00m \u001B[38;5;28;01mNone\u001B[39;00m:\n\u001B[1;32m--> 710\u001B[0m     \u001B[38;5;28;43mself\u001B[39;49m\u001B[38;5;241;43m.\u001B[39;49m\u001B[43m_validate\u001B[49m\u001B[43m(\u001B[49m\u001B[43mvalidate\u001B[49m\u001B[43m)\u001B[49m\n",
      "File \u001B[1;32m~\\anaconda3\\lib\\site-packages\\pandas\\core\\reshape\\merge.py:1423\u001B[0m, in \u001B[0;36m_MergeOperation._validate\u001B[1;34m(self, validate)\u001B[0m\n\u001B[0;32m   1421\u001B[0m \u001B[38;5;28;01mif\u001B[39;00m validate \u001B[38;5;129;01min\u001B[39;00m [\u001B[38;5;124m\"\u001B[39m\u001B[38;5;124mone_to_one\u001B[39m\u001B[38;5;124m\"\u001B[39m, \u001B[38;5;124m\"\u001B[39m\u001B[38;5;124m1:1\u001B[39m\u001B[38;5;124m\"\u001B[39m]:\n\u001B[0;32m   1422\u001B[0m     \u001B[38;5;28;01mif\u001B[39;00m \u001B[38;5;129;01mnot\u001B[39;00m left_unique \u001B[38;5;129;01mand\u001B[39;00m \u001B[38;5;129;01mnot\u001B[39;00m right_unique:\n\u001B[1;32m-> 1423\u001B[0m         \u001B[38;5;28;01mraise\u001B[39;00m MergeError(\n\u001B[0;32m   1424\u001B[0m             \u001B[38;5;124m\"\u001B[39m\u001B[38;5;124mMerge keys are not unique in either left \u001B[39m\u001B[38;5;124m\"\u001B[39m\n\u001B[0;32m   1425\u001B[0m             \u001B[38;5;124m\"\u001B[39m\u001B[38;5;124mor right dataset; not a one-to-one merge\u001B[39m\u001B[38;5;124m\"\u001B[39m\n\u001B[0;32m   1426\u001B[0m         )\n\u001B[0;32m   1427\u001B[0m     \u001B[38;5;28;01melif\u001B[39;00m \u001B[38;5;129;01mnot\u001B[39;00m left_unique:\n\u001B[0;32m   1428\u001B[0m         \u001B[38;5;28;01mraise\u001B[39;00m MergeError(\n\u001B[0;32m   1429\u001B[0m             \u001B[38;5;124m\"\u001B[39m\u001B[38;5;124mMerge keys are not unique in left dataset; not a one-to-one merge\u001B[39m\u001B[38;5;124m\"\u001B[39m\n\u001B[0;32m   1430\u001B[0m         )\n",
      "\u001B[1;31mMergeError\u001B[0m: Merge keys are not unique in either left or right dataset; not a one-to-one merge"
     ]
    }
   ],
   "source": [
    "merge = male.merge(female,\n",
    "                   on=['year', 'category'],\n",
    "                   suffixes=(\"_male\",\"_female\"),\n",
    "                   validate='1:1')"
   ],
   "metadata": {
    "collapsed": false,
    "pycharm": {
     "name": "#%%\n"
    }
   }
  },
  {
   "cell_type": "markdown",
   "source": [
    "### 23. Stacking chained commands into one line of code\n",
    "Method chaining is a great feature in pandas, but code can get really unreadable if it is all in one line.\n",
    "By wrapping expression in parentheses, code can be split so that each line has one component."
   ],
   "metadata": {
    "collapsed": false,
    "pycharm": {
     "name": "#%% md\n"
    }
   }
  },
  {
   "cell_type": "code",
   "execution_count": 81,
   "outputs": [
    {
     "data": {
      "text/plain": "     year    category  prize\n0    1901   Chemistry      1\n1    1901  Literature      1\n2    1901    Medicine      1\n3    1901       Peace      2\n4    1901     Physics      1\n..    ...         ...    ...\n555  2016   Chemistry      3\n556  2016   Economics      2\n557  2016  Literature      1\n558  2016    Medicine      1\n560  2016     Physics      3\n\n[561 rows x 3 columns]",
      "text/html": "<div>\n<style scoped>\n    .dataframe tbody tr th:only-of-type {\n        vertical-align: middle;\n    }\n\n    .dataframe tbody tr th {\n        vertical-align: top;\n    }\n\n    .dataframe thead th {\n        text-align: right;\n    }\n</style>\n<table border=\"1\" class=\"dataframe\">\n  <thead>\n    <tr style=\"text-align: right;\">\n      <th></th>\n      <th>year</th>\n      <th>category</th>\n      <th>prize</th>\n    </tr>\n  </thead>\n  <tbody>\n    <tr>\n      <th>0</th>\n      <td>1901</td>\n      <td>Chemistry</td>\n      <td>1</td>\n    </tr>\n    <tr>\n      <th>1</th>\n      <td>1901</td>\n      <td>Literature</td>\n      <td>1</td>\n    </tr>\n    <tr>\n      <th>2</th>\n      <td>1901</td>\n      <td>Medicine</td>\n      <td>1</td>\n    </tr>\n    <tr>\n      <th>3</th>\n      <td>1901</td>\n      <td>Peace</td>\n      <td>2</td>\n    </tr>\n    <tr>\n      <th>4</th>\n      <td>1901</td>\n      <td>Physics</td>\n      <td>1</td>\n    </tr>\n    <tr>\n      <th>...</th>\n      <td>...</td>\n      <td>...</td>\n      <td>...</td>\n    </tr>\n    <tr>\n      <th>555</th>\n      <td>2016</td>\n      <td>Chemistry</td>\n      <td>3</td>\n    </tr>\n    <tr>\n      <th>556</th>\n      <td>2016</td>\n      <td>Economics</td>\n      <td>2</td>\n    </tr>\n    <tr>\n      <th>557</th>\n      <td>2016</td>\n      <td>Literature</td>\n      <td>1</td>\n    </tr>\n    <tr>\n      <th>558</th>\n      <td>2016</td>\n      <td>Medicine</td>\n      <td>1</td>\n    </tr>\n    <tr>\n      <th>560</th>\n      <td>2016</td>\n      <td>Physics</td>\n      <td>3</td>\n    </tr>\n  </tbody>\n</table>\n<p>561 rows × 3 columns</p>\n</div>"
     },
     "execution_count": 81,
     "metadata": {},
     "output_type": "execute_result"
    }
   ],
   "source": [
    "nobel_ages_view = (nobel_ages\n",
    "                   .groupby(['year', 'category'])['prize']\n",
    "                   .count()\n",
    "                   .reset_index()\n",
    "                   .fillna(0)\n",
    "                   .sort_values('year')\n",
    "                   )\n",
    "nobel_ages_view"
   ],
   "metadata": {
    "collapsed": false,
    "pycharm": {
     "name": "#%%\n"
    }
   }
  },
  {
   "cell_type": "markdown",
   "source": [
    "### 24. Using categorical data types\n",
    "In this example there are a grouping column tha conteins only 2 potential values\n",
    "Instead of storing column like this as a string object, is better to store them as a categorical data type.\n",
    "Categorical data type take less space in memory and can make operation much faster on large datasets"
   ],
   "metadata": {
    "collapsed": false,
    "pycharm": {
     "name": "#%% md\n"
    }
   }
  },
  {
   "cell_type": "code",
   "execution_count": 82,
   "outputs": [
    {
     "name": "stdout",
     "output_type": "stream",
     "text": [
      "<class 'pandas.core.frame.DataFrame'>\n",
      "Int64Index: 883 entries, 0 to 882\n",
      "Data columns (total 24 columns):\n",
      " #   Column                Non-Null Count  Dtype         \n",
      "---  ------                --------------  -----         \n",
      " 0   index                 883 non-null    int64         \n",
      " 1   year                  883 non-null    int64         \n",
      " 2   category              883 non-null    category      \n",
      " 3   prize                 883 non-null    object        \n",
      " 4   motivation            811 non-null    object        \n",
      " 5   prize_share           883 non-null    object        \n",
      " 6   laureate_id           883 non-null    int64         \n",
      " 7   laureate_type         883 non-null    object        \n",
      " 8   full_name             883 non-null    object        \n",
      " 9   birth_date            883 non-null    datetime64[ns]\n",
      " 10  birth_city            881 non-null    object        \n",
      " 11  birth_country         883 non-null    object        \n",
      " 12  sex                   883 non-null    category      \n",
      " 13  organization_name     663 non-null    object        \n",
      " 14  organization_city     665 non-null    object        \n",
      " 15  organization_country  665 non-null    object        \n",
      " 16  death_date            883 non-null    datetime64[ns]\n",
      " 17  death_city            576 non-null    object        \n",
      " 18  death_country         582 non-null    object        \n",
      " 19  age                   883 non-null    int64         \n",
      " 20  percent               882 non-null    float64       \n",
      " 21  delta                 882 non-null    float64       \n",
      " 22  age_ptc               882 non-null    float64       \n",
      " 23  age_diff              882 non-null    float64       \n",
      "dtypes: category(2), datetime64[ns](2), float64(4), int64(4), object(12)\n",
      "memory usage: 193.0+ KB\n"
     ]
    }
   ],
   "source": [
    "nobel_ages['sex'] = nobel_ages['sex'].astype('category')\n",
    "nobel_ages['category'] = nobel_ages['category'].astype('category')\n",
    "nobel_ages.info()"
   ],
   "metadata": {
    "collapsed": false,
    "pycharm": {
     "name": "#%%\n"
    }
   }
  },
  {
   "cell_type": "markdown",
   "source": [
    "### 25. Be aware of creating duplicated label columns\n",
    " This is when concatenating 2 dataframes as can be seen below, if columns have same name they are duplicated.\n",
    " This can be really confusing and hard to debug if we do not know that this  is possible.\n"
   ],
   "metadata": {
    "collapsed": false,
    "pycharm": {
     "name": "#%% md\n"
    }
   }
  },
  {
   "cell_type": "code",
   "execution_count": 100,
   "outputs": [
    {
     "data": {
      "text/plain": "     year    category                           full_name  year    category  \\\n0    1902  Literature  Christian Matthias Theodor Mommsen  1902  Literature   \n1    1901       Peace                      Frédéric Passy  1901       Peace   \n2    1903       Peace               William Randal Cremer  1903       Peace   \n3    1901       Peace                   Jean Henry Dunant  1901       Peace   \n4    1909       Peace    Auguste Marie François Beernaert  1909       Peace   \n..    ...         ...                                 ...   ...         ...   \n878  2011     Physics                       Adam G. Riess  2011     Physics   \n879  2011       Peace                       Leymah Gbowee  2011       Peace   \n880  2010     Physics                Konstantin Novoselov  2010     Physics   \n881  2011       Peace                     Tawakkol Karman  2011       Peace   \n882  2014       Peace                    Malala Yousafzai  2014       Peace   \n\n                              full_name  \n0    Christian Matthias Theodor Mommsen  \n1                        Frédéric Passy  \n2                 William Randal Cremer  \n3                     Jean Henry Dunant  \n4      Auguste Marie François Beernaert  \n..                                  ...  \n878                       Adam G. Riess  \n879                       Leymah Gbowee  \n880                Konstantin Novoselov  \n881                     Tawakkol Karman  \n882                    Malala Yousafzai  \n\n[883 rows x 6 columns]",
      "text/html": "<div>\n<style scoped>\n    .dataframe tbody tr th:only-of-type {\n        vertical-align: middle;\n    }\n\n    .dataframe tbody tr th {\n        vertical-align: top;\n    }\n\n    .dataframe thead th {\n        text-align: right;\n    }\n</style>\n<table border=\"1\" class=\"dataframe\">\n  <thead>\n    <tr style=\"text-align: right;\">\n      <th></th>\n      <th>year</th>\n      <th>category</th>\n      <th>full_name</th>\n      <th>year</th>\n      <th>category</th>\n      <th>full_name</th>\n    </tr>\n  </thead>\n  <tbody>\n    <tr>\n      <th>0</th>\n      <td>1902</td>\n      <td>Literature</td>\n      <td>Christian Matthias Theodor Mommsen</td>\n      <td>1902</td>\n      <td>Literature</td>\n      <td>Christian Matthias Theodor Mommsen</td>\n    </tr>\n    <tr>\n      <th>1</th>\n      <td>1901</td>\n      <td>Peace</td>\n      <td>Frédéric Passy</td>\n      <td>1901</td>\n      <td>Peace</td>\n      <td>Frédéric Passy</td>\n    </tr>\n    <tr>\n      <th>2</th>\n      <td>1903</td>\n      <td>Peace</td>\n      <td>William Randal Cremer</td>\n      <td>1903</td>\n      <td>Peace</td>\n      <td>William Randal Cremer</td>\n    </tr>\n    <tr>\n      <th>3</th>\n      <td>1901</td>\n      <td>Peace</td>\n      <td>Jean Henry Dunant</td>\n      <td>1901</td>\n      <td>Peace</td>\n      <td>Jean Henry Dunant</td>\n    </tr>\n    <tr>\n      <th>4</th>\n      <td>1909</td>\n      <td>Peace</td>\n      <td>Auguste Marie François Beernaert</td>\n      <td>1909</td>\n      <td>Peace</td>\n      <td>Auguste Marie François Beernaert</td>\n    </tr>\n    <tr>\n      <th>...</th>\n      <td>...</td>\n      <td>...</td>\n      <td>...</td>\n      <td>...</td>\n      <td>...</td>\n      <td>...</td>\n    </tr>\n    <tr>\n      <th>878</th>\n      <td>2011</td>\n      <td>Physics</td>\n      <td>Adam G. Riess</td>\n      <td>2011</td>\n      <td>Physics</td>\n      <td>Adam G. Riess</td>\n    </tr>\n    <tr>\n      <th>879</th>\n      <td>2011</td>\n      <td>Peace</td>\n      <td>Leymah Gbowee</td>\n      <td>2011</td>\n      <td>Peace</td>\n      <td>Leymah Gbowee</td>\n    </tr>\n    <tr>\n      <th>880</th>\n      <td>2010</td>\n      <td>Physics</td>\n      <td>Konstantin Novoselov</td>\n      <td>2010</td>\n      <td>Physics</td>\n      <td>Konstantin Novoselov</td>\n    </tr>\n    <tr>\n      <th>881</th>\n      <td>2011</td>\n      <td>Peace</td>\n      <td>Tawakkol Karman</td>\n      <td>2011</td>\n      <td>Peace</td>\n      <td>Tawakkol Karman</td>\n    </tr>\n    <tr>\n      <th>882</th>\n      <td>2014</td>\n      <td>Peace</td>\n      <td>Malala Yousafzai</td>\n      <td>2014</td>\n      <td>Peace</td>\n      <td>Malala Yousafzai</td>\n    </tr>\n  </tbody>\n</table>\n<p>883 rows × 6 columns</p>\n</div>"
     },
     "execution_count": 100,
     "metadata": {},
     "output_type": "execute_result"
    }
   ],
   "source": [
    "df_subset  = nobel_ages[['year', 'category', 'full_name']]\n",
    "df_duplicate = pd.concat([df_subset,df_subset], axis=1)\n",
    "df_duplicate"
   ],
   "metadata": {
    "collapsed": false,
    "pycharm": {
     "name": "#%%\n"
    }
   }
  },
  {
   "cell_type": "markdown",
   "source": [
    "Panda does have a flag that can be set whic can allert when duplicate label occurs"
   ],
   "metadata": {
    "collapsed": false,
    "pycharm": {
     "name": "#%% md\n"
    }
   }
  },
  {
   "cell_type": "code",
   "execution_count": 83,
   "outputs": [
    {
     "ename": "DuplicateLabelError",
     "evalue": "Index has duplicates.\n              positions\nlabel                  \nyear_nobel      [0, 12]\ncategory        [1, 13]\nprize           [2, 14]\nmotivation      [3, 15]\nprize_share     [4, 16]\nlaureate_id     [5, 17]\nlaureate_type   [6, 18]\nfull_name       [7, 19]\nbirth_date      [8, 20]\nbirth_city      [9, 21]\nbirth_country  [10, 22]\nsex            [11, 23]",
     "output_type": "error",
     "traceback": [
      "\u001B[1;31m---------------------------------------------------------------------------\u001B[0m",
      "\u001B[1;31mDuplicateLabelError\u001B[0m                       Traceback (most recent call last)",
      "Input \u001B[1;32mIn [83]\u001B[0m, in \u001B[0;36m<cell line: 1>\u001B[1;34m()\u001B[0m\n\u001B[1;32m----> 1\u001B[0m df_duplicate \u001B[38;5;241m=\u001B[39m \u001B[43mpd\u001B[49m\u001B[38;5;241;43m.\u001B[39;49m\u001B[43mconcat\u001B[49m\u001B[43m(\u001B[49m\u001B[43m[\u001B[49m\u001B[43mdf_subset\u001B[49m\u001B[43m,\u001B[49m\u001B[43mdf_subset\u001B[49m\u001B[43m]\u001B[49m\u001B[43m,\u001B[49m\u001B[43m \u001B[49m\u001B[43maxis\u001B[49m\u001B[38;5;241;43m=\u001B[39;49m\u001B[38;5;241;43m1\u001B[39;49m\u001B[43m)\u001B[49m\u001B[43m\\\u001B[49m\n\u001B[0;32m      2\u001B[0m \u001B[43m    \u001B[49m\u001B[38;5;241;43m.\u001B[39;49m\u001B[43mset_flags\u001B[49m\u001B[43m(\u001B[49m\u001B[43mallows_duplicate_labels\u001B[49m\u001B[38;5;241;43m=\u001B[39;49m\u001B[38;5;28;43;01mFalse\u001B[39;49;00m\u001B[43m)\u001B[49m\n\u001B[0;32m      3\u001B[0m df_duplicate\n",
      "File \u001B[1;32m~\\anaconda3\\lib\\site-packages\\pandas\\core\\generic.py:438\u001B[0m, in \u001B[0;36mNDFrame.set_flags\u001B[1;34m(self, copy, allows_duplicate_labels)\u001B[0m\n\u001B[0;32m    436\u001B[0m df \u001B[38;5;241m=\u001B[39m \u001B[38;5;28mself\u001B[39m\u001B[38;5;241m.\u001B[39mcopy(deep\u001B[38;5;241m=\u001B[39mcopy)\n\u001B[0;32m    437\u001B[0m \u001B[38;5;28;01mif\u001B[39;00m allows_duplicate_labels \u001B[38;5;129;01mis\u001B[39;00m \u001B[38;5;129;01mnot\u001B[39;00m \u001B[38;5;28;01mNone\u001B[39;00m:\n\u001B[1;32m--> 438\u001B[0m     df\u001B[38;5;241m.\u001B[39mflags[\u001B[38;5;124m\"\u001B[39m\u001B[38;5;124mallows_duplicate_labels\u001B[39m\u001B[38;5;124m\"\u001B[39m] \u001B[38;5;241m=\u001B[39m allows_duplicate_labels\n\u001B[0;32m    439\u001B[0m \u001B[38;5;28;01mreturn\u001B[39;00m df\n",
      "File \u001B[1;32m~\\anaconda3\\lib\\site-packages\\pandas\\core\\flags.py:105\u001B[0m, in \u001B[0;36mFlags.__setitem__\u001B[1;34m(self, key, value)\u001B[0m\n\u001B[0;32m    103\u001B[0m \u001B[38;5;28;01mif\u001B[39;00m key \u001B[38;5;129;01mnot\u001B[39;00m \u001B[38;5;129;01min\u001B[39;00m \u001B[38;5;28mself\u001B[39m\u001B[38;5;241m.\u001B[39m_keys:\n\u001B[0;32m    104\u001B[0m     \u001B[38;5;28;01mraise\u001B[39;00m \u001B[38;5;167;01mValueError\u001B[39;00m(\u001B[38;5;124mf\u001B[39m\u001B[38;5;124m\"\u001B[39m\u001B[38;5;124mUnknown flag \u001B[39m\u001B[38;5;132;01m{\u001B[39;00mkey\u001B[38;5;132;01m}\u001B[39;00m\u001B[38;5;124m. Must be one of \u001B[39m\u001B[38;5;132;01m{\u001B[39;00m\u001B[38;5;28mself\u001B[39m\u001B[38;5;241m.\u001B[39m_keys\u001B[38;5;132;01m}\u001B[39;00m\u001B[38;5;124m\"\u001B[39m)\n\u001B[1;32m--> 105\u001B[0m \u001B[38;5;28;43msetattr\u001B[39;49m\u001B[43m(\u001B[49m\u001B[38;5;28;43mself\u001B[39;49m\u001B[43m,\u001B[49m\u001B[43m \u001B[49m\u001B[43mkey\u001B[49m\u001B[43m,\u001B[49m\u001B[43m \u001B[49m\u001B[43mvalue\u001B[49m\u001B[43m)\u001B[49m\n",
      "File \u001B[1;32m~\\anaconda3\\lib\\site-packages\\pandas\\core\\flags.py:92\u001B[0m, in \u001B[0;36mFlags.allows_duplicate_labels\u001B[1;34m(self, value)\u001B[0m\n\u001B[0;32m     90\u001B[0m \u001B[38;5;28;01mif\u001B[39;00m \u001B[38;5;129;01mnot\u001B[39;00m value:\n\u001B[0;32m     91\u001B[0m     \u001B[38;5;28;01mfor\u001B[39;00m ax \u001B[38;5;129;01min\u001B[39;00m obj\u001B[38;5;241m.\u001B[39maxes:\n\u001B[1;32m---> 92\u001B[0m         \u001B[43max\u001B[49m\u001B[38;5;241;43m.\u001B[39;49m\u001B[43m_maybe_check_unique\u001B[49m\u001B[43m(\u001B[49m\u001B[43m)\u001B[49m\n\u001B[0;32m     94\u001B[0m \u001B[38;5;28mself\u001B[39m\u001B[38;5;241m.\u001B[39m_allows_duplicate_labels \u001B[38;5;241m=\u001B[39m value\n",
      "File \u001B[1;32m~\\anaconda3\\lib\\site-packages\\pandas\\core\\indexes\\base.py:715\u001B[0m, in \u001B[0;36mIndex._maybe_check_unique\u001B[1;34m(self)\u001B[0m\n\u001B[0;32m    712\u001B[0m duplicates \u001B[38;5;241m=\u001B[39m \u001B[38;5;28mself\u001B[39m\u001B[38;5;241m.\u001B[39m_format_duplicate_message()\n\u001B[0;32m    713\u001B[0m msg \u001B[38;5;241m+\u001B[39m\u001B[38;5;241m=\u001B[39m \u001B[38;5;124mf\u001B[39m\u001B[38;5;124m\"\u001B[39m\u001B[38;5;130;01m\\n\u001B[39;00m\u001B[38;5;132;01m{\u001B[39;00mduplicates\u001B[38;5;132;01m}\u001B[39;00m\u001B[38;5;124m\"\u001B[39m\n\u001B[1;32m--> 715\u001B[0m \u001B[38;5;28;01mraise\u001B[39;00m DuplicateLabelError(msg)\n",
      "\u001B[1;31mDuplicateLabelError\u001B[0m: Index has duplicates.\n              positions\nlabel                  \nyear_nobel      [0, 12]\ncategory        [1, 13]\nprize           [2, 14]\nmotivation      [3, 15]\nprize_share     [4, 16]\nlaureate_id     [5, 17]\nlaureate_type   [6, 18]\nfull_name       [7, 19]\nbirth_date      [8, 20]\nbirth_city      [9, 21]\nbirth_country  [10, 22]\nsex            [11, 23]"
     ]
    }
   ],
   "source": [
    "df_duplicate = pd.concat([df_subset,df_subset], axis=1)\\\n",
    "    .set_flags(allows_duplicate_labels=False)\n",
    "df_duplicate"
   ],
   "metadata": {
    "collapsed": false,
    "pycharm": {
     "name": "#%%\n"
    }
   }
  },
  {
   "cell_type": "markdown",
   "source": [
    "This can be solved by using this line of code, that will check for duplicated column and remove them."
   ],
   "metadata": {
    "collapsed": false,
    "pycharm": {
     "name": "#%% md\n"
    }
   }
  },
  {
   "cell_type": "code",
   "execution_count": 84,
   "outputs": [
    {
     "data": {
      "text/plain": "     year_nobel    category                                           prize  \\\n0          1901   Chemistry               The Nobel Prize in Chemistry 1901   \n1          1901  Literature              The Nobel Prize in Literature 1901   \n2          1901    Medicine  The Nobel Prize in Physiology or Medicine 1901   \n3          1901       Peace                      The Nobel Peace Prize 1901   \n4          1901       Peace                      The Nobel Peace Prize 1901   \n..          ...         ...                                             ...   \n906        2016    Medicine  The Nobel Prize in Physiology or Medicine 2016   \n907        2016       Peace                      The Nobel Peace Prize 2016   \n908        2016     Physics                 The Nobel Prize in Physics 2016   \n909        2016     Physics                 The Nobel Prize in Physics 2016   \n910        2016     Physics                 The Nobel Prize in Physics 2016   \n\n                                            motivation prize_share  \\\n0    \"in recognition of the extraordinary services ...         1/1   \n1    \"in special recognition of his poetic composit...         1/1   \n2    \"for his work on serum therapy, especially its...         1/1   \n3                                                  NaN         1/2   \n4                                                  NaN         1/2   \n..                                                 ...         ...   \n906  \"for his discoveries of mechanisms for autophagy\"         1/1   \n907  \"for his resolute efforts to bring the country...         1/1   \n908  \"for theoretical discoveries of topological ph...         1/2   \n909  \"for theoretical discoveries of topological ph...         1/4   \n910  \"for theoretical discoveries of topological ph...         1/4   \n\n     laureate_id laureate_type                     full_name birth_date  \\\n0            160    Individual  Jacobus Henricus van 't Hoff 1852-08-30   \n1            569    Individual               Sully Prudhomme 1839-03-16   \n2            293    Individual        Emil Adolf von Behring 1854-03-15   \n3            462    Individual             Jean Henry Dunant 1828-05-08   \n4            463    Individual                Frédéric Passy 1822-05-20   \n..           ...           ...                           ...        ...   \n906          927    Individual              Yoshinori Ohsumi 1945-02-09   \n907          934    Individual            Juan Manuel Santos 1951-08-10   \n908          928    Individual             David J. Thouless 1934-09-21   \n909          929    Individual          F. Duncan M. Haldane 1951-09-14   \n910          930    Individual         J. Michael Kosterlitz 1943-06-22   \n\n            birth_city     birth_country   sex  \n0            Rotterdam       Netherlands  Male  \n1                Paris            France  Male  \n2    Hansdorf (Lawice)  Prussia (Poland)  Male  \n3               Geneva       Switzerland  Male  \n4                Paris            France  Male  \n..                 ...               ...   ...  \n906            Fukuoka             Japan  Male  \n907             Bogotá          Colombia  Male  \n908           Bearsden    United Kingdom  Male  \n909             London    United Kingdom  Male  \n910           Aberdeen    United Kingdom  Male  \n\n[911 rows x 12 columns]",
      "text/html": "<div>\n<style scoped>\n    .dataframe tbody tr th:only-of-type {\n        vertical-align: middle;\n    }\n\n    .dataframe tbody tr th {\n        vertical-align: top;\n    }\n\n    .dataframe thead th {\n        text-align: right;\n    }\n</style>\n<table border=\"1\" class=\"dataframe\">\n  <thead>\n    <tr style=\"text-align: right;\">\n      <th></th>\n      <th>year_nobel</th>\n      <th>category</th>\n      <th>prize</th>\n      <th>motivation</th>\n      <th>prize_share</th>\n      <th>laureate_id</th>\n      <th>laureate_type</th>\n      <th>full_name</th>\n      <th>birth_date</th>\n      <th>birth_city</th>\n      <th>birth_country</th>\n      <th>sex</th>\n    </tr>\n  </thead>\n  <tbody>\n    <tr>\n      <th>0</th>\n      <td>1901</td>\n      <td>Chemistry</td>\n      <td>The Nobel Prize in Chemistry 1901</td>\n      <td>\"in recognition of the extraordinary services ...</td>\n      <td>1/1</td>\n      <td>160</td>\n      <td>Individual</td>\n      <td>Jacobus Henricus van 't Hoff</td>\n      <td>1852-08-30</td>\n      <td>Rotterdam</td>\n      <td>Netherlands</td>\n      <td>Male</td>\n    </tr>\n    <tr>\n      <th>1</th>\n      <td>1901</td>\n      <td>Literature</td>\n      <td>The Nobel Prize in Literature 1901</td>\n      <td>\"in special recognition of his poetic composit...</td>\n      <td>1/1</td>\n      <td>569</td>\n      <td>Individual</td>\n      <td>Sully Prudhomme</td>\n      <td>1839-03-16</td>\n      <td>Paris</td>\n      <td>France</td>\n      <td>Male</td>\n    </tr>\n    <tr>\n      <th>2</th>\n      <td>1901</td>\n      <td>Medicine</td>\n      <td>The Nobel Prize in Physiology or Medicine 1901</td>\n      <td>\"for his work on serum therapy, especially its...</td>\n      <td>1/1</td>\n      <td>293</td>\n      <td>Individual</td>\n      <td>Emil Adolf von Behring</td>\n      <td>1854-03-15</td>\n      <td>Hansdorf (Lawice)</td>\n      <td>Prussia (Poland)</td>\n      <td>Male</td>\n    </tr>\n    <tr>\n      <th>3</th>\n      <td>1901</td>\n      <td>Peace</td>\n      <td>The Nobel Peace Prize 1901</td>\n      <td>NaN</td>\n      <td>1/2</td>\n      <td>462</td>\n      <td>Individual</td>\n      <td>Jean Henry Dunant</td>\n      <td>1828-05-08</td>\n      <td>Geneva</td>\n      <td>Switzerland</td>\n      <td>Male</td>\n    </tr>\n    <tr>\n      <th>4</th>\n      <td>1901</td>\n      <td>Peace</td>\n      <td>The Nobel Peace Prize 1901</td>\n      <td>NaN</td>\n      <td>1/2</td>\n      <td>463</td>\n      <td>Individual</td>\n      <td>Frédéric Passy</td>\n      <td>1822-05-20</td>\n      <td>Paris</td>\n      <td>France</td>\n      <td>Male</td>\n    </tr>\n    <tr>\n      <th>...</th>\n      <td>...</td>\n      <td>...</td>\n      <td>...</td>\n      <td>...</td>\n      <td>...</td>\n      <td>...</td>\n      <td>...</td>\n      <td>...</td>\n      <td>...</td>\n      <td>...</td>\n      <td>...</td>\n      <td>...</td>\n    </tr>\n    <tr>\n      <th>906</th>\n      <td>2016</td>\n      <td>Medicine</td>\n      <td>The Nobel Prize in Physiology or Medicine 2016</td>\n      <td>\"for his discoveries of mechanisms for autophagy\"</td>\n      <td>1/1</td>\n      <td>927</td>\n      <td>Individual</td>\n      <td>Yoshinori Ohsumi</td>\n      <td>1945-02-09</td>\n      <td>Fukuoka</td>\n      <td>Japan</td>\n      <td>Male</td>\n    </tr>\n    <tr>\n      <th>907</th>\n      <td>2016</td>\n      <td>Peace</td>\n      <td>The Nobel Peace Prize 2016</td>\n      <td>\"for his resolute efforts to bring the country...</td>\n      <td>1/1</td>\n      <td>934</td>\n      <td>Individual</td>\n      <td>Juan Manuel Santos</td>\n      <td>1951-08-10</td>\n      <td>Bogotá</td>\n      <td>Colombia</td>\n      <td>Male</td>\n    </tr>\n    <tr>\n      <th>908</th>\n      <td>2016</td>\n      <td>Physics</td>\n      <td>The Nobel Prize in Physics 2016</td>\n      <td>\"for theoretical discoveries of topological ph...</td>\n      <td>1/2</td>\n      <td>928</td>\n      <td>Individual</td>\n      <td>David J. Thouless</td>\n      <td>1934-09-21</td>\n      <td>Bearsden</td>\n      <td>United Kingdom</td>\n      <td>Male</td>\n    </tr>\n    <tr>\n      <th>909</th>\n      <td>2016</td>\n      <td>Physics</td>\n      <td>The Nobel Prize in Physics 2016</td>\n      <td>\"for theoretical discoveries of topological ph...</td>\n      <td>1/4</td>\n      <td>929</td>\n      <td>Individual</td>\n      <td>F. Duncan M. Haldane</td>\n      <td>1951-09-14</td>\n      <td>London</td>\n      <td>United Kingdom</td>\n      <td>Male</td>\n    </tr>\n    <tr>\n      <th>910</th>\n      <td>2016</td>\n      <td>Physics</td>\n      <td>The Nobel Prize in Physics 2016</td>\n      <td>\"for theoretical discoveries of topological ph...</td>\n      <td>1/4</td>\n      <td>930</td>\n      <td>Individual</td>\n      <td>J. Michael Kosterlitz</td>\n      <td>1943-06-22</td>\n      <td>Aberdeen</td>\n      <td>United Kingdom</td>\n      <td>Male</td>\n    </tr>\n  </tbody>\n</table>\n<p>911 rows × 12 columns</p>\n</div>"
     },
     "execution_count": 84,
     "metadata": {},
     "output_type": "execute_result"
    }
   ],
   "source": [
    "df_duplicate = pd.concat([df_subset,df_subset], axis=1)\n",
    "df_duplicate = df_duplicate.loc[:, ~df_duplicate.columns.duplicated()].copy()\n",
    "df_duplicate"
   ],
   "metadata": {
    "collapsed": false,
    "pycharm": {
     "name": "#%%\n"
    }
   }
  },
  {
   "cell_type": "code",
   "execution_count": null,
   "outputs": [],
   "source": [],
   "metadata": {
    "collapsed": false,
    "pycharm": {
     "name": "#%%\n"
    }
   }
  }
 ],
 "metadata": {
  "kernelspec": {
   "display_name": "Python 3",
   "language": "python",
   "name": "python3"
  },
  "language_info": {
   "codemirror_mode": {
    "name": "ipython",
    "version": 2
   },
   "file_extension": ".py",
   "mimetype": "text/x-python",
   "name": "python",
   "nbconvert_exporter": "python",
   "pygments_lexer": "ipython2",
   "version": "2.7.6"
  }
 },
 "nbformat": 4,
 "nbformat_minor": 0
}