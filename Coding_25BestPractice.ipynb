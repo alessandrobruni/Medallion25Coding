{
 "cells": [
  {
   "cell_type": "markdown",
   "source": [
    "# Good coding to have\n",
    "\n",
    "Here 25 notes for good coding practice that I have to\n",
    " thanks to  https://www.youtube.com/watch?v=_gaAoJBMJ_Q&t=389s\n",
    "\n",
    "1. Writing to a csv with unnecessary index <a id=\"section_1\">here</a>\n",
    "2. Avoid column name that include spaces <a id=\"section_2\">here</a>\n",
    "3. Leveraging the query method <a id=\"section_3\">here</a>\n",
    "4. <a id=\"section_4\">Using variables instead of the string method to formulate the query strings </a>\n",
    "5. Using override when possible instead of inplace = True\n",
    "6. Use vectorization instead of iterating over rows in a dataframe\n",
    "7. Using vectorization as an option instead using apply method (when possible)\n",
    "8. Avoid considering a slice of a dataframe as it were a new dataframe\n",
    "9. Use chaining commands and avoid creating multiple intermediate dataframes when making transformations\n",
    "10. Properly set columns dtypes\n",
    "11. Using boolean value instead of string\n",
    "12. Leveraging pandas built in plotting methods\n",
    "13. Avoid manually applying string methods\n",
    "14. Avoid repeating commonly used data transformation\n",
    "15. Use dictionary for renaming columns\n",
    "16. Aggregating by groups not manually but with group by\n",
    "17. Looping over the rows to create aggregates\n",
    "18. Avoid if possible using a loop to calculate how values changes\n",
    "19. Saving large datasets as csv\n",
    "20. Apply style to dataframe like in excel\n",
    "21. Setting proper suffixes when merging 2 dataframes\n",
    "22. Checking consistency after merging 2 dataframes\n",
    "23. Stacking chained commands into one line of code\n",
    "24. Using categorical data types\n",
    "25. Be aware of creating duplicated label columns\n",
    "26. Memory optimization"
   ],
   "metadata": {
    "collapsed": false,
    "pycharm": {
     "name": "#%% md\n"
    }
   },
   "outputs": []
  },
  {
   "cell_type": "markdown",
   "source": [
    "***\n",
    "\n",
    "### [1. writing to a csv with unnecessary index](section_1)\n",
    "When saving files, pandas creates a new unnecessary - in most case - column the index column.\n",
    "When reading back the saved file, this new column have usually the **Unnamed:0** column head\n"
   ],
   "metadata": {
    "collapsed": false,
    "pycharm": {
     "name": "#%% md\n"
    }
   }
  },
  {
   "cell_type": "code",
   "execution_count": 131,
   "outputs": [
    {
     "data": {
      "text/plain": "   year    category                                           prize  \\\n0  1901   Chemistry               The Nobel Prize in Chemistry 1901   \n1  1901  Literature              The Nobel Prize in Literature 1901   \n2  1901    Medicine  The Nobel Prize in Physiology or Medicine 1901   \n\n                                          motivation prize_share  laureate_id  \\\n0  \"in recognition of the extraordinary services ...         1/1          160   \n1  \"in special recognition of his poetic composit...         1/1          569   \n2  \"for his work on serum therapy, especially its...         1/1          293   \n\n  laureate_type                     full_name  birth_date         birth_city  \\\n0    Individual  Jacobus Henricus van 't Hoff  1852-08-30          Rotterdam   \n1    Individual               Sully Prudhomme  1839-03-16              Paris   \n2    Individual        Emil Adolf von Behring  1854-03-15  Hansdorf (Lawice)   \n\n      birth_country   sex   organization_name organization_city  \\\n0       Netherlands  Male   Berlin University            Berlin   \n1            France  Male                 NaN               NaN   \n2  Prussia (Poland)  Male  Marburg University           Marburg   \n\n  organization_country  death_date death_city death_country  \n0              Germany  1911-03-01     Berlin       Germany  \n1                  NaN  1907-09-07   Châtenay        France  \n2              Germany  1917-03-31    Marburg       Germany  ",
      "text/html": "<div>\n<style scoped>\n    .dataframe tbody tr th:only-of-type {\n        vertical-align: middle;\n    }\n\n    .dataframe tbody tr th {\n        vertical-align: top;\n    }\n\n    .dataframe thead th {\n        text-align: right;\n    }\n</style>\n<table border=\"1\" class=\"dataframe\">\n  <thead>\n    <tr style=\"text-align: right;\">\n      <th></th>\n      <th>year</th>\n      <th>category</th>\n      <th>prize</th>\n      <th>motivation</th>\n      <th>prize_share</th>\n      <th>laureate_id</th>\n      <th>laureate_type</th>\n      <th>full_name</th>\n      <th>birth_date</th>\n      <th>birth_city</th>\n      <th>birth_country</th>\n      <th>sex</th>\n      <th>organization_name</th>\n      <th>organization_city</th>\n      <th>organization_country</th>\n      <th>death_date</th>\n      <th>death_city</th>\n      <th>death_country</th>\n    </tr>\n  </thead>\n  <tbody>\n    <tr>\n      <th>0</th>\n      <td>1901</td>\n      <td>Chemistry</td>\n      <td>The Nobel Prize in Chemistry 1901</td>\n      <td>\"in recognition of the extraordinary services ...</td>\n      <td>1/1</td>\n      <td>160</td>\n      <td>Individual</td>\n      <td>Jacobus Henricus van 't Hoff</td>\n      <td>1852-08-30</td>\n      <td>Rotterdam</td>\n      <td>Netherlands</td>\n      <td>Male</td>\n      <td>Berlin University</td>\n      <td>Berlin</td>\n      <td>Germany</td>\n      <td>1911-03-01</td>\n      <td>Berlin</td>\n      <td>Germany</td>\n    </tr>\n    <tr>\n      <th>1</th>\n      <td>1901</td>\n      <td>Literature</td>\n      <td>The Nobel Prize in Literature 1901</td>\n      <td>\"in special recognition of his poetic composit...</td>\n      <td>1/1</td>\n      <td>569</td>\n      <td>Individual</td>\n      <td>Sully Prudhomme</td>\n      <td>1839-03-16</td>\n      <td>Paris</td>\n      <td>France</td>\n      <td>Male</td>\n      <td>NaN</td>\n      <td>NaN</td>\n      <td>NaN</td>\n      <td>1907-09-07</td>\n      <td>Châtenay</td>\n      <td>France</td>\n    </tr>\n    <tr>\n      <th>2</th>\n      <td>1901</td>\n      <td>Medicine</td>\n      <td>The Nobel Prize in Physiology or Medicine 1901</td>\n      <td>\"for his work on serum therapy, especially its...</td>\n      <td>1/1</td>\n      <td>293</td>\n      <td>Individual</td>\n      <td>Emil Adolf von Behring</td>\n      <td>1854-03-15</td>\n      <td>Hansdorf (Lawice)</td>\n      <td>Prussia (Poland)</td>\n      <td>Male</td>\n      <td>Marburg University</td>\n      <td>Marburg</td>\n      <td>Germany</td>\n      <td>1917-03-31</td>\n      <td>Marburg</td>\n      <td>Germany</td>\n    </tr>\n  </tbody>\n</table>\n</div>"
     },
     "execution_count": 131,
     "metadata": {},
     "output_type": "execute_result"
    }
   ],
   "source": [
    "import numpy as np\n",
    "import pandas as pd\n",
    "df = pd.read_csv(\"datasets/nobel.csv\")\n",
    "df.head(3)"
   ],
   "metadata": {
    "collapsed": false,
    "pycharm": {
     "name": "#%%\n"
    }
   }
  },
  {
   "cell_type": "markdown",
   "source": [],
   "metadata": {
    "collapsed": false,
    "pycharm": {
     "name": "#%% md\n"
    }
   }
  },
  {
   "cell_type": "code",
   "execution_count": 132,
   "outputs": [
    {
     "data": {
      "text/plain": "   Unnamed: 0  year    category  \\\n0           0  1901   Chemistry   \n1           1  1901  Literature   \n2           2  1901    Medicine   \n\n                                            prize  \\\n0               The Nobel Prize in Chemistry 1901   \n1              The Nobel Prize in Literature 1901   \n2  The Nobel Prize in Physiology or Medicine 1901   \n\n                                          motivation prize_share  laureate_id  \\\n0  \"in recognition of the extraordinary services ...         1/1          160   \n1  \"in special recognition of his poetic composit...         1/1          569   \n2  \"for his work on serum therapy, especially its...         1/1          293   \n\n  laureate_type                     full_name  birth_date         birth_city  \\\n0    Individual  Jacobus Henricus van 't Hoff  1852-08-30          Rotterdam   \n1    Individual               Sully Prudhomme  1839-03-16              Paris   \n2    Individual        Emil Adolf von Behring  1854-03-15  Hansdorf (Lawice)   \n\n      birth_country   sex   organization_name organization_city  \\\n0       Netherlands  Male   Berlin University            Berlin   \n1            France  Male                 NaN               NaN   \n2  Prussia (Poland)  Male  Marburg University           Marburg   \n\n  organization_country  death_date death_city death_country  \n0              Germany  1911-03-01     Berlin       Germany  \n1                  NaN  1907-09-07   Châtenay        France  \n2              Germany  1917-03-31    Marburg       Germany  ",
      "text/html": "<div>\n<style scoped>\n    .dataframe tbody tr th:only-of-type {\n        vertical-align: middle;\n    }\n\n    .dataframe tbody tr th {\n        vertical-align: top;\n    }\n\n    .dataframe thead th {\n        text-align: right;\n    }\n</style>\n<table border=\"1\" class=\"dataframe\">\n  <thead>\n    <tr style=\"text-align: right;\">\n      <th></th>\n      <th>Unnamed: 0</th>\n      <th>year</th>\n      <th>category</th>\n      <th>prize</th>\n      <th>motivation</th>\n      <th>prize_share</th>\n      <th>laureate_id</th>\n      <th>laureate_type</th>\n      <th>full_name</th>\n      <th>birth_date</th>\n      <th>birth_city</th>\n      <th>birth_country</th>\n      <th>sex</th>\n      <th>organization_name</th>\n      <th>organization_city</th>\n      <th>organization_country</th>\n      <th>death_date</th>\n      <th>death_city</th>\n      <th>death_country</th>\n    </tr>\n  </thead>\n  <tbody>\n    <tr>\n      <th>0</th>\n      <td>0</td>\n      <td>1901</td>\n      <td>Chemistry</td>\n      <td>The Nobel Prize in Chemistry 1901</td>\n      <td>\"in recognition of the extraordinary services ...</td>\n      <td>1/1</td>\n      <td>160</td>\n      <td>Individual</td>\n      <td>Jacobus Henricus van 't Hoff</td>\n      <td>1852-08-30</td>\n      <td>Rotterdam</td>\n      <td>Netherlands</td>\n      <td>Male</td>\n      <td>Berlin University</td>\n      <td>Berlin</td>\n      <td>Germany</td>\n      <td>1911-03-01</td>\n      <td>Berlin</td>\n      <td>Germany</td>\n    </tr>\n    <tr>\n      <th>1</th>\n      <td>1</td>\n      <td>1901</td>\n      <td>Literature</td>\n      <td>The Nobel Prize in Literature 1901</td>\n      <td>\"in special recognition of his poetic composit...</td>\n      <td>1/1</td>\n      <td>569</td>\n      <td>Individual</td>\n      <td>Sully Prudhomme</td>\n      <td>1839-03-16</td>\n      <td>Paris</td>\n      <td>France</td>\n      <td>Male</td>\n      <td>NaN</td>\n      <td>NaN</td>\n      <td>NaN</td>\n      <td>1907-09-07</td>\n      <td>Châtenay</td>\n      <td>France</td>\n    </tr>\n    <tr>\n      <th>2</th>\n      <td>2</td>\n      <td>1901</td>\n      <td>Medicine</td>\n      <td>The Nobel Prize in Physiology or Medicine 1901</td>\n      <td>\"for his work on serum therapy, especially its...</td>\n      <td>1/1</td>\n      <td>293</td>\n      <td>Individual</td>\n      <td>Emil Adolf von Behring</td>\n      <td>1854-03-15</td>\n      <td>Hansdorf (Lawice)</td>\n      <td>Prussia (Poland)</td>\n      <td>Male</td>\n      <td>Marburg University</td>\n      <td>Marburg</td>\n      <td>Germany</td>\n      <td>1917-03-31</td>\n      <td>Marburg</td>\n      <td>Germany</td>\n    </tr>\n  </tbody>\n</table>\n</div>"
     },
     "execution_count": 132,
     "metadata": {},
     "output_type": "execute_result"
    }
   ],
   "source": [
    "df[:10].to_csv(\"datasets/nobel_saved.csv\")\n",
    "df1 = pd.read_csv(\"datasets/nobel_saved.csv\")\n",
    "df1.head(3)"
   ],
   "metadata": {
    "collapsed": false,
    "pycharm": {
     "name": "#%%\n"
    }
   }
  },
  {
   "cell_type": "code",
   "execution_count": 133,
   "outputs": [
    {
     "name": "stdout",
     "output_type": "stream",
     "text": [
      "Microsoft Windows [Version 10.0.22000.978]\r\n",
      "(c) Microsoft Corporation. All rights reserved.\r\n",
      "\r\n",
      "(base) C:\\Users\\bruni\\OneDrive\\Desktop\\MS\\Medallion>more  \"datasets\\nobel_saved.csv\"\n",
      ",year,category,prize,motivation,prize_share,laureate_id,laureate_type,full_name,birth_date,birth_city,birth_country,sex,organization_name,organization_city,organization_country,death_date,death_city,death_country\r\n",
      "0,1901,Chemistry,The Nobel Prize in Chemistry 1901,\"\"\"in recognition of the extraordinary services he has rendered by the discovery of the laws of chemical dynamics and osmotic pressure in solutions\"\"\",1/1,160,Individual,Jacobus Henricus van 't Hoff,1852-08-30,Rotterdam,Netherlands,Male,Berlin University,Berlin,Germany,1911-03-01,Berlin,Germany\r\n",
      "1,1901,Literature,The Nobel Prize in Literature 1901,\"\"\"in special recognition of his poetic composition, which gives evidence of lofty idealism, artistic perfection and a rare combination of the qualities of both heart and intellect\"\"\",1/1,569,Individual,Sully Prudhomme,1839-03-16,Paris,France,Male,,,,1907-09-07,Châtenay,France\r\n",
      "2,1901,Medicine,The Nobel Prize in Physiology or Medicine 1901,\"\"\"for his work on serum therapy, especially its application against diphtheria, by which he has opened a new road in the domain of medical science and thereby placed in the hands of the physician a victorious weapon against illness and deaths\"\"\",1/1,293,Individual,Emil Adolf von Behring,1854-03-15,Hansdorf (Lawice),Prussia (Poland),Male,Marburg University,Marburg,Germany,1917-03-31,Marburg,Germany\r\n",
      "3,1901,Peace,The Nobel Peace Prize 1901,,1/2,462,Individual,Jean Henry Dunant,1828-05-08,Geneva,Switzerland,Male,,,,1910-10-30,Heiden,Switzerland\r\n",
      "4,1901,Peace,The Nobel Peace Prize 1901,,1/2,463,Individual,Frédéric Passy,1822-05-20,Paris,France,Male,,,,1912-06-12,Paris,France\r\n",
      "5,1901,Physics,The Nobel Prize in Physics 1901,\"\"\"in recognition of the extraordinary services he has rendered by the discovery of the remarkable rays subsequently named after him\"\"\",1/1,1,Individual,Wilhelm Conrad Röntgen,1845-03-27,Lennep (Remscheid),Prussia (Germany),Male,Munich University,Munich,Germany,1923-02-10,Munich,Germany\r\n",
      "6,1902,Chemistry,The Nobel Prize in Chemistry 1902,\"\"\"in recognition of the extraordinary services he has rendered by his work on sugar and purine syntheses\"\"\",1/1,161,Individual,Hermann Emil Fischer,1852-10-09,Euskirchen,Prussia (Germany),Male,Berlin University,Berlin,Germany,1919-07-15,Berlin,Germany\r\n",
      "7,1902,Literature,The Nobel Prize in Literature 1902,\"\"\"the greatest living master of the art of historical writing, with special reference to his monumental work, <I>A history of Rome</I>\"\"\",1/1,571,Individual,Christian Matthias Theodor Mommsen,1817-11-30,Garding,Schleswig (Germany),Male,,,,1903-11-01,Charlottenburg,Germany\r\n",
      "8,1902,Medicine,The Nobel Prize in Physiology or Medicine 1902,\"\"\"for his work on malaria, by which he has shown how it enters the organism and thereby has laid the foundation for successful research on this disease and methods of combating it\"\"\",1/1,294,Individual,Ronald Ross,1857-05-13,Almora,India,Male,University College,Liverpool,United Kingdom,1932-09-16,Putney Heath,United Kingdom\r\n",
      "9,1902,Peace,The Nobel Peace Prize 1902,,1/2,464,Individual,Élie Ducommun,1833-02-19,Geneva,Switzerland,Male,,,,1906-12-07,Bern,Switzerland\r\n",
      "\r\n",
      "(base) C:\\Users\\bruni\\OneDrive\\Desktop\\MS\\Medallion>"
     ]
    }
   ],
   "source": [
    "%%cmd\n",
    "more  \"datasets\\nobel_saved.csv\""
   ],
   "metadata": {
    "collapsed": false,
    "pycharm": {
     "name": "#%%\n"
    }
   }
  },
  {
   "cell_type": "markdown",
   "source": [
    "**solution 1** - to avoid this mistake set **index=False** when saving csv"
   ],
   "metadata": {
    "collapsed": false,
    "pycharm": {
     "name": "#%% md\n"
    }
   }
  },
  {
   "cell_type": "code",
   "execution_count": 134,
   "outputs": [],
   "source": [
    "df[:10].to_csv(\"datasets/nobel_saved_noindex.txt\", index=False)"
   ],
   "metadata": {
    "collapsed": false,
    "pycharm": {
     "name": "#%%\n"
    }
   }
  },
  {
   "cell_type": "code",
   "execution_count": 135,
   "outputs": [
    {
     "name": "stdout",
     "output_type": "stream",
     "text": [
      "year,category,prize,motivation,prize_share,laureate_id,laureate_type,full_name,birth_date,birth_city,birth_country,sex,organization_name,organization_city,organization_country,death_date,death_city,death_country\n",
      "1901,Chemistry,The Nobel Prize in Chemistry 1901,\"\"\"in recognition of the extraordinary services he has rendered by the discovery of the laws of chemical dynamics and osmotic pressure in solutions\"\"\",1/1,160,Individual,Jacobus Henricus van 't Hoff,1852-08-30,Rotterdam,Netherlands,Male,Berlin University,Berlin,Germany,1911-03-01,Berlin,Germany\n",
      "1901,Literature,The Nobel Prize in Literature 1901,\"\"\"in special recognition of his poetic composition, which gives evidence of lofty idealism, artistic perfection and a rare combination of the qualities of both heart and intellect\"\"\",1/1,569,Individual,Sully Prudhomme,1839-03-16,Paris,France,Male,,,,1907-09-07,ChÃ¢tenay,France\n",
      "1901,Medicine,The Nobel Prize in Physiology or Medicine 1901,\"\"\"for his work on serum therapy, especially its application against diphtheria, by which he has opened a new road in the domain of medical science and thereby placed in the hands of the physician a victorious weapon against illness and deaths\"\"\",1/1,293,Individual,Emil Adolf von Behring,1854-03-15,Hansdorf (Lawice),Prussia (Poland),Male,Marburg University,Marburg,Germany,1917-03-31,Marburg,Germany\n",
      "1901,Peace,The Nobel Peace Prize 1901,,1/2,462,Individual,Jean Henry Dunant,1828-05-08,Geneva,Switzerland,Male,,,,1910-10-30,Heiden,Switzerland\n",
      "1901,Peace,The Nobel Peace Prize 1901,,1/2,463,Individual,FrÃ©dÃ©ric Passy,1822-05-20,Paris,France,Male,,,,1912-06-12,Paris,France\n",
      "1901,Physics,The Nobel Prize in Physics 1901,\"\"\"in recognition of the extraordinary services he has rendered by the discovery of the remarkable rays subsequently named after him\"\"\",1/1,1,Individual,Wilhelm Conrad RÃ¶ntgen,1845-03-27,Lennep (Remscheid),Prussia (Germany),Male,Munich University,Munich,Germany,1923-02-10,Munich,Germany\n",
      "1902,Chemistry,The Nobel Prize in Chemistry 1902,\"\"\"in recognition of the extraordinary services he has rendered by his work on sugar and purine syntheses\"\"\",1/1,161,Individual,Hermann Emil Fischer,1852-10-09,Euskirchen,Prussia (Germany),Male,Berlin University,Berlin,Germany,1919-07-15,Berlin,Germany\n",
      "1902,Literature,The Nobel Prize in Literature 1902,\"\"\"the greatest living master of the art of historical writing, with special reference to his monumental work, <I>A history of Rome</I>\"\"\",1/1,571,Individual,Christian Matthias Theodor Mommsen,1817-11-30,Garding,Schleswig (Germany),Male,,,,1903-11-01,Charlottenburg,Germany\n",
      "1902,Medicine,The Nobel Prize in Physiology or Medicine 1902,\"\"\"for his work on malaria, by which he has shown how it enters the organism and thereby has laid the foundation for successful research on this disease and methods of combating it\"\"\",1/1,294,Individual,Ronald Ross,1857-05-13,Almora,India,Male,University College,Liverpool,United Kingdom,1932-09-16,Putney Heath,United Kingdom\n",
      "1902,Peace,The Nobel Peace Prize 1902,,1/2,464,Individual,Ã‰lie Ducommun,1833-02-19,Geneva,Switzerland,Male,,,,1906-12-07,Bern,Switzerland\n"
     ]
    }
   ],
   "source": [
    "!more \"datasets\\nobel_saved_noindex.txt\""
   ],
   "metadata": {
    "collapsed": false,
    "pycharm": {
     "name": "#%%\n"
    }
   }
  },
  {
   "cell_type": "markdown",
   "source": [
    "or alternatively **solution 2** - read the file tha have  the index saved indicating the **index_col** parameter"
   ],
   "metadata": {
    "collapsed": false,
    "pycharm": {
     "name": "#%% md\n"
    }
   }
  },
  {
   "cell_type": "code",
   "execution_count": 136,
   "outputs": [
    {
     "data": {
      "text/plain": "   year    category                                           prize  \\\n0  1901   Chemistry               The Nobel Prize in Chemistry 1901   \n1  1901  Literature              The Nobel Prize in Literature 1901   \n2  1901    Medicine  The Nobel Prize in Physiology or Medicine 1901   \n\n                                          motivation prize_share  laureate_id  \\\n0  \"in recognition of the extraordinary services ...         1/1          160   \n1  \"in special recognition of his poetic composit...         1/1          569   \n2  \"for his work on serum therapy, especially its...         1/1          293   \n\n  laureate_type                     full_name  birth_date         birth_city  \\\n0    Individual  Jacobus Henricus van 't Hoff  1852-08-30          Rotterdam   \n1    Individual               Sully Prudhomme  1839-03-16              Paris   \n2    Individual        Emil Adolf von Behring  1854-03-15  Hansdorf (Lawice)   \n\n      birth_country   sex   organization_name organization_city  \\\n0       Netherlands  Male   Berlin University            Berlin   \n1            France  Male                 NaN               NaN   \n2  Prussia (Poland)  Male  Marburg University           Marburg   \n\n  organization_country  death_date death_city death_country  \n0              Germany  1911-03-01     Berlin       Germany  \n1                  NaN  1907-09-07   Châtenay        France  \n2              Germany  1917-03-31    Marburg       Germany  ",
      "text/html": "<div>\n<style scoped>\n    .dataframe tbody tr th:only-of-type {\n        vertical-align: middle;\n    }\n\n    .dataframe tbody tr th {\n        vertical-align: top;\n    }\n\n    .dataframe thead th {\n        text-align: right;\n    }\n</style>\n<table border=\"1\" class=\"dataframe\">\n  <thead>\n    <tr style=\"text-align: right;\">\n      <th></th>\n      <th>year</th>\n      <th>category</th>\n      <th>prize</th>\n      <th>motivation</th>\n      <th>prize_share</th>\n      <th>laureate_id</th>\n      <th>laureate_type</th>\n      <th>full_name</th>\n      <th>birth_date</th>\n      <th>birth_city</th>\n      <th>birth_country</th>\n      <th>sex</th>\n      <th>organization_name</th>\n      <th>organization_city</th>\n      <th>organization_country</th>\n      <th>death_date</th>\n      <th>death_city</th>\n      <th>death_country</th>\n    </tr>\n  </thead>\n  <tbody>\n    <tr>\n      <th>0</th>\n      <td>1901</td>\n      <td>Chemistry</td>\n      <td>The Nobel Prize in Chemistry 1901</td>\n      <td>\"in recognition of the extraordinary services ...</td>\n      <td>1/1</td>\n      <td>160</td>\n      <td>Individual</td>\n      <td>Jacobus Henricus van 't Hoff</td>\n      <td>1852-08-30</td>\n      <td>Rotterdam</td>\n      <td>Netherlands</td>\n      <td>Male</td>\n      <td>Berlin University</td>\n      <td>Berlin</td>\n      <td>Germany</td>\n      <td>1911-03-01</td>\n      <td>Berlin</td>\n      <td>Germany</td>\n    </tr>\n    <tr>\n      <th>1</th>\n      <td>1901</td>\n      <td>Literature</td>\n      <td>The Nobel Prize in Literature 1901</td>\n      <td>\"in special recognition of his poetic composit...</td>\n      <td>1/1</td>\n      <td>569</td>\n      <td>Individual</td>\n      <td>Sully Prudhomme</td>\n      <td>1839-03-16</td>\n      <td>Paris</td>\n      <td>France</td>\n      <td>Male</td>\n      <td>NaN</td>\n      <td>NaN</td>\n      <td>NaN</td>\n      <td>1907-09-07</td>\n      <td>Châtenay</td>\n      <td>France</td>\n    </tr>\n    <tr>\n      <th>2</th>\n      <td>1901</td>\n      <td>Medicine</td>\n      <td>The Nobel Prize in Physiology or Medicine 1901</td>\n      <td>\"for his work on serum therapy, especially its...</td>\n      <td>1/1</td>\n      <td>293</td>\n      <td>Individual</td>\n      <td>Emil Adolf von Behring</td>\n      <td>1854-03-15</td>\n      <td>Hansdorf (Lawice)</td>\n      <td>Prussia (Poland)</td>\n      <td>Male</td>\n      <td>Marburg University</td>\n      <td>Marburg</td>\n      <td>Germany</td>\n      <td>1917-03-31</td>\n      <td>Marburg</td>\n      <td>Germany</td>\n    </tr>\n  </tbody>\n</table>\n</div>"
     },
     "execution_count": 136,
     "metadata": {},
     "output_type": "execute_result"
    }
   ],
   "source": [
    "df = pd.read_csv(\"datasets/nobel_saved.csv\", index_col=[0])\n",
    "df.head(3)"
   ],
   "metadata": {
    "collapsed": false,
    "pycharm": {
     "name": "#%%\n"
    }
   }
  },
  {
   "cell_type": "markdown",
   "source": [
    "***\n",
    "### [2. Avoid column name that include spaces](#section_2)\n",
    "Avoding using spaces in column name unable to dot syntax when column referencing.\n",
    "\n",
    "Is preferable using _ instead of spaces\n",
    "\n",
    "df['Fisrt initial']     can access column with space only in this way\n",
    "df.'Fisrt initial'      and cannot access column with spaces in this way\n",
    "\n",
    "So for example these columns with spaces **cannot be used in the simplified pandas query syntax** (see point below)"
   ],
   "metadata": {
    "collapsed": false,
    "pycharm": {
     "name": "#%% md\n"
    }
   }
  },
  {
   "cell_type": "code",
   "execution_count": 137,
   "outputs": [
    {
     "data": {
      "text/plain": "Index(['Unnamed: 0', 'year', 'category', 'prize', 'motivation', 'prize_share',\n       'laureate_id', 'laureate_type', 'full_name', 'birth_date', 'birth_city',\n       'birth_country', 'sex', 'organization_name', 'organization_city',\n       'organization_country', 'death_date', 'death_city', 'death_country',\n       'First Initial'],\n      dtype='object')"
     },
     "execution_count": 137,
     "metadata": {},
     "output_type": "execute_result"
    }
   ],
   "source": [
    "df = pd.read_csv(\"datasets/nobel_saved.csv\")\n",
    "df['First Initial'] = df['Unnamed: 0']    # can access column with space only in this way\n",
    "df.columns"
   ],
   "metadata": {
    "collapsed": false,
    "pycharm": {
     "name": "#%%\n"
    }
   }
  },
  {
   "cell_type": "code",
   "execution_count": 138,
   "outputs": [
    {
     "ename": "SyntaxError",
     "evalue": "invalid syntax (3442008619.py, line 1)",
     "output_type": "error",
     "traceback": [
      "\u001B[1;36m  Input \u001B[1;32mIn [138]\u001B[1;36m\u001B[0m\n\u001B[1;33m    df.'First Initial'                         # and cannot access column with spaces in this way\u001B[0m\n\u001B[1;37m       ^\u001B[0m\n\u001B[1;31mSyntaxError\u001B[0m\u001B[1;31m:\u001B[0m invalid syntax\n"
     ]
    }
   ],
   "source": [
    "df.'First Initial'                         # and cannot access column with spaces in this way"
   ],
   "metadata": {
    "collapsed": false,
    "pycharm": {
     "name": "#%%\n"
    }
   }
  },
  {
   "cell_type": "markdown",
   "source": [],
   "metadata": {
    "collapsed": false,
    "pycharm": {
     "name": "#%% md\n"
    }
   }
  },
  {
   "cell_type": "code",
   "execution_count": null,
   "outputs": [],
   "source": [
    "df.rename(columns={\"First Initial\": \"First_Initial\"}, inplace=True)\n",
    "df.columns"
   ],
   "metadata": {
    "collapsed": false,
    "pycharm": {
     "name": "#%%\n"
    }
   }
  },
  {
   "cell_type": "code",
   "execution_count": null,
   "outputs": [],
   "source": [
    "df.First_Initial[:5]"
   ],
   "metadata": {
    "collapsed": false,
    "pycharm": {
     "name": "#%%\n"
    }
   }
  },
  {
   "cell_type": "code",
   "execution_count": null,
   "outputs": [],
   "source": [
    "#now the column che be used in query syntax\n",
    "df.query('First_Initial > 100 & First_Initial < 110')[:5]"
   ],
   "metadata": {
    "collapsed": false,
    "pycharm": {
     "name": "#%%\n"
    }
   }
  },
  {
   "cell_type": "markdown",
   "source": [
    "### 3. Leveraging the query method\n",
    "\n",
    "Often when you want to filter a dataframe to a subset there is nothing wrong with the syntax chosen below"
   ],
   "metadata": {
    "collapsed": false,
    "pycharm": {
     "name": "#%% md\n"
    }
   }
  },
  {
   "cell_type": "code",
   "execution_count": null,
   "outputs": [],
   "source": [
    "df.loc[ (df['year'] >2000) &  (df['category'] == \"Literature\") ]"
   ],
   "metadata": {
    "collapsed": false,
    "pycharm": {
     "name": "#%%\n"
    }
   }
  },
  {
   "cell_type": "markdown",
   "source": [
    "However it is possible **writing powerful queries using the .query method**\n",
    "This become more flexible the more the criteria of the query become complex\n"
   ],
   "metadata": {
    "collapsed": false,
    "pycharm": {
     "name": "#%% md\n"
    }
   }
  },
  {
   "cell_type": "code",
   "execution_count": null,
   "outputs": [],
   "source": [
    "df.query(\"year > 2000 & category == 'Literature' \")"
   ],
   "metadata": {
    "collapsed": false,
    "pycharm": {
     "name": "#%%\n"
    }
   }
  },
  {
   "cell_type": "markdown",
   "source": [
    "***\n",
    "### [4. Using variables instead of the string method to formulate the query strings](#section_4)\n",
    "In general when there is the need to access to variables in the queries\n",
    "is common to access to those variable with the query string"
   ],
   "metadata": {
    "collapsed": false,
    "pycharm": {
     "name": "#%% md\n"
    }
   }
  },
  {
   "cell_type": "code",
   "execution_count": null,
   "outputs": [],
   "source": [
    "min_year =2000\n",
    "category_filter = \"Literature\"\n",
    "df.query('year > ' + str(min_year) + ' &  category == \"' + str(category_filter) + '\"' )  #very complex to write and redundant"
   ],
   "metadata": {
    "collapsed": false,
    "pycharm": {
     "name": "#%%\n"
    }
   }
  },
  {
   "cell_type": "code",
   "execution_count": null,
   "outputs": [],
   "source": [
    "df.query( f'year > {min_year}  &  category == \"{category_filter}\" ' )  #redundant"
   ],
   "metadata": {
    "collapsed": false,
    "pycharm": {
     "name": "#%%\n"
    }
   }
  },
  {
   "cell_type": "markdown",
   "source": [
    "But this is unnecessary because query in pandas can ecces extra variable by simply adding the  **@ keyword**\n",
    "**NOTE : here the \" \" are not necessary for the string variable!!** ... carino!\n"
   ],
   "metadata": {
    "collapsed": false,
    "pycharm": {
     "name": "#%% md\n"
    }
   }
  },
  {
   "cell_type": "code",
   "execution_count": null,
   "outputs": [],
   "source": [
    "df.query('( year > @min_year) & (category == @category_filter) ')   # NOTE : here without the \" \" for the string variable!!"
   ],
   "metadata": {
    "collapsed": false,
    "pycharm": {
     "name": "#%%\n"
    }
   }
  },
  {
   "cell_type": "markdown",
   "source": [
    "***\n",
    "### [5. Using override when possible instead of inplace = True](#section_5)\n",
    "There are few methods that have the inplace=True options\n",
    "Setting this option to True will override the dataframe itself. However, using the inplace method\n",
    "can be sometime dangerous and even core developers plan to deprecate it.\n",
    "Is **better explicit override** (means use = sign)  with modification."
   ],
   "metadata": {
    "collapsed": false,
    "pycharm": {
     "name": "#%% md\n"
    }
   }
  },
  {
   "cell_type": "code",
   "execution_count": null,
   "outputs": [],
   "source": [
    "df.rename(columns= {\"First_Initial\" : \"Initial\" }, inplace=True)\n",
    "df.head(3)"
   ],
   "metadata": {
    "collapsed": false,
    "pycharm": {
     "name": "#%%\n"
    }
   }
  },
  {
   "cell_type": "code",
   "execution_count": null,
   "outputs": [],
   "source": [
    "df2= df.rename(columns={\"Initial\":\"First\"})\n",
    "df2.head(3)"
   ],
   "metadata": {
    "collapsed": false,
    "pycharm": {
     "name": "#%%\n"
    }
   }
  },
  {
   "cell_type": "code",
   "execution_count": null,
   "outputs": [],
   "source": [
    "#more examples\n",
    "df.fillna(\"\", inplace=True)\n",
    "df.head(3)"
   ],
   "metadata": {
    "collapsed": false,
    "pycharm": {
     "name": "#%%\n"
    }
   }
  },
  {
   "cell_type": "code",
   "execution_count": null,
   "outputs": [],
   "source": [
    "df3 = df2.fillna(\"-\")\n",
    "display(df3.head(3))\n",
    "display(df2.head(3))"
   ],
   "metadata": {
    "collapsed": false,
    "pycharm": {
     "name": "#%%\n"
    }
   }
  },
  {
   "cell_type": "markdown",
   "source": [
    "***\n",
    "### [6. Use vectorization instead of iterating over rows in a dataframe](#section_6)\n",
    "Iter row  is an option"
   ],
   "metadata": {
    "collapsed": false,
    "pycharm": {
     "name": "#%% md\n"
    }
   }
  },
  {
   "cell_type": "code",
   "execution_count": null,
   "outputs": [],
   "source": [
    "for i, row in df.iterrows():\n",
    "    if row['year'] > 2004:\n",
    "        df.loc[i,'is_recent'] = True\n",
    "    else:\n",
    "        df.loc[i, 'is_recent'] = False\n",
    "\n",
    "df.head(3)"
   ],
   "metadata": {
    "collapsed": false,
    "pycharm": {
     "name": "#%%\n"
    }
   }
  },
  {
   "cell_type": "markdown",
   "source": [
    "However, is preferable to use vectorization to apply to the entire Series\n",
    "This is a cool topic, vectorization at this stage of my experience is still very difficult to write, but i often see that\n",
    "is very powerful, time reducing and elegant."
   ],
   "metadata": {
    "collapsed": false,
    "pycharm": {
     "name": "#%% md\n"
    }
   }
  },
  {
   "cell_type": "code",
   "execution_count": null,
   "outputs": [],
   "source": [
    "df['result'] = df['year'] > 2004\n",
    "df.head(3)"
   ],
   "metadata": {
    "collapsed": false,
    "pycharm": {
     "name": "#%%\n"
    }
   }
  },
  {
   "cell_type": "markdown",
   "source": [
    "***\n",
    "### [7. Using vectorization as an option instead using apply method (when possible)](#section_7)\n",
    "Apply method allow to apply any transformation across chosen axis"
   ],
   "metadata": {
    "collapsed": false,
    "pycharm": {
     "name": "#%% md\n"
    }
   }
  },
  {
   "cell_type": "code",
   "execution_count": null,
   "outputs": [],
   "source": [
    "import math\n",
    "\n",
    "df['decade'] = df.apply( lambda row : math.floor((row['year']-1900)/10) , axis = 1)\n",
    "df.head()"
   ],
   "metadata": {
    "collapsed": false,
    "pycharm": {
     "name": "#%%\n"
    }
   }
  },
  {
   "cell_type": "markdown",
   "source": [
    "Is **preferable** to use vectorized function, when possible, like this"
   ],
   "metadata": {
    "collapsed": false,
    "pycharm": {
     "name": "#%% md\n"
    }
   }
  },
  {
   "cell_type": "code",
   "execution_count": null,
   "outputs": [],
   "source": [
    "import numpy as np\n",
    "\n",
    "df['decade_new'] = np.floor((df['year']-1900)/10).astype(int)\n",
    "df.head()"
   ],
   "metadata": {
    "collapsed": false,
    "pycharm": {
     "name": "#%%\n"
    }
   }
  },
  {
   "cell_type": "markdown",
   "source": [
    "***\n",
    "### [8. Avoid considering a slice of a dataframe as it were a new dataframe](#section_8)\n",
    "In these case we see a SettingWithCopyWarning\n"
   ],
   "metadata": {
    "collapsed": false,
    "pycharm": {
     "name": "#%% md\n"
    }
   }
  },
  {
   "cell_type": "code",
   "execution_count": null,
   "outputs": [],
   "source": [
    "df_last = df.query('year > 2000')\n",
    "df_last['First_name'] =  df_last['full_name'].str[-5:]"
   ],
   "metadata": {
    "collapsed": false,
    "pycharm": {
     "name": "#%%\n"
    }
   }
  },
  {
   "cell_type": "markdown",
   "source": [
    "This warning rises because our new modifications are actually been applied to a slice of our original dataframe  df.query('year > 2015')\n",
    "So when we want to create a dataframe based on a subset of initial dataframe is **best to use the .copy()**\n",
    "This by default create a deep copy and any edits to the new dataframe will not impact the initial dataframe\n"
   ],
   "metadata": {
    "collapsed": false,
    "pycharm": {
     "name": "#%% md\n"
    }
   }
  },
  {
   "cell_type": "code",
   "execution_count": null,
   "outputs": [],
   "source": [
    "df_last = df.query('year > 2000').copy()\n",
    "df_last['First_name'] =  df_last['full_name'].str[-5:]\n",
    "df_last[:5]"
   ],
   "metadata": {
    "collapsed": false,
    "pycharm": {
     "name": "#%%\n"
    }
   }
  },
  {
   "cell_type": "markdown",
   "source": [
    "***\n",
    "### [9. Use chaining commands and avoid creating multiple intermediate dataframes when making transformations](#section_9)\n",
    "Code like this where each step of the process is saved in a new df variable"
   ],
   "metadata": {
    "collapsed": false,
    "pycharm": {
     "name": "#%% md\n"
    }
   }
  },
  {
   "cell_type": "code",
   "execution_count": null,
   "outputs": [],
   "source": [
    "df_a = df.query('year > 2000')\n",
    "df_b = df_a.groupby(['sex', 'birth_country'])[['birth_date']].count()\n",
    "df_c = df_b.sort_values('birth_country', ascending=False)\n",
    "df_c[:10]"
   ],
   "metadata": {
    "collapsed": false,
    "pycharm": {
     "name": "#%%\n"
    }
   }
  },
  {
   "cell_type": "markdown",
   "source": [
    "Is instead encouraged to **use chaining commands** where all the transformations are applied once"
   ],
   "metadata": {
    "collapsed": false,
    "pycharm": {
     "name": "#%% md\n"
    }
   }
  },
  {
   "cell_type": "code",
   "execution_count": null,
   "outputs": [],
   "source": [
    "df_a =  (df.query('year > 2000')\n",
    "        .groupby(['sex', 'birth_country'])[['birth_date']].count()\n",
    "        .sort_values('birth_country', ascending=False))\n",
    "df_a[:10]"
   ],
   "metadata": {
    "collapsed": false,
    "pycharm": {
     "name": "#%%\n"
    }
   }
  },
  {
   "cell_type": "markdown",
   "source": [
    "***\n",
    "### [10. Properly set columns dtypes](#section_10)\n",
    "Each colum in a dataframe has specific data type and when reading data pandas will try at best to parse these types.\n",
    "However, usually date columns are represented as object\n",
    "Is possible to set correctly this column date type format by using parse_dates within read csv\n",
    "alternatively manually setting"
   ],
   "metadata": {
    "collapsed": false,
    "pycharm": {
     "name": "#%% md\n"
    }
   }
  },
  {
   "cell_type": "code",
   "execution_count": null,
   "outputs": [],
   "source": [
    "df.info()"
   ],
   "metadata": {
    "collapsed": false,
    "pycharm": {
     "name": "#%%\n"
    }
   }
  },
  {
   "cell_type": "code",
   "execution_count": null,
   "outputs": [],
   "source": [
    "df = pd.read_csv(\"datasets/nobel.csv\", parse_dates=['birth_date','death_date'], dtype={'category':'category', 'sex':'category'})\n",
    "df.info()"
   ],
   "metadata": {
    "collapsed": false,
    "pycharm": {
     "name": "#%%\n"
    }
   }
  },
  {
   "cell_type": "code",
   "execution_count": null,
   "outputs": [],
   "source": [
    "# this is an other way\n",
    "df = pd.read_csv(\"datasets/nobel.csv\")\n",
    "df['birth_date'] = pd.to_datetime(df['birth_date'])\n",
    "df['sex'] = df['sex'].astype('category')\n",
    "df.info()"
   ],
   "metadata": {
    "collapsed": false,
    "pycharm": {
     "name": "#%%\n"
    }
   }
  },
  {
   "cell_type": "markdown",
   "source": [
    "***\n",
    "### [11. Using boolean value instead of string](#section_11)\n",
    "In this case a new colum called sub_10 is created"
   ],
   "metadata": {
    "collapsed": false,
    "pycharm": {
     "name": "#%% md\n"
    }
   }
  },
  {
   "cell_type": "code",
   "execution_count": null,
   "outputs": [],
   "source": [
    "df['sub_10'] ='YES'\n",
    "df.loc[ df['year'] <2000, 'sub_10'] = 'NO'"
   ],
   "metadata": {
    "collapsed": false,
    "pycharm": {
     "name": "#%%\n"
    }
   }
  },
  {
   "cell_type": "markdown",
   "source": [
    "Instead of using text for something that can be true or false, is better to cast this to a boolean value\n",
    "This can be done when the colum is created"
   ],
   "metadata": {
    "collapsed": false,
    "pycharm": {
     "name": "#%% md\n"
    }
   }
  },
  {
   "cell_type": "code",
   "execution_count": null,
   "outputs": [],
   "source": [
    "df['sub_10_new'] = df['year'] > 2000\n",
    "df[:5]"
   ],
   "metadata": {
    "collapsed": false,
    "pycharm": {
     "name": "#%%\n"
    }
   }
  },
  {
   "cell_type": "markdown",
   "source": [
    "or if the dataset olready has these values is possble to map them to true or false\n"
   ],
   "metadata": {
    "collapsed": false,
    "pycharm": {
     "name": "#%% md\n"
    }
   }
  },
  {
   "cell_type": "code",
   "execution_count": null,
   "outputs": [],
   "source": [
    "df['sub_10'] = df['sub_10'].map({\"YES\" : True , \"NO\" : False})\n",
    "df[:5]"
   ],
   "metadata": {
    "collapsed": false,
    "pycharm": {
     "name": "#%%\n"
    }
   }
  },
  {
   "cell_type": "markdown",
   "source": [
    "***\n",
    "### [12. Leveraging pandas built in plotting methods](#section_12)\n",
    "Often there are situation when you want to do a quick plot of the data  in the dataframe\n",
    "This can be done by creating a matplotlib sublpot and plotting the data manually"
   ],
   "metadata": {
    "collapsed": false,
    "pycharm": {
     "name": "#%% md\n"
    }
   }
  },
  {
   "cell_type": "code",
   "execution_count": null,
   "outputs": [],
   "source": [
    "import matplotlib.pyplot as plt\n",
    "\n",
    "years = df['year']\n",
    "category = df['category']\n",
    "\n",
    "\n",
    "fig, ax = plt.subplots()\n",
    "plt.scatter(x=years,y=category)\n",
    "ax.set_title('year vs category')\n",
    "plt.show()"
   ],
   "metadata": {
    "collapsed": false,
    "pycharm": {
     "name": "#%%\n"
    }
   }
  },
  {
   "cell_type": "markdown",
   "source": [
    "Or using pandas functionality"
   ],
   "metadata": {
    "collapsed": false,
    "pycharm": {
     "name": "#%% md\n"
    }
   }
  },
  {
   "cell_type": "code",
   "execution_count": null,
   "outputs": [],
   "source": [
    "ax = df.plot(kind='scatter',\n",
    "             x='year',\n",
    "             y='category',\n",
    "             title='year vs category')"
   ],
   "metadata": {
    "collapsed": false,
    "pycharm": {
     "name": "#%%\n"
    }
   }
  },
  {
   "cell_type": "code",
   "execution_count": null,
   "outputs": [],
   "source": [
    "dc = df.groupby(['year'])['full_name'].count()\n",
    "dc.plot(kind='bar', figsize =(20,2))"
   ],
   "metadata": {
    "collapsed": false,
    "pycharm": {
     "name": "#%%\n"
    }
   }
  },
  {
   "cell_type": "markdown",
   "source": [
    "***\n",
    "### [13. Avoid manually applying string methods](#section_13)\n",
    "If there is a column with string values and is necessary to apply a string method,\n",
    "in this case instead of using apply method"
   ],
   "metadata": {
    "collapsed": false,
    "pycharm": {
     "name": "#%% md\n"
    }
   }
  },
  {
   "cell_type": "code",
   "execution_count": null,
   "outputs": [],
   "source": [
    "df['prize_name'] = df['prize'].apply(lambda x: str(x)[19:].upper())\n",
    "df[:5]"
   ],
   "metadata": {
    "collapsed": false,
    "pycharm": {
     "name": "#%%\n"
    }
   }
  },
  {
   "cell_type": "markdown",
   "source": [
    "pandas has **string method** and is possible to apply a string method to the entire column"
   ],
   "metadata": {
    "collapsed": false,
    "pycharm": {
     "name": "#%% md\n"
    }
   }
  },
  {
   "cell_type": "code",
   "execution_count": null,
   "outputs": [],
   "source": [
    "df['prize_name_str'] = df['prize'].str[19:].str.upper()\n",
    "df"
   ],
   "metadata": {
    "collapsed": false,
    "pycharm": {
     "name": "#%%\n"
    }
   }
  },
  {
   "cell_type": "markdown",
   "source": [
    "***\n",
    "### [14. Avoid repeating commonly used data transformation](#section_14)\n",
    "Is generally best practice to not repeat code ,unless needed, and create functions, this make code easy to read and\n",
    "ensures that the same processing is done identically on all the dataframes"
   ],
   "metadata": {
    "collapsed": false,
    "pycharm": {
     "name": "#%% md\n"
    }
   }
  },
  {
   "cell_type": "markdown",
   "source": [
    "***\n",
    "### [15. Use dictionary for renaming columns](#section_15)\n",
    "Is possible to rename colums giving a list o new name\n",
    "but is preferred and much cleaner way is to use the rename method and provide\n",
    "a dictionary with the old and new names"
   ],
   "metadata": {
    "collapsed": false,
    "pycharm": {
     "name": "#%% md\n"
    }
   }
  },
  {
   "cell_type": "code",
   "execution_count": null,
   "outputs": [],
   "source": [
    "df_subset = df[['year', 'category', 'prize', 'motivation', 'prize_share',\n",
    "         'laureate_id', 'laureate_type', 'full_name', 'birth_date', 'birth_city',\n",
    "         'birth_country', 'sex']]\n",
    "print(df_subset.columns.to_list())"
   ],
   "metadata": {
    "collapsed": false,
    "pycharm": {
     "name": "#%%\n"
    }
   }
  },
  {
   "cell_type": "code",
   "execution_count": null,
   "outputs": [],
   "source": [
    "#instead of this\n",
    "new_col = [ col +\"_new\" for col in df_subset.columns.to_list()]\n",
    "print(new_col)\n",
    "df_subset.columns = new_col\n",
    "df_subset.head(3)"
   ],
   "metadata": {
    "collapsed": false,
    "pycharm": {
     "name": "#%%\n"
    }
   }
  },
  {
   "cell_type": "code",
   "execution_count": null,
   "outputs": [],
   "source": [
    "# prefer this\n",
    "df_subset = df[['year', 'category', 'prize', 'motivation', 'prize_share',\n",
    "                'laureate_id', 'laureate_type', 'full_name', 'birth_date', 'birth_city',\n",
    "                'birth_country', 'sex']]\n",
    "df_subset = df_subset.rename(columns={\"year\":\"year_nobel\"})\n",
    "df_subset.head(3)"
   ],
   "metadata": {
    "collapsed": false,
    "pycharm": {
     "name": "#%%\n"
    }
   }
  },
  {
   "cell_type": "markdown",
   "source": [
    "***\n",
    "### [16. Aggregating by groups not manually but with group by](#section_16)\n",
    "Group by allows you to select a colum or columns to group the data on and then\n",
    "to perform **any aggregation function** to those group indipendently"
   ],
   "metadata": {
    "collapsed": false,
    "pycharm": {
     "name": "#%% md\n"
    }
   }
  },
  {
   "cell_type": "code",
   "execution_count": null,
   "outputs": [],
   "source": [
    "man_records = df.loc[df['sex'] == 'Male']['birth_date'].max()\n",
    "female_records = df.loc[df['sex'] == 'Female']['birth_date'].max()\n",
    "print(f\"male {man_records}  female {female_records}\")"
   ],
   "metadata": {
    "collapsed": false,
    "pycharm": {
     "name": "#%%\n"
    }
   }
  },
  {
   "cell_type": "code",
   "execution_count": null,
   "outputs": [],
   "source": [
    "records = df.groupby('sex')['birth_date'].max()\n",
    "display(records)"
   ],
   "metadata": {
    "collapsed": false,
    "pycharm": {
     "name": "#%%\n"
    }
   }
  },
  {
   "cell_type": "markdown",
   "source": [
    "### [17. Looping over the rows to create aggregates](#section_17)\n",
    "Instead of iterating over each rows in the dataframe storing the result after each iteration ...\n"
   ],
   "metadata": {
    "collapsed": false,
    "pycharm": {
     "name": "#%% md\n"
    }
   }
  },
  {
   "cell_type": "code",
   "execution_count": null,
   "outputs": [],
   "source": [
    "from scipy import stats as st\n",
    "\n",
    "df['birth_date_dt'] = df['birth_date'].dt.date #convert from timestamp to date\n",
    "\n",
    "mans_date = []\n",
    "female_date = []\n",
    "#gets average\n",
    "for i, row in df.iterrows():\n",
    "    group = row.sex\n",
    "    if group == 'Male':\n",
    "        mans_date.append( row.birth_date.year )\n",
    "    else:\n",
    "        female_date.append(row.birth_date_dt.year)\n",
    "\n",
    "#man\n",
    "mans_array = np.array(mans_date)\n",
    "mans_array_data = mans_array[ ~np.isnan(mans_array) ] #remove nan\n",
    "display(np.mean(mans_array_data))\n",
    "display(np.median(mans_array_data))\n",
    "display(st.mode(mans_array_data))\n",
    "val, counts = np.unique(mans_array_data, return_counts=True)\n",
    "display(val[np.argmax(counts)])\n",
    "df.query('sex == \"Male\"').hist(\n",
    "    column='birth_date'\n",
    ")\n"
   ],
   "metadata": {
    "collapsed": false,
    "pycharm": {
     "name": "#%%\n"
    }
   }
  },
  {
   "cell_type": "code",
   "execution_count": null,
   "outputs": [],
   "source": [
    "#man\n",
    "fem_array = np.array(female_date)\n",
    "fem_array_data = fem_array[ ~np.isnan(fem_array) ] #remove nan\n",
    "display(np.mean(fem_array_data))\n",
    "display(np.median(fem_array_data))\n",
    "display(st.mode(fem_array_data))\n",
    "val, counts = np.unique(fem_array_data, return_counts=True)\n",
    "display(val[np.argmax(counts)])\n",
    "df.query('sex == \"Female\"').hist(\n",
    "    column='birth_date'\n",
    ")"
   ],
   "metadata": {
    "collapsed": false,
    "pycharm": {
     "name": "#%%\n"
    }
   }
  },
  {
   "cell_type": "markdown",
   "source": [
    "The same result can be calculated by simple groupby aggregation\n",
    "Grouping in this way also allow to provide multiple way to aggregate data"
   ],
   "metadata": {
    "collapsed": false,
    "pycharm": {
     "name": "#%% md\n"
    }
   }
  },
  {
   "cell_type": "code",
   "execution_count": null,
   "outputs": [],
   "source": [
    "display(df.groupby('sex')['birth_date'].aggregate(['mean','median']))\n",
    "display(df.groupby('sex', as_index=False )['birth_date'].agg(['mean','median', lambda  x: st.mode(x)]))\n",
    "display(df.groupby('sex', as_index=False )['birth_date'].agg(['mean','median', lambda  x: x.mode()]))\n",
    "display(df.groupby('sex', as_index=False )['birth_date'].agg(['mean','median', lambda  x: x.value_counts().index[0]]))\n",
    "#here a have not the same results coming on the mode ,  can be interesting to see why"
   ],
   "metadata": {
    "collapsed": false,
    "pycharm": {
     "name": "#%%\n"
    }
   }
  },
  {
   "cell_type": "markdown",
   "source": [
    "***\n",
    "### [18. Avoid if possible using a loop to calculate how values changes](#section_18)\n",
    "In This example we are calculating the percent change ad the difference between the age column in each row of the data\n",
    "\n"
   ],
   "metadata": {
    "collapsed": false,
    "pycharm": {
     "name": "#%% md\n"
    }
   }
  },
  {
   "cell_type": "code",
   "execution_count": null,
   "outputs": [],
   "source": [
    "from datetime import datetime\n",
    "\n",
    "nobel_ages = pd.read_csv('datasets/nobel.csv', parse_dates=['birth_date','death_date']).sort_values('birth_date').reset_index()\n",
    "display(nobel_ages[['birth_date', 'death_date']].isna().sum()) # find if there are some birth date  that are missing\n",
    "\n",
    "# for age  calculation is necessary to fill null death values and remove null birth dates\n",
    "nobel_ages['death_date'].fillna(datetime.now(), inplace=True)\n",
    "nobel_ages = nobel_ages.query('birth_date.isnull() == False')\n",
    "display(nobel_ages[['birth_date', 'death_date']].isna().sum()) #\n",
    "nobel_ages['age'] = nobel_ages[['birth_date', 'death_date']].apply(lambda x: (x[1].year-x[0].year)  ,axis=1 )\n",
    "nobel_ages[1:5]\n"
   ],
   "metadata": {
    "collapsed": false,
    "pycharm": {
     "name": "#%%\n"
    }
   }
  },
  {
   "cell_type": "code",
   "execution_count": null,
   "outputs": [],
   "source": [
    "#ok in this case is a non sense calculate the percent, but here is just for demonstration\n",
    "\n",
    "for i in range(1, len(nobel_ages)):\n",
    "    nobel_ages.loc[i,'percent'] = \\\n",
    "        (nobel_ages.loc[i].age - nobel_ages.loc[i-1].age) / nobel_ages.loc[i].age\n",
    "    nobel_ages.loc[i,'delta'] = (nobel_ages.loc[i].age - nobel_ages.loc[i-1].age)\n",
    "\n",
    "nobel_ages.head(3)"
   ],
   "metadata": {
    "collapsed": false,
    "pycharm": {
     "name": "#%%\n"
    }
   }
  },
  {
   "cell_type": "markdown",
   "source": [
    "We might be catching on a trend now but there is actually a built in function for doing things like this\n",
    "It can be used the **pct_change()** , or the **diff()** method to calculate the change in the pandas serie"
   ],
   "metadata": {
    "collapsed": false,
    "pycharm": {
     "name": "#%% md\n"
    }
   }
  },
  {
   "cell_type": "markdown",
   "source": [],
   "metadata": {
    "collapsed": false,
    "pycharm": {
     "name": "#%% md\n"
    }
   }
  },
  {
   "cell_type": "code",
   "execution_count": null,
   "outputs": [],
   "source": [
    "nobel_ages['age_ptc'] = nobel_ages['age'].pct_change()\n",
    "nobel_ages['age_diff'] = nobel_ages['age'].diff()\n",
    "nobel_ages.head()"
   ],
   "metadata": {
    "collapsed": false,
    "pycharm": {
     "name": "#%%\n"
    }
   }
  },
  {
   "cell_type": "markdown",
   "source": [
    "***\n",
    "### [19. Saving large datasets as csv](#section_19)\n",
    "When working with pandas eventually you get to the point that you have to save to disk the dataframe\n",
    "csv is the most common format data to save csv data, but especially with very large datasets\n",
    "this can be very slow and take up a lot lof space on the hard drive\n",
    "Pandas have alot of built in methods to save to many different file like parquet, feather and pickle\n",
    "These file formats retain the data types of your data which saves you from having to set them menaually\n",
    "when reloading the files\n",
    "\n",
    "Note- For these formats you must pip or conda install new packages (package pyarrow take a lot of time)\n",
    "\n"
   ],
   "metadata": {
    "collapsed": false,
    "pycharm": {
     "name": "#%% md\n"
    }
   }
  },
  {
   "cell_type": "code",
   "execution_count": null,
   "outputs": [],
   "source": [
    "!pip install fastparquet"
   ],
   "metadata": {
    "collapsed": false,
    "pycharm": {
     "name": "#%%\n"
    }
   }
  },
  {
   "cell_type": "code",
   "execution_count": null,
   "outputs": [],
   "source": [
    "\n",
    "nobel_ages.to_csv(\"datasets/nobel_ages.csv\", index=False)\n",
    "nobel_ages.to_parquet(\"datasets/nobel_ages.parquet\")\n",
    "nobel_ages.to_pickle(\"datasets/nobel_ages.pickle\")\n",
    "nobel_ages.to_feather(\"datasets/nobel_ages.feather\")"
   ],
   "metadata": {
    "collapsed": false,
    "pycharm": {
     "name": "#%%\n"
    }
   }
  },
  {
   "cell_type": "markdown",
   "source": [
    "***\n",
    "### [20. Apply style to dataframe like in excel](#section_20)\n",
    "This type of style can be extremely  powerful and covers almost everything you want to do in Excel\n",
    "reference here https://www.analyticsvidhya.com/blog/2021/06/style-your-pandas-dataframe-and-make-it-stunning/"
   ],
   "metadata": {
    "collapsed": false,
    "pycharm": {
     "name": "#%% md\n"
    }
   }
  },
  {
   "cell_type": "code",
   "execution_count": null,
   "outputs": [],
   "source": [
    "dxlf = pd.read_csv(\"datasets/nobel.csv\")\n",
    "dxlf= dxlf.sort_values('year')[['category','year']].reset_index(drop=True).\\\n",
    "    head(10)\n",
    "dxlf.style.background_gradient(cmap=\"Reds\")\n",
    "#ddf.style.set_properties(**{'border': '1.3px solid green', 'color':'blue' })\n",
    "#ddf.to_excel('datasets/excel.xlsx')"
   ],
   "metadata": {
    "collapsed": false,
    "pycharm": {
     "name": "#%%\n"
    }
   }
  },
  {
   "cell_type": "code",
   "execution_count": null,
   "outputs": [],
   "source": [
    "dfexcel = pd.DataFrame(np.random.randn(10,4), columns=['A','B','C','D'])\n",
    "display(dfexcel.style.format('{:.3f}', na_rep=\"\").\\\n",
    "    bar(align=0, vmin=-5, vmax=5, cmap=\"bwr\", height=50,width=60, props=\"width: 120px; border-right: 1px sold black;\").\\\n",
    "    text_gradient(cmap=\"bwr\", vmin=-5, vmax=5))\n",
    "\n",
    "dfexcel.to_excel('datasets/excel_complex.xlsx')\n"
   ],
   "metadata": {
    "collapsed": false,
    "pycharm": {
     "name": "#%%\n"
    }
   }
  },
  {
   "cell_type": "markdown",
   "source": [
    "***\n",
    "[### 21. Setting proper suffixes when merging 2 dataframes](#section_21)\n",
    "When merging 2 dataframes, any columns that appear on both dataframe but non being used to merge\n",
    "will be given the default _x and _y suffixes\n"
   ],
   "metadata": {
    "collapsed": false,
    "pycharm": {
     "name": "#%% md\n"
    }
   }
  },
  {
   "cell_type": "code",
   "execution_count": null,
   "outputs": [],
   "source": [
    "male= nobel_ages.query('sex ==\"Male\" ')[['year','category', 'sex', 'prize', 'full_name']].copy()\n",
    "female= nobel_ages.query('sex ==\"Female\" ')[['year', 'category', 'sex', 'prize', 'full_name']].copy()\n",
    "merge = male.merge(female, on=['year', 'category'])\n",
    "merge[:5]"
   ],
   "metadata": {
    "collapsed": false,
    "pycharm": {
     "name": "#%%\n"
    }
   }
  },
  {
   "cell_type": "markdown",
   "source": [
    "By explicitly stating the suffixes in your merge you can more easily track what these columns are"
   ],
   "metadata": {
    "collapsed": false,
    "pycharm": {
     "name": "#%% md\n"
    }
   }
  },
  {
   "cell_type": "code",
   "execution_count": null,
   "outputs": [],
   "source": [
    "merge = male.merge(female, on=['year', 'category'], suffixes=(\"_male\",\"_female\"))\n",
    "merge[:5]"
   ],
   "metadata": {
    "collapsed": false,
    "pycharm": {
     "name": "#%%\n"
    }
   }
  },
  {
   "cell_type": "markdown",
   "source": [
    "***\n",
    "### [22. Checking consistency after merging 2 dataframes](#section_22)\n",
    "There mey be cases that when you're merging 2 dataframe and want to confirm that the merge is one to one match\n",
    "It can be checked for this by comparing the length of the merged dataframe with the initial dataframe\n",
    "Pandas marge has a validate parameter which will automatically check for different merge types.\n",
    "This will trow an error message if validation fails\n",
    "\n",
    "validate\n",
    "If specified, checks if merge is of specified type.\n",
    "* “one_to_one” or “1:1”: check if merge keys are unique in both left and right datasets.\n",
    "* “one_to_many” or “1:m”: check if merge keys are unique in left dataset.\n",
    "* “many_to_one” or “m:1”: check if merge keys are unique in right dataset.\n",
    "*   “many_to_many” or “m:m”: allowed, but does not result in checks."
   ],
   "metadata": {
    "collapsed": false,
    "pycharm": {
     "name": "#%% md\n"
    }
   }
  },
  {
   "cell_type": "code",
   "execution_count": null,
   "outputs": [],
   "source": [
    "merge = male.merge(female,\n",
    "                   on=['year', 'category'],\n",
    "                   suffixes=(\"_male\",\"_female\"),\n",
    "                   validate='m:m')"
   ],
   "metadata": {
    "collapsed": false,
    "pycharm": {
     "name": "#%%\n"
    }
   }
  },
  {
   "cell_type": "code",
   "execution_count": null,
   "outputs": [],
   "source": [
    "merge = male.merge(female,\n",
    "                   on=['year', 'category'],\n",
    "                   suffixes=(\"_male\",\"_female\"),\n",
    "                   validate='1:1')"
   ],
   "metadata": {
    "collapsed": false,
    "pycharm": {
     "name": "#%%\n"
    }
   }
  },
  {
   "cell_type": "markdown",
   "source": [
    "***\n",
    "### [23. Stacking chained commands into one line of code](#section_23)\n",
    "Method chaining is a great feature in pandas, but code can get really unreadable if it is all in one line.\n",
    "By wrapping expression in parentheses, code can be split so that each line has one component."
   ],
   "metadata": {
    "collapsed": false,
    "pycharm": {
     "name": "#%% md\n"
    }
   }
  },
  {
   "cell_type": "code",
   "execution_count": null,
   "outputs": [],
   "source": [
    "nobel_ages_view = (nobel_ages\n",
    "                   .groupby(['year', 'category'])['prize']\n",
    "                   .count()\n",
    "                   .reset_index()\n",
    "                   .fillna(0)\n",
    "                   .sort_values('year')\n",
    "                   )\n",
    "nobel_ages_view"
   ],
   "metadata": {
    "collapsed": false,
    "pycharm": {
     "name": "#%%\n"
    }
   }
  },
  {
   "cell_type": "markdown",
   "source": [
    "***\n",
    "### [24. Using categorical data types](#section_24)\n",
    "In this example there are a grouping column tha conteins only 2 potential values\n",
    "Instead of storing column like this as a string object, is better to store them as a categorical data type.\n",
    "Categorical data type take less space in memory and can make operation much faster on large datasets"
   ],
   "metadata": {
    "collapsed": false,
    "pycharm": {
     "name": "#%% md\n"
    }
   }
  },
  {
   "cell_type": "code",
   "execution_count": null,
   "outputs": [],
   "source": [
    "nobel_ages['sex'] = nobel_ages['sex'].astype('category')\n",
    "nobel_ages['category'] = nobel_ages['category'].astype('category')\n",
    "nobel_ages.info()"
   ],
   "metadata": {
    "collapsed": false,
    "pycharm": {
     "name": "#%%\n"
    }
   }
  },
  {
   "cell_type": "markdown",
   "source": [
    "***\n",
    "### [25. Be aware of creating duplicated label columns](#section_25)\n",
    " This is when concatenating 2 dataframes as can be seen below, if columns have same name they are duplicated.\n",
    " This can be really confusing and hard to debug if we do not know that this  is possible.\n"
   ],
   "metadata": {
    "collapsed": false,
    "pycharm": {
     "name": "#%% md\n"
    }
   }
  },
  {
   "cell_type": "code",
   "execution_count": null,
   "outputs": [],
   "source": [
    "df_subset  = nobel_ages[['year', 'category', 'full_name']]\n",
    "df_duplicate = pd.concat([df_subset,df_subset], axis=1)\n",
    "df_duplicate"
   ],
   "metadata": {
    "collapsed": false,
    "pycharm": {
     "name": "#%%\n"
    }
   }
  },
  {
   "cell_type": "markdown",
   "source": [
    "Panda does have a flag that can be set whic can allert when duplicate label occurs"
   ],
   "metadata": {
    "collapsed": false,
    "pycharm": {
     "name": "#%% md\n"
    }
   }
  },
  {
   "cell_type": "code",
   "execution_count": null,
   "outputs": [],
   "source": [
    "df_duplicate = pd.concat([df_subset,df_subset], axis=1)\\\n",
    "    .set_flags(allows_duplicate_labels=False)\n",
    "df_duplicate"
   ],
   "metadata": {
    "collapsed": false,
    "pycharm": {
     "name": "#%%\n"
    }
   }
  },
  {
   "cell_type": "markdown",
   "source": [
    "This can be solved by using this line of code, that will check for duplicated column and remove them."
   ],
   "metadata": {
    "collapsed": false,
    "pycharm": {
     "name": "#%% md\n"
    }
   }
  },
  {
   "cell_type": "code",
   "execution_count": null,
   "outputs": [],
   "source": [
    "df_duplicate = pd.concat([df_subset,df_subset], axis=1)\n",
    "df_duplicate = df_duplicate.loc[:, ~df_duplicate.columns.duplicated()].copy()\n",
    "df_duplicate"
   ],
   "metadata": {
    "collapsed": false,
    "pycharm": {
     "name": "#%%\n"
    }
   }
  },
  {
   "cell_type": "markdown",
   "source": [
    "***\n",
    "### [26. Efficient use of memory](#section_26)"
   ],
   "metadata": {
    "collapsed": false,
    "pycharm": {
     "name": "#%% md\n"
    }
   }
  },
  {
   "cell_type": "code",
   "execution_count": null,
   "outputs": [],
   "source": [
    "import pandas as pd\n",
    "import numpy as np"
   ],
   "metadata": {
    "collapsed": false,
    "pycharm": {
     "name": "#%%\n"
    }
   }
  },
  {
   "cell_type": "markdown",
   "source": [
    "###### Create data"
   ],
   "metadata": {
    "collapsed": false,
    "pycharm": {
     "name": "#%% md\n"
    }
   }
  },
  {
   "cell_type": "code",
   "execution_count": null,
   "outputs": [],
   "source": [
    "def get_dataset(size=5000):\n",
    "    game = pd.DataFrame()\n",
    "    game['position'] = np.random.choice(['left','right','middle'], size)\n",
    "    game['age'] = np.random.randint(1,50, size)\n",
    "    game['team'] = np.random.choice(['red','blue','yellow','green'], size)\n",
    "    game['win'] = np.random.choice(['yes','no'],size)\n",
    "    game['prob'] = np.random.uniform(0,1,size)\n",
    "    game.head()\n",
    "    return  game"
   ],
   "metadata": {
    "collapsed": false,
    "pycharm": {
     "name": "#%%\n"
    }
   }
  },
  {
   "cell_type": "code",
   "execution_count": null,
   "outputs": [],
   "source": [
    "game = get_dataset(1_000_000)\n"
   ],
   "metadata": {
    "collapsed": false,
    "pycharm": {
     "name": "#%%\n"
    }
   }
  },
  {
   "cell_type": "code",
   "execution_count": null,
   "outputs": [],
   "source": [
    "game.info() # up to  memory usage: 34.3+ MB"
   ],
   "metadata": {
    "collapsed": false,
    "pycharm": {
     "name": "#%%\n"
    }
   }
  },
  {
   "cell_type": "code",
   "execution_count": null,
   "outputs": [],
   "source": [
    "%time game['age_rank'] = game.groupby(['team','position'])['age'].rank()\n",
    "%time game['prob_rank'] = game.groupby(['team','position'])['prob'].rank()"
   ],
   "metadata": {
    "collapsed": false,
    "pycharm": {
     "name": "#%%\n"
    }
   }
  },
  {
   "cell_type": "code",
   "execution_count": null,
   "outputs": [],
   "source": [
    "game.head()"
   ],
   "metadata": {
    "collapsed": false,
    "pycharm": {
     "name": "#%%\n"
    }
   }
  },
  {
   "cell_type": "markdown",
   "source": [
    "##### Convert category"
   ],
   "metadata": {
    "collapsed": false,
    "pycharm": {
     "name": "#%% md\n"
    }
   }
  },
  {
   "cell_type": "code",
   "execution_count": null,
   "outputs": [],
   "source": [
    "#now the position type are string\n",
    "#it can be more efficient if we convert them in categorical\n",
    "game = get_dataset(1_000_000)\n",
    "game['position'] = game['position'].astype('category')\n",
    "game.info(memory_usage=True) # down to memory usage: 27.7+ MB\n",
    "\n",
    "#so just by casting this field to category the size descreased a lot"
   ],
   "metadata": {
    "collapsed": false,
    "pycharm": {
     "name": "#%%\n"
    }
   }
  },
  {
   "cell_type": "code",
   "execution_count": null,
   "outputs": [],
   "source": [
    "# just do same on other fields\n",
    "game = get_dataset(1_000_000)\n",
    "game['position'] = game['position'].astype('category')\n",
    "game['team'] = game['team'].astype('category')\n",
    "\n",
    "game.info(memory_usage=True) # down to memory usage: 21.0+ MB"
   ],
   "metadata": {
    "collapsed": false,
    "pycharm": {
     "name": "#%%\n"
    }
   }
  },
  {
   "cell_type": "code",
   "execution_count": null,
   "outputs": [],
   "source": [
    "# now consider the age column stored as integer\n",
    "# by default pandas save int64\n",
    "\n",
    "#int8 (integer 8bits which can hold values from -127 to 127)\n",
    "#int16 (integer 16bits which can hold values from -32768 to 32768)\n",
    "#int32 (integer 32bits and -2147483648 to 2147483647)\n",
    "#int68 (integers 64bits from -9223372036854775808 to 9223372036854775807)\n",
    "\n",
    "#in our case age is up to 50\n",
    "\n",
    "# we can downcast to in8 and not lose any information\n",
    "game['age'] = game['age'].astype('int8')\n",
    "game.info() # down to memory usage: 18.1+ MB"
   ],
   "metadata": {
    "collapsed": false,
    "pycharm": {
     "name": "#%%\n"
    }
   }
  },
  {
   "cell_type": "markdown",
   "source": [
    "##### Convert float"
   ],
   "metadata": {
    "collapsed": false,
    "pycharm": {
     "name": "#%% md\n"
    }
   }
  },
  {
   "cell_type": "code",
   "execution_count": null,
   "outputs": [],
   "source": [
    "# we can do somenthing similar to prod column\n",
    "# this is float64\n",
    "# this deals with the precision of the value\n",
    "#downcastinbg to float32 if fine\n",
    "\n",
    "game['prob'] = game['prob'].astype('float32')\n",
    "game.info() # down to memory usage: 14.3+ MB"
   ],
   "metadata": {
    "collapsed": false,
    "pycharm": {
     "name": "#%%\n"
    }
   }
  },
  {
   "cell_type": "markdown",
   "source": [
    "##### Convert boolean"
   ],
   "metadata": {
    "collapsed": false,
    "pycharm": {
     "name": "#%% md\n"
    }
   }
  },
  {
   "cell_type": "code",
   "execution_count": null,
   "outputs": [],
   "source": [
    "#casting bool types\n",
    "# the column win is text\n",
    "# we can actualli make boolean\n",
    "\n",
    "game['win'] = game['win'].map({'yes':True, 'no':False})"
   ],
   "metadata": {
    "collapsed": false,
    "pycharm": {
     "name": "#%%\n"
    }
   }
  },
  {
   "cell_type": "code",
   "execution_count": null,
   "outputs": [],
   "source": [
    "game.info() # down to memory usage: 7.6 MB"
   ],
   "metadata": {
    "collapsed": false,
    "pycharm": {
     "name": "#%%\n"
    }
   }
  },
  {
   "cell_type": "code",
   "execution_count": null,
   "outputs": [],
   "source": [
    "%time game['age_rank'] = game.groupby(['team','position'])['age'].rank()\n",
    "%time game['prob_rank'] = game.groupby(['team','position'])['prob'].rank()"
   ],
   "metadata": {
    "collapsed": false,
    "pycharm": {
     "name": "#%%\n"
    }
   }
  },
  {
   "cell_type": "code",
   "execution_count": null,
   "outputs": [],
   "source": [
    "#CPU times: total: 672 ms\n",
    "#Wall time: 716 ms\n",
    "#CPU times: total: 938 ms\n",
    "#Wall time: 934 ms"
   ],
   "metadata": {
    "collapsed": false,
    "pycharm": {
     "name": "#%%\n"
    }
   }
  },
  {
   "cell_type": "code",
   "execution_count": null,
   "outputs": [],
   "source": [
    "def get_dataset_refined(game):\n",
    "    game['position'] =  game['position'].astype('category')\n",
    "    game['age'] = game['age'].astype('int8')\n",
    "    game['team'] = game['team'].astype('category')\n",
    "    game['win'] = game['win'].map({'yes':True, 'no':False})\n",
    "    game['prob'] = game['prob'].astype('float32')\n",
    "    return  game"
   ],
   "metadata": {
    "collapsed": false,
    "pycharm": {
     "name": "#%%\n"
    }
   }
  },
  {
   "cell_type": "code",
   "execution_count": null,
   "outputs": [],
   "source": [
    "game_normal = get_dataset(1_000_000)\n",
    "display(game_normal.info(memory_usage=True))\n",
    "%time game_normal['age_rank'] = game_normal.groupby(['team','position'])['age'].rank()\n",
    "%time game_normal['prob_rank'] = game_normal.groupby(['team','position'])['prob'].rank()"
   ],
   "metadata": {
    "collapsed": false,
    "pycharm": {
     "name": "#%%\n"
    }
   }
  },
  {
   "cell_type": "code",
   "execution_count": null,
   "outputs": [],
   "source": [
    "game_new = get_dataset_refined(game_normal)\n",
    "display(game_new.info(memory_usage=True))\n",
    "%time game_new['age_rank'] = game_new.groupby(['team','position'])['age'].rank()\n",
    "%time game_new['prob_rank'] = game_new.groupby(['team','position'])['prob'].rank()"
   ],
   "metadata": {
    "collapsed": false,
    "pycharm": {
     "name": "#%%\n"
    }
   }
  },
  {
   "cell_type": "markdown",
   "source": [
    "### Users By Average Session Time\n",
    "Tricky code\n",
    "Calculate each user’s average session time.\n",
    "A session is defined as the time difference between a page_load and page_exit.\n",
    "For simplicity, assume a user has only 1 session per day and if there are multiple of the same events\n",
    " on that day, consider only the latest page_load and earliest page_exit.\n",
    " Output the user_id and their average session time."
   ],
   "metadata": {
    "collapsed": false,
    "pycharm": {
     "name": "#%% md\n"
    }
   }
  },
  {
   "cell_type": "code",
   "execution_count": 140,
   "outputs": [
    {
     "name": "stderr",
     "output_type": "stream",
     "text": [
      "C:\\Users\\bruni\\AppData\\Local\\Temp\\ipykernel_7948\\108046675.py:9: SettingWithCopyWarning: \n",
      "A value is trying to be set on a copy of a slice from a DataFrame.\n",
      "Try using .loc[row_indexer,col_indexer] = value instead\n",
      "\n",
      "See the caveats in the documentation: https://pandas.pydata.org/pandas-docs/stable/user_guide/indexing.html#returning-a-view-versus-a-copy\n",
      "  fb_log_start[\"day\"]=fb_log_start[\"timestamp\"].dt. strftime(\"%Y-%m-%d\")\n",
      "C:\\Users\\bruni\\AppData\\Local\\Temp\\ipykernel_7948\\108046675.py:10: SettingWithCopyWarning: \n",
      "A value is trying to be set on a copy of a slice from a DataFrame.\n",
      "Try using .loc[row_indexer,col_indexer] = value instead\n",
      "\n",
      "See the caveats in the documentation: https://pandas.pydata.org/pandas-docs/stable/user_guide/indexing.html#returning-a-view-versus-a-copy\n",
      "  fb_log_end[\"day\"]=fb_log_end[\"timestamp\"].dt.strftime(\"%Y-%m-%d\")\n"
     ]
    },
    {
     "data": {
      "text/plain": "   user_id         timestamp_x   action_x         day         timestamp_y  \\\n0        0 2019-04-25 13:30:15  page_load  2019-04-25 2019-04-25 13:31:40   \n1        0 2019-04-25 13:30:18  page_load  2019-04-25 2019-04-25 13:31:40   \n2        1 2019-04-25 13:40:00  page_load  2019-04-25 2019-04-25 13:40:35   \n3        1 2019-04-26 11:15:00  page_load  2019-04-26 2019-04-26 11:15:35   \n4        0 2019-04-28 14:30:15  page_load  2019-04-28 2019-04-28 15:31:40   \n5        0 2019-04-28 14:30:10  page_load  2019-04-28 2019-04-28 15:31:40   \n\n    action_y  \n0  page_exit  \n1  page_exit  \n2  page_exit  \n3  page_exit  \n4  page_exit  \n5  page_exit  ",
      "text/html": "<div>\n<style scoped>\n    .dataframe tbody tr th:only-of-type {\n        vertical-align: middle;\n    }\n\n    .dataframe tbody tr th {\n        vertical-align: top;\n    }\n\n    .dataframe thead th {\n        text-align: right;\n    }\n</style>\n<table border=\"1\" class=\"dataframe\">\n  <thead>\n    <tr style=\"text-align: right;\">\n      <th></th>\n      <th>user_id</th>\n      <th>timestamp_x</th>\n      <th>action_x</th>\n      <th>day</th>\n      <th>timestamp_y</th>\n      <th>action_y</th>\n    </tr>\n  </thead>\n  <tbody>\n    <tr>\n      <th>0</th>\n      <td>0</td>\n      <td>2019-04-25 13:30:15</td>\n      <td>page_load</td>\n      <td>2019-04-25</td>\n      <td>2019-04-25 13:31:40</td>\n      <td>page_exit</td>\n    </tr>\n    <tr>\n      <th>1</th>\n      <td>0</td>\n      <td>2019-04-25 13:30:18</td>\n      <td>page_load</td>\n      <td>2019-04-25</td>\n      <td>2019-04-25 13:31:40</td>\n      <td>page_exit</td>\n    </tr>\n    <tr>\n      <th>2</th>\n      <td>1</td>\n      <td>2019-04-25 13:40:00</td>\n      <td>page_load</td>\n      <td>2019-04-25</td>\n      <td>2019-04-25 13:40:35</td>\n      <td>page_exit</td>\n    </tr>\n    <tr>\n      <th>3</th>\n      <td>1</td>\n      <td>2019-04-26 11:15:00</td>\n      <td>page_load</td>\n      <td>2019-04-26</td>\n      <td>2019-04-26 11:15:35</td>\n      <td>page_exit</td>\n    </tr>\n    <tr>\n      <th>4</th>\n      <td>0</td>\n      <td>2019-04-28 14:30:15</td>\n      <td>page_load</td>\n      <td>2019-04-28</td>\n      <td>2019-04-28 15:31:40</td>\n      <td>page_exit</td>\n    </tr>\n    <tr>\n      <th>5</th>\n      <td>0</td>\n      <td>2019-04-28 14:30:10</td>\n      <td>page_load</td>\n      <td>2019-04-28</td>\n      <td>2019-04-28 15:31:40</td>\n      <td>page_exit</td>\n    </tr>\n  </tbody>\n</table>\n</div>"
     },
     "metadata": {},
     "output_type": "display_data"
    },
    {
     "name": "stdout",
     "output_type": "stream",
     "text": [
      "<class 'pandas.core.frame.DataFrame'>\n",
      "Int64Index: 7 entries, 0 to 24\n",
      "Data columns (total 4 columns):\n",
      " #   Column     Non-Null Count  Dtype         \n",
      "---  ------     --------------  -----         \n",
      " 0   user_id    7 non-null      int64         \n",
      " 1   timestamp  7 non-null      datetime64[ns]\n",
      " 2   action     7 non-null      object        \n",
      " 3   day        7 non-null      object        \n",
      "dtypes: datetime64[ns](1), int64(1), object(2)\n",
      "memory usage: 280.0+ bytes\n"
     ]
    },
    {
     "data": {
      "text/plain": "None"
     },
     "metadata": {},
     "output_type": "display_data"
    },
    {
     "data": {
      "text/plain": "   user_id  duration\n0        0    1883.5\n1        1      35.0",
      "text/html": "<div>\n<style scoped>\n    .dataframe tbody tr th:only-of-type {\n        vertical-align: middle;\n    }\n\n    .dataframe tbody tr th {\n        vertical-align: top;\n    }\n\n    .dataframe thead th {\n        text-align: right;\n    }\n</style>\n<table border=\"1\" class=\"dataframe\">\n  <thead>\n    <tr style=\"text-align: right;\">\n      <th></th>\n      <th>user_id</th>\n      <th>duration</th>\n    </tr>\n  </thead>\n  <tbody>\n    <tr>\n      <th>0</th>\n      <td>0</td>\n      <td>1883.5</td>\n    </tr>\n    <tr>\n      <th>1</th>\n      <td>1</td>\n      <td>35.0</td>\n    </tr>\n  </tbody>\n</table>\n</div>"
     },
     "execution_count": 140,
     "metadata": {},
     "output_type": "execute_result"
    }
   ],
   "source": [
    "# Import your libraries\n",
    "import pandas as pd\n",
    "\n",
    "# Start writing code\n",
    "facebook_web_log= pd.read_excel(\"datasets/ID10352.xlsx\", parse_dates=True)\n",
    "facebook_web_log.head()\n",
    "fb_log_start=facebook_web_log.loc[facebook_web_log.action==\"page_load\"]\n",
    "fb_log_end=facebook_web_log.loc[facebook_web_log.action==\"page_exit\"]\n",
    "fb_log_start[\"day\"]=fb_log_start[\"timestamp\"].dt. strftime(\"%Y-%m-%d\")\n",
    "fb_log_end[\"day\"]=fb_log_end[\"timestamp\"].dt.strftime(\"%Y-%m-%d\")\n",
    "fb_logs=pd.merge(fb_log_start,fb_log_end,left_on=[\"user_id\",\"day\"],right_on=[\"user_id\",\"day\"],how=\"inner\")\n",
    "display(fb_logs)\n",
    "display(fb_log_start.info())\n",
    "fb_user_log=fb_logs.groupby([\"user_id\",\"day\"]).apply(lambda x : (x.timestamp_y.min() - x.timestamp_x.max()).total_seconds()).to_frame(\"duration\").reset_index()\n",
    "fb_user_log.groupby([\"user_id\"])[\"duration\"].mean().reset_index()"
   ],
   "metadata": {
    "collapsed": false,
    "pycharm": {
     "name": "#%%\n"
    }
   }
  },
  {
   "cell_type": "code",
   "execution_count": null,
   "outputs": [],
   "source": [],
   "metadata": {
    "collapsed": false,
    "pycharm": {
     "name": "#%%\n"
    }
   }
  }
 ],
 "metadata": {
  "kernelspec": {
   "display_name": "Python 3",
   "language": "python",
   "name": "python3"
  },
  "language_info": {
   "codemirror_mode": {
    "name": "ipython",
    "version": 2
   },
   "file_extension": ".py",
   "mimetype": "text/x-python",
   "name": "python",
   "nbconvert_exporter": "python",
   "pygments_lexer": "ipython2",
   "version": "2.7.6"
  }
 },
 "nbformat": 4,
 "nbformat_minor": 0
}